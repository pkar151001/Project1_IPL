{
 "cells": [
  {
   "cell_type": "markdown",
   "id": "732a267c",
   "metadata": {},
   "source": [
    "<h1 style=\"text-align:center;\">Rajasthan Royals (RR)</h1>"
   ]
  },
  {
   "cell_type": "markdown",
   "id": "1d25a29d",
   "metadata": {},
   "source": [
    "<p style=\"text-align:center;\"><img src=\"https://www.insidesport.in/wp-content/uploads/2021/03/Rajasthan-Royals-announce-Expo-2020-Dubai-asPrincipal-Sponsor-for-2021-IPL-Season.png\" width=700px height=500px></p> "
   ]
  },
  {
   "cell_type": "code",
   "execution_count": 1,
   "id": "daf9abbf",
   "metadata": {},
   "outputs": [],
   "source": [
    "import pandas as pd\n",
    "import numpy as np\n",
    "import matplotlib.pyplot as plt\n",
    "\n",
    "data=pd.read_csv(\"./PROJECT_IPL_1_Edited.csv\")\n",
    "data.rename(columns={'Player Name':'Player_Name','Base Price (in Lakhs Rupees)':'Base_Price','Price Paid (in Lakhs Rupees)':'Price_Paid','Status':'Status','Bought by':'Bought_by','Previous IPL Teams':'Previous_IPL_Teams','Country':'Country','Role':'Role','Batting Style':'Batting_Style','Bowling Style':'Bowling_Style','Batting Order':'Batting_Order','Capped or Uncapped at Internationals (during Auction)':'Capped_or_Uncapped'},inplace='True')\n",
    "data.loc[data[\"Role\"] == \"Fast Bowler\", \"Role\"] = \"Seam Bowler\"\n"
   ]
  },
  {
   "cell_type": "markdown",
   "id": "cb48818b",
   "metadata": {},
   "source": [
    "<h2 style=\"text-align:center;\"> Listing out players bought by RR </h2>"
   ]
  },
  {
   "cell_type": "code",
   "execution_count": 2,
   "id": "f50a3f3f",
   "metadata": {},
   "outputs": [
    {
     "data": {
      "text/html": [
       "<div>\n",
       "<style scoped>\n",
       "    .dataframe tbody tr th:only-of-type {\n",
       "        vertical-align: middle;\n",
       "    }\n",
       "\n",
       "    .dataframe tbody tr th {\n",
       "        vertical-align: top;\n",
       "    }\n",
       "\n",
       "    .dataframe thead th {\n",
       "        text-align: right;\n",
       "    }\n",
       "</style>\n",
       "<table border=\"1\" class=\"dataframe\">\n",
       "  <thead>\n",
       "    <tr style=\"text-align: right;\">\n",
       "      <th></th>\n",
       "      <th>Player_Name</th>\n",
       "      <th>Base_Price</th>\n",
       "      <th>Price_Paid</th>\n",
       "      <th>Status</th>\n",
       "      <th>Bought_by</th>\n",
       "      <th>Previous_IPL_Teams</th>\n",
       "      <th>Country</th>\n",
       "      <th>Role</th>\n",
       "      <th>Batting_Style</th>\n",
       "      <th>Bowling_Style</th>\n",
       "      <th>Batting_Order</th>\n",
       "      <th>Capped_or_Uncapped</th>\n",
       "    </tr>\n",
       "  </thead>\n",
       "  <tbody>\n",
       "    <tr>\n",
       "      <th>1</th>\n",
       "      <td>Akash Singh</td>\n",
       "      <td>20</td>\n",
       "      <td>20</td>\n",
       "      <td>Sold</td>\n",
       "      <td>RR</td>\n",
       "      <td>NaN</td>\n",
       "      <td>India</td>\n",
       "      <td>Seam Bowler</td>\n",
       "      <td>NaN</td>\n",
       "      <td>Left Medium Fast</td>\n",
       "      <td>NaN</td>\n",
       "      <td>Uncapped</td>\n",
       "    </tr>\n",
       "    <tr>\n",
       "      <th>6</th>\n",
       "      <td>Chetan Sakariya</td>\n",
       "      <td>20</td>\n",
       "      <td>120</td>\n",
       "      <td>Sold</td>\n",
       "      <td>RR</td>\n",
       "      <td>NaN</td>\n",
       "      <td>India</td>\n",
       "      <td>Seam Bowler</td>\n",
       "      <td>NaN</td>\n",
       "      <td>Left Medium Fast</td>\n",
       "      <td>NaN</td>\n",
       "      <td>Uncapped</td>\n",
       "    </tr>\n",
       "    <tr>\n",
       "      <th>8</th>\n",
       "      <td>Chris Morris</td>\n",
       "      <td>75</td>\n",
       "      <td>1625</td>\n",
       "      <td>Sold</td>\n",
       "      <td>RR</td>\n",
       "      <td>CSK, RR, DC, RCB</td>\n",
       "      <td>South Africa</td>\n",
       "      <td>Bowling All Rounder</td>\n",
       "      <td>Right</td>\n",
       "      <td>Right Fast Medium</td>\n",
       "      <td>Middle</td>\n",
       "      <td>Capped</td>\n",
       "    </tr>\n",
       "    <tr>\n",
       "      <th>21</th>\n",
       "      <td>Kishan Cariappa</td>\n",
       "      <td>20</td>\n",
       "      <td>20</td>\n",
       "      <td>Sold</td>\n",
       "      <td>RR</td>\n",
       "      <td>KKR, PBKS</td>\n",
       "      <td>India</td>\n",
       "      <td>Spin Bowler</td>\n",
       "      <td>NaN</td>\n",
       "      <td>Right Legbreak</td>\n",
       "      <td>NaN</td>\n",
       "      <td>Uncapped</td>\n",
       "    </tr>\n",
       "    <tr>\n",
       "      <th>23</th>\n",
       "      <td>Kuldip Yadav</td>\n",
       "      <td>20</td>\n",
       "      <td>20</td>\n",
       "      <td>Sold</td>\n",
       "      <td>RR</td>\n",
       "      <td>NaN</td>\n",
       "      <td>India</td>\n",
       "      <td>Seam Bowler</td>\n",
       "      <td>NaN</td>\n",
       "      <td>Left Medium Fast</td>\n",
       "      <td>NaN</td>\n",
       "      <td>Uncapped</td>\n",
       "    </tr>\n",
       "    <tr>\n",
       "      <th>25</th>\n",
       "      <td>Liam Livingstone</td>\n",
       "      <td>75</td>\n",
       "      <td>75</td>\n",
       "      <td>Sold</td>\n",
       "      <td>RR</td>\n",
       "      <td>RR</td>\n",
       "      <td>England</td>\n",
       "      <td>Batting All Rounder</td>\n",
       "      <td>Right</td>\n",
       "      <td>Right Legbreak, Right Offbreak</td>\n",
       "      <td>Top</td>\n",
       "      <td>Capped</td>\n",
       "    </tr>\n",
       "    <tr>\n",
       "      <th>33</th>\n",
       "      <td>Mustaifur Rahman</td>\n",
       "      <td>100</td>\n",
       "      <td>100</td>\n",
       "      <td>Sold</td>\n",
       "      <td>RR</td>\n",
       "      <td>MI, SRH</td>\n",
       "      <td>Bangladesh</td>\n",
       "      <td>Seam Bowler</td>\n",
       "      <td>NaN</td>\n",
       "      <td>Left Fast Medium</td>\n",
       "      <td>NaN</td>\n",
       "      <td>Capped</td>\n",
       "    </tr>\n",
       "    <tr>\n",
       "      <th>46</th>\n",
       "      <td>Shivam Dube</td>\n",
       "      <td>50</td>\n",
       "      <td>440</td>\n",
       "      <td>Sold</td>\n",
       "      <td>RR</td>\n",
       "      <td>RCB</td>\n",
       "      <td>India</td>\n",
       "      <td>All Rounder</td>\n",
       "      <td>Left</td>\n",
       "      <td>Right Medium</td>\n",
       "      <td>Middle</td>\n",
       "      <td>Capped</td>\n",
       "    </tr>\n",
       "  </tbody>\n",
       "</table>\n",
       "</div>"
      ],
      "text/plain": [
       "         Player_Name  Base_Price  Price_Paid Status Bought_by  \\\n",
       "1        Akash Singh          20          20   Sold        RR   \n",
       "6    Chetan Sakariya          20         120   Sold        RR   \n",
       "8       Chris Morris          75        1625   Sold        RR   \n",
       "21   Kishan Cariappa          20          20   Sold        RR   \n",
       "23      Kuldip Yadav          20          20   Sold        RR   \n",
       "25  Liam Livingstone          75          75   Sold        RR   \n",
       "33  Mustaifur Rahman         100         100   Sold        RR   \n",
       "46       Shivam Dube          50         440   Sold        RR   \n",
       "\n",
       "   Previous_IPL_Teams       Country                 Role Batting_Style  \\\n",
       "1                 NaN         India          Seam Bowler           NaN   \n",
       "6                 NaN         India          Seam Bowler           NaN   \n",
       "8    CSK, RR, DC, RCB  South Africa  Bowling All Rounder        Right    \n",
       "21          KKR, PBKS         India          Spin Bowler           NaN   \n",
       "23                NaN         India          Seam Bowler           NaN   \n",
       "25                 RR       England  Batting All Rounder        Right    \n",
       "33            MI, SRH    Bangladesh          Seam Bowler           NaN   \n",
       "46                RCB         India          All Rounder          Left   \n",
       "\n",
       "                     Bowling_Style Batting_Order Capped_or_Uncapped  \n",
       "1                 Left Medium Fast           NaN           Uncapped  \n",
       "6                 Left Medium Fast           NaN           Uncapped  \n",
       "8                Right Fast Medium        Middle             Capped  \n",
       "21                  Right Legbreak           NaN           Uncapped  \n",
       "23                Left Medium Fast           NaN           Uncapped  \n",
       "25  Right Legbreak, Right Offbreak           Top             Capped  \n",
       "33                Left Fast Medium           NaN             Capped  \n",
       "46                    Right Medium        Middle             Capped  "
      ]
     },
     "execution_count": 2,
     "metadata": {},
     "output_type": "execute_result"
    }
   ],
   "source": [
    "rr=data.groupby('Bought_by').get_group('RR')\n",
    "rr"
   ]
  },
  {
   "cell_type": "markdown",
   "id": "9854fc6c",
   "metadata": {},
   "source": [
    "<h2 style=\"text-align:center;\"> Visualization of Price Paid for players bought by RR </h2>"
   ]
  },
  {
   "cell_type": "code",
   "execution_count": 3,
   "id": "9d76e0a5",
   "metadata": {},
   "outputs": [
    {
     "data": {
      "image/png": "[encoded data removed]",
      "text/plain": [
       "<Figure size 432x288 with 1 Axes>"
      ]
     },
     "metadata": {
      "needs_background": "light"
     },
     "output_type": "display_data"
    }
   ],
   "source": [
    "x=list(rr['Player_Name'])\n",
    "y=list(rr['Price_Paid'])\n",
    "plt.barh(x,y);"
   ]
  },
  {
   "cell_type": "markdown",
   "id": "15a4ddac",
   "metadata": {},
   "source": [
    "<h2 style=\"text-align:center;\">List of Batsmen bought by RR</h2>"
   ]
  },
  {
   "cell_type": "code",
   "execution_count": 4,
   "id": "69f87073",
   "metadata": {},
   "outputs": [
    {
     "data": {
      "text/html": [
       "<div>\n",
       "<style scoped>\n",
       "    .dataframe tbody tr th:only-of-type {\n",
       "        vertical-align: middle;\n",
       "    }\n",
       "\n",
       "    .dataframe tbody tr th {\n",
       "        vertical-align: top;\n",
       "    }\n",
       "\n",
       "    .dataframe thead th {\n",
       "        text-align: right;\n",
       "    }\n",
       "</style>\n",
       "<table border=\"1\" class=\"dataframe\">\n",
       "  <thead>\n",
       "    <tr style=\"text-align: right;\">\n",
       "      <th></th>\n",
       "      <th>Player_Name</th>\n",
       "      <th>Base_Price</th>\n",
       "      <th>Price_Paid</th>\n",
       "      <th>Status</th>\n",
       "      <th>Bought_by</th>\n",
       "      <th>Previous_IPL_Teams</th>\n",
       "      <th>Country</th>\n",
       "      <th>Role</th>\n",
       "      <th>Batting_Style</th>\n",
       "      <th>Bowling_Style</th>\n",
       "      <th>Batting_Order</th>\n",
       "      <th>Capped_or_Uncapped</th>\n",
       "    </tr>\n",
       "  </thead>\n",
       "  <tbody>\n",
       "  </tbody>\n",
       "</table>\n",
       "</div>"
      ],
      "text/plain": [
       "Empty DataFrame\n",
       "Columns: [Player_Name, Base_Price, Price_Paid, Status, Bought_by, Previous_IPL_Teams, Country, Role, Batting_Style, Bowling_Style, Batting_Order, Capped_or_Uncapped]\n",
       "Index: []"
      ]
     },
     "execution_count": 4,
     "metadata": {},
     "output_type": "execute_result"
    }
   ],
   "source": [
    "rr_bats=rr[rr['Role'].str.contains('Batsman')]\n",
    "rr_bats"
   ]
  },
  {
   "cell_type": "markdown",
   "id": "30481fe7",
   "metadata": {},
   "source": [
    "<h2 style=\"text-align:center;\">List of Bowlers bought by RR</h2>"
   ]
  },
  {
   "cell_type": "code",
   "execution_count": 5,
   "id": "58a1137f",
   "metadata": {},
   "outputs": [
    {
     "data": {
      "text/html": [
       "<div>\n",
       "<style scoped>\n",
       "    .dataframe tbody tr th:only-of-type {\n",
       "        vertical-align: middle;\n",
       "    }\n",
       "\n",
       "    .dataframe tbody tr th {\n",
       "        vertical-align: top;\n",
       "    }\n",
       "\n",
       "    .dataframe thead th {\n",
       "        text-align: right;\n",
       "    }\n",
       "</style>\n",
       "<table border=\"1\" class=\"dataframe\">\n",
       "  <thead>\n",
       "    <tr style=\"text-align: right;\">\n",
       "      <th></th>\n",
       "      <th>Player_Name</th>\n",
       "      <th>Base_Price</th>\n",
       "      <th>Price_Paid</th>\n",
       "      <th>Status</th>\n",
       "      <th>Bought_by</th>\n",
       "      <th>Previous_IPL_Teams</th>\n",
       "      <th>Country</th>\n",
       "      <th>Role</th>\n",
       "      <th>Batting_Style</th>\n",
       "      <th>Bowling_Style</th>\n",
       "      <th>Batting_Order</th>\n",
       "      <th>Capped_or_Uncapped</th>\n",
       "    </tr>\n",
       "  </thead>\n",
       "  <tbody>\n",
       "    <tr>\n",
       "      <th>1</th>\n",
       "      <td>Akash Singh</td>\n",
       "      <td>20</td>\n",
       "      <td>20</td>\n",
       "      <td>Sold</td>\n",
       "      <td>RR</td>\n",
       "      <td>NaN</td>\n",
       "      <td>India</td>\n",
       "      <td>Seam Bowler</td>\n",
       "      <td>NaN</td>\n",
       "      <td>Left Medium Fast</td>\n",
       "      <td>NaN</td>\n",
       "      <td>Uncapped</td>\n",
       "    </tr>\n",
       "    <tr>\n",
       "      <th>6</th>\n",
       "      <td>Chetan Sakariya</td>\n",
       "      <td>20</td>\n",
       "      <td>120</td>\n",
       "      <td>Sold</td>\n",
       "      <td>RR</td>\n",
       "      <td>NaN</td>\n",
       "      <td>India</td>\n",
       "      <td>Seam Bowler</td>\n",
       "      <td>NaN</td>\n",
       "      <td>Left Medium Fast</td>\n",
       "      <td>NaN</td>\n",
       "      <td>Uncapped</td>\n",
       "    </tr>\n",
       "    <tr>\n",
       "      <th>21</th>\n",
       "      <td>Kishan Cariappa</td>\n",
       "      <td>20</td>\n",
       "      <td>20</td>\n",
       "      <td>Sold</td>\n",
       "      <td>RR</td>\n",
       "      <td>KKR, PBKS</td>\n",
       "      <td>India</td>\n",
       "      <td>Spin Bowler</td>\n",
       "      <td>NaN</td>\n",
       "      <td>Right Legbreak</td>\n",
       "      <td>NaN</td>\n",
       "      <td>Uncapped</td>\n",
       "    </tr>\n",
       "    <tr>\n",
       "      <th>23</th>\n",
       "      <td>Kuldip Yadav</td>\n",
       "      <td>20</td>\n",
       "      <td>20</td>\n",
       "      <td>Sold</td>\n",
       "      <td>RR</td>\n",
       "      <td>NaN</td>\n",
       "      <td>India</td>\n",
       "      <td>Seam Bowler</td>\n",
       "      <td>NaN</td>\n",
       "      <td>Left Medium Fast</td>\n",
       "      <td>NaN</td>\n",
       "      <td>Uncapped</td>\n",
       "    </tr>\n",
       "    <tr>\n",
       "      <th>33</th>\n",
       "      <td>Mustaifur Rahman</td>\n",
       "      <td>100</td>\n",
       "      <td>100</td>\n",
       "      <td>Sold</td>\n",
       "      <td>RR</td>\n",
       "      <td>MI, SRH</td>\n",
       "      <td>Bangladesh</td>\n",
       "      <td>Seam Bowler</td>\n",
       "      <td>NaN</td>\n",
       "      <td>Left Fast Medium</td>\n",
       "      <td>NaN</td>\n",
       "      <td>Capped</td>\n",
       "    </tr>\n",
       "  </tbody>\n",
       "</table>\n",
       "</div>"
      ],
      "text/plain": [
       "         Player_Name  Base_Price  Price_Paid Status Bought_by  \\\n",
       "1        Akash Singh          20          20   Sold        RR   \n",
       "6    Chetan Sakariya          20         120   Sold        RR   \n",
       "21   Kishan Cariappa          20          20   Sold        RR   \n",
       "23      Kuldip Yadav          20          20   Sold        RR   \n",
       "33  Mustaifur Rahman         100         100   Sold        RR   \n",
       "\n",
       "   Previous_IPL_Teams     Country         Role Batting_Style  \\\n",
       "1                 NaN       India  Seam Bowler           NaN   \n",
       "6                 NaN       India  Seam Bowler           NaN   \n",
       "21          KKR, PBKS       India  Spin Bowler           NaN   \n",
       "23                NaN       India  Seam Bowler           NaN   \n",
       "33            MI, SRH  Bangladesh  Seam Bowler           NaN   \n",
       "\n",
       "       Bowling_Style Batting_Order Capped_or_Uncapped  \n",
       "1   Left Medium Fast           NaN           Uncapped  \n",
       "6   Left Medium Fast           NaN           Uncapped  \n",
       "21    Right Legbreak           NaN           Uncapped  \n",
       "23  Left Medium Fast           NaN           Uncapped  \n",
       "33  Left Fast Medium           NaN             Capped  "
      ]
     },
     "execution_count": 5,
     "metadata": {},
     "output_type": "execute_result"
    }
   ],
   "source": [
    "rr_bowl=rr[rr['Role'].str.contains('Bowler')]\n",
    "rr_bowl"
   ]
  },
  {
   "cell_type": "markdown",
   "id": "fb085cdd",
   "metadata": {},
   "source": [
    "<h2 style=\"text-align:center;\">List of All Rounders bought by RR</h2>"
   ]
  },
  {
   "cell_type": "code",
   "execution_count": 6,
   "id": "5bb9a886",
   "metadata": {},
   "outputs": [
    {
     "data": {
      "text/html": [
       "<div>\n",
       "<style scoped>\n",
       "    .dataframe tbody tr th:only-of-type {\n",
       "        vertical-align: middle;\n",
       "    }\n",
       "\n",
       "    .dataframe tbody tr th {\n",
       "        vertical-align: top;\n",
       "    }\n",
       "\n",
       "    .dataframe thead th {\n",
       "        text-align: right;\n",
       "    }\n",
       "</style>\n",
       "<table border=\"1\" class=\"dataframe\">\n",
       "  <thead>\n",
       "    <tr style=\"text-align: right;\">\n",
       "      <th></th>\n",
       "      <th>Player_Name</th>\n",
       "      <th>Base_Price</th>\n",
       "      <th>Price_Paid</th>\n",
       "      <th>Status</th>\n",
       "      <th>Bought_by</th>\n",
       "      <th>Previous_IPL_Teams</th>\n",
       "      <th>Country</th>\n",
       "      <th>Role</th>\n",
       "      <th>Batting_Style</th>\n",
       "      <th>Bowling_Style</th>\n",
       "      <th>Batting_Order</th>\n",
       "      <th>Capped_or_Uncapped</th>\n",
       "    </tr>\n",
       "  </thead>\n",
       "  <tbody>\n",
       "    <tr>\n",
       "      <th>8</th>\n",
       "      <td>Chris Morris</td>\n",
       "      <td>75</td>\n",
       "      <td>1625</td>\n",
       "      <td>Sold</td>\n",
       "      <td>RR</td>\n",
       "      <td>CSK, RR, DC, RCB</td>\n",
       "      <td>South Africa</td>\n",
       "      <td>Bowling All Rounder</td>\n",
       "      <td>Right</td>\n",
       "      <td>Right Fast Medium</td>\n",
       "      <td>Middle</td>\n",
       "      <td>Capped</td>\n",
       "    </tr>\n",
       "    <tr>\n",
       "      <th>25</th>\n",
       "      <td>Liam Livingstone</td>\n",
       "      <td>75</td>\n",
       "      <td>75</td>\n",
       "      <td>Sold</td>\n",
       "      <td>RR</td>\n",
       "      <td>RR</td>\n",
       "      <td>England</td>\n",
       "      <td>Batting All Rounder</td>\n",
       "      <td>Right</td>\n",
       "      <td>Right Legbreak, Right Offbreak</td>\n",
       "      <td>Top</td>\n",
       "      <td>Capped</td>\n",
       "    </tr>\n",
       "    <tr>\n",
       "      <th>46</th>\n",
       "      <td>Shivam Dube</td>\n",
       "      <td>50</td>\n",
       "      <td>440</td>\n",
       "      <td>Sold</td>\n",
       "      <td>RR</td>\n",
       "      <td>RCB</td>\n",
       "      <td>India</td>\n",
       "      <td>All Rounder</td>\n",
       "      <td>Left</td>\n",
       "      <td>Right Medium</td>\n",
       "      <td>Middle</td>\n",
       "      <td>Capped</td>\n",
       "    </tr>\n",
       "  </tbody>\n",
       "</table>\n",
       "</div>"
      ],
      "text/plain": [
       "         Player_Name  Base_Price  Price_Paid Status Bought_by  \\\n",
       "8       Chris Morris          75        1625   Sold        RR   \n",
       "25  Liam Livingstone          75          75   Sold        RR   \n",
       "46       Shivam Dube          50         440   Sold        RR   \n",
       "\n",
       "   Previous_IPL_Teams       Country                 Role Batting_Style  \\\n",
       "8    CSK, RR, DC, RCB  South Africa  Bowling All Rounder        Right    \n",
       "25                 RR       England  Batting All Rounder        Right    \n",
       "46                RCB         India          All Rounder          Left   \n",
       "\n",
       "                     Bowling_Style Batting_Order Capped_or_Uncapped  \n",
       "8                Right Fast Medium        Middle             Capped  \n",
       "25  Right Legbreak, Right Offbreak           Top             Capped  \n",
       "46                    Right Medium        Middle             Capped  "
      ]
     },
     "execution_count": 6,
     "metadata": {},
     "output_type": "execute_result"
    }
   ],
   "source": [
    "rr_all=rr[rr['Role'].str.contains('All Rounder')]\n",
    "rr_all"
   ]
  },
  {
   "cell_type": "markdown",
   "id": "ab09f313",
   "metadata": {},
   "source": [
    "<h2 style=\"text-align:center;\">Analysis - Rajasthan Royals </h2>"
   ]
  },
  {
   "cell_type": "markdown",
   "id": "cd1e6772",
   "metadata": {},
   "source": [
    "<h3>Total amount spent during auction (in crores): </h3>"
   ]
  },
  {
   "cell_type": "code",
   "execution_count": 7,
   "id": "8908a064",
   "metadata": {},
   "outputs": [
    {
     "data": {
      "text/plain": [
       "24.2"
      ]
     },
     "execution_count": 7,
     "metadata": {},
     "output_type": "execute_result"
    }
   ],
   "source": [
    "rr['Price_Paid'].sum()/100"
   ]
  },
  {
   "cell_type": "markdown",
   "id": "bcfd5297",
   "metadata": {},
   "source": [
    "<h3>Highest bid by Rajasthan Royals: </h3>"
   ]
  },
  {
   "cell_type": "code",
   "execution_count": 8,
   "id": "6bcaafb0",
   "metadata": {},
   "outputs": [
    {
     "data": {
      "text/html": [
       "<div>\n",
       "<style scoped>\n",
       "    .dataframe tbody tr th:only-of-type {\n",
       "        vertical-align: middle;\n",
       "    }\n",
       "\n",
       "    .dataframe tbody tr th {\n",
       "        vertical-align: top;\n",
       "    }\n",
       "\n",
       "    .dataframe thead th {\n",
       "        text-align: right;\n",
       "    }\n",
       "</style>\n",
       "<table border=\"1\" class=\"dataframe\">\n",
       "  <thead>\n",
       "    <tr style=\"text-align: right;\">\n",
       "      <th></th>\n",
       "      <th>Player_Name</th>\n",
       "      <th>Base_Price</th>\n",
       "      <th>Price_Paid</th>\n",
       "      <th>Status</th>\n",
       "      <th>Bought_by</th>\n",
       "      <th>Previous_IPL_Teams</th>\n",
       "      <th>Country</th>\n",
       "      <th>Role</th>\n",
       "      <th>Batting_Style</th>\n",
       "      <th>Bowling_Style</th>\n",
       "      <th>Batting_Order</th>\n",
       "      <th>Capped_or_Uncapped</th>\n",
       "    </tr>\n",
       "  </thead>\n",
       "  <tbody>\n",
       "    <tr>\n",
       "      <th>8</th>\n",
       "      <td>Chris Morris</td>\n",
       "      <td>75</td>\n",
       "      <td>1625</td>\n",
       "      <td>Sold</td>\n",
       "      <td>RR</td>\n",
       "      <td>CSK, RR, DC, RCB</td>\n",
       "      <td>South Africa</td>\n",
       "      <td>Bowling All Rounder</td>\n",
       "      <td>Right</td>\n",
       "      <td>Right Fast Medium</td>\n",
       "      <td>Middle</td>\n",
       "      <td>Capped</td>\n",
       "    </tr>\n",
       "  </tbody>\n",
       "</table>\n",
       "</div>"
      ],
      "text/plain": [
       "    Player_Name  Base_Price  Price_Paid Status Bought_by Previous_IPL_Teams  \\\n",
       "8  Chris Morris          75        1625   Sold        RR   CSK, RR, DC, RCB   \n",
       "\n",
       "        Country                 Role Batting_Style      Bowling_Style  \\\n",
       "8  South Africa  Bowling All Rounder        Right   Right Fast Medium   \n",
       "\n",
       "  Batting_Order Capped_or_Uncapped  \n",
       "8        Middle             Capped  "
      ]
     },
     "execution_count": 8,
     "metadata": {},
     "output_type": "execute_result"
    }
   ],
   "source": [
    "rr[rr['Price_Paid']==rr['Price_Paid'].max()]"
   ]
  },
  {
   "cell_type": "markdown",
   "id": "7201cb04",
   "metadata": {},
   "source": [
    "<h3>Highest Indian bid by Rajasthan Royals: </h3>"
   ]
  },
  {
   "cell_type": "code",
   "execution_count": 9,
   "id": "f7589d67",
   "metadata": {},
   "outputs": [
    {
     "data": {
      "text/html": [
       "<div>\n",
       "<style scoped>\n",
       "    .dataframe tbody tr th:only-of-type {\n",
       "        vertical-align: middle;\n",
       "    }\n",
       "\n",
       "    .dataframe tbody tr th {\n",
       "        vertical-align: top;\n",
       "    }\n",
       "\n",
       "    .dataframe thead th {\n",
       "        text-align: right;\n",
       "    }\n",
       "</style>\n",
       "<table border=\"1\" class=\"dataframe\">\n",
       "  <thead>\n",
       "    <tr style=\"text-align: right;\">\n",
       "      <th></th>\n",
       "      <th>Player_Name</th>\n",
       "      <th>Base_Price</th>\n",
       "      <th>Price_Paid</th>\n",
       "      <th>Status</th>\n",
       "      <th>Bought_by</th>\n",
       "      <th>Previous_IPL_Teams</th>\n",
       "      <th>Country</th>\n",
       "      <th>Role</th>\n",
       "      <th>Batting_Style</th>\n",
       "      <th>Bowling_Style</th>\n",
       "      <th>Batting_Order</th>\n",
       "      <th>Capped_or_Uncapped</th>\n",
       "    </tr>\n",
       "  </thead>\n",
       "  <tbody>\n",
       "    <tr>\n",
       "      <th>46</th>\n",
       "      <td>Shivam Dube</td>\n",
       "      <td>50</td>\n",
       "      <td>440</td>\n",
       "      <td>Sold</td>\n",
       "      <td>RR</td>\n",
       "      <td>RCB</td>\n",
       "      <td>India</td>\n",
       "      <td>All Rounder</td>\n",
       "      <td>Left</td>\n",
       "      <td>Right Medium</td>\n",
       "      <td>Middle</td>\n",
       "      <td>Capped</td>\n",
       "    </tr>\n",
       "  </tbody>\n",
       "</table>\n",
       "</div>"
      ],
      "text/plain": [
       "    Player_Name  Base_Price  Price_Paid Status Bought_by Previous_IPL_Teams  \\\n",
       "46  Shivam Dube          50         440   Sold        RR                RCB   \n",
       "\n",
       "   Country         Role Batting_Style Bowling_Style Batting_Order  \\\n",
       "46   India  All Rounder          Left  Right Medium        Middle   \n",
       "\n",
       "   Capped_or_Uncapped  \n",
       "46             Capped  "
      ]
     },
     "execution_count": 9,
     "metadata": {},
     "output_type": "execute_result"
    }
   ],
   "source": [
    "rr[rr['Price_Paid']==rr[rr['Country']=='India']['Price_Paid'].max()]"
   ]
  },
  {
   "cell_type": "markdown",
   "id": "188ab9ab",
   "metadata": {},
   "source": [
    "<h3>Highest Foreign bid by Rajasthan Royals: </h3>"
   ]
  },
  {
   "cell_type": "code",
   "execution_count": 10,
   "id": "64190506",
   "metadata": {},
   "outputs": [
    {
     "data": {
      "text/html": [
       "<div>\n",
       "<style scoped>\n",
       "    .dataframe tbody tr th:only-of-type {\n",
       "        vertical-align: middle;\n",
       "    }\n",
       "\n",
       "    .dataframe tbody tr th {\n",
       "        vertical-align: top;\n",
       "    }\n",
       "\n",
       "    .dataframe thead th {\n",
       "        text-align: right;\n",
       "    }\n",
       "</style>\n",
       "<table border=\"1\" class=\"dataframe\">\n",
       "  <thead>\n",
       "    <tr style=\"text-align: right;\">\n",
       "      <th></th>\n",
       "      <th>Player_Name</th>\n",
       "      <th>Base_Price</th>\n",
       "      <th>Price_Paid</th>\n",
       "      <th>Status</th>\n",
       "      <th>Bought_by</th>\n",
       "      <th>Previous_IPL_Teams</th>\n",
       "      <th>Country</th>\n",
       "      <th>Role</th>\n",
       "      <th>Batting_Style</th>\n",
       "      <th>Bowling_Style</th>\n",
       "      <th>Batting_Order</th>\n",
       "      <th>Capped_or_Uncapped</th>\n",
       "    </tr>\n",
       "  </thead>\n",
       "  <tbody>\n",
       "    <tr>\n",
       "      <th>8</th>\n",
       "      <td>Chris Morris</td>\n",
       "      <td>75</td>\n",
       "      <td>1625</td>\n",
       "      <td>Sold</td>\n",
       "      <td>RR</td>\n",
       "      <td>CSK, RR, DC, RCB</td>\n",
       "      <td>South Africa</td>\n",
       "      <td>Bowling All Rounder</td>\n",
       "      <td>Right</td>\n",
       "      <td>Right Fast Medium</td>\n",
       "      <td>Middle</td>\n",
       "      <td>Capped</td>\n",
       "    </tr>\n",
       "  </tbody>\n",
       "</table>\n",
       "</div>"
      ],
      "text/plain": [
       "    Player_Name  Base_Price  Price_Paid Status Bought_by Previous_IPL_Teams  \\\n",
       "8  Chris Morris          75        1625   Sold        RR   CSK, RR, DC, RCB   \n",
       "\n",
       "        Country                 Role Batting_Style      Bowling_Style  \\\n",
       "8  South Africa  Bowling All Rounder        Right   Right Fast Medium   \n",
       "\n",
       "  Batting_Order Capped_or_Uncapped  \n",
       "8        Middle             Capped  "
      ]
     },
     "execution_count": 10,
     "metadata": {},
     "output_type": "execute_result"
    }
   ],
   "source": [
    "rr[rr['Price_Paid']==rr[rr['Country']!='India']['Price_Paid'].max()]"
   ]
  },
  {
   "cell_type": "markdown",
   "id": "10b4b47e",
   "metadata": {},
   "source": [
    "<h3>Amount Spent on each Department (in crores): </h3>"
   ]
  },
  {
   "cell_type": "code",
   "execution_count": 11,
   "id": "c66e6b3b",
   "metadata": {},
   "outputs": [
    {
     "name": "stdout",
     "output_type": "stream",
     "text": [
      "Role\n",
      "All Rounder             4.40\n",
      "Batting All Rounder     0.75\n",
      "Bowling All Rounder    16.25\n",
      "Seam Bowler             2.60\n",
      "Spin Bowler             0.20\n"
     ]
    }
   ],
   "source": [
    "print((rr.groupby('Role')['Price_Paid'].sum()/100).to_string())"
   ]
  },
  {
   "cell_type": "markdown",
   "id": "e0a66125",
   "metadata": {},
   "source": [
    "<h3>Highest Bowler bid by Rajasthan Royals: </h3>"
   ]
  },
  {
   "cell_type": "code",
   "execution_count": 12,
   "id": "1f50282c",
   "metadata": {},
   "outputs": [
    {
     "data": {
      "text/html": [
       "<div>\n",
       "<style scoped>\n",
       "    .dataframe tbody tr th:only-of-type {\n",
       "        vertical-align: middle;\n",
       "    }\n",
       "\n",
       "    .dataframe tbody tr th {\n",
       "        vertical-align: top;\n",
       "    }\n",
       "\n",
       "    .dataframe thead th {\n",
       "        text-align: right;\n",
       "    }\n",
       "</style>\n",
       "<table border=\"1\" class=\"dataframe\">\n",
       "  <thead>\n",
       "    <tr style=\"text-align: right;\">\n",
       "      <th></th>\n",
       "      <th>Player_Name</th>\n",
       "      <th>Base_Price</th>\n",
       "      <th>Price_Paid</th>\n",
       "      <th>Status</th>\n",
       "      <th>Bought_by</th>\n",
       "      <th>Previous_IPL_Teams</th>\n",
       "      <th>Country</th>\n",
       "      <th>Role</th>\n",
       "      <th>Batting_Style</th>\n",
       "      <th>Bowling_Style</th>\n",
       "      <th>Batting_Order</th>\n",
       "      <th>Capped_or_Uncapped</th>\n",
       "    </tr>\n",
       "  </thead>\n",
       "  <tbody>\n",
       "    <tr>\n",
       "      <th>6</th>\n",
       "      <td>Chetan Sakariya</td>\n",
       "      <td>20</td>\n",
       "      <td>120</td>\n",
       "      <td>Sold</td>\n",
       "      <td>RR</td>\n",
       "      <td>NaN</td>\n",
       "      <td>India</td>\n",
       "      <td>Seam Bowler</td>\n",
       "      <td>NaN</td>\n",
       "      <td>Left Medium Fast</td>\n",
       "      <td>NaN</td>\n",
       "      <td>Uncapped</td>\n",
       "    </tr>\n",
       "  </tbody>\n",
       "</table>\n",
       "</div>"
      ],
      "text/plain": [
       "       Player_Name  Base_Price  Price_Paid Status Bought_by  \\\n",
       "6  Chetan Sakariya          20         120   Sold        RR   \n",
       "\n",
       "  Previous_IPL_Teams Country         Role Batting_Style     Bowling_Style  \\\n",
       "6                NaN   India  Seam Bowler           NaN  Left Medium Fast   \n",
       "\n",
       "  Batting_Order Capped_or_Uncapped  \n",
       "6           NaN           Uncapped  "
      ]
     },
     "execution_count": 12,
     "metadata": {},
     "output_type": "execute_result"
    }
   ],
   "source": [
    "rr_bowl[rr_bowl['Price_Paid']==rr_bowl['Price_Paid'].max()]"
   ]
  },
  {
   "cell_type": "markdown",
   "id": "f55cb8da",
   "metadata": {},
   "source": [
    "<h3>Highest All Rounder bid by Rajasthan Royals: </h3>"
   ]
  },
  {
   "cell_type": "code",
   "execution_count": 13,
   "id": "2b2fcc27",
   "metadata": {},
   "outputs": [
    {
     "data": {
      "text/html": [
       "<div>\n",
       "<style scoped>\n",
       "    .dataframe tbody tr th:only-of-type {\n",
       "        vertical-align: middle;\n",
       "    }\n",
       "\n",
       "    .dataframe tbody tr th {\n",
       "        vertical-align: top;\n",
       "    }\n",
       "\n",
       "    .dataframe thead th {\n",
       "        text-align: right;\n",
       "    }\n",
       "</style>\n",
       "<table border=\"1\" class=\"dataframe\">\n",
       "  <thead>\n",
       "    <tr style=\"text-align: right;\">\n",
       "      <th></th>\n",
       "      <th>Player_Name</th>\n",
       "      <th>Base_Price</th>\n",
       "      <th>Price_Paid</th>\n",
       "      <th>Status</th>\n",
       "      <th>Bought_by</th>\n",
       "      <th>Previous_IPL_Teams</th>\n",
       "      <th>Country</th>\n",
       "      <th>Role</th>\n",
       "      <th>Batting_Style</th>\n",
       "      <th>Bowling_Style</th>\n",
       "      <th>Batting_Order</th>\n",
       "      <th>Capped_or_Uncapped</th>\n",
       "    </tr>\n",
       "  </thead>\n",
       "  <tbody>\n",
       "    <tr>\n",
       "      <th>8</th>\n",
       "      <td>Chris Morris</td>\n",
       "      <td>75</td>\n",
       "      <td>1625</td>\n",
       "      <td>Sold</td>\n",
       "      <td>RR</td>\n",
       "      <td>CSK, RR, DC, RCB</td>\n",
       "      <td>South Africa</td>\n",
       "      <td>Bowling All Rounder</td>\n",
       "      <td>Right</td>\n",
       "      <td>Right Fast Medium</td>\n",
       "      <td>Middle</td>\n",
       "      <td>Capped</td>\n",
       "    </tr>\n",
       "  </tbody>\n",
       "</table>\n",
       "</div>"
      ],
      "text/plain": [
       "    Player_Name  Base_Price  Price_Paid Status Bought_by Previous_IPL_Teams  \\\n",
       "8  Chris Morris          75        1625   Sold        RR   CSK, RR, DC, RCB   \n",
       "\n",
       "        Country                 Role Batting_Style      Bowling_Style  \\\n",
       "8  South Africa  Bowling All Rounder        Right   Right Fast Medium   \n",
       "\n",
       "  Batting_Order Capped_or_Uncapped  \n",
       "8        Middle             Capped  "
      ]
     },
     "execution_count": 13,
     "metadata": {},
     "output_type": "execute_result"
    }
   ],
   "source": [
    "rr_all[rr_all['Price_Paid']==rr_all['Price_Paid'].max()]"
   ]
  },
  {
   "cell_type": "markdown",
   "id": "236c5990",
   "metadata": {},
   "source": [
    "<h3>Highest Capped bid by Rajasthan Royals:  </h3>"
   ]
  },
  {
   "cell_type": "code",
   "execution_count": 14,
   "id": "50f183a9",
   "metadata": {},
   "outputs": [
    {
     "data": {
      "text/html": [
       "<div>\n",
       "<style scoped>\n",
       "    .dataframe tbody tr th:only-of-type {\n",
       "        vertical-align: middle;\n",
       "    }\n",
       "\n",
       "    .dataframe tbody tr th {\n",
       "        vertical-align: top;\n",
       "    }\n",
       "\n",
       "    .dataframe thead th {\n",
       "        text-align: right;\n",
       "    }\n",
       "</style>\n",
       "<table border=\"1\" class=\"dataframe\">\n",
       "  <thead>\n",
       "    <tr style=\"text-align: right;\">\n",
       "      <th></th>\n",
       "      <th>Player_Name</th>\n",
       "      <th>Base_Price</th>\n",
       "      <th>Price_Paid</th>\n",
       "      <th>Status</th>\n",
       "      <th>Bought_by</th>\n",
       "      <th>Previous_IPL_Teams</th>\n",
       "      <th>Country</th>\n",
       "      <th>Role</th>\n",
       "      <th>Batting_Style</th>\n",
       "      <th>Bowling_Style</th>\n",
       "      <th>Batting_Order</th>\n",
       "      <th>Capped_or_Uncapped</th>\n",
       "    </tr>\n",
       "  </thead>\n",
       "  <tbody>\n",
       "    <tr>\n",
       "      <th>8</th>\n",
       "      <td>Chris Morris</td>\n",
       "      <td>75</td>\n",
       "      <td>1625</td>\n",
       "      <td>Sold</td>\n",
       "      <td>RR</td>\n",
       "      <td>CSK, RR, DC, RCB</td>\n",
       "      <td>South Africa</td>\n",
       "      <td>Bowling All Rounder</td>\n",
       "      <td>Right</td>\n",
       "      <td>Right Fast Medium</td>\n",
       "      <td>Middle</td>\n",
       "      <td>Capped</td>\n",
       "    </tr>\n",
       "  </tbody>\n",
       "</table>\n",
       "</div>"
      ],
      "text/plain": [
       "    Player_Name  Base_Price  Price_Paid Status Bought_by Previous_IPL_Teams  \\\n",
       "8  Chris Morris          75        1625   Sold        RR   CSK, RR, DC, RCB   \n",
       "\n",
       "        Country                 Role Batting_Style      Bowling_Style  \\\n",
       "8  South Africa  Bowling All Rounder        Right   Right Fast Medium   \n",
       "\n",
       "  Batting_Order Capped_or_Uncapped  \n",
       "8        Middle             Capped  "
      ]
     },
     "execution_count": 14,
     "metadata": {},
     "output_type": "execute_result"
    }
   ],
   "source": [
    "rr[rr['Price_Paid']==rr[rr['Capped_or_Uncapped']=='Capped']['Price_Paid'].max()]"
   ]
  },
  {
   "cell_type": "markdown",
   "id": "19eeffb7",
   "metadata": {},
   "source": [
    "<h3>Highest Uncapped bid by Rajasthan Royals:  </h3>"
   ]
  },
  {
   "cell_type": "code",
   "execution_count": 15,
   "id": "0ba2e97c",
   "metadata": {},
   "outputs": [
    {
     "data": {
      "text/html": [
       "<div>\n",
       "<style scoped>\n",
       "    .dataframe tbody tr th:only-of-type {\n",
       "        vertical-align: middle;\n",
       "    }\n",
       "\n",
       "    .dataframe tbody tr th {\n",
       "        vertical-align: top;\n",
       "    }\n",
       "\n",
       "    .dataframe thead th {\n",
       "        text-align: right;\n",
       "    }\n",
       "</style>\n",
       "<table border=\"1\" class=\"dataframe\">\n",
       "  <thead>\n",
       "    <tr style=\"text-align: right;\">\n",
       "      <th></th>\n",
       "      <th>Player_Name</th>\n",
       "      <th>Base_Price</th>\n",
       "      <th>Price_Paid</th>\n",
       "      <th>Status</th>\n",
       "      <th>Bought_by</th>\n",
       "      <th>Previous_IPL_Teams</th>\n",
       "      <th>Country</th>\n",
       "      <th>Role</th>\n",
       "      <th>Batting_Style</th>\n",
       "      <th>Bowling_Style</th>\n",
       "      <th>Batting_Order</th>\n",
       "      <th>Capped_or_Uncapped</th>\n",
       "    </tr>\n",
       "  </thead>\n",
       "  <tbody>\n",
       "    <tr>\n",
       "      <th>6</th>\n",
       "      <td>Chetan Sakariya</td>\n",
       "      <td>20</td>\n",
       "      <td>120</td>\n",
       "      <td>Sold</td>\n",
       "      <td>RR</td>\n",
       "      <td>NaN</td>\n",
       "      <td>India</td>\n",
       "      <td>Seam Bowler</td>\n",
       "      <td>NaN</td>\n",
       "      <td>Left Medium Fast</td>\n",
       "      <td>NaN</td>\n",
       "      <td>Uncapped</td>\n",
       "    </tr>\n",
       "  </tbody>\n",
       "</table>\n",
       "</div>"
      ],
      "text/plain": [
       "       Player_Name  Base_Price  Price_Paid Status Bought_by  \\\n",
       "6  Chetan Sakariya          20         120   Sold        RR   \n",
       "\n",
       "  Previous_IPL_Teams Country         Role Batting_Style     Bowling_Style  \\\n",
       "6                NaN   India  Seam Bowler           NaN  Left Medium Fast   \n",
       "\n",
       "  Batting_Order Capped_or_Uncapped  \n",
       "6           NaN           Uncapped  "
      ]
     },
     "execution_count": 15,
     "metadata": {},
     "output_type": "execute_result"
    }
   ],
   "source": [
    "rr[rr['Price_Paid']==rr[rr['Capped_or_Uncapped']=='Uncapped']['Price_Paid'].max()]"
   ]
  },
  {
   "cell_type": "markdown",
   "id": "730f7ef3",
   "metadata": {},
   "source": [
    "<h3>Visualization of distribution of Amount spent by RR on each department: </h3>"
   ]
  },
  {
   "cell_type": "code",
   "execution_count": 16,
   "id": "d874b924",
   "metadata": {},
   "outputs": [
    {
     "data": {
      "image/png": "[encoded data removed]",
      "text/plain": [
       "<Figure size 1080x720 with 1 Axes>"
      ]
     },
     "metadata": {},
     "output_type": "display_data"
    }
   ],
   "source": [
    "rr.groupby(['Role']).sum().plot(kind='pie', y='Price_Paid', autopct=\"%.2f%%\", figsize=(15,10), title=\"Distribution of Amount spent by RR on each department\").legend(loc='upper right');"
   ]
  },
  {
   "cell_type": "markdown",
   "id": "91da5096",
   "metadata": {},
   "source": [
    "<h3>No. of IPL Experienced and inexperienced Players bought by Rajasthan Royals: </h3>"
   ]
  },
  {
   "cell_type": "code",
   "execution_count": 17,
   "id": "687ff398",
   "metadata": {},
   "outputs": [
    {
     "name": "stdout",
     "output_type": "stream",
     "text": [
      "Experienced Players:      5\n",
      "Inexperienced Players:    3\n"
     ]
    }
   ],
   "source": [
    "print(\"Experienced Players:     \",rr[pd.notnull(rr['Previous_IPL_Teams'])].shape[0])\n",
    "print(\"Inexperienced Players:   \",rr[pd.isnull(rr['Previous_IPL_Teams'])].shape[0])"
   ]
  },
  {
   "cell_type": "markdown",
   "id": "dbdf59dd",
   "metadata": {},
   "source": [
    "<h3>No. of Internationally Experienced and inexperienced  Players bought by Rajasthan Royals: </h3>"
   ]
  },
  {
   "cell_type": "code",
   "execution_count": 18,
   "id": "2f1c2caa",
   "metadata": {},
   "outputs": [
    {
     "name": "stdout",
     "output_type": "stream",
     "text": [
      "Experienced Players:      4\n",
      "Inexperienced Players:    4\n"
     ]
    }
   ],
   "source": [
    "print(\"Experienced Players:     \",rr[rr['Capped_or_Uncapped']=='Capped'].shape[0])\n",
    "print(\"Inexperienced Players:   \",rr[rr['Capped_or_Uncapped']=='Uncapped'].shape[0])"
   ]
  },
  {
   "cell_type": "markdown",
   "id": "7645e847",
   "metadata": {},
   "source": [
    "<h3>No. of players bought at</h3>"
   ]
  },
  {
   "cell_type": "code",
   "execution_count": 19,
   "id": "7bb31deb",
   "metadata": {},
   "outputs": [
    {
     "name": "stdout",
     "output_type": "stream",
     "text": [
      "Base Price:            5\n",
      "More than Base Price:  3\n"
     ]
    }
   ],
   "source": [
    "print(\"Base Price:           \",rr[rr['Price_Paid']==rr['Base_Price']].shape[0])\n",
    "print(\"More than Base Price: \",rr[rr['Price_Paid']!=rr['Base_Price']].shape[0])"
   ]
  },
  {
   "cell_type": "code",
   "execution_count": null,
   "id": "ab44d65e",
   "metadata": {},
   "outputs": [],
   "source": []
  }
 ],
 "metadata": {
  "kernelspec": {
   "display_name": "Python 3 (ipykernel)",
   "language": "python",
   "name": "python3"
  },
  "language_info": {
   "codemirror_mode": {
    "name": "ipython",
    "version": 3
   },
   "file_extension": ".py",
   "mimetype": "text/x-python",
   "name": "python",
   "nbconvert_exporter": "python",
   "pygments_lexer": "ipython3",
   "version": "3.9.5"
  }
 },
 "nbformat": 4,
 "nbformat_minor": 5
}
