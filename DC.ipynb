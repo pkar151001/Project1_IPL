{
 "cells": [
  {
   "cell_type": "markdown",
   "id": "14502665",
   "metadata": {},
   "source": [
    "<h1 style=\"text-align:center;\">Delhi Capitals (DC)</h1>"
   ]
  },
  {
   "cell_type": "markdown",
   "id": "c5b9fd73",
   "metadata": {},
   "source": [
    "<p style=\"text-align:center;\"><img src=\"https://static.india.com/wp-content/uploads/2022/03/pjimage-2022-03-22T215033.038.jpg\" width=700px height=500px></p> "
   ]
  },
  {
   "cell_type": "code",
   "execution_count": 1,
   "id": "5b0d8f58",
   "metadata": {},
   "outputs": [],
   "source": [
    "import pandas as pd\n",
    "import numpy as np\n",
    "import matplotlib.pyplot as plt\n",
    "\n",
    "data=pd.read_csv(\"./PROJECT_IPL_1_Edited.csv\")\n",
    "data.rename(columns={'Player Name':'Player_Name','Base Price (in Lakhs Rupees)':'Base_Price','Price Paid (in Lakhs Rupees)':'Price_Paid','Status':'Status','Bought by':'Bought_by','Previous IPL Teams':'Previous_IPL_Teams','Country':'Country','Role':'Role','Batting Style':'Batting_Style','Bowling Style':'Bowling_Style','Batting Order':'Batting_Order','Capped or Uncapped at Internationals (during Auction)':'Capped_or_Uncapped'},inplace='True')\n",
    "data.loc[data[\"Role\"] == \"Fast Bowler\", \"Role\"] = \"Seam Bowler\"\n"
   ]
  },
  {
   "cell_type": "markdown",
   "id": "8c7bfd6d",
   "metadata": {},
   "source": [
    "<h2 style=\"text-align:center;\"> Listing out players bought by DC </h2>"
   ]
  },
  {
   "cell_type": "code",
   "execution_count": 2,
   "id": "7eb26aae",
   "metadata": {},
   "outputs": [
    {
     "data": {
      "text/html": [
       "<div>\n",
       "<style scoped>\n",
       "    .dataframe tbody tr th:only-of-type {\n",
       "        vertical-align: middle;\n",
       "    }\n",
       "\n",
       "    .dataframe tbody tr th {\n",
       "        vertical-align: top;\n",
       "    }\n",
       "\n",
       "    .dataframe thead th {\n",
       "        text-align: right;\n",
       "    }\n",
       "</style>\n",
       "<table border=\"1\" class=\"dataframe\">\n",
       "  <thead>\n",
       "    <tr style=\"text-align: right;\">\n",
       "      <th></th>\n",
       "      <th>Player_Name</th>\n",
       "      <th>Base_Price</th>\n",
       "      <th>Price_Paid</th>\n",
       "      <th>Status</th>\n",
       "      <th>Bought_by</th>\n",
       "      <th>Previous_IPL_Teams</th>\n",
       "      <th>Country</th>\n",
       "      <th>Role</th>\n",
       "      <th>Batting_Style</th>\n",
       "      <th>Bowling_Style</th>\n",
       "      <th>Batting_Order</th>\n",
       "      <th>Capped_or_Uncapped</th>\n",
       "    </tr>\n",
       "  </thead>\n",
       "  <tbody>\n",
       "    <tr>\n",
       "      <th>26</th>\n",
       "      <td>Lukman Meriwala</td>\n",
       "      <td>20</td>\n",
       "      <td>20</td>\n",
       "      <td>Sold</td>\n",
       "      <td>DC</td>\n",
       "      <td>NaN</td>\n",
       "      <td>India</td>\n",
       "      <td>Seam Bowler</td>\n",
       "      <td>NaN</td>\n",
       "      <td>Left Fast Medium</td>\n",
       "      <td>NaN</td>\n",
       "      <td>Uncapped</td>\n",
       "    </tr>\n",
       "    <tr>\n",
       "      <th>27</th>\n",
       "      <td>Manimaran Siddharth</td>\n",
       "      <td>20</td>\n",
       "      <td>20</td>\n",
       "      <td>Sold</td>\n",
       "      <td>DC</td>\n",
       "      <td>NaN</td>\n",
       "      <td>India</td>\n",
       "      <td>Spin Bowler</td>\n",
       "      <td>NaN</td>\n",
       "      <td>Slow Left Orthodox</td>\n",
       "      <td>NaN</td>\n",
       "      <td>Uncapped</td>\n",
       "    </tr>\n",
       "    <tr>\n",
       "      <th>39</th>\n",
       "      <td>Ripal Patel</td>\n",
       "      <td>20</td>\n",
       "      <td>20</td>\n",
       "      <td>Sold</td>\n",
       "      <td>DC</td>\n",
       "      <td>NaN</td>\n",
       "      <td>India</td>\n",
       "      <td>Batting All Rounder</td>\n",
       "      <td>Right</td>\n",
       "      <td>Right Medium Fast</td>\n",
       "      <td>Middle</td>\n",
       "      <td>Uncapped</td>\n",
       "    </tr>\n",
       "    <tr>\n",
       "      <th>41</th>\n",
       "      <td>Sam Billings</td>\n",
       "      <td>200</td>\n",
       "      <td>200</td>\n",
       "      <td>Sold</td>\n",
       "      <td>DC</td>\n",
       "      <td>DC, CSK</td>\n",
       "      <td>England</td>\n",
       "      <td>Wicket Keeper Batsman</td>\n",
       "      <td>Right</td>\n",
       "      <td>NaN</td>\n",
       "      <td>Middle</td>\n",
       "      <td>Capped</td>\n",
       "    </tr>\n",
       "    <tr>\n",
       "      <th>48</th>\n",
       "      <td>Steven Smith</td>\n",
       "      <td>200</td>\n",
       "      <td>200</td>\n",
       "      <td>Sold</td>\n",
       "      <td>DC</td>\n",
       "      <td>RCB, KTK, PWI, RR, RPS</td>\n",
       "      <td>Australia</td>\n",
       "      <td>Batsman</td>\n",
       "      <td>Right</td>\n",
       "      <td>NaN</td>\n",
       "      <td>Middle</td>\n",
       "      <td>Capped</td>\n",
       "    </tr>\n",
       "    <tr>\n",
       "      <th>50</th>\n",
       "      <td>Tom Curran</td>\n",
       "      <td>150</td>\n",
       "      <td>525</td>\n",
       "      <td>Sold</td>\n",
       "      <td>DC</td>\n",
       "      <td>KKR, RR</td>\n",
       "      <td>England</td>\n",
       "      <td>Bowling All Rounder</td>\n",
       "      <td>Right</td>\n",
       "      <td>Right Fast Medium</td>\n",
       "      <td>Lower</td>\n",
       "      <td>Capped</td>\n",
       "    </tr>\n",
       "    <tr>\n",
       "      <th>51</th>\n",
       "      <td>Umesh Yadav</td>\n",
       "      <td>100</td>\n",
       "      <td>100</td>\n",
       "      <td>Sold</td>\n",
       "      <td>DC</td>\n",
       "      <td>RCB, KKR, DC</td>\n",
       "      <td>India</td>\n",
       "      <td>Seam Bowler</td>\n",
       "      <td>NaN</td>\n",
       "      <td>Right Fast</td>\n",
       "      <td>NaN</td>\n",
       "      <td>Capped</td>\n",
       "    </tr>\n",
       "    <tr>\n",
       "      <th>55</th>\n",
       "      <td>Vishnu Vinod</td>\n",
       "      <td>20</td>\n",
       "      <td>20</td>\n",
       "      <td>Sold</td>\n",
       "      <td>DC</td>\n",
       "      <td>RCB</td>\n",
       "      <td>India</td>\n",
       "      <td>Wicket Keeper Batsman</td>\n",
       "      <td>Right</td>\n",
       "      <td>NaN</td>\n",
       "      <td>Middle</td>\n",
       "      <td>Uncapped</td>\n",
       "    </tr>\n",
       "  </tbody>\n",
       "</table>\n",
       "</div>"
      ],
      "text/plain": [
       "            Player_Name  Base_Price  Price_Paid Status Bought_by  \\\n",
       "26      Lukman Meriwala          20          20   Sold        DC   \n",
       "27  Manimaran Siddharth          20          20  Sold         DC   \n",
       "39          Ripal Patel          20          20   Sold        DC   \n",
       "41         Sam Billings         200         200   Sold        DC   \n",
       "48         Steven Smith         200         200   Sold        DC   \n",
       "50           Tom Curran         150         525   Sold        DC   \n",
       "51          Umesh Yadav         100         100   Sold        DC   \n",
       "55         Vishnu Vinod          20          20   Sold        DC   \n",
       "\n",
       "        Previous_IPL_Teams    Country                   Role Batting_Style  \\\n",
       "26                     NaN      India            Seam Bowler           NaN   \n",
       "27                     NaN      India            Spin Bowler           NaN   \n",
       "39                     NaN      India    Batting All Rounder        Right    \n",
       "41                 DC, CSK    England  Wicket Keeper Batsman        Right    \n",
       "48  RCB, KTK, PWI, RR, RPS  Australia                Batsman        Right    \n",
       "50                 KKR, RR    England    Bowling All Rounder        Right    \n",
       "51            RCB, KKR, DC      India            Seam Bowler           NaN   \n",
       "55                     RCB      India  Wicket Keeper Batsman        Right    \n",
       "\n",
       "         Bowling_Style Batting_Order Capped_or_Uncapped  \n",
       "26    Left Fast Medium           NaN           Uncapped  \n",
       "27  Slow Left Orthodox           NaN           Uncapped  \n",
       "39   Right Medium Fast        Middle           Uncapped  \n",
       "41                 NaN        Middle             Capped  \n",
       "48                 NaN        Middle             Capped  \n",
       "50   Right Fast Medium        Lower              Capped  \n",
       "51          Right Fast           NaN             Capped  \n",
       "55                 NaN        Middle           Uncapped  "
      ]
     },
     "execution_count": 2,
     "metadata": {},
     "output_type": "execute_result"
    }
   ],
   "source": [
    "dc=data.groupby('Bought_by').get_group('DC')\n",
    "dc"
   ]
  },
  {
   "cell_type": "markdown",
   "id": "310bbfc7",
   "metadata": {},
   "source": [
    "<h2 style=\"text-align:center;\"> Visualization of Price Paid for players bought by DC </h2>"
   ]
  },
  {
   "cell_type": "code",
   "execution_count": 3,
   "id": "0d03b75e",
   "metadata": {},
   "outputs": [
    {
     "data": {
      "image/png": "[encoded data removed]",
      "text/plain": [
       "<Figure size 432x288 with 1 Axes>"
      ]
     },
     "metadata": {
      "needs_background": "light"
     },
     "output_type": "display_data"
    }
   ],
   "source": [
    "x=list(dc['Player_Name']);\n",
    "y=list(dc['Price_Paid']);\n",
    "plt.barh(x,y);"
   ]
  },
  {
   "cell_type": "markdown",
   "id": "75fe3f22",
   "metadata": {},
   "source": [
    "<h2 style=\"text-align:center;\">List of Batsmen bought by DC</h2>"
   ]
  },
  {
   "cell_type": "code",
   "execution_count": 4,
   "id": "9df79b50",
   "metadata": {},
   "outputs": [
    {
     "data": {
      "text/html": [
       "<div>\n",
       "<style scoped>\n",
       "    .dataframe tbody tr th:only-of-type {\n",
       "        vertical-align: middle;\n",
       "    }\n",
       "\n",
       "    .dataframe tbody tr th {\n",
       "        vertical-align: top;\n",
       "    }\n",
       "\n",
       "    .dataframe thead th {\n",
       "        text-align: right;\n",
       "    }\n",
       "</style>\n",
       "<table border=\"1\" class=\"dataframe\">\n",
       "  <thead>\n",
       "    <tr style=\"text-align: right;\">\n",
       "      <th></th>\n",
       "      <th>Player_Name</th>\n",
       "      <th>Base_Price</th>\n",
       "      <th>Price_Paid</th>\n",
       "      <th>Status</th>\n",
       "      <th>Bought_by</th>\n",
       "      <th>Previous_IPL_Teams</th>\n",
       "      <th>Country</th>\n",
       "      <th>Role</th>\n",
       "      <th>Batting_Style</th>\n",
       "      <th>Bowling_Style</th>\n",
       "      <th>Batting_Order</th>\n",
       "      <th>Capped_or_Uncapped</th>\n",
       "    </tr>\n",
       "  </thead>\n",
       "  <tbody>\n",
       "    <tr>\n",
       "      <th>41</th>\n",
       "      <td>Sam Billings</td>\n",
       "      <td>200</td>\n",
       "      <td>200</td>\n",
       "      <td>Sold</td>\n",
       "      <td>DC</td>\n",
       "      <td>DC, CSK</td>\n",
       "      <td>England</td>\n",
       "      <td>Wicket Keeper Batsman</td>\n",
       "      <td>Right</td>\n",
       "      <td>NaN</td>\n",
       "      <td>Middle</td>\n",
       "      <td>Capped</td>\n",
       "    </tr>\n",
       "    <tr>\n",
       "      <th>48</th>\n",
       "      <td>Steven Smith</td>\n",
       "      <td>200</td>\n",
       "      <td>200</td>\n",
       "      <td>Sold</td>\n",
       "      <td>DC</td>\n",
       "      <td>RCB, KTK, PWI, RR, RPS</td>\n",
       "      <td>Australia</td>\n",
       "      <td>Batsman</td>\n",
       "      <td>Right</td>\n",
       "      <td>NaN</td>\n",
       "      <td>Middle</td>\n",
       "      <td>Capped</td>\n",
       "    </tr>\n",
       "    <tr>\n",
       "      <th>55</th>\n",
       "      <td>Vishnu Vinod</td>\n",
       "      <td>20</td>\n",
       "      <td>20</td>\n",
       "      <td>Sold</td>\n",
       "      <td>DC</td>\n",
       "      <td>RCB</td>\n",
       "      <td>India</td>\n",
       "      <td>Wicket Keeper Batsman</td>\n",
       "      <td>Right</td>\n",
       "      <td>NaN</td>\n",
       "      <td>Middle</td>\n",
       "      <td>Uncapped</td>\n",
       "    </tr>\n",
       "  </tbody>\n",
       "</table>\n",
       "</div>"
      ],
      "text/plain": [
       "     Player_Name  Base_Price  Price_Paid Status Bought_by  \\\n",
       "41  Sam Billings         200         200   Sold        DC   \n",
       "48  Steven Smith         200         200   Sold        DC   \n",
       "55  Vishnu Vinod          20          20   Sold        DC   \n",
       "\n",
       "        Previous_IPL_Teams    Country                   Role Batting_Style  \\\n",
       "41                 DC, CSK    England  Wicket Keeper Batsman        Right    \n",
       "48  RCB, KTK, PWI, RR, RPS  Australia                Batsman        Right    \n",
       "55                     RCB      India  Wicket Keeper Batsman        Right    \n",
       "\n",
       "   Bowling_Style Batting_Order Capped_or_Uncapped  \n",
       "41           NaN        Middle             Capped  \n",
       "48           NaN        Middle             Capped  \n",
       "55           NaN        Middle           Uncapped  "
      ]
     },
     "execution_count": 4,
     "metadata": {},
     "output_type": "execute_result"
    }
   ],
   "source": [
    "dc_bats=dc[dc['Role'].str.contains('Batsman')]\n",
    "dc_bats"
   ]
  },
  {
   "cell_type": "markdown",
   "id": "b13b775b",
   "metadata": {},
   "source": [
    "<h2 style=\"text-align:center;\">List of Bowlers bought by DC</h2>"
   ]
  },
  {
   "cell_type": "code",
   "execution_count": 5,
   "id": "71783398",
   "metadata": {},
   "outputs": [
    {
     "data": {
      "text/html": [
       "<div>\n",
       "<style scoped>\n",
       "    .dataframe tbody tr th:only-of-type {\n",
       "        vertical-align: middle;\n",
       "    }\n",
       "\n",
       "    .dataframe tbody tr th {\n",
       "        vertical-align: top;\n",
       "    }\n",
       "\n",
       "    .dataframe thead th {\n",
       "        text-align: right;\n",
       "    }\n",
       "</style>\n",
       "<table border=\"1\" class=\"dataframe\">\n",
       "  <thead>\n",
       "    <tr style=\"text-align: right;\">\n",
       "      <th></th>\n",
       "      <th>Player_Name</th>\n",
       "      <th>Base_Price</th>\n",
       "      <th>Price_Paid</th>\n",
       "      <th>Status</th>\n",
       "      <th>Bought_by</th>\n",
       "      <th>Previous_IPL_Teams</th>\n",
       "      <th>Country</th>\n",
       "      <th>Role</th>\n",
       "      <th>Batting_Style</th>\n",
       "      <th>Bowling_Style</th>\n",
       "      <th>Batting_Order</th>\n",
       "      <th>Capped_or_Uncapped</th>\n",
       "    </tr>\n",
       "  </thead>\n",
       "  <tbody>\n",
       "    <tr>\n",
       "      <th>26</th>\n",
       "      <td>Lukman Meriwala</td>\n",
       "      <td>20</td>\n",
       "      <td>20</td>\n",
       "      <td>Sold</td>\n",
       "      <td>DC</td>\n",
       "      <td>NaN</td>\n",
       "      <td>India</td>\n",
       "      <td>Seam Bowler</td>\n",
       "      <td>NaN</td>\n",
       "      <td>Left Fast Medium</td>\n",
       "      <td>NaN</td>\n",
       "      <td>Uncapped</td>\n",
       "    </tr>\n",
       "    <tr>\n",
       "      <th>27</th>\n",
       "      <td>Manimaran Siddharth</td>\n",
       "      <td>20</td>\n",
       "      <td>20</td>\n",
       "      <td>Sold</td>\n",
       "      <td>DC</td>\n",
       "      <td>NaN</td>\n",
       "      <td>India</td>\n",
       "      <td>Spin Bowler</td>\n",
       "      <td>NaN</td>\n",
       "      <td>Slow Left Orthodox</td>\n",
       "      <td>NaN</td>\n",
       "      <td>Uncapped</td>\n",
       "    </tr>\n",
       "    <tr>\n",
       "      <th>51</th>\n",
       "      <td>Umesh Yadav</td>\n",
       "      <td>100</td>\n",
       "      <td>100</td>\n",
       "      <td>Sold</td>\n",
       "      <td>DC</td>\n",
       "      <td>RCB, KKR, DC</td>\n",
       "      <td>India</td>\n",
       "      <td>Seam Bowler</td>\n",
       "      <td>NaN</td>\n",
       "      <td>Right Fast</td>\n",
       "      <td>NaN</td>\n",
       "      <td>Capped</td>\n",
       "    </tr>\n",
       "  </tbody>\n",
       "</table>\n",
       "</div>"
      ],
      "text/plain": [
       "            Player_Name  Base_Price  Price_Paid Status Bought_by  \\\n",
       "26      Lukman Meriwala          20          20   Sold        DC   \n",
       "27  Manimaran Siddharth          20          20  Sold         DC   \n",
       "51          Umesh Yadav         100         100   Sold        DC   \n",
       "\n",
       "   Previous_IPL_Teams Country         Role Batting_Style       Bowling_Style  \\\n",
       "26                NaN   India  Seam Bowler           NaN    Left Fast Medium   \n",
       "27                NaN   India  Spin Bowler           NaN  Slow Left Orthodox   \n",
       "51       RCB, KKR, DC   India  Seam Bowler           NaN          Right Fast   \n",
       "\n",
       "   Batting_Order Capped_or_Uncapped  \n",
       "26           NaN           Uncapped  \n",
       "27           NaN           Uncapped  \n",
       "51           NaN             Capped  "
      ]
     },
     "execution_count": 5,
     "metadata": {},
     "output_type": "execute_result"
    }
   ],
   "source": [
    "dc_bowl=dc[dc['Role'].str.contains('Bowler')]\n",
    "dc_bowl"
   ]
  },
  {
   "cell_type": "markdown",
   "id": "27bb75a8",
   "metadata": {},
   "source": [
    "<h2 style=\"text-align:center;\">List of All Rounders bought by DC</h2>"
   ]
  },
  {
   "cell_type": "code",
   "execution_count": 6,
   "id": "faeb7b51",
   "metadata": {},
   "outputs": [
    {
     "data": {
      "text/html": [
       "<div>\n",
       "<style scoped>\n",
       "    .dataframe tbody tr th:only-of-type {\n",
       "        vertical-align: middle;\n",
       "    }\n",
       "\n",
       "    .dataframe tbody tr th {\n",
       "        vertical-align: top;\n",
       "    }\n",
       "\n",
       "    .dataframe thead th {\n",
       "        text-align: right;\n",
       "    }\n",
       "</style>\n",
       "<table border=\"1\" class=\"dataframe\">\n",
       "  <thead>\n",
       "    <tr style=\"text-align: right;\">\n",
       "      <th></th>\n",
       "      <th>Player_Name</th>\n",
       "      <th>Base_Price</th>\n",
       "      <th>Price_Paid</th>\n",
       "      <th>Status</th>\n",
       "      <th>Bought_by</th>\n",
       "      <th>Previous_IPL_Teams</th>\n",
       "      <th>Country</th>\n",
       "      <th>Role</th>\n",
       "      <th>Batting_Style</th>\n",
       "      <th>Bowling_Style</th>\n",
       "      <th>Batting_Order</th>\n",
       "      <th>Capped_or_Uncapped</th>\n",
       "    </tr>\n",
       "  </thead>\n",
       "  <tbody>\n",
       "    <tr>\n",
       "      <th>39</th>\n",
       "      <td>Ripal Patel</td>\n",
       "      <td>20</td>\n",
       "      <td>20</td>\n",
       "      <td>Sold</td>\n",
       "      <td>DC</td>\n",
       "      <td>NaN</td>\n",
       "      <td>India</td>\n",
       "      <td>Batting All Rounder</td>\n",
       "      <td>Right</td>\n",
       "      <td>Right Medium Fast</td>\n",
       "      <td>Middle</td>\n",
       "      <td>Uncapped</td>\n",
       "    </tr>\n",
       "    <tr>\n",
       "      <th>50</th>\n",
       "      <td>Tom Curran</td>\n",
       "      <td>150</td>\n",
       "      <td>525</td>\n",
       "      <td>Sold</td>\n",
       "      <td>DC</td>\n",
       "      <td>KKR, RR</td>\n",
       "      <td>England</td>\n",
       "      <td>Bowling All Rounder</td>\n",
       "      <td>Right</td>\n",
       "      <td>Right Fast Medium</td>\n",
       "      <td>Lower</td>\n",
       "      <td>Capped</td>\n",
       "    </tr>\n",
       "  </tbody>\n",
       "</table>\n",
       "</div>"
      ],
      "text/plain": [
       "    Player_Name  Base_Price  Price_Paid Status Bought_by Previous_IPL_Teams  \\\n",
       "39  Ripal Patel          20          20   Sold        DC                NaN   \n",
       "50   Tom Curran         150         525   Sold        DC            KKR, RR   \n",
       "\n",
       "    Country                 Role Batting_Style      Bowling_Style  \\\n",
       "39    India  Batting All Rounder        Right   Right Medium Fast   \n",
       "50  England  Bowling All Rounder        Right   Right Fast Medium   \n",
       "\n",
       "   Batting_Order Capped_or_Uncapped  \n",
       "39        Middle           Uncapped  \n",
       "50        Lower              Capped  "
      ]
     },
     "execution_count": 6,
     "metadata": {},
     "output_type": "execute_result"
    }
   ],
   "source": [
    "dc_all=dc[dc['Role'].str.contains('All Rounder')]\n",
    "dc_all"
   ]
  },
  {
   "cell_type": "markdown",
   "id": "b400c940",
   "metadata": {},
   "source": [
    "<h2 style=\"text-align:center;\">Analysis - Delhi Capitals </h2>"
   ]
  },
  {
   "cell_type": "markdown",
   "id": "27f99112",
   "metadata": {},
   "source": [
    "<h3>Total amount spent during auction (in crores): </h3>"
   ]
  },
  {
   "cell_type": "code",
   "execution_count": 7,
   "id": "ed58d0ad",
   "metadata": {},
   "outputs": [
    {
     "data": {
      "text/plain": [
       "11.05"
      ]
     },
     "execution_count": 7,
     "metadata": {},
     "output_type": "execute_result"
    }
   ],
   "source": [
    "dc['Price_Paid'].sum()/100"
   ]
  },
  {
   "cell_type": "markdown",
   "id": "eae2e5bc",
   "metadata": {},
   "source": [
    "<h3>Highest bid by Delhi Capitals: </h3>"
   ]
  },
  {
   "cell_type": "code",
   "execution_count": 8,
   "id": "4e83fe33",
   "metadata": {},
   "outputs": [
    {
     "data": {
      "text/html": [
       "<div>\n",
       "<style scoped>\n",
       "    .dataframe tbody tr th:only-of-type {\n",
       "        vertical-align: middle;\n",
       "    }\n",
       "\n",
       "    .dataframe tbody tr th {\n",
       "        vertical-align: top;\n",
       "    }\n",
       "\n",
       "    .dataframe thead th {\n",
       "        text-align: right;\n",
       "    }\n",
       "</style>\n",
       "<table border=\"1\" class=\"dataframe\">\n",
       "  <thead>\n",
       "    <tr style=\"text-align: right;\">\n",
       "      <th></th>\n",
       "      <th>Player_Name</th>\n",
       "      <th>Base_Price</th>\n",
       "      <th>Price_Paid</th>\n",
       "      <th>Status</th>\n",
       "      <th>Bought_by</th>\n",
       "      <th>Previous_IPL_Teams</th>\n",
       "      <th>Country</th>\n",
       "      <th>Role</th>\n",
       "      <th>Batting_Style</th>\n",
       "      <th>Bowling_Style</th>\n",
       "      <th>Batting_Order</th>\n",
       "      <th>Capped_or_Uncapped</th>\n",
       "    </tr>\n",
       "  </thead>\n",
       "  <tbody>\n",
       "    <tr>\n",
       "      <th>50</th>\n",
       "      <td>Tom Curran</td>\n",
       "      <td>150</td>\n",
       "      <td>525</td>\n",
       "      <td>Sold</td>\n",
       "      <td>DC</td>\n",
       "      <td>KKR, RR</td>\n",
       "      <td>England</td>\n",
       "      <td>Bowling All Rounder</td>\n",
       "      <td>Right</td>\n",
       "      <td>Right Fast Medium</td>\n",
       "      <td>Lower</td>\n",
       "      <td>Capped</td>\n",
       "    </tr>\n",
       "  </tbody>\n",
       "</table>\n",
       "</div>"
      ],
      "text/plain": [
       "   Player_Name  Base_Price  Price_Paid Status Bought_by Previous_IPL_Teams  \\\n",
       "50  Tom Curran         150         525   Sold        DC            KKR, RR   \n",
       "\n",
       "    Country                 Role Batting_Style      Bowling_Style  \\\n",
       "50  England  Bowling All Rounder        Right   Right Fast Medium   \n",
       "\n",
       "   Batting_Order Capped_or_Uncapped  \n",
       "50        Lower              Capped  "
      ]
     },
     "execution_count": 8,
     "metadata": {},
     "output_type": "execute_result"
    }
   ],
   "source": [
    "dc[dc['Price_Paid']==dc['Price_Paid'].max()]"
   ]
  },
  {
   "cell_type": "markdown",
   "id": "e84ae1ce",
   "metadata": {},
   "source": [
    "<h3>Highest Indian bid by Delhi Capitals: </h3>"
   ]
  },
  {
   "cell_type": "code",
   "execution_count": 9,
   "id": "f696ec76",
   "metadata": {},
   "outputs": [
    {
     "data": {
      "text/html": [
       "<div>\n",
       "<style scoped>\n",
       "    .dataframe tbody tr th:only-of-type {\n",
       "        vertical-align: middle;\n",
       "    }\n",
       "\n",
       "    .dataframe tbody tr th {\n",
       "        vertical-align: top;\n",
       "    }\n",
       "\n",
       "    .dataframe thead th {\n",
       "        text-align: right;\n",
       "    }\n",
       "</style>\n",
       "<table border=\"1\" class=\"dataframe\">\n",
       "  <thead>\n",
       "    <tr style=\"text-align: right;\">\n",
       "      <th></th>\n",
       "      <th>Player_Name</th>\n",
       "      <th>Base_Price</th>\n",
       "      <th>Price_Paid</th>\n",
       "      <th>Status</th>\n",
       "      <th>Bought_by</th>\n",
       "      <th>Previous_IPL_Teams</th>\n",
       "      <th>Country</th>\n",
       "      <th>Role</th>\n",
       "      <th>Batting_Style</th>\n",
       "      <th>Bowling_Style</th>\n",
       "      <th>Batting_Order</th>\n",
       "      <th>Capped_or_Uncapped</th>\n",
       "    </tr>\n",
       "  </thead>\n",
       "  <tbody>\n",
       "    <tr>\n",
       "      <th>51</th>\n",
       "      <td>Umesh Yadav</td>\n",
       "      <td>100</td>\n",
       "      <td>100</td>\n",
       "      <td>Sold</td>\n",
       "      <td>DC</td>\n",
       "      <td>RCB, KKR, DC</td>\n",
       "      <td>India</td>\n",
       "      <td>Seam Bowler</td>\n",
       "      <td>NaN</td>\n",
       "      <td>Right Fast</td>\n",
       "      <td>NaN</td>\n",
       "      <td>Capped</td>\n",
       "    </tr>\n",
       "  </tbody>\n",
       "</table>\n",
       "</div>"
      ],
      "text/plain": [
       "    Player_Name  Base_Price  Price_Paid Status Bought_by Previous_IPL_Teams  \\\n",
       "51  Umesh Yadav         100         100   Sold        DC       RCB, KKR, DC   \n",
       "\n",
       "   Country         Role Batting_Style Bowling_Style Batting_Order  \\\n",
       "51   India  Seam Bowler           NaN    Right Fast           NaN   \n",
       "\n",
       "   Capped_or_Uncapped  \n",
       "51             Capped  "
      ]
     },
     "execution_count": 9,
     "metadata": {},
     "output_type": "execute_result"
    }
   ],
   "source": [
    "dc[dc['Price_Paid']==dc[dc['Country']=='India']['Price_Paid'].max()]"
   ]
  },
  {
   "cell_type": "markdown",
   "id": "03cc3780",
   "metadata": {},
   "source": [
    "<h3>Highest Foreign bid by Delhi Capitals: </h3>"
   ]
  },
  {
   "cell_type": "code",
   "execution_count": 10,
   "id": "2186ada7",
   "metadata": {},
   "outputs": [
    {
     "data": {
      "text/html": [
       "<div>\n",
       "<style scoped>\n",
       "    .dataframe tbody tr th:only-of-type {\n",
       "        vertical-align: middle;\n",
       "    }\n",
       "\n",
       "    .dataframe tbody tr th {\n",
       "        vertical-align: top;\n",
       "    }\n",
       "\n",
       "    .dataframe thead th {\n",
       "        text-align: right;\n",
       "    }\n",
       "</style>\n",
       "<table border=\"1\" class=\"dataframe\">\n",
       "  <thead>\n",
       "    <tr style=\"text-align: right;\">\n",
       "      <th></th>\n",
       "      <th>Player_Name</th>\n",
       "      <th>Base_Price</th>\n",
       "      <th>Price_Paid</th>\n",
       "      <th>Status</th>\n",
       "      <th>Bought_by</th>\n",
       "      <th>Previous_IPL_Teams</th>\n",
       "      <th>Country</th>\n",
       "      <th>Role</th>\n",
       "      <th>Batting_Style</th>\n",
       "      <th>Bowling_Style</th>\n",
       "      <th>Batting_Order</th>\n",
       "      <th>Capped_or_Uncapped</th>\n",
       "    </tr>\n",
       "  </thead>\n",
       "  <tbody>\n",
       "    <tr>\n",
       "      <th>50</th>\n",
       "      <td>Tom Curran</td>\n",
       "      <td>150</td>\n",
       "      <td>525</td>\n",
       "      <td>Sold</td>\n",
       "      <td>DC</td>\n",
       "      <td>KKR, RR</td>\n",
       "      <td>England</td>\n",
       "      <td>Bowling All Rounder</td>\n",
       "      <td>Right</td>\n",
       "      <td>Right Fast Medium</td>\n",
       "      <td>Lower</td>\n",
       "      <td>Capped</td>\n",
       "    </tr>\n",
       "  </tbody>\n",
       "</table>\n",
       "</div>"
      ],
      "text/plain": [
       "   Player_Name  Base_Price  Price_Paid Status Bought_by Previous_IPL_Teams  \\\n",
       "50  Tom Curran         150         525   Sold        DC            KKR, RR   \n",
       "\n",
       "    Country                 Role Batting_Style      Bowling_Style  \\\n",
       "50  England  Bowling All Rounder        Right   Right Fast Medium   \n",
       "\n",
       "   Batting_Order Capped_or_Uncapped  \n",
       "50        Lower              Capped  "
      ]
     },
     "execution_count": 10,
     "metadata": {},
     "output_type": "execute_result"
    }
   ],
   "source": [
    "dc[dc['Price_Paid']==dc[dc['Country']!='India']['Price_Paid'].max()]"
   ]
  },
  {
   "cell_type": "markdown",
   "id": "eb09dc99",
   "metadata": {},
   "source": [
    "<h3>Amount Spent on each Department (in crores): </h3>"
   ]
  },
  {
   "cell_type": "code",
   "execution_count": 11,
   "id": "7157c562",
   "metadata": {},
   "outputs": [
    {
     "name": "stdout",
     "output_type": "stream",
     "text": [
      "Role\n",
      "Batsman                  2.00\n",
      "Batting All Rounder      0.20\n",
      "Bowling All Rounder      5.25\n",
      "Seam Bowler              1.20\n",
      "Spin Bowler              0.20\n",
      "Wicket Keeper Batsman    2.20\n"
     ]
    }
   ],
   "source": [
    "print((dc.groupby('Role')['Price_Paid'].sum()/100).to_string())"
   ]
  },
  {
   "cell_type": "markdown",
   "id": "7625a11e",
   "metadata": {},
   "source": [
    "<h3>Highest Batsman bid by Delhi Capitals: </h3>"
   ]
  },
  {
   "cell_type": "code",
   "execution_count": 12,
   "id": "bccdb126",
   "metadata": {},
   "outputs": [
    {
     "data": {
      "text/html": [
       "<div>\n",
       "<style scoped>\n",
       "    .dataframe tbody tr th:only-of-type {\n",
       "        vertical-align: middle;\n",
       "    }\n",
       "\n",
       "    .dataframe tbody tr th {\n",
       "        vertical-align: top;\n",
       "    }\n",
       "\n",
       "    .dataframe thead th {\n",
       "        text-align: right;\n",
       "    }\n",
       "</style>\n",
       "<table border=\"1\" class=\"dataframe\">\n",
       "  <thead>\n",
       "    <tr style=\"text-align: right;\">\n",
       "      <th></th>\n",
       "      <th>Player_Name</th>\n",
       "      <th>Base_Price</th>\n",
       "      <th>Price_Paid</th>\n",
       "      <th>Status</th>\n",
       "      <th>Bought_by</th>\n",
       "      <th>Previous_IPL_Teams</th>\n",
       "      <th>Country</th>\n",
       "      <th>Role</th>\n",
       "      <th>Batting_Style</th>\n",
       "      <th>Bowling_Style</th>\n",
       "      <th>Batting_Order</th>\n",
       "      <th>Capped_or_Uncapped</th>\n",
       "    </tr>\n",
       "  </thead>\n",
       "  <tbody>\n",
       "    <tr>\n",
       "      <th>41</th>\n",
       "      <td>Sam Billings</td>\n",
       "      <td>200</td>\n",
       "      <td>200</td>\n",
       "      <td>Sold</td>\n",
       "      <td>DC</td>\n",
       "      <td>DC, CSK</td>\n",
       "      <td>England</td>\n",
       "      <td>Wicket Keeper Batsman</td>\n",
       "      <td>Right</td>\n",
       "      <td>NaN</td>\n",
       "      <td>Middle</td>\n",
       "      <td>Capped</td>\n",
       "    </tr>\n",
       "    <tr>\n",
       "      <th>48</th>\n",
       "      <td>Steven Smith</td>\n",
       "      <td>200</td>\n",
       "      <td>200</td>\n",
       "      <td>Sold</td>\n",
       "      <td>DC</td>\n",
       "      <td>RCB, KTK, PWI, RR, RPS</td>\n",
       "      <td>Australia</td>\n",
       "      <td>Batsman</td>\n",
       "      <td>Right</td>\n",
       "      <td>NaN</td>\n",
       "      <td>Middle</td>\n",
       "      <td>Capped</td>\n",
       "    </tr>\n",
       "  </tbody>\n",
       "</table>\n",
       "</div>"
      ],
      "text/plain": [
       "     Player_Name  Base_Price  Price_Paid Status Bought_by  \\\n",
       "41  Sam Billings         200         200   Sold        DC   \n",
       "48  Steven Smith         200         200   Sold        DC   \n",
       "\n",
       "        Previous_IPL_Teams    Country                   Role Batting_Style  \\\n",
       "41                 DC, CSK    England  Wicket Keeper Batsman        Right    \n",
       "48  RCB, KTK, PWI, RR, RPS  Australia                Batsman        Right    \n",
       "\n",
       "   Bowling_Style Batting_Order Capped_or_Uncapped  \n",
       "41           NaN        Middle             Capped  \n",
       "48           NaN        Middle             Capped  "
      ]
     },
     "execution_count": 12,
     "metadata": {},
     "output_type": "execute_result"
    }
   ],
   "source": [
    "dc_bats[dc_bats['Price_Paid']==dc_bats['Price_Paid'].max()]"
   ]
  },
  {
   "cell_type": "markdown",
   "id": "79470c72",
   "metadata": {},
   "source": [
    "<h3>Highest Bowler bid by Delhi Capitals: </h3>"
   ]
  },
  {
   "cell_type": "code",
   "execution_count": 13,
   "id": "4ae76729",
   "metadata": {},
   "outputs": [
    {
     "data": {
      "text/html": [
       "<div>\n",
       "<style scoped>\n",
       "    .dataframe tbody tr th:only-of-type {\n",
       "        vertical-align: middle;\n",
       "    }\n",
       "\n",
       "    .dataframe tbody tr th {\n",
       "        vertical-align: top;\n",
       "    }\n",
       "\n",
       "    .dataframe thead th {\n",
       "        text-align: right;\n",
       "    }\n",
       "</style>\n",
       "<table border=\"1\" class=\"dataframe\">\n",
       "  <thead>\n",
       "    <tr style=\"text-align: right;\">\n",
       "      <th></th>\n",
       "      <th>Player_Name</th>\n",
       "      <th>Base_Price</th>\n",
       "      <th>Price_Paid</th>\n",
       "      <th>Status</th>\n",
       "      <th>Bought_by</th>\n",
       "      <th>Previous_IPL_Teams</th>\n",
       "      <th>Country</th>\n",
       "      <th>Role</th>\n",
       "      <th>Batting_Style</th>\n",
       "      <th>Bowling_Style</th>\n",
       "      <th>Batting_Order</th>\n",
       "      <th>Capped_or_Uncapped</th>\n",
       "    </tr>\n",
       "  </thead>\n",
       "  <tbody>\n",
       "    <tr>\n",
       "      <th>51</th>\n",
       "      <td>Umesh Yadav</td>\n",
       "      <td>100</td>\n",
       "      <td>100</td>\n",
       "      <td>Sold</td>\n",
       "      <td>DC</td>\n",
       "      <td>RCB, KKR, DC</td>\n",
       "      <td>India</td>\n",
       "      <td>Seam Bowler</td>\n",
       "      <td>NaN</td>\n",
       "      <td>Right Fast</td>\n",
       "      <td>NaN</td>\n",
       "      <td>Capped</td>\n",
       "    </tr>\n",
       "  </tbody>\n",
       "</table>\n",
       "</div>"
      ],
      "text/plain": [
       "    Player_Name  Base_Price  Price_Paid Status Bought_by Previous_IPL_Teams  \\\n",
       "51  Umesh Yadav         100         100   Sold        DC       RCB, KKR, DC   \n",
       "\n",
       "   Country         Role Batting_Style Bowling_Style Batting_Order  \\\n",
       "51   India  Seam Bowler           NaN    Right Fast           NaN   \n",
       "\n",
       "   Capped_or_Uncapped  \n",
       "51             Capped  "
      ]
     },
     "execution_count": 13,
     "metadata": {},
     "output_type": "execute_result"
    }
   ],
   "source": [
    "dc_bowl[dc_bowl['Price_Paid']==dc_bowl['Price_Paid'].max()]"
   ]
  },
  {
   "cell_type": "markdown",
   "id": "b1ff5fe1",
   "metadata": {},
   "source": [
    "<h3>Highest All Rounder bid by Delhi Capitals:  </h3>"
   ]
  },
  {
   "cell_type": "code",
   "execution_count": 14,
   "id": "50279f12",
   "metadata": {},
   "outputs": [
    {
     "data": {
      "text/html": [
       "<div>\n",
       "<style scoped>\n",
       "    .dataframe tbody tr th:only-of-type {\n",
       "        vertical-align: middle;\n",
       "    }\n",
       "\n",
       "    .dataframe tbody tr th {\n",
       "        vertical-align: top;\n",
       "    }\n",
       "\n",
       "    .dataframe thead th {\n",
       "        text-align: right;\n",
       "    }\n",
       "</style>\n",
       "<table border=\"1\" class=\"dataframe\">\n",
       "  <thead>\n",
       "    <tr style=\"text-align: right;\">\n",
       "      <th></th>\n",
       "      <th>Player_Name</th>\n",
       "      <th>Base_Price</th>\n",
       "      <th>Price_Paid</th>\n",
       "      <th>Status</th>\n",
       "      <th>Bought_by</th>\n",
       "      <th>Previous_IPL_Teams</th>\n",
       "      <th>Country</th>\n",
       "      <th>Role</th>\n",
       "      <th>Batting_Style</th>\n",
       "      <th>Bowling_Style</th>\n",
       "      <th>Batting_Order</th>\n",
       "      <th>Capped_or_Uncapped</th>\n",
       "    </tr>\n",
       "  </thead>\n",
       "  <tbody>\n",
       "    <tr>\n",
       "      <th>50</th>\n",
       "      <td>Tom Curran</td>\n",
       "      <td>150</td>\n",
       "      <td>525</td>\n",
       "      <td>Sold</td>\n",
       "      <td>DC</td>\n",
       "      <td>KKR, RR</td>\n",
       "      <td>England</td>\n",
       "      <td>Bowling All Rounder</td>\n",
       "      <td>Right</td>\n",
       "      <td>Right Fast Medium</td>\n",
       "      <td>Lower</td>\n",
       "      <td>Capped</td>\n",
       "    </tr>\n",
       "  </tbody>\n",
       "</table>\n",
       "</div>"
      ],
      "text/plain": [
       "   Player_Name  Base_Price  Price_Paid Status Bought_by Previous_IPL_Teams  \\\n",
       "50  Tom Curran         150         525   Sold        DC            KKR, RR   \n",
       "\n",
       "    Country                 Role Batting_Style      Bowling_Style  \\\n",
       "50  England  Bowling All Rounder        Right   Right Fast Medium   \n",
       "\n",
       "   Batting_Order Capped_or_Uncapped  \n",
       "50        Lower              Capped  "
      ]
     },
     "execution_count": 14,
     "metadata": {},
     "output_type": "execute_result"
    }
   ],
   "source": [
    "dc_all[dc_all['Price_Paid']==dc_all['Price_Paid'].max()]"
   ]
  },
  {
   "cell_type": "markdown",
   "id": "cd8061f4",
   "metadata": {},
   "source": [
    "<h3>Highest Capped bid by Delhi Capitals: </h3>"
   ]
  },
  {
   "cell_type": "code",
   "execution_count": 15,
   "id": "f91f7a93",
   "metadata": {},
   "outputs": [
    {
     "data": {
      "text/html": [
       "<div>\n",
       "<style scoped>\n",
       "    .dataframe tbody tr th:only-of-type {\n",
       "        vertical-align: middle;\n",
       "    }\n",
       "\n",
       "    .dataframe tbody tr th {\n",
       "        vertical-align: top;\n",
       "    }\n",
       "\n",
       "    .dataframe thead th {\n",
       "        text-align: right;\n",
       "    }\n",
       "</style>\n",
       "<table border=\"1\" class=\"dataframe\">\n",
       "  <thead>\n",
       "    <tr style=\"text-align: right;\">\n",
       "      <th></th>\n",
       "      <th>Player_Name</th>\n",
       "      <th>Base_Price</th>\n",
       "      <th>Price_Paid</th>\n",
       "      <th>Status</th>\n",
       "      <th>Bought_by</th>\n",
       "      <th>Previous_IPL_Teams</th>\n",
       "      <th>Country</th>\n",
       "      <th>Role</th>\n",
       "      <th>Batting_Style</th>\n",
       "      <th>Bowling_Style</th>\n",
       "      <th>Batting_Order</th>\n",
       "      <th>Capped_or_Uncapped</th>\n",
       "    </tr>\n",
       "  </thead>\n",
       "  <tbody>\n",
       "    <tr>\n",
       "      <th>50</th>\n",
       "      <td>Tom Curran</td>\n",
       "      <td>150</td>\n",
       "      <td>525</td>\n",
       "      <td>Sold</td>\n",
       "      <td>DC</td>\n",
       "      <td>KKR, RR</td>\n",
       "      <td>England</td>\n",
       "      <td>Bowling All Rounder</td>\n",
       "      <td>Right</td>\n",
       "      <td>Right Fast Medium</td>\n",
       "      <td>Lower</td>\n",
       "      <td>Capped</td>\n",
       "    </tr>\n",
       "  </tbody>\n",
       "</table>\n",
       "</div>"
      ],
      "text/plain": [
       "   Player_Name  Base_Price  Price_Paid Status Bought_by Previous_IPL_Teams  \\\n",
       "50  Tom Curran         150         525   Sold        DC            KKR, RR   \n",
       "\n",
       "    Country                 Role Batting_Style      Bowling_Style  \\\n",
       "50  England  Bowling All Rounder        Right   Right Fast Medium   \n",
       "\n",
       "   Batting_Order Capped_or_Uncapped  \n",
       "50        Lower              Capped  "
      ]
     },
     "execution_count": 15,
     "metadata": {},
     "output_type": "execute_result"
    }
   ],
   "source": [
    "dc[dc['Price_Paid']==dc[dc['Capped_or_Uncapped']=='Capped']['Price_Paid'].max()]"
   ]
  },
  {
   "cell_type": "markdown",
   "id": "652384e8",
   "metadata": {},
   "source": [
    "<h3>Highest Uncapped bid by Delhi Capitals:</h3>"
   ]
  },
  {
   "cell_type": "code",
   "execution_count": 16,
   "id": "7a226411",
   "metadata": {},
   "outputs": [
    {
     "data": {
      "text/html": [
       "<div>\n",
       "<style scoped>\n",
       "    .dataframe tbody tr th:only-of-type {\n",
       "        vertical-align: middle;\n",
       "    }\n",
       "\n",
       "    .dataframe tbody tr th {\n",
       "        vertical-align: top;\n",
       "    }\n",
       "\n",
       "    .dataframe thead th {\n",
       "        text-align: right;\n",
       "    }\n",
       "</style>\n",
       "<table border=\"1\" class=\"dataframe\">\n",
       "  <thead>\n",
       "    <tr style=\"text-align: right;\">\n",
       "      <th></th>\n",
       "      <th>Player_Name</th>\n",
       "      <th>Base_Price</th>\n",
       "      <th>Price_Paid</th>\n",
       "      <th>Status</th>\n",
       "      <th>Bought_by</th>\n",
       "      <th>Previous_IPL_Teams</th>\n",
       "      <th>Country</th>\n",
       "      <th>Role</th>\n",
       "      <th>Batting_Style</th>\n",
       "      <th>Bowling_Style</th>\n",
       "      <th>Batting_Order</th>\n",
       "      <th>Capped_or_Uncapped</th>\n",
       "    </tr>\n",
       "  </thead>\n",
       "  <tbody>\n",
       "    <tr>\n",
       "      <th>26</th>\n",
       "      <td>Lukman Meriwala</td>\n",
       "      <td>20</td>\n",
       "      <td>20</td>\n",
       "      <td>Sold</td>\n",
       "      <td>DC</td>\n",
       "      <td>NaN</td>\n",
       "      <td>India</td>\n",
       "      <td>Seam Bowler</td>\n",
       "      <td>NaN</td>\n",
       "      <td>Left Fast Medium</td>\n",
       "      <td>NaN</td>\n",
       "      <td>Uncapped</td>\n",
       "    </tr>\n",
       "    <tr>\n",
       "      <th>27</th>\n",
       "      <td>Manimaran Siddharth</td>\n",
       "      <td>20</td>\n",
       "      <td>20</td>\n",
       "      <td>Sold</td>\n",
       "      <td>DC</td>\n",
       "      <td>NaN</td>\n",
       "      <td>India</td>\n",
       "      <td>Spin Bowler</td>\n",
       "      <td>NaN</td>\n",
       "      <td>Slow Left Orthodox</td>\n",
       "      <td>NaN</td>\n",
       "      <td>Uncapped</td>\n",
       "    </tr>\n",
       "    <tr>\n",
       "      <th>39</th>\n",
       "      <td>Ripal Patel</td>\n",
       "      <td>20</td>\n",
       "      <td>20</td>\n",
       "      <td>Sold</td>\n",
       "      <td>DC</td>\n",
       "      <td>NaN</td>\n",
       "      <td>India</td>\n",
       "      <td>Batting All Rounder</td>\n",
       "      <td>Right</td>\n",
       "      <td>Right Medium Fast</td>\n",
       "      <td>Middle</td>\n",
       "      <td>Uncapped</td>\n",
       "    </tr>\n",
       "    <tr>\n",
       "      <th>55</th>\n",
       "      <td>Vishnu Vinod</td>\n",
       "      <td>20</td>\n",
       "      <td>20</td>\n",
       "      <td>Sold</td>\n",
       "      <td>DC</td>\n",
       "      <td>RCB</td>\n",
       "      <td>India</td>\n",
       "      <td>Wicket Keeper Batsman</td>\n",
       "      <td>Right</td>\n",
       "      <td>NaN</td>\n",
       "      <td>Middle</td>\n",
       "      <td>Uncapped</td>\n",
       "    </tr>\n",
       "  </tbody>\n",
       "</table>\n",
       "</div>"
      ],
      "text/plain": [
       "            Player_Name  Base_Price  Price_Paid Status Bought_by  \\\n",
       "26      Lukman Meriwala          20          20   Sold        DC   \n",
       "27  Manimaran Siddharth          20          20  Sold         DC   \n",
       "39          Ripal Patel          20          20   Sold        DC   \n",
       "55         Vishnu Vinod          20          20   Sold        DC   \n",
       "\n",
       "   Previous_IPL_Teams Country                   Role Batting_Style  \\\n",
       "26                NaN   India            Seam Bowler           NaN   \n",
       "27                NaN   India            Spin Bowler           NaN   \n",
       "39                NaN   India    Batting All Rounder        Right    \n",
       "55                RCB   India  Wicket Keeper Batsman        Right    \n",
       "\n",
       "         Bowling_Style Batting_Order Capped_or_Uncapped  \n",
       "26    Left Fast Medium           NaN           Uncapped  \n",
       "27  Slow Left Orthodox           NaN           Uncapped  \n",
       "39   Right Medium Fast        Middle           Uncapped  \n",
       "55                 NaN        Middle           Uncapped  "
      ]
     },
     "execution_count": 16,
     "metadata": {},
     "output_type": "execute_result"
    }
   ],
   "source": [
    "dc[dc['Price_Paid']==dc[dc['Capped_or_Uncapped']=='Uncapped']['Price_Paid'].max()]"
   ]
  },
  {
   "cell_type": "markdown",
   "id": "325f93c9",
   "metadata": {},
   "source": [
    "<h3>Visualization of distribution of Amount spent by DC on each department: </h3>"
   ]
  },
  {
   "cell_type": "code",
   "execution_count": 17,
   "id": "1e46169c",
   "metadata": {},
   "outputs": [
    {
     "data": {
      "image/png": "[encoded data removed]",
      "text/plain": [
       "<Figure size 1080x720 with 1 Axes>"
      ]
     },
     "metadata": {},
     "output_type": "display_data"
    }
   ],
   "source": [
    "dc.groupby(['Role']).sum().plot(kind='pie', y='Price_Paid', autopct=\"%.2f%%\", figsize=(15,10), title=\"Distribution of Amount spent by DC on each department\").legend(loc='upper right');"
   ]
  },
  {
   "cell_type": "markdown",
   "id": "d8d0c809",
   "metadata": {},
   "source": [
    "<h3>No. of IPL Experienced and inexperienced Players bought by Delhi Capitals: </h3>"
   ]
  },
  {
   "cell_type": "code",
   "execution_count": 18,
   "id": "bda87df7",
   "metadata": {},
   "outputs": [
    {
     "name": "stdout",
     "output_type": "stream",
     "text": [
      "Experienced Players:      5\n",
      "Inexperienced Players:    3\n"
     ]
    }
   ],
   "source": [
    "print(\"Experienced Players:     \",dc[pd.notnull(dc['Previous_IPL_Teams'])].shape[0])\n",
    "print(\"Inexperienced Players:   \",dc[pd.isnull(dc['Previous_IPL_Teams'])].shape[0])"
   ]
  },
  {
   "cell_type": "markdown",
   "id": "c185f81b",
   "metadata": {},
   "source": [
    "<h3>No. of Internationally Experienced and inexperienced  Players bought by Delhi Capitals:  </h3>"
   ]
  },
  {
   "cell_type": "code",
   "execution_count": 19,
   "id": "76f3fad4",
   "metadata": {},
   "outputs": [
    {
     "name": "stdout",
     "output_type": "stream",
     "text": [
      "Experienced Players:      4\n",
      "Inexperienced Players:    4\n"
     ]
    }
   ],
   "source": [
    "print(\"Experienced Players:     \",dc[dc['Capped_or_Uncapped']=='Capped'].shape[0])\n",
    "print(\"Inexperienced Players:   \",dc[dc['Capped_or_Uncapped']=='Uncapped'].shape[0])"
   ]
  },
  {
   "cell_type": "markdown",
   "id": "e22dccf2",
   "metadata": {},
   "source": [
    "<h3>No. of players bought at</h3>"
   ]
  },
  {
   "cell_type": "code",
   "execution_count": 20,
   "id": "eed4053e",
   "metadata": {},
   "outputs": [
    {
     "name": "stdout",
     "output_type": "stream",
     "text": [
      "Base Price:            7\n",
      "More than Base Price:  1\n"
     ]
    }
   ],
   "source": [
    "print(\"Base Price:           \",dc[dc['Price_Paid']==dc['Base_Price']].shape[0])\n",
    "print(\"More than Base Price: \",dc[dc['Price_Paid']!=dc['Base_Price']].shape[0])"
   ]
  },
  {
   "cell_type": "code",
   "execution_count": null,
   "id": "d75eea24",
   "metadata": {},
   "outputs": [],
   "source": []
  }
 ],
 "metadata": {
  "kernelspec": {
   "display_name": "Python 3.9.5 64-bit",
   "language": "python",
   "name": "python3"
  },
  "language_info": {
   "codemirror_mode": {
    "name": "ipython",
    "version": 3
   },
   "file_extension": ".py",
   "mimetype": "text/x-python",
   "name": "python",
   "nbconvert_exporter": "python",
   "pygments_lexer": "ipython3",
   "version": "3.9.5"
  },
  "vscode": {
   "interpreter": {
    "hash": "cf92aa13fedf815d5c8dd192b8d835913fde3e8bc926b2a0ad6cc74ef2ba3ca2"
   }
  }
 },
 "nbformat": 4,
 "nbformat_minor": 5
}
