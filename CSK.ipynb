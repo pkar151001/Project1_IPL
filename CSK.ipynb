{
 "cells": [
  {
   "cell_type": "markdown",
   "id": "d653681f",
   "metadata": {},
   "source": [
    "<h1 style=\"text-align:center;\">Chennai Super Kings (CSK)</h1>"
   ]
  },
  {
   "cell_type": "markdown",
   "id": "40c6fd12",
   "metadata": {},
   "source": [
    "<p style=\"text-align:center;\"><img src=\"https://scontent.fmaa1-1.fna.fbcdn.net/v/t1.6435-9/119882448_3679003802117988_7925031098192498703_n.jpg?_nc_cat=111&ccb=1-7&_nc_sid=e3f864&_nc_ohc=y8hw24ZnHXsAX9yhr4L&_nc_oc=AQlfQ9G-BtQ_MkoK4GMX38HLlprb9AwYdAAlA91wXDISlFZ-YmRIptVt2GeFMeFtj6s&_nc_ht=scontent.fmaa1-1.fna&oh=00_AT8RbqAXlxqQrp6QnsG9ZHZjdfl-PTC0iALKehboLk86fw&oe=631DB1D0\" ></p> "
   ]
  },
  {
   "cell_type": "code",
   "execution_count": 2,
   "id": "800768e9",
   "metadata": {},
   "outputs": [],
   "source": [
    "import pandas as pd\n",
    "import numpy as np\n",
    "import matplotlib.pyplot as plt\n",
    "\n",
    "data=pd.read_csv(\"./PROJECT_IPL_1_Edited.csv\")\n",
    "data.rename(columns={'Player Name':'Player_Name','Base Price (in Lakhs Rupees)':'Base_Price','Price Paid (in Lakhs Rupees)':'Price_Paid','Status':'Status','Bought by':'Bought_by','Previous IPL Teams':'Previous_IPL_Teams','Country':'Country','Role':'Role','Batting Style':'Batting_Style','Bowling Style':'Bowling_Style','Batting Order':'Batting_Order','Capped or Uncapped at Internationals (during Auction)':'Capped_or_Uncapped'},inplace='True')\n",
    "data.loc[data[\"Role\"] == \"Fast Bowler\", \"Role\"] = \"Seam Bowler\"\n"
   ]
  },
  {
   "cell_type": "markdown",
   "id": "c36effd2",
   "metadata": {},
   "source": [
    "<h2 style=\"text-align:center;\"> Listing out players bought by CSK </h2>"
   ]
  },
  {
   "cell_type": "code",
   "execution_count": 3,
   "id": "ee5481c4",
   "metadata": {},
   "outputs": [
    {
     "data": {
      "text/html": [
       "<div>\n",
       "<style scoped>\n",
       "    .dataframe tbody tr th:only-of-type {\n",
       "        vertical-align: middle;\n",
       "    }\n",
       "\n",
       "    .dataframe tbody tr th {\n",
       "        vertical-align: top;\n",
       "    }\n",
       "\n",
       "    .dataframe thead th {\n",
       "        text-align: right;\n",
       "    }\n",
       "</style>\n",
       "<table border=\"1\" class=\"dataframe\">\n",
       "  <thead>\n",
       "    <tr style=\"text-align: right;\">\n",
       "      <th></th>\n",
       "      <th>Player_Name</th>\n",
       "      <th>Base_Price</th>\n",
       "      <th>Price_Paid</th>\n",
       "      <th>Status</th>\n",
       "      <th>Bought_by</th>\n",
       "      <th>Previous_IPL_Teams</th>\n",
       "      <th>Country</th>\n",
       "      <th>Role</th>\n",
       "      <th>Batting_Style</th>\n",
       "      <th>Bowling_Style</th>\n",
       "      <th>Batting_Order</th>\n",
       "      <th>Capped_or_Uncapped</th>\n",
       "    </tr>\n",
       "  </thead>\n",
       "  <tbody>\n",
       "    <tr>\n",
       "      <th>4</th>\n",
       "      <td>Bhagath Varma</td>\n",
       "      <td>20</td>\n",
       "      <td>20</td>\n",
       "      <td>Sold</td>\n",
       "      <td>CSK</td>\n",
       "      <td>NaN</td>\n",
       "      <td>India</td>\n",
       "      <td>Bowling All Rounder</td>\n",
       "      <td>Right</td>\n",
       "      <td>Right Offbreak</td>\n",
       "      <td>Lower</td>\n",
       "      <td>Uncapped</td>\n",
       "    </tr>\n",
       "    <tr>\n",
       "      <th>5</th>\n",
       "      <td>C Hari Nishanth</td>\n",
       "      <td>20</td>\n",
       "      <td>20</td>\n",
       "      <td>Sold</td>\n",
       "      <td>CSK</td>\n",
       "      <td>NaN</td>\n",
       "      <td>India</td>\n",
       "      <td>Batsman</td>\n",
       "      <td>Left</td>\n",
       "      <td>NaN</td>\n",
       "      <td>Top</td>\n",
       "      <td>Uncapped</td>\n",
       "    </tr>\n",
       "    <tr>\n",
       "      <th>7</th>\n",
       "      <td>Cheteshwar Pujara</td>\n",
       "      <td>50</td>\n",
       "      <td>50</td>\n",
       "      <td>Sold</td>\n",
       "      <td>CSK</td>\n",
       "      <td>RCB, KKR, PBKS</td>\n",
       "      <td>India</td>\n",
       "      <td>Batsman</td>\n",
       "      <td>Right</td>\n",
       "      <td>NaN</td>\n",
       "      <td>Top</td>\n",
       "      <td>Capped</td>\n",
       "    </tr>\n",
       "    <tr>\n",
       "      <th>14</th>\n",
       "      <td>Harishankar Reddy</td>\n",
       "      <td>20</td>\n",
       "      <td>20</td>\n",
       "      <td>Sold</td>\n",
       "      <td>CSK</td>\n",
       "      <td>NaN</td>\n",
       "      <td>India</td>\n",
       "      <td>Seam Bowler</td>\n",
       "      <td>NaN</td>\n",
       "      <td>Right Medium</td>\n",
       "      <td>NaN</td>\n",
       "      <td>Uncapped</td>\n",
       "    </tr>\n",
       "    <tr>\n",
       "      <th>22</th>\n",
       "      <td>Krishnappa Gowtham</td>\n",
       "      <td>20</td>\n",
       "      <td>925</td>\n",
       "      <td>Sold</td>\n",
       "      <td>CSK</td>\n",
       "      <td>MI, RR, PBKS</td>\n",
       "      <td>India</td>\n",
       "      <td>Bowling All Rounder</td>\n",
       "      <td>Right</td>\n",
       "      <td>Right Offbreak</td>\n",
       "      <td>Lower</td>\n",
       "      <td>Uncapped</td>\n",
       "    </tr>\n",
       "    <tr>\n",
       "      <th>29</th>\n",
       "      <td>Moeen Ali</td>\n",
       "      <td>200</td>\n",
       "      <td>700</td>\n",
       "      <td>Sold</td>\n",
       "      <td>CSK</td>\n",
       "      <td>RCB</td>\n",
       "      <td>England</td>\n",
       "      <td>Batting All Rounder</td>\n",
       "      <td>Left</td>\n",
       "      <td>Right Offbreak</td>\n",
       "      <td>Top</td>\n",
       "      <td>Capped</td>\n",
       "    </tr>\n",
       "    <tr>\n",
       "      <th>59</th>\n",
       "      <td>Robin Uthappa</td>\n",
       "      <td>0</td>\n",
       "      <td>300</td>\n",
       "      <td>Transfer</td>\n",
       "      <td>CSK</td>\n",
       "      <td>MI, RCB, PWI, KKR, RR</td>\n",
       "      <td>India</td>\n",
       "      <td>Batsman</td>\n",
       "      <td>Right</td>\n",
       "      <td>NaN</td>\n",
       "      <td>Top</td>\n",
       "      <td>Capped</td>\n",
       "    </tr>\n",
       "  </tbody>\n",
       "</table>\n",
       "</div>"
      ],
      "text/plain": [
       "           Player_Name  Base_Price  Price_Paid    Status Bought_by  \\\n",
       "4        Bhagath Varma          20          20      Sold       CSK   \n",
       "5      C Hari Nishanth          20          20      Sold       CSK   \n",
       "7    Cheteshwar Pujara          50          50      Sold       CSK   \n",
       "14   Harishankar Reddy          20          20      Sold       CSK   \n",
       "22  Krishnappa Gowtham          20         925      Sold       CSK   \n",
       "29           Moeen Ali         200         700      Sold       CSK   \n",
       "59       Robin Uthappa           0         300  Transfer       CSK   \n",
       "\n",
       "       Previous_IPL_Teams  Country                 Role Batting_Style  \\\n",
       "4                     NaN    India  Bowling All Rounder        Right    \n",
       "5                     NaN    India              Batsman          Left   \n",
       "7          RCB, KKR, PBKS    India              Batsman        Right    \n",
       "14                    NaN    India          Seam Bowler           NaN   \n",
       "22           MI, RR, PBKS    India  Bowling All Rounder        Right    \n",
       "29                    RCB  England  Batting All Rounder          Left   \n",
       "59  MI, RCB, PWI, KKR, RR    India              Batsman        Right    \n",
       "\n",
       "     Bowling_Style Batting_Order Capped_or_Uncapped  \n",
       "4   Right Offbreak        Lower            Uncapped  \n",
       "5              NaN          Top            Uncapped  \n",
       "7              NaN           Top             Capped  \n",
       "14    Right Medium           NaN           Uncapped  \n",
       "22  Right Offbreak        Lower            Uncapped  \n",
       "29  Right Offbreak           Top             Capped  \n",
       "59             NaN           Top             Capped  "
      ]
     },
     "execution_count": 3,
     "metadata": {},
     "output_type": "execute_result"
    }
   ],
   "source": [
    "csk=data.groupby('Bought_by').get_group('CSK')\n",
    "csk"
   ]
  },
  {
   "cell_type": "markdown",
   "id": "44881349",
   "metadata": {},
   "source": [
    "<h2 style=\"text-align:center;\"> Visualization of Price Paid for players bought by CSK </h2>"
   ]
  },
  {
   "cell_type": "code",
   "execution_count": 4,
   "id": "62024970",
   "metadata": {},
   "outputs": [
    {
     "data": {
      "image/png": "[encoded data removed]",
      "text/plain": [
       "<Figure size 432x288 with 1 Axes>"
      ]
     },
     "metadata": {
      "needs_background": "light"
     },
     "output_type": "display_data"
    }
   ],
   "source": [
    "x=list(csk['Player_Name']);\n",
    "y=list(csk['Price_Paid']);\n",
    "plt.barh(x,y);"
   ]
  },
  {
   "cell_type": "markdown",
   "id": "0a538eab",
   "metadata": {},
   "source": [
    "<h2 style=\"text-align:center;\">List of Batsmen bought by CSK</h2>"
   ]
  },
  {
   "cell_type": "code",
   "execution_count": 5,
   "id": "d17ac871",
   "metadata": {},
   "outputs": [
    {
     "data": {
      "text/html": [
       "<div>\n",
       "<style scoped>\n",
       "    .dataframe tbody tr th:only-of-type {\n",
       "        vertical-align: middle;\n",
       "    }\n",
       "\n",
       "    .dataframe tbody tr th {\n",
       "        vertical-align: top;\n",
       "    }\n",
       "\n",
       "    .dataframe thead th {\n",
       "        text-align: right;\n",
       "    }\n",
       "</style>\n",
       "<table border=\"1\" class=\"dataframe\">\n",
       "  <thead>\n",
       "    <tr style=\"text-align: right;\">\n",
       "      <th></th>\n",
       "      <th>Player_Name</th>\n",
       "      <th>Base_Price</th>\n",
       "      <th>Price_Paid</th>\n",
       "      <th>Status</th>\n",
       "      <th>Bought_by</th>\n",
       "      <th>Previous_IPL_Teams</th>\n",
       "      <th>Country</th>\n",
       "      <th>Role</th>\n",
       "      <th>Batting_Style</th>\n",
       "      <th>Bowling_Style</th>\n",
       "      <th>Batting_Order</th>\n",
       "      <th>Capped_or_Uncapped</th>\n",
       "    </tr>\n",
       "  </thead>\n",
       "  <tbody>\n",
       "    <tr>\n",
       "      <th>5</th>\n",
       "      <td>C Hari Nishanth</td>\n",
       "      <td>20</td>\n",
       "      <td>20</td>\n",
       "      <td>Sold</td>\n",
       "      <td>CSK</td>\n",
       "      <td>NaN</td>\n",
       "      <td>India</td>\n",
       "      <td>Batsman</td>\n",
       "      <td>Left</td>\n",
       "      <td>NaN</td>\n",
       "      <td>Top</td>\n",
       "      <td>Uncapped</td>\n",
       "    </tr>\n",
       "    <tr>\n",
       "      <th>7</th>\n",
       "      <td>Cheteshwar Pujara</td>\n",
       "      <td>50</td>\n",
       "      <td>50</td>\n",
       "      <td>Sold</td>\n",
       "      <td>CSK</td>\n",
       "      <td>RCB, KKR, PBKS</td>\n",
       "      <td>India</td>\n",
       "      <td>Batsman</td>\n",
       "      <td>Right</td>\n",
       "      <td>NaN</td>\n",
       "      <td>Top</td>\n",
       "      <td>Capped</td>\n",
       "    </tr>\n",
       "    <tr>\n",
       "      <th>59</th>\n",
       "      <td>Robin Uthappa</td>\n",
       "      <td>0</td>\n",
       "      <td>300</td>\n",
       "      <td>Transfer</td>\n",
       "      <td>CSK</td>\n",
       "      <td>MI, RCB, PWI, KKR, RR</td>\n",
       "      <td>India</td>\n",
       "      <td>Batsman</td>\n",
       "      <td>Right</td>\n",
       "      <td>NaN</td>\n",
       "      <td>Top</td>\n",
       "      <td>Capped</td>\n",
       "    </tr>\n",
       "  </tbody>\n",
       "</table>\n",
       "</div>"
      ],
      "text/plain": [
       "          Player_Name  Base_Price  Price_Paid    Status Bought_by  \\\n",
       "5     C Hari Nishanth          20          20      Sold       CSK   \n",
       "7   Cheteshwar Pujara          50          50      Sold       CSK   \n",
       "59      Robin Uthappa           0         300  Transfer       CSK   \n",
       "\n",
       "       Previous_IPL_Teams Country     Role Batting_Style Bowling_Style  \\\n",
       "5                     NaN   India  Batsman          Left           NaN   \n",
       "7          RCB, KKR, PBKS   India  Batsman        Right            NaN   \n",
       "59  MI, RCB, PWI, KKR, RR   India  Batsman        Right            NaN   \n",
       "\n",
       "   Batting_Order Capped_or_Uncapped  \n",
       "5           Top            Uncapped  \n",
       "7            Top             Capped  \n",
       "59           Top             Capped  "
      ]
     },
     "execution_count": 5,
     "metadata": {},
     "output_type": "execute_result"
    }
   ],
   "source": [
    "csk_bats=csk[csk['Role'].str.contains('Batsman')]\n",
    "csk_bats"
   ]
  },
  {
   "cell_type": "markdown",
   "id": "9366879b",
   "metadata": {},
   "source": [
    "<h2 style=\"text-align:center;\">List of Bowlers bought by CSK</h2>"
   ]
  },
  {
   "cell_type": "code",
   "execution_count": 6,
   "id": "6efe6f5b",
   "metadata": {},
   "outputs": [
    {
     "data": {
      "text/html": [
       "<div>\n",
       "<style scoped>\n",
       "    .dataframe tbody tr th:only-of-type {\n",
       "        vertical-align: middle;\n",
       "    }\n",
       "\n",
       "    .dataframe tbody tr th {\n",
       "        vertical-align: top;\n",
       "    }\n",
       "\n",
       "    .dataframe thead th {\n",
       "        text-align: right;\n",
       "    }\n",
       "</style>\n",
       "<table border=\"1\" class=\"dataframe\">\n",
       "  <thead>\n",
       "    <tr style=\"text-align: right;\">\n",
       "      <th></th>\n",
       "      <th>Player_Name</th>\n",
       "      <th>Base_Price</th>\n",
       "      <th>Price_Paid</th>\n",
       "      <th>Status</th>\n",
       "      <th>Bought_by</th>\n",
       "      <th>Previous_IPL_Teams</th>\n",
       "      <th>Country</th>\n",
       "      <th>Role</th>\n",
       "      <th>Batting_Style</th>\n",
       "      <th>Bowling_Style</th>\n",
       "      <th>Batting_Order</th>\n",
       "      <th>Capped_or_Uncapped</th>\n",
       "    </tr>\n",
       "  </thead>\n",
       "  <tbody>\n",
       "    <tr>\n",
       "      <th>14</th>\n",
       "      <td>Harishankar Reddy</td>\n",
       "      <td>20</td>\n",
       "      <td>20</td>\n",
       "      <td>Sold</td>\n",
       "      <td>CSK</td>\n",
       "      <td>NaN</td>\n",
       "      <td>India</td>\n",
       "      <td>Seam Bowler</td>\n",
       "      <td>NaN</td>\n",
       "      <td>Right Medium</td>\n",
       "      <td>NaN</td>\n",
       "      <td>Uncapped</td>\n",
       "    </tr>\n",
       "  </tbody>\n",
       "</table>\n",
       "</div>"
      ],
      "text/plain": [
       "          Player_Name  Base_Price  Price_Paid Status Bought_by  \\\n",
       "14  Harishankar Reddy          20          20   Sold       CSK   \n",
       "\n",
       "   Previous_IPL_Teams Country         Role Batting_Style Bowling_Style  \\\n",
       "14                NaN   India  Seam Bowler           NaN  Right Medium   \n",
       "\n",
       "   Batting_Order Capped_or_Uncapped  \n",
       "14           NaN           Uncapped  "
      ]
     },
     "execution_count": 6,
     "metadata": {},
     "output_type": "execute_result"
    }
   ],
   "source": [
    "csk_bowl=csk[csk['Role'].str.contains('Bowler')]\n",
    "csk_bowl"
   ]
  },
  {
   "cell_type": "markdown",
   "id": "1bc0ff74",
   "metadata": {},
   "source": [
    "<h2 style=\"text-align:center;\">List of All Rounders bought by CSK</h2>"
   ]
  },
  {
   "cell_type": "code",
   "execution_count": 7,
   "id": "46c43f92",
   "metadata": {},
   "outputs": [
    {
     "data": {
      "text/html": [
       "<div>\n",
       "<style scoped>\n",
       "    .dataframe tbody tr th:only-of-type {\n",
       "        vertical-align: middle;\n",
       "    }\n",
       "\n",
       "    .dataframe tbody tr th {\n",
       "        vertical-align: top;\n",
       "    }\n",
       "\n",
       "    .dataframe thead th {\n",
       "        text-align: right;\n",
       "    }\n",
       "</style>\n",
       "<table border=\"1\" class=\"dataframe\">\n",
       "  <thead>\n",
       "    <tr style=\"text-align: right;\">\n",
       "      <th></th>\n",
       "      <th>Player_Name</th>\n",
       "      <th>Base_Price</th>\n",
       "      <th>Price_Paid</th>\n",
       "      <th>Status</th>\n",
       "      <th>Bought_by</th>\n",
       "      <th>Previous_IPL_Teams</th>\n",
       "      <th>Country</th>\n",
       "      <th>Role</th>\n",
       "      <th>Batting_Style</th>\n",
       "      <th>Bowling_Style</th>\n",
       "      <th>Batting_Order</th>\n",
       "      <th>Capped_or_Uncapped</th>\n",
       "    </tr>\n",
       "  </thead>\n",
       "  <tbody>\n",
       "    <tr>\n",
       "      <th>4</th>\n",
       "      <td>Bhagath Varma</td>\n",
       "      <td>20</td>\n",
       "      <td>20</td>\n",
       "      <td>Sold</td>\n",
       "      <td>CSK</td>\n",
       "      <td>NaN</td>\n",
       "      <td>India</td>\n",
       "      <td>Bowling All Rounder</td>\n",
       "      <td>Right</td>\n",
       "      <td>Right Offbreak</td>\n",
       "      <td>Lower</td>\n",
       "      <td>Uncapped</td>\n",
       "    </tr>\n",
       "    <tr>\n",
       "      <th>22</th>\n",
       "      <td>Krishnappa Gowtham</td>\n",
       "      <td>20</td>\n",
       "      <td>925</td>\n",
       "      <td>Sold</td>\n",
       "      <td>CSK</td>\n",
       "      <td>MI, RR, PBKS</td>\n",
       "      <td>India</td>\n",
       "      <td>Bowling All Rounder</td>\n",
       "      <td>Right</td>\n",
       "      <td>Right Offbreak</td>\n",
       "      <td>Lower</td>\n",
       "      <td>Uncapped</td>\n",
       "    </tr>\n",
       "    <tr>\n",
       "      <th>29</th>\n",
       "      <td>Moeen Ali</td>\n",
       "      <td>200</td>\n",
       "      <td>700</td>\n",
       "      <td>Sold</td>\n",
       "      <td>CSK</td>\n",
       "      <td>RCB</td>\n",
       "      <td>England</td>\n",
       "      <td>Batting All Rounder</td>\n",
       "      <td>Left</td>\n",
       "      <td>Right Offbreak</td>\n",
       "      <td>Top</td>\n",
       "      <td>Capped</td>\n",
       "    </tr>\n",
       "  </tbody>\n",
       "</table>\n",
       "</div>"
      ],
      "text/plain": [
       "           Player_Name  Base_Price  Price_Paid Status Bought_by  \\\n",
       "4        Bhagath Varma          20          20   Sold       CSK   \n",
       "22  Krishnappa Gowtham          20         925   Sold       CSK   \n",
       "29           Moeen Ali         200         700   Sold       CSK   \n",
       "\n",
       "   Previous_IPL_Teams  Country                 Role Batting_Style  \\\n",
       "4                 NaN    India  Bowling All Rounder        Right    \n",
       "22       MI, RR, PBKS    India  Bowling All Rounder        Right    \n",
       "29                RCB  England  Batting All Rounder          Left   \n",
       "\n",
       "     Bowling_Style Batting_Order Capped_or_Uncapped  \n",
       "4   Right Offbreak        Lower            Uncapped  \n",
       "22  Right Offbreak        Lower            Uncapped  \n",
       "29  Right Offbreak           Top             Capped  "
      ]
     },
     "execution_count": 7,
     "metadata": {},
     "output_type": "execute_result"
    }
   ],
   "source": [
    "csk_all=csk[csk['Role'].str.contains('All Rounder')]\n",
    "csk_all"
   ]
  },
  {
   "cell_type": "markdown",
   "id": "b628eaff",
   "metadata": {},
   "source": [
    "<h2 style=\"text-align:center;\">Analysis - Chennai Super Kings </h2>"
   ]
  },
  {
   "cell_type": "markdown",
   "id": "5ad1910e",
   "metadata": {},
   "source": [
    "<h3>Total amount spent during auction (in crores): </h3>"
   ]
  },
  {
   "cell_type": "code",
   "execution_count": 8,
   "id": "2f253533",
   "metadata": {},
   "outputs": [
    {
     "data": {
      "text/plain": [
       "20.35"
      ]
     },
     "execution_count": 8,
     "metadata": {},
     "output_type": "execute_result"
    }
   ],
   "source": [
    "csk['Price_Paid'].sum()/100"
   ]
  },
  {
   "cell_type": "markdown",
   "id": "394a3138",
   "metadata": {},
   "source": [
    "<h3>Highest bid by Chennai Super Kings: </h3>"
   ]
  },
  {
   "cell_type": "code",
   "execution_count": 9,
   "id": "1db38f9f",
   "metadata": {},
   "outputs": [
    {
     "data": {
      "text/html": [
       "<div>\n",
       "<style scoped>\n",
       "    .dataframe tbody tr th:only-of-type {\n",
       "        vertical-align: middle;\n",
       "    }\n",
       "\n",
       "    .dataframe tbody tr th {\n",
       "        vertical-align: top;\n",
       "    }\n",
       "\n",
       "    .dataframe thead th {\n",
       "        text-align: right;\n",
       "    }\n",
       "</style>\n",
       "<table border=\"1\" class=\"dataframe\">\n",
       "  <thead>\n",
       "    <tr style=\"text-align: right;\">\n",
       "      <th></th>\n",
       "      <th>Player_Name</th>\n",
       "      <th>Base_Price</th>\n",
       "      <th>Price_Paid</th>\n",
       "      <th>Status</th>\n",
       "      <th>Bought_by</th>\n",
       "      <th>Previous_IPL_Teams</th>\n",
       "      <th>Country</th>\n",
       "      <th>Role</th>\n",
       "      <th>Batting_Style</th>\n",
       "      <th>Bowling_Style</th>\n",
       "      <th>Batting_Order</th>\n",
       "      <th>Capped_or_Uncapped</th>\n",
       "    </tr>\n",
       "  </thead>\n",
       "  <tbody>\n",
       "    <tr>\n",
       "      <th>22</th>\n",
       "      <td>Krishnappa Gowtham</td>\n",
       "      <td>20</td>\n",
       "      <td>925</td>\n",
       "      <td>Sold</td>\n",
       "      <td>CSK</td>\n",
       "      <td>MI, RR, PBKS</td>\n",
       "      <td>India</td>\n",
       "      <td>Bowling All Rounder</td>\n",
       "      <td>Right</td>\n",
       "      <td>Right Offbreak</td>\n",
       "      <td>Lower</td>\n",
       "      <td>Uncapped</td>\n",
       "    </tr>\n",
       "  </tbody>\n",
       "</table>\n",
       "</div>"
      ],
      "text/plain": [
       "           Player_Name  Base_Price  Price_Paid Status Bought_by  \\\n",
       "22  Krishnappa Gowtham          20         925   Sold       CSK   \n",
       "\n",
       "   Previous_IPL_Teams Country                 Role Batting_Style  \\\n",
       "22       MI, RR, PBKS   India  Bowling All Rounder        Right    \n",
       "\n",
       "     Bowling_Style Batting_Order Capped_or_Uncapped  \n",
       "22  Right Offbreak        Lower            Uncapped  "
      ]
     },
     "execution_count": 9,
     "metadata": {},
     "output_type": "execute_result"
    }
   ],
   "source": [
    "csk[csk['Price_Paid']==csk['Price_Paid'].max()]"
   ]
  },
  {
   "cell_type": "markdown",
   "id": "739cdcc3",
   "metadata": {},
   "source": [
    "<h3>Highest Indian bid by Chennai Super Kings: </h3>"
   ]
  },
  {
   "cell_type": "code",
   "execution_count": 10,
   "id": "b1c761b6",
   "metadata": {},
   "outputs": [
    {
     "data": {
      "text/html": [
       "<div>\n",
       "<style scoped>\n",
       "    .dataframe tbody tr th:only-of-type {\n",
       "        vertical-align: middle;\n",
       "    }\n",
       "\n",
       "    .dataframe tbody tr th {\n",
       "        vertical-align: top;\n",
       "    }\n",
       "\n",
       "    .dataframe thead th {\n",
       "        text-align: right;\n",
       "    }\n",
       "</style>\n",
       "<table border=\"1\" class=\"dataframe\">\n",
       "  <thead>\n",
       "    <tr style=\"text-align: right;\">\n",
       "      <th></th>\n",
       "      <th>Player_Name</th>\n",
       "      <th>Base_Price</th>\n",
       "      <th>Price_Paid</th>\n",
       "      <th>Status</th>\n",
       "      <th>Bought_by</th>\n",
       "      <th>Previous_IPL_Teams</th>\n",
       "      <th>Country</th>\n",
       "      <th>Role</th>\n",
       "      <th>Batting_Style</th>\n",
       "      <th>Bowling_Style</th>\n",
       "      <th>Batting_Order</th>\n",
       "      <th>Capped_or_Uncapped</th>\n",
       "    </tr>\n",
       "  </thead>\n",
       "  <tbody>\n",
       "    <tr>\n",
       "      <th>22</th>\n",
       "      <td>Krishnappa Gowtham</td>\n",
       "      <td>20</td>\n",
       "      <td>925</td>\n",
       "      <td>Sold</td>\n",
       "      <td>CSK</td>\n",
       "      <td>MI, RR, PBKS</td>\n",
       "      <td>India</td>\n",
       "      <td>Bowling All Rounder</td>\n",
       "      <td>Right</td>\n",
       "      <td>Right Offbreak</td>\n",
       "      <td>Lower</td>\n",
       "      <td>Uncapped</td>\n",
       "    </tr>\n",
       "  </tbody>\n",
       "</table>\n",
       "</div>"
      ],
      "text/plain": [
       "           Player_Name  Base_Price  Price_Paid Status Bought_by  \\\n",
       "22  Krishnappa Gowtham          20         925   Sold       CSK   \n",
       "\n",
       "   Previous_IPL_Teams Country                 Role Batting_Style  \\\n",
       "22       MI, RR, PBKS   India  Bowling All Rounder        Right    \n",
       "\n",
       "     Bowling_Style Batting_Order Capped_or_Uncapped  \n",
       "22  Right Offbreak        Lower            Uncapped  "
      ]
     },
     "execution_count": 10,
     "metadata": {},
     "output_type": "execute_result"
    }
   ],
   "source": [
    "csk[csk['Price_Paid']==csk[csk['Country']=='India']['Price_Paid'].max()]"
   ]
  },
  {
   "cell_type": "markdown",
   "id": "cf344806",
   "metadata": {},
   "source": [
    "<h3>Highest Foreign bid by Chennai Super Kings: </h3>"
   ]
  },
  {
   "cell_type": "code",
   "execution_count": 11,
   "id": "98e25587",
   "metadata": {},
   "outputs": [
    {
     "data": {
      "text/html": [
       "<div>\n",
       "<style scoped>\n",
       "    .dataframe tbody tr th:only-of-type {\n",
       "        vertical-align: middle;\n",
       "    }\n",
       "\n",
       "    .dataframe tbody tr th {\n",
       "        vertical-align: top;\n",
       "    }\n",
       "\n",
       "    .dataframe thead th {\n",
       "        text-align: right;\n",
       "    }\n",
       "</style>\n",
       "<table border=\"1\" class=\"dataframe\">\n",
       "  <thead>\n",
       "    <tr style=\"text-align: right;\">\n",
       "      <th></th>\n",
       "      <th>Player_Name</th>\n",
       "      <th>Base_Price</th>\n",
       "      <th>Price_Paid</th>\n",
       "      <th>Status</th>\n",
       "      <th>Bought_by</th>\n",
       "      <th>Previous_IPL_Teams</th>\n",
       "      <th>Country</th>\n",
       "      <th>Role</th>\n",
       "      <th>Batting_Style</th>\n",
       "      <th>Bowling_Style</th>\n",
       "      <th>Batting_Order</th>\n",
       "      <th>Capped_or_Uncapped</th>\n",
       "    </tr>\n",
       "  </thead>\n",
       "  <tbody>\n",
       "    <tr>\n",
       "      <th>29</th>\n",
       "      <td>Moeen Ali</td>\n",
       "      <td>200</td>\n",
       "      <td>700</td>\n",
       "      <td>Sold</td>\n",
       "      <td>CSK</td>\n",
       "      <td>RCB</td>\n",
       "      <td>England</td>\n",
       "      <td>Batting All Rounder</td>\n",
       "      <td>Left</td>\n",
       "      <td>Right Offbreak</td>\n",
       "      <td>Top</td>\n",
       "      <td>Capped</td>\n",
       "    </tr>\n",
       "  </tbody>\n",
       "</table>\n",
       "</div>"
      ],
      "text/plain": [
       "   Player_Name  Base_Price  Price_Paid Status Bought_by Previous_IPL_Teams  \\\n",
       "29   Moeen Ali         200         700   Sold       CSK                RCB   \n",
       "\n",
       "    Country                 Role Batting_Style   Bowling_Style Batting_Order  \\\n",
       "29  England  Batting All Rounder          Left  Right Offbreak           Top   \n",
       "\n",
       "   Capped_or_Uncapped  \n",
       "29             Capped  "
      ]
     },
     "execution_count": 11,
     "metadata": {},
     "output_type": "execute_result"
    }
   ],
   "source": [
    "csk[csk['Price_Paid']==csk[csk['Country']!='India']['Price_Paid'].max()]"
   ]
  },
  {
   "cell_type": "markdown",
   "id": "82463501",
   "metadata": {},
   "source": [
    "<h3>Amount Spent on each Department (in crores): </h3>"
   ]
  },
  {
   "cell_type": "code",
   "execution_count": 12,
   "id": "fe0a839d",
   "metadata": {},
   "outputs": [
    {
     "name": "stdout",
     "output_type": "stream",
     "text": [
      "Role\n",
      "Batsman                3.70\n",
      "Batting All Rounder    7.00\n",
      "Bowling All Rounder    9.45\n",
      "Seam Bowler            0.20\n"
     ]
    }
   ],
   "source": [
    "print((csk.groupby('Role')['Price_Paid'].sum()/100).to_string())"
   ]
  },
  {
   "cell_type": "markdown",
   "id": "d8190db8",
   "metadata": {},
   "source": [
    "<h3>Highest Batsman bid by Chennai Super Kings: </h3>"
   ]
  },
  {
   "cell_type": "code",
   "execution_count": 13,
   "id": "0363d40f",
   "metadata": {},
   "outputs": [
    {
     "data": {
      "text/html": [
       "<div>\n",
       "<style scoped>\n",
       "    .dataframe tbody tr th:only-of-type {\n",
       "        vertical-align: middle;\n",
       "    }\n",
       "\n",
       "    .dataframe tbody tr th {\n",
       "        vertical-align: top;\n",
       "    }\n",
       "\n",
       "    .dataframe thead th {\n",
       "        text-align: right;\n",
       "    }\n",
       "</style>\n",
       "<table border=\"1\" class=\"dataframe\">\n",
       "  <thead>\n",
       "    <tr style=\"text-align: right;\">\n",
       "      <th></th>\n",
       "      <th>Player_Name</th>\n",
       "      <th>Base_Price</th>\n",
       "      <th>Price_Paid</th>\n",
       "      <th>Status</th>\n",
       "      <th>Bought_by</th>\n",
       "      <th>Previous_IPL_Teams</th>\n",
       "      <th>Country</th>\n",
       "      <th>Role</th>\n",
       "      <th>Batting_Style</th>\n",
       "      <th>Bowling_Style</th>\n",
       "      <th>Batting_Order</th>\n",
       "      <th>Capped_or_Uncapped</th>\n",
       "    </tr>\n",
       "  </thead>\n",
       "  <tbody>\n",
       "    <tr>\n",
       "      <th>59</th>\n",
       "      <td>Robin Uthappa</td>\n",
       "      <td>0</td>\n",
       "      <td>300</td>\n",
       "      <td>Transfer</td>\n",
       "      <td>CSK</td>\n",
       "      <td>MI, RCB, PWI, KKR, RR</td>\n",
       "      <td>India</td>\n",
       "      <td>Batsman</td>\n",
       "      <td>Right</td>\n",
       "      <td>NaN</td>\n",
       "      <td>Top</td>\n",
       "      <td>Capped</td>\n",
       "    </tr>\n",
       "  </tbody>\n",
       "</table>\n",
       "</div>"
      ],
      "text/plain": [
       "      Player_Name  Base_Price  Price_Paid    Status Bought_by  \\\n",
       "59  Robin Uthappa           0         300  Transfer       CSK   \n",
       "\n",
       "       Previous_IPL_Teams Country     Role Batting_Style Bowling_Style  \\\n",
       "59  MI, RCB, PWI, KKR, RR   India  Batsman        Right            NaN   \n",
       "\n",
       "   Batting_Order Capped_or_Uncapped  \n",
       "59           Top             Capped  "
      ]
     },
     "execution_count": 13,
     "metadata": {},
     "output_type": "execute_result"
    }
   ],
   "source": [
    "csk_bats[csk_bats['Price_Paid']==csk_bats['Price_Paid'].max()]"
   ]
  },
  {
   "cell_type": "markdown",
   "id": "63f06e6a",
   "metadata": {},
   "source": [
    "<h3>Highest Bowler bid by Chennai Super Kings: </h3>"
   ]
  },
  {
   "cell_type": "code",
   "execution_count": 14,
   "id": "e56ea6df",
   "metadata": {},
   "outputs": [
    {
     "data": {
      "text/html": [
       "<div>\n",
       "<style scoped>\n",
       "    .dataframe tbody tr th:only-of-type {\n",
       "        vertical-align: middle;\n",
       "    }\n",
       "\n",
       "    .dataframe tbody tr th {\n",
       "        vertical-align: top;\n",
       "    }\n",
       "\n",
       "    .dataframe thead th {\n",
       "        text-align: right;\n",
       "    }\n",
       "</style>\n",
       "<table border=\"1\" class=\"dataframe\">\n",
       "  <thead>\n",
       "    <tr style=\"text-align: right;\">\n",
       "      <th></th>\n",
       "      <th>Player_Name</th>\n",
       "      <th>Base_Price</th>\n",
       "      <th>Price_Paid</th>\n",
       "      <th>Status</th>\n",
       "      <th>Bought_by</th>\n",
       "      <th>Previous_IPL_Teams</th>\n",
       "      <th>Country</th>\n",
       "      <th>Role</th>\n",
       "      <th>Batting_Style</th>\n",
       "      <th>Bowling_Style</th>\n",
       "      <th>Batting_Order</th>\n",
       "      <th>Capped_or_Uncapped</th>\n",
       "    </tr>\n",
       "  </thead>\n",
       "  <tbody>\n",
       "    <tr>\n",
       "      <th>14</th>\n",
       "      <td>Harishankar Reddy</td>\n",
       "      <td>20</td>\n",
       "      <td>20</td>\n",
       "      <td>Sold</td>\n",
       "      <td>CSK</td>\n",
       "      <td>NaN</td>\n",
       "      <td>India</td>\n",
       "      <td>Seam Bowler</td>\n",
       "      <td>NaN</td>\n",
       "      <td>Right Medium</td>\n",
       "      <td>NaN</td>\n",
       "      <td>Uncapped</td>\n",
       "    </tr>\n",
       "  </tbody>\n",
       "</table>\n",
       "</div>"
      ],
      "text/plain": [
       "          Player_Name  Base_Price  Price_Paid Status Bought_by  \\\n",
       "14  Harishankar Reddy          20          20   Sold       CSK   \n",
       "\n",
       "   Previous_IPL_Teams Country         Role Batting_Style Bowling_Style  \\\n",
       "14                NaN   India  Seam Bowler           NaN  Right Medium   \n",
       "\n",
       "   Batting_Order Capped_or_Uncapped  \n",
       "14           NaN           Uncapped  "
      ]
     },
     "execution_count": 14,
     "metadata": {},
     "output_type": "execute_result"
    }
   ],
   "source": [
    "csk_bowl[csk_bowl['Price_Paid']==csk_bowl['Price_Paid'].max()]"
   ]
  },
  {
   "cell_type": "markdown",
   "id": "2a0b1912",
   "metadata": {},
   "source": [
    "<h3>Highest All Rounder bid by Chennai Super Kings: </h3>"
   ]
  },
  {
   "cell_type": "code",
   "execution_count": 15,
   "id": "ae9dacc6",
   "metadata": {},
   "outputs": [
    {
     "data": {
      "text/html": [
       "<div>\n",
       "<style scoped>\n",
       "    .dataframe tbody tr th:only-of-type {\n",
       "        vertical-align: middle;\n",
       "    }\n",
       "\n",
       "    .dataframe tbody tr th {\n",
       "        vertical-align: top;\n",
       "    }\n",
       "\n",
       "    .dataframe thead th {\n",
       "        text-align: right;\n",
       "    }\n",
       "</style>\n",
       "<table border=\"1\" class=\"dataframe\">\n",
       "  <thead>\n",
       "    <tr style=\"text-align: right;\">\n",
       "      <th></th>\n",
       "      <th>Player_Name</th>\n",
       "      <th>Base_Price</th>\n",
       "      <th>Price_Paid</th>\n",
       "      <th>Status</th>\n",
       "      <th>Bought_by</th>\n",
       "      <th>Previous_IPL_Teams</th>\n",
       "      <th>Country</th>\n",
       "      <th>Role</th>\n",
       "      <th>Batting_Style</th>\n",
       "      <th>Bowling_Style</th>\n",
       "      <th>Batting_Order</th>\n",
       "      <th>Capped_or_Uncapped</th>\n",
       "    </tr>\n",
       "  </thead>\n",
       "  <tbody>\n",
       "    <tr>\n",
       "      <th>22</th>\n",
       "      <td>Krishnappa Gowtham</td>\n",
       "      <td>20</td>\n",
       "      <td>925</td>\n",
       "      <td>Sold</td>\n",
       "      <td>CSK</td>\n",
       "      <td>MI, RR, PBKS</td>\n",
       "      <td>India</td>\n",
       "      <td>Bowling All Rounder</td>\n",
       "      <td>Right</td>\n",
       "      <td>Right Offbreak</td>\n",
       "      <td>Lower</td>\n",
       "      <td>Uncapped</td>\n",
       "    </tr>\n",
       "  </tbody>\n",
       "</table>\n",
       "</div>"
      ],
      "text/plain": [
       "           Player_Name  Base_Price  Price_Paid Status Bought_by  \\\n",
       "22  Krishnappa Gowtham          20         925   Sold       CSK   \n",
       "\n",
       "   Previous_IPL_Teams Country                 Role Batting_Style  \\\n",
       "22       MI, RR, PBKS   India  Bowling All Rounder        Right    \n",
       "\n",
       "     Bowling_Style Batting_Order Capped_or_Uncapped  \n",
       "22  Right Offbreak        Lower            Uncapped  "
      ]
     },
     "execution_count": 15,
     "metadata": {},
     "output_type": "execute_result"
    }
   ],
   "source": [
    "csk_all[csk_all['Price_Paid']==csk_all['Price_Paid'].max()]"
   ]
  },
  {
   "cell_type": "markdown",
   "id": "037cf54a",
   "metadata": {},
   "source": [
    "<h3>Highest Capped bid by Chennai Super Kings: </h3>"
   ]
  },
  {
   "cell_type": "code",
   "execution_count": 16,
   "id": "44fbac2a",
   "metadata": {},
   "outputs": [
    {
     "data": {
      "text/html": [
       "<div>\n",
       "<style scoped>\n",
       "    .dataframe tbody tr th:only-of-type {\n",
       "        vertical-align: middle;\n",
       "    }\n",
       "\n",
       "    .dataframe tbody tr th {\n",
       "        vertical-align: top;\n",
       "    }\n",
       "\n",
       "    .dataframe thead th {\n",
       "        text-align: right;\n",
       "    }\n",
       "</style>\n",
       "<table border=\"1\" class=\"dataframe\">\n",
       "  <thead>\n",
       "    <tr style=\"text-align: right;\">\n",
       "      <th></th>\n",
       "      <th>Player_Name</th>\n",
       "      <th>Base_Price</th>\n",
       "      <th>Price_Paid</th>\n",
       "      <th>Status</th>\n",
       "      <th>Bought_by</th>\n",
       "      <th>Previous_IPL_Teams</th>\n",
       "      <th>Country</th>\n",
       "      <th>Role</th>\n",
       "      <th>Batting_Style</th>\n",
       "      <th>Bowling_Style</th>\n",
       "      <th>Batting_Order</th>\n",
       "      <th>Capped_or_Uncapped</th>\n",
       "    </tr>\n",
       "  </thead>\n",
       "  <tbody>\n",
       "    <tr>\n",
       "      <th>29</th>\n",
       "      <td>Moeen Ali</td>\n",
       "      <td>200</td>\n",
       "      <td>700</td>\n",
       "      <td>Sold</td>\n",
       "      <td>CSK</td>\n",
       "      <td>RCB</td>\n",
       "      <td>England</td>\n",
       "      <td>Batting All Rounder</td>\n",
       "      <td>Left</td>\n",
       "      <td>Right Offbreak</td>\n",
       "      <td>Top</td>\n",
       "      <td>Capped</td>\n",
       "    </tr>\n",
       "  </tbody>\n",
       "</table>\n",
       "</div>"
      ],
      "text/plain": [
       "   Player_Name  Base_Price  Price_Paid Status Bought_by Previous_IPL_Teams  \\\n",
       "29   Moeen Ali         200         700   Sold       CSK                RCB   \n",
       "\n",
       "    Country                 Role Batting_Style   Bowling_Style Batting_Order  \\\n",
       "29  England  Batting All Rounder          Left  Right Offbreak           Top   \n",
       "\n",
       "   Capped_or_Uncapped  \n",
       "29             Capped  "
      ]
     },
     "execution_count": 16,
     "metadata": {},
     "output_type": "execute_result"
    }
   ],
   "source": [
    "csk[csk['Price_Paid']==csk[csk['Capped_or_Uncapped']=='Capped']['Price_Paid'].max()]"
   ]
  },
  {
   "cell_type": "markdown",
   "id": "73e06d9a",
   "metadata": {},
   "source": [
    "<h3>Highest Uncapped bid by Chennai Super Kings: </h3>"
   ]
  },
  {
   "cell_type": "code",
   "execution_count": 17,
   "id": "7cb2d23d",
   "metadata": {},
   "outputs": [
    {
     "data": {
      "text/html": [
       "<div>\n",
       "<style scoped>\n",
       "    .dataframe tbody tr th:only-of-type {\n",
       "        vertical-align: middle;\n",
       "    }\n",
       "\n",
       "    .dataframe tbody tr th {\n",
       "        vertical-align: top;\n",
       "    }\n",
       "\n",
       "    .dataframe thead th {\n",
       "        text-align: right;\n",
       "    }\n",
       "</style>\n",
       "<table border=\"1\" class=\"dataframe\">\n",
       "  <thead>\n",
       "    <tr style=\"text-align: right;\">\n",
       "      <th></th>\n",
       "      <th>Player_Name</th>\n",
       "      <th>Base_Price</th>\n",
       "      <th>Price_Paid</th>\n",
       "      <th>Status</th>\n",
       "      <th>Bought_by</th>\n",
       "      <th>Previous_IPL_Teams</th>\n",
       "      <th>Country</th>\n",
       "      <th>Role</th>\n",
       "      <th>Batting_Style</th>\n",
       "      <th>Bowling_Style</th>\n",
       "      <th>Batting_Order</th>\n",
       "      <th>Capped_or_Uncapped</th>\n",
       "    </tr>\n",
       "  </thead>\n",
       "  <tbody>\n",
       "    <tr>\n",
       "      <th>22</th>\n",
       "      <td>Krishnappa Gowtham</td>\n",
       "      <td>20</td>\n",
       "      <td>925</td>\n",
       "      <td>Sold</td>\n",
       "      <td>CSK</td>\n",
       "      <td>MI, RR, PBKS</td>\n",
       "      <td>India</td>\n",
       "      <td>Bowling All Rounder</td>\n",
       "      <td>Right</td>\n",
       "      <td>Right Offbreak</td>\n",
       "      <td>Lower</td>\n",
       "      <td>Uncapped</td>\n",
       "    </tr>\n",
       "  </tbody>\n",
       "</table>\n",
       "</div>"
      ],
      "text/plain": [
       "           Player_Name  Base_Price  Price_Paid Status Bought_by  \\\n",
       "22  Krishnappa Gowtham          20         925   Sold       CSK   \n",
       "\n",
       "   Previous_IPL_Teams Country                 Role Batting_Style  \\\n",
       "22       MI, RR, PBKS   India  Bowling All Rounder        Right    \n",
       "\n",
       "     Bowling_Style Batting_Order Capped_or_Uncapped  \n",
       "22  Right Offbreak        Lower            Uncapped  "
      ]
     },
     "execution_count": 17,
     "metadata": {},
     "output_type": "execute_result"
    }
   ],
   "source": [
    "csk[csk['Price_Paid']==csk[csk['Capped_or_Uncapped']=='Uncapped']['Price_Paid'].max()]"
   ]
  },
  {
   "cell_type": "markdown",
   "id": "8d886c9a",
   "metadata": {},
   "source": [
    "<h3>Visualization of distribution of Amount spent by CSK on each department: </h3>"
   ]
  },
  {
   "cell_type": "code",
   "execution_count": 18,
   "id": "40ead459",
   "metadata": {},
   "outputs": [
    {
     "data": {
      "image/png": "[encoded data removed]",
      "text/plain": [
       "<Figure size 1080x720 with 1 Axes>"
      ]
     },
     "metadata": {},
     "output_type": "display_data"
    }
   ],
   "source": [
    "csk.groupby(['Role']).sum().plot(kind='pie', y='Price_Paid', autopct=\"%.2f%%\", figsize=(15,10), title=\"Distribution of Amount spent by CSK on each department\").legend(loc='upper right');"
   ]
  },
  {
   "cell_type": "markdown",
   "id": "e419a8dc",
   "metadata": {},
   "source": [
    "<h3>No. of IPL Experienced and inexperienced Players bought by Chennai Super Kings: </h3>"
   ]
  },
  {
   "cell_type": "code",
   "execution_count": 19,
   "id": "40a18702",
   "metadata": {},
   "outputs": [
    {
     "name": "stdout",
     "output_type": "stream",
     "text": [
      "Experienced Players:      4\n",
      "Inexperienced Players:    3\n"
     ]
    }
   ],
   "source": [
    "print(\"Experienced Players:     \",csk[pd.notnull(csk['Previous_IPL_Teams'])].shape[0])\n",
    "print(\"Inexperienced Players:   \",csk[pd.isnull(csk['Previous_IPL_Teams'])].shape[0])"
   ]
  },
  {
   "cell_type": "markdown",
   "id": "dcc8605e",
   "metadata": {},
   "source": [
    "<h3>No. of Internationally Experienced and inexperienced  Players bought by Chennai Super Kings: </h3>"
   ]
  },
  {
   "cell_type": "code",
   "execution_count": 20,
   "id": "a76c32a6",
   "metadata": {},
   "outputs": [
    {
     "name": "stdout",
     "output_type": "stream",
     "text": [
      "Experienced Players:      3\n",
      "Inexperienced Players:    4\n"
     ]
    }
   ],
   "source": [
    "print(\"Experienced Players:     \",csk[csk['Capped_or_Uncapped']=='Capped'].shape[0])\n",
    "print(\"Inexperienced Players:   \",csk[csk['Capped_or_Uncapped']=='Uncapped'].shape[0])"
   ]
  },
  {
   "cell_type": "markdown",
   "id": "fcbf48d6",
   "metadata": {},
   "source": [
    "<h3>No. of players bought at</h3>"
   ]
  },
  {
   "cell_type": "code",
   "execution_count": 21,
   "id": "6be7d92e",
   "metadata": {},
   "outputs": [
    {
     "name": "stdout",
     "output_type": "stream",
     "text": [
      "Base Price:            4\n",
      "More than Base Price:  3\n"
     ]
    }
   ],
   "source": [
    "print(\"Base Price:           \",csk[csk['Price_Paid']==csk['Base_Price']].shape[0])\n",
    "print(\"More than Base Price: \",csk[csk['Price_Paid']!=csk['Base_Price']].shape[0])"
   ]
  },
  {
   "cell_type": "code",
   "execution_count": null,
   "id": "9d9ab14a",
   "metadata": {},
   "outputs": [],
   "source": []
  },
  {
   "cell_type": "code",
   "execution_count": null,
   "id": "667fd94e",
   "metadata": {},
   "outputs": [],
   "source": []
  }
 ],
 "metadata": {
  "kernelspec": {
   "display_name": "Python 3.9.5 64-bit",
   "language": "python",
   "name": "python3"
  },
  "language_info": {
   "codemirror_mode": {
    "name": "ipython",
    "version": 3
   },
   "file_extension": ".py",
   "mimetype": "text/x-python",
   "name": "python",
   "nbconvert_exporter": "python",
   "pygments_lexer": "ipython3",
   "version": "3.9.5"
  },
  "vscode": {
   "interpreter": {
    "hash": "cf92aa13fedf815d5c8dd192b8d835913fde3e8bc926b2a0ad6cc74ef2ba3ca2"
   }
  }
 },
 "nbformat": 4,
 "nbformat_minor": 5
}
