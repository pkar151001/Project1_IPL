{
 "cells": [
  {
   "cell_type": "markdown",
   "id": "d653681f",
   "metadata": {},
   "source": [
    "<h1 style=\"text-align:center;\">Sunrisers Hyderabad (SRH)</h1>"
   ]
  },
  {
   "cell_type": "markdown",
   "id": "40c6fd12",
   "metadata": {},
   "source": [
    "<p style=\"text-align:center;\"><img src=\"https://www.sportzcraazy.com/wp-content/uploads/2021/03/SRH-banner.jpg\" width=700px height=500px></p> "
   ]
  },
  {
   "cell_type": "code",
   "execution_count": 1,
   "id": "800768e9",
   "metadata": {},
   "outputs": [],
   "source": [
    "import pandas as pd\n",
    "import numpy as np\n",
    "import matplotlib.pyplot as plt\n",
    "\n",
    "data=pd.read_csv(\"./PROJECT_IPL_1_Edited.csv\")\n",
    "data.rename(columns={'Player Name':'Player_Name','Base Price (in Lakhs Rupees)':'Base_Price','Price Paid (in Lakhs Rupees)':'Price_Paid','Status':'Status','Bought by':'Bought_by','Previous IPL Teams':'Previous_IPL_Teams','Country':'Country','Role':'Role','Batting Style':'Batting_Style','Bowling Style':'Bowling_Style','Batting Order':'Batting_Order','Capped or Uncapped at Internationals (during Auction)':'Capped_or_Uncapped'},inplace='True')\n",
    "data.loc[data[\"Role\"] == \"Fast Bowler\", \"Role\"] = \"Seam Bowler\"\n"
   ]
  },
  {
   "cell_type": "markdown",
   "id": "c36effd2",
   "metadata": {},
   "source": [
    "<h2 style=\"text-align:center;\"> Listing out players bought by SRH</h2>"
   ]
  },
  {
   "cell_type": "code",
   "execution_count": 2,
   "id": "ee5481c4",
   "metadata": {},
   "outputs": [
    {
     "data": {
      "text/html": [
       "<div>\n",
       "<style scoped>\n",
       "    .dataframe tbody tr th:only-of-type {\n",
       "        vertical-align: middle;\n",
       "    }\n",
       "\n",
       "    .dataframe tbody tr th {\n",
       "        vertical-align: top;\n",
       "    }\n",
       "\n",
       "    .dataframe thead th {\n",
       "        text-align: right;\n",
       "    }\n",
       "</style>\n",
       "<table border=\"1\" class=\"dataframe\">\n",
       "  <thead>\n",
       "    <tr style=\"text-align: right;\">\n",
       "      <th></th>\n",
       "      <th>Player_Name</th>\n",
       "      <th>Base_Price</th>\n",
       "      <th>Price_Paid</th>\n",
       "      <th>Status</th>\n",
       "      <th>Bought_by</th>\n",
       "      <th>Previous_IPL_Teams</th>\n",
       "      <th>Country</th>\n",
       "      <th>Role</th>\n",
       "      <th>Batting_Style</th>\n",
       "      <th>Bowling_Style</th>\n",
       "      <th>Batting_Order</th>\n",
       "      <th>Capped_or_Uncapped</th>\n",
       "    </tr>\n",
       "  </thead>\n",
       "  <tbody>\n",
       "    <tr>\n",
       "      <th>15</th>\n",
       "      <td>Jagadeesha Suchith</td>\n",
       "      <td>20</td>\n",
       "      <td>30</td>\n",
       "      <td>Sold</td>\n",
       "      <td>SRH</td>\n",
       "      <td>MI, DC, PBKS</td>\n",
       "      <td>India</td>\n",
       "      <td>Spin Bowler</td>\n",
       "      <td>NaN</td>\n",
       "      <td>Slow Left Orthodox</td>\n",
       "      <td>NaN</td>\n",
       "      <td>Uncapped</td>\n",
       "    </tr>\n",
       "    <tr>\n",
       "      <th>20</th>\n",
       "      <td>Kedar Jadhav</td>\n",
       "      <td>200</td>\n",
       "      <td>200</td>\n",
       "      <td>Sold</td>\n",
       "      <td>SRH</td>\n",
       "      <td>DC, CSK, RCB, KTK</td>\n",
       "      <td>India</td>\n",
       "      <td>Batting All Rounder</td>\n",
       "      <td>Right</td>\n",
       "      <td>Right Offbreak</td>\n",
       "      <td>Middle</td>\n",
       "      <td>Capped</td>\n",
       "    </tr>\n",
       "    <tr>\n",
       "      <th>32</th>\n",
       "      <td>Mujeeb Ur Rahman</td>\n",
       "      <td>150</td>\n",
       "      <td>150</td>\n",
       "      <td>Sold</td>\n",
       "      <td>SRH</td>\n",
       "      <td>PBKS</td>\n",
       "      <td>Afghanistan</td>\n",
       "      <td>Spin Bowler</td>\n",
       "      <td>NaN</td>\n",
       "      <td>Right Offbreak</td>\n",
       "      <td>NaN</td>\n",
       "      <td>Capped</td>\n",
       "    </tr>\n",
       "  </tbody>\n",
       "</table>\n",
       "</div>"
      ],
      "text/plain": [
       "           Player_Name  Base_Price  Price_Paid Status Bought_by  \\\n",
       "15  Jagadeesha Suchith          20          30   Sold       SRH   \n",
       "20        Kedar Jadhav         200         200   Sold       SRH   \n",
       "32    Mujeeb Ur Rahman         150         150   Sold       SRH   \n",
       "\n",
       "   Previous_IPL_Teams      Country                 Role Batting_Style  \\\n",
       "15       MI, DC, PBKS        India          Spin Bowler           NaN   \n",
       "20  DC, CSK, RCB, KTK        India  Batting All Rounder        Right    \n",
       "32               PBKS  Afghanistan          Spin Bowler           NaN   \n",
       "\n",
       "         Bowling_Style Batting_Order Capped_or_Uncapped  \n",
       "15  Slow Left Orthodox           NaN           Uncapped  \n",
       "20      Right Offbreak        Middle             Capped  \n",
       "32      Right Offbreak           NaN             Capped  "
      ]
     },
     "execution_count": 2,
     "metadata": {},
     "output_type": "execute_result"
    }
   ],
   "source": [
    "srh=data.groupby('Bought_by').get_group('SRH')\n",
    "srh"
   ]
  },
  {
   "cell_type": "markdown",
   "id": "44881349",
   "metadata": {},
   "source": [
    "<h2 style=\"text-align:center;\"> Visualization of Price Paid for players bought by SRH </h2>"
   ]
  },
  {
   "cell_type": "code",
   "execution_count": 3,
   "id": "62024970",
   "metadata": {},
   "outputs": [
    {
     "data": {
      "image/png": "[encoded data removed]",
      "text/plain": [
       "<Figure size 432x288 with 1 Axes>"
      ]
     },
     "metadata": {
      "needs_background": "light"
     },
     "output_type": "display_data"
    }
   ],
   "source": [
    "x=list(srh['Player_Name']);\n",
    "y=list(srh['Price_Paid']);\n",
    "plt.barh(x,y);"
   ]
  },
  {
   "cell_type": "markdown",
   "id": "0a538eab",
   "metadata": {},
   "source": [
    "<h2 style=\"text-align:center;\">List of Batsmen bought by SRH</h2>"
   ]
  },
  {
   "cell_type": "code",
   "execution_count": 4,
   "id": "d17ac871",
   "metadata": {},
   "outputs": [
    {
     "data": {
      "text/html": [
       "<div>\n",
       "<style scoped>\n",
       "    .dataframe tbody tr th:only-of-type {\n",
       "        vertical-align: middle;\n",
       "    }\n",
       "\n",
       "    .dataframe tbody tr th {\n",
       "        vertical-align: top;\n",
       "    }\n",
       "\n",
       "    .dataframe thead th {\n",
       "        text-align: right;\n",
       "    }\n",
       "</style>\n",
       "<table border=\"1\" class=\"dataframe\">\n",
       "  <thead>\n",
       "    <tr style=\"text-align: right;\">\n",
       "      <th></th>\n",
       "      <th>Player_Name</th>\n",
       "      <th>Base_Price</th>\n",
       "      <th>Price_Paid</th>\n",
       "      <th>Status</th>\n",
       "      <th>Bought_by</th>\n",
       "      <th>Previous_IPL_Teams</th>\n",
       "      <th>Country</th>\n",
       "      <th>Role</th>\n",
       "      <th>Batting_Style</th>\n",
       "      <th>Bowling_Style</th>\n",
       "      <th>Batting_Order</th>\n",
       "      <th>Capped_or_Uncapped</th>\n",
       "    </tr>\n",
       "  </thead>\n",
       "  <tbody>\n",
       "  </tbody>\n",
       "</table>\n",
       "</div>"
      ],
      "text/plain": [
       "Empty DataFrame\n",
       "Columns: [Player_Name, Base_Price, Price_Paid, Status, Bought_by, Previous_IPL_Teams, Country, Role, Batting_Style, Bowling_Style, Batting_Order, Capped_or_Uncapped]\n",
       "Index: []"
      ]
     },
     "execution_count": 4,
     "metadata": {},
     "output_type": "execute_result"
    }
   ],
   "source": [
    "srh_bats=srh[srh['Role'].str.contains('Batsman')]\n",
    "srh_bats"
   ]
  },
  {
   "cell_type": "markdown",
   "id": "9366879b",
   "metadata": {},
   "source": [
    "<h2 style=\"text-align:center;\">List of Bowlers bought by SRH</h2>"
   ]
  },
  {
   "cell_type": "code",
   "execution_count": 5,
   "id": "6efe6f5b",
   "metadata": {},
   "outputs": [
    {
     "data": {
      "text/html": [
       "<div>\n",
       "<style scoped>\n",
       "    .dataframe tbody tr th:only-of-type {\n",
       "        vertical-align: middle;\n",
       "    }\n",
       "\n",
       "    .dataframe tbody tr th {\n",
       "        vertical-align: top;\n",
       "    }\n",
       "\n",
       "    .dataframe thead th {\n",
       "        text-align: right;\n",
       "    }\n",
       "</style>\n",
       "<table border=\"1\" class=\"dataframe\">\n",
       "  <thead>\n",
       "    <tr style=\"text-align: right;\">\n",
       "      <th></th>\n",
       "      <th>Player_Name</th>\n",
       "      <th>Base_Price</th>\n",
       "      <th>Price_Paid</th>\n",
       "      <th>Status</th>\n",
       "      <th>Bought_by</th>\n",
       "      <th>Previous_IPL_Teams</th>\n",
       "      <th>Country</th>\n",
       "      <th>Role</th>\n",
       "      <th>Batting_Style</th>\n",
       "      <th>Bowling_Style</th>\n",
       "      <th>Batting_Order</th>\n",
       "      <th>Capped_or_Uncapped</th>\n",
       "    </tr>\n",
       "  </thead>\n",
       "  <tbody>\n",
       "    <tr>\n",
       "      <th>15</th>\n",
       "      <td>Jagadeesha Suchith</td>\n",
       "      <td>20</td>\n",
       "      <td>30</td>\n",
       "      <td>Sold</td>\n",
       "      <td>SRH</td>\n",
       "      <td>MI, DC, PBKS</td>\n",
       "      <td>India</td>\n",
       "      <td>Spin Bowler</td>\n",
       "      <td>NaN</td>\n",
       "      <td>Slow Left Orthodox</td>\n",
       "      <td>NaN</td>\n",
       "      <td>Uncapped</td>\n",
       "    </tr>\n",
       "    <tr>\n",
       "      <th>32</th>\n",
       "      <td>Mujeeb Ur Rahman</td>\n",
       "      <td>150</td>\n",
       "      <td>150</td>\n",
       "      <td>Sold</td>\n",
       "      <td>SRH</td>\n",
       "      <td>PBKS</td>\n",
       "      <td>Afghanistan</td>\n",
       "      <td>Spin Bowler</td>\n",
       "      <td>NaN</td>\n",
       "      <td>Right Offbreak</td>\n",
       "      <td>NaN</td>\n",
       "      <td>Capped</td>\n",
       "    </tr>\n",
       "  </tbody>\n",
       "</table>\n",
       "</div>"
      ],
      "text/plain": [
       "           Player_Name  Base_Price  Price_Paid Status Bought_by  \\\n",
       "15  Jagadeesha Suchith          20          30   Sold       SRH   \n",
       "32    Mujeeb Ur Rahman         150         150   Sold       SRH   \n",
       "\n",
       "   Previous_IPL_Teams      Country         Role Batting_Style  \\\n",
       "15       MI, DC, PBKS        India  Spin Bowler           NaN   \n",
       "32               PBKS  Afghanistan  Spin Bowler           NaN   \n",
       "\n",
       "         Bowling_Style Batting_Order Capped_or_Uncapped  \n",
       "15  Slow Left Orthodox           NaN           Uncapped  \n",
       "32      Right Offbreak           NaN             Capped  "
      ]
     },
     "execution_count": 5,
     "metadata": {},
     "output_type": "execute_result"
    }
   ],
   "source": [
    "srh_bowl=srh[srh['Role'].str.contains('Bowler')]\n",
    "srh_bowl"
   ]
  },
  {
   "cell_type": "markdown",
   "id": "1bc0ff74",
   "metadata": {},
   "source": [
    "<h2 style=\"text-align:center;\">List of All Rounders bought by SRH</h2>"
   ]
  },
  {
   "cell_type": "code",
   "execution_count": 6,
   "id": "46c43f92",
   "metadata": {},
   "outputs": [
    {
     "data": {
      "text/html": [
       "<div>\n",
       "<style scoped>\n",
       "    .dataframe tbody tr th:only-of-type {\n",
       "        vertical-align: middle;\n",
       "    }\n",
       "\n",
       "    .dataframe tbody tr th {\n",
       "        vertical-align: top;\n",
       "    }\n",
       "\n",
       "    .dataframe thead th {\n",
       "        text-align: right;\n",
       "    }\n",
       "</style>\n",
       "<table border=\"1\" class=\"dataframe\">\n",
       "  <thead>\n",
       "    <tr style=\"text-align: right;\">\n",
       "      <th></th>\n",
       "      <th>Player_Name</th>\n",
       "      <th>Base_Price</th>\n",
       "      <th>Price_Paid</th>\n",
       "      <th>Status</th>\n",
       "      <th>Bought_by</th>\n",
       "      <th>Previous_IPL_Teams</th>\n",
       "      <th>Country</th>\n",
       "      <th>Role</th>\n",
       "      <th>Batting_Style</th>\n",
       "      <th>Bowling_Style</th>\n",
       "      <th>Batting_Order</th>\n",
       "      <th>Capped_or_Uncapped</th>\n",
       "    </tr>\n",
       "  </thead>\n",
       "  <tbody>\n",
       "    <tr>\n",
       "      <th>20</th>\n",
       "      <td>Kedar Jadhav</td>\n",
       "      <td>200</td>\n",
       "      <td>200</td>\n",
       "      <td>Sold</td>\n",
       "      <td>SRH</td>\n",
       "      <td>DC, CSK, RCB, KTK</td>\n",
       "      <td>India</td>\n",
       "      <td>Batting All Rounder</td>\n",
       "      <td>Right</td>\n",
       "      <td>Right Offbreak</td>\n",
       "      <td>Middle</td>\n",
       "      <td>Capped</td>\n",
       "    </tr>\n",
       "  </tbody>\n",
       "</table>\n",
       "</div>"
      ],
      "text/plain": [
       "     Player_Name  Base_Price  Price_Paid Status Bought_by Previous_IPL_Teams  \\\n",
       "20  Kedar Jadhav         200         200   Sold       SRH  DC, CSK, RCB, KTK   \n",
       "\n",
       "   Country                 Role Batting_Style   Bowling_Style Batting_Order  \\\n",
       "20   India  Batting All Rounder        Right   Right Offbreak        Middle   \n",
       "\n",
       "   Capped_or_Uncapped  \n",
       "20             Capped  "
      ]
     },
     "execution_count": 6,
     "metadata": {},
     "output_type": "execute_result"
    }
   ],
   "source": [
    "srh_all=srh[srh['Role'].str.contains('All Rounder')]\n",
    "srh_all"
   ]
  },
  {
   "cell_type": "markdown",
   "id": "b628eaff",
   "metadata": {},
   "source": [
    "<h2 style=\"text-align:center;\">Analysis - Sunrisers Hyderabad </h2>"
   ]
  },
  {
   "cell_type": "markdown",
   "id": "5ad1910e",
   "metadata": {},
   "source": [
    "<h3>Total amount spent during auction (in crores): </h3>"
   ]
  },
  {
   "cell_type": "code",
   "execution_count": 7,
   "id": "2f253533",
   "metadata": {},
   "outputs": [
    {
     "data": {
      "text/plain": [
       "3.8"
      ]
     },
     "execution_count": 7,
     "metadata": {},
     "output_type": "execute_result"
    }
   ],
   "source": [
    "srh['Price_Paid'].sum()/100"
   ]
  },
  {
   "cell_type": "markdown",
   "id": "394a3138",
   "metadata": {},
   "source": [
    "<h3>Highest bid by Sunrisers Hyderabad: </h3>"
   ]
  },
  {
   "cell_type": "code",
   "execution_count": 8,
   "id": "1db38f9f",
   "metadata": {},
   "outputs": [
    {
     "data": {
      "text/html": [
       "<div>\n",
       "<style scoped>\n",
       "    .dataframe tbody tr th:only-of-type {\n",
       "        vertical-align: middle;\n",
       "    }\n",
       "\n",
       "    .dataframe tbody tr th {\n",
       "        vertical-align: top;\n",
       "    }\n",
       "\n",
       "    .dataframe thead th {\n",
       "        text-align: right;\n",
       "    }\n",
       "</style>\n",
       "<table border=\"1\" class=\"dataframe\">\n",
       "  <thead>\n",
       "    <tr style=\"text-align: right;\">\n",
       "      <th></th>\n",
       "      <th>Player_Name</th>\n",
       "      <th>Base_Price</th>\n",
       "      <th>Price_Paid</th>\n",
       "      <th>Status</th>\n",
       "      <th>Bought_by</th>\n",
       "      <th>Previous_IPL_Teams</th>\n",
       "      <th>Country</th>\n",
       "      <th>Role</th>\n",
       "      <th>Batting_Style</th>\n",
       "      <th>Bowling_Style</th>\n",
       "      <th>Batting_Order</th>\n",
       "      <th>Capped_or_Uncapped</th>\n",
       "    </tr>\n",
       "  </thead>\n",
       "  <tbody>\n",
       "    <tr>\n",
       "      <th>20</th>\n",
       "      <td>Kedar Jadhav</td>\n",
       "      <td>200</td>\n",
       "      <td>200</td>\n",
       "      <td>Sold</td>\n",
       "      <td>SRH</td>\n",
       "      <td>DC, CSK, RCB, KTK</td>\n",
       "      <td>India</td>\n",
       "      <td>Batting All Rounder</td>\n",
       "      <td>Right</td>\n",
       "      <td>Right Offbreak</td>\n",
       "      <td>Middle</td>\n",
       "      <td>Capped</td>\n",
       "    </tr>\n",
       "  </tbody>\n",
       "</table>\n",
       "</div>"
      ],
      "text/plain": [
       "     Player_Name  Base_Price  Price_Paid Status Bought_by Previous_IPL_Teams  \\\n",
       "20  Kedar Jadhav         200         200   Sold       SRH  DC, CSK, RCB, KTK   \n",
       "\n",
       "   Country                 Role Batting_Style   Bowling_Style Batting_Order  \\\n",
       "20   India  Batting All Rounder        Right   Right Offbreak        Middle   \n",
       "\n",
       "   Capped_or_Uncapped  \n",
       "20             Capped  "
      ]
     },
     "execution_count": 8,
     "metadata": {},
     "output_type": "execute_result"
    }
   ],
   "source": [
    "srh[srh['Price_Paid']==srh['Price_Paid'].max()]"
   ]
  },
  {
   "cell_type": "markdown",
   "id": "739cdcc3",
   "metadata": {},
   "source": [
    "<h3>Highest Indian bid by Sunrisers Hyderabad: </h3>"
   ]
  },
  {
   "cell_type": "code",
   "execution_count": 9,
   "id": "b1c761b6",
   "metadata": {},
   "outputs": [
    {
     "data": {
      "text/html": [
       "<div>\n",
       "<style scoped>\n",
       "    .dataframe tbody tr th:only-of-type {\n",
       "        vertical-align: middle;\n",
       "    }\n",
       "\n",
       "    .dataframe tbody tr th {\n",
       "        vertical-align: top;\n",
       "    }\n",
       "\n",
       "    .dataframe thead th {\n",
       "        text-align: right;\n",
       "    }\n",
       "</style>\n",
       "<table border=\"1\" class=\"dataframe\">\n",
       "  <thead>\n",
       "    <tr style=\"text-align: right;\">\n",
       "      <th></th>\n",
       "      <th>Player_Name</th>\n",
       "      <th>Base_Price</th>\n",
       "      <th>Price_Paid</th>\n",
       "      <th>Status</th>\n",
       "      <th>Bought_by</th>\n",
       "      <th>Previous_IPL_Teams</th>\n",
       "      <th>Country</th>\n",
       "      <th>Role</th>\n",
       "      <th>Batting_Style</th>\n",
       "      <th>Bowling_Style</th>\n",
       "      <th>Batting_Order</th>\n",
       "      <th>Capped_or_Uncapped</th>\n",
       "    </tr>\n",
       "  </thead>\n",
       "  <tbody>\n",
       "    <tr>\n",
       "      <th>20</th>\n",
       "      <td>Kedar Jadhav</td>\n",
       "      <td>200</td>\n",
       "      <td>200</td>\n",
       "      <td>Sold</td>\n",
       "      <td>SRH</td>\n",
       "      <td>DC, CSK, RCB, KTK</td>\n",
       "      <td>India</td>\n",
       "      <td>Batting All Rounder</td>\n",
       "      <td>Right</td>\n",
       "      <td>Right Offbreak</td>\n",
       "      <td>Middle</td>\n",
       "      <td>Capped</td>\n",
       "    </tr>\n",
       "  </tbody>\n",
       "</table>\n",
       "</div>"
      ],
      "text/plain": [
       "     Player_Name  Base_Price  Price_Paid Status Bought_by Previous_IPL_Teams  \\\n",
       "20  Kedar Jadhav         200         200   Sold       SRH  DC, CSK, RCB, KTK   \n",
       "\n",
       "   Country                 Role Batting_Style   Bowling_Style Batting_Order  \\\n",
       "20   India  Batting All Rounder        Right   Right Offbreak        Middle   \n",
       "\n",
       "   Capped_or_Uncapped  \n",
       "20             Capped  "
      ]
     },
     "execution_count": 9,
     "metadata": {},
     "output_type": "execute_result"
    }
   ],
   "source": [
    "srh[srh['Price_Paid']==srh[srh['Country']=='India']['Price_Paid'].max()]"
   ]
  },
  {
   "cell_type": "markdown",
   "id": "cf344806",
   "metadata": {},
   "source": [
    "<h3>Highest Foreign bid by Sunrisers Hyderabad: </h3>"
   ]
  },
  {
   "cell_type": "code",
   "execution_count": 10,
   "id": "98e25587",
   "metadata": {},
   "outputs": [
    {
     "data": {
      "text/html": [
       "<div>\n",
       "<style scoped>\n",
       "    .dataframe tbody tr th:only-of-type {\n",
       "        vertical-align: middle;\n",
       "    }\n",
       "\n",
       "    .dataframe tbody tr th {\n",
       "        vertical-align: top;\n",
       "    }\n",
       "\n",
       "    .dataframe thead th {\n",
       "        text-align: right;\n",
       "    }\n",
       "</style>\n",
       "<table border=\"1\" class=\"dataframe\">\n",
       "  <thead>\n",
       "    <tr style=\"text-align: right;\">\n",
       "      <th></th>\n",
       "      <th>Player_Name</th>\n",
       "      <th>Base_Price</th>\n",
       "      <th>Price_Paid</th>\n",
       "      <th>Status</th>\n",
       "      <th>Bought_by</th>\n",
       "      <th>Previous_IPL_Teams</th>\n",
       "      <th>Country</th>\n",
       "      <th>Role</th>\n",
       "      <th>Batting_Style</th>\n",
       "      <th>Bowling_Style</th>\n",
       "      <th>Batting_Order</th>\n",
       "      <th>Capped_or_Uncapped</th>\n",
       "    </tr>\n",
       "  </thead>\n",
       "  <tbody>\n",
       "    <tr>\n",
       "      <th>32</th>\n",
       "      <td>Mujeeb Ur Rahman</td>\n",
       "      <td>150</td>\n",
       "      <td>150</td>\n",
       "      <td>Sold</td>\n",
       "      <td>SRH</td>\n",
       "      <td>PBKS</td>\n",
       "      <td>Afghanistan</td>\n",
       "      <td>Spin Bowler</td>\n",
       "      <td>NaN</td>\n",
       "      <td>Right Offbreak</td>\n",
       "      <td>NaN</td>\n",
       "      <td>Capped</td>\n",
       "    </tr>\n",
       "  </tbody>\n",
       "</table>\n",
       "</div>"
      ],
      "text/plain": [
       "         Player_Name  Base_Price  Price_Paid Status Bought_by  \\\n",
       "32  Mujeeb Ur Rahman         150         150   Sold       SRH   \n",
       "\n",
       "   Previous_IPL_Teams      Country         Role Batting_Style   Bowling_Style  \\\n",
       "32               PBKS  Afghanistan  Spin Bowler           NaN  Right Offbreak   \n",
       "\n",
       "   Batting_Order Capped_or_Uncapped  \n",
       "32           NaN             Capped  "
      ]
     },
     "execution_count": 10,
     "metadata": {},
     "output_type": "execute_result"
    }
   ],
   "source": [
    "srh[srh['Price_Paid']==srh[srh['Country']!='India']['Price_Paid'].max()]"
   ]
  },
  {
   "cell_type": "markdown",
   "id": "82463501",
   "metadata": {},
   "source": [
    "<h3>Amount Spent on each Department (in crores): </h3>"
   ]
  },
  {
   "cell_type": "code",
   "execution_count": 11,
   "id": "fe0a839d",
   "metadata": {},
   "outputs": [
    {
     "name": "stdout",
     "output_type": "stream",
     "text": [
      "Role\n",
      "Batting All Rounder    2.0\n",
      "Spin Bowler            1.8\n"
     ]
    }
   ],
   "source": [
    "print((srh.groupby('Role')['Price_Paid'].sum()/100).to_string())"
   ]
  },
  {
   "cell_type": "markdown",
   "id": "63f06e6a",
   "metadata": {},
   "source": [
    "<h3>Highest Bowler bid by Sunrisers Hyderabad:  </h3>"
   ]
  },
  {
   "cell_type": "code",
   "execution_count": 12,
   "id": "e56ea6df",
   "metadata": {},
   "outputs": [
    {
     "data": {
      "text/html": [
       "<div>\n",
       "<style scoped>\n",
       "    .dataframe tbody tr th:only-of-type {\n",
       "        vertical-align: middle;\n",
       "    }\n",
       "\n",
       "    .dataframe tbody tr th {\n",
       "        vertical-align: top;\n",
       "    }\n",
       "\n",
       "    .dataframe thead th {\n",
       "        text-align: right;\n",
       "    }\n",
       "</style>\n",
       "<table border=\"1\" class=\"dataframe\">\n",
       "  <thead>\n",
       "    <tr style=\"text-align: right;\">\n",
       "      <th></th>\n",
       "      <th>Player_Name</th>\n",
       "      <th>Base_Price</th>\n",
       "      <th>Price_Paid</th>\n",
       "      <th>Status</th>\n",
       "      <th>Bought_by</th>\n",
       "      <th>Previous_IPL_Teams</th>\n",
       "      <th>Country</th>\n",
       "      <th>Role</th>\n",
       "      <th>Batting_Style</th>\n",
       "      <th>Bowling_Style</th>\n",
       "      <th>Batting_Order</th>\n",
       "      <th>Capped_or_Uncapped</th>\n",
       "    </tr>\n",
       "  </thead>\n",
       "  <tbody>\n",
       "    <tr>\n",
       "      <th>32</th>\n",
       "      <td>Mujeeb Ur Rahman</td>\n",
       "      <td>150</td>\n",
       "      <td>150</td>\n",
       "      <td>Sold</td>\n",
       "      <td>SRH</td>\n",
       "      <td>PBKS</td>\n",
       "      <td>Afghanistan</td>\n",
       "      <td>Spin Bowler</td>\n",
       "      <td>NaN</td>\n",
       "      <td>Right Offbreak</td>\n",
       "      <td>NaN</td>\n",
       "      <td>Capped</td>\n",
       "    </tr>\n",
       "  </tbody>\n",
       "</table>\n",
       "</div>"
      ],
      "text/plain": [
       "         Player_Name  Base_Price  Price_Paid Status Bought_by  \\\n",
       "32  Mujeeb Ur Rahman         150         150   Sold       SRH   \n",
       "\n",
       "   Previous_IPL_Teams      Country         Role Batting_Style   Bowling_Style  \\\n",
       "32               PBKS  Afghanistan  Spin Bowler           NaN  Right Offbreak   \n",
       "\n",
       "   Batting_Order Capped_or_Uncapped  \n",
       "32           NaN             Capped  "
      ]
     },
     "execution_count": 12,
     "metadata": {},
     "output_type": "execute_result"
    }
   ],
   "source": [
    "srh_bowl[srh_bowl['Price_Paid']==srh_bowl['Price_Paid'].max()]"
   ]
  },
  {
   "cell_type": "markdown",
   "id": "2a0b1912",
   "metadata": {},
   "source": [
    "<h3>Highest All Rounder bid by Sunrisers Hyderabad:  </h3>"
   ]
  },
  {
   "cell_type": "code",
   "execution_count": 13,
   "id": "ae9dacc6",
   "metadata": {},
   "outputs": [
    {
     "data": {
      "text/html": [
       "<div>\n",
       "<style scoped>\n",
       "    .dataframe tbody tr th:only-of-type {\n",
       "        vertical-align: middle;\n",
       "    }\n",
       "\n",
       "    .dataframe tbody tr th {\n",
       "        vertical-align: top;\n",
       "    }\n",
       "\n",
       "    .dataframe thead th {\n",
       "        text-align: right;\n",
       "    }\n",
       "</style>\n",
       "<table border=\"1\" class=\"dataframe\">\n",
       "  <thead>\n",
       "    <tr style=\"text-align: right;\">\n",
       "      <th></th>\n",
       "      <th>Player_Name</th>\n",
       "      <th>Base_Price</th>\n",
       "      <th>Price_Paid</th>\n",
       "      <th>Status</th>\n",
       "      <th>Bought_by</th>\n",
       "      <th>Previous_IPL_Teams</th>\n",
       "      <th>Country</th>\n",
       "      <th>Role</th>\n",
       "      <th>Batting_Style</th>\n",
       "      <th>Bowling_Style</th>\n",
       "      <th>Batting_Order</th>\n",
       "      <th>Capped_or_Uncapped</th>\n",
       "    </tr>\n",
       "  </thead>\n",
       "  <tbody>\n",
       "    <tr>\n",
       "      <th>20</th>\n",
       "      <td>Kedar Jadhav</td>\n",
       "      <td>200</td>\n",
       "      <td>200</td>\n",
       "      <td>Sold</td>\n",
       "      <td>SRH</td>\n",
       "      <td>DC, CSK, RCB, KTK</td>\n",
       "      <td>India</td>\n",
       "      <td>Batting All Rounder</td>\n",
       "      <td>Right</td>\n",
       "      <td>Right Offbreak</td>\n",
       "      <td>Middle</td>\n",
       "      <td>Capped</td>\n",
       "    </tr>\n",
       "  </tbody>\n",
       "</table>\n",
       "</div>"
      ],
      "text/plain": [
       "     Player_Name  Base_Price  Price_Paid Status Bought_by Previous_IPL_Teams  \\\n",
       "20  Kedar Jadhav         200         200   Sold       SRH  DC, CSK, RCB, KTK   \n",
       "\n",
       "   Country                 Role Batting_Style   Bowling_Style Batting_Order  \\\n",
       "20   India  Batting All Rounder        Right   Right Offbreak        Middle   \n",
       "\n",
       "   Capped_or_Uncapped  \n",
       "20             Capped  "
      ]
     },
     "execution_count": 13,
     "metadata": {},
     "output_type": "execute_result"
    }
   ],
   "source": [
    "srh_all[srh_all['Price_Paid']==srh_all['Price_Paid'].max()]"
   ]
  },
  {
   "cell_type": "markdown",
   "id": "037cf54a",
   "metadata": {},
   "source": [
    "<h3>Highest Capped bid by Sunrisers Hyderabad: </h3>"
   ]
  },
  {
   "cell_type": "code",
   "execution_count": 14,
   "id": "44fbac2a",
   "metadata": {},
   "outputs": [
    {
     "data": {
      "text/html": [
       "<div>\n",
       "<style scoped>\n",
       "    .dataframe tbody tr th:only-of-type {\n",
       "        vertical-align: middle;\n",
       "    }\n",
       "\n",
       "    .dataframe tbody tr th {\n",
       "        vertical-align: top;\n",
       "    }\n",
       "\n",
       "    .dataframe thead th {\n",
       "        text-align: right;\n",
       "    }\n",
       "</style>\n",
       "<table border=\"1\" class=\"dataframe\">\n",
       "  <thead>\n",
       "    <tr style=\"text-align: right;\">\n",
       "      <th></th>\n",
       "      <th>Player_Name</th>\n",
       "      <th>Base_Price</th>\n",
       "      <th>Price_Paid</th>\n",
       "      <th>Status</th>\n",
       "      <th>Bought_by</th>\n",
       "      <th>Previous_IPL_Teams</th>\n",
       "      <th>Country</th>\n",
       "      <th>Role</th>\n",
       "      <th>Batting_Style</th>\n",
       "      <th>Bowling_Style</th>\n",
       "      <th>Batting_Order</th>\n",
       "      <th>Capped_or_Uncapped</th>\n",
       "    </tr>\n",
       "  </thead>\n",
       "  <tbody>\n",
       "    <tr>\n",
       "      <th>20</th>\n",
       "      <td>Kedar Jadhav</td>\n",
       "      <td>200</td>\n",
       "      <td>200</td>\n",
       "      <td>Sold</td>\n",
       "      <td>SRH</td>\n",
       "      <td>DC, CSK, RCB, KTK</td>\n",
       "      <td>India</td>\n",
       "      <td>Batting All Rounder</td>\n",
       "      <td>Right</td>\n",
       "      <td>Right Offbreak</td>\n",
       "      <td>Middle</td>\n",
       "      <td>Capped</td>\n",
       "    </tr>\n",
       "  </tbody>\n",
       "</table>\n",
       "</div>"
      ],
      "text/plain": [
       "     Player_Name  Base_Price  Price_Paid Status Bought_by Previous_IPL_Teams  \\\n",
       "20  Kedar Jadhav         200         200   Sold       SRH  DC, CSK, RCB, KTK   \n",
       "\n",
       "   Country                 Role Batting_Style   Bowling_Style Batting_Order  \\\n",
       "20   India  Batting All Rounder        Right   Right Offbreak        Middle   \n",
       "\n",
       "   Capped_or_Uncapped  \n",
       "20             Capped  "
      ]
     },
     "execution_count": 14,
     "metadata": {},
     "output_type": "execute_result"
    }
   ],
   "source": [
    "srh[srh['Price_Paid']==srh[srh['Capped_or_Uncapped']=='Capped']['Price_Paid'].max()]"
   ]
  },
  {
   "cell_type": "markdown",
   "id": "73e06d9a",
   "metadata": {},
   "source": [
    "<h3>Highest Uncapped bid by Sunrisers Hyderabad: </h3>"
   ]
  },
  {
   "cell_type": "code",
   "execution_count": 15,
   "id": "7cb2d23d",
   "metadata": {},
   "outputs": [
    {
     "data": {
      "text/html": [
       "<div>\n",
       "<style scoped>\n",
       "    .dataframe tbody tr th:only-of-type {\n",
       "        vertical-align: middle;\n",
       "    }\n",
       "\n",
       "    .dataframe tbody tr th {\n",
       "        vertical-align: top;\n",
       "    }\n",
       "\n",
       "    .dataframe thead th {\n",
       "        text-align: right;\n",
       "    }\n",
       "</style>\n",
       "<table border=\"1\" class=\"dataframe\">\n",
       "  <thead>\n",
       "    <tr style=\"text-align: right;\">\n",
       "      <th></th>\n",
       "      <th>Player_Name</th>\n",
       "      <th>Base_Price</th>\n",
       "      <th>Price_Paid</th>\n",
       "      <th>Status</th>\n",
       "      <th>Bought_by</th>\n",
       "      <th>Previous_IPL_Teams</th>\n",
       "      <th>Country</th>\n",
       "      <th>Role</th>\n",
       "      <th>Batting_Style</th>\n",
       "      <th>Bowling_Style</th>\n",
       "      <th>Batting_Order</th>\n",
       "      <th>Capped_or_Uncapped</th>\n",
       "    </tr>\n",
       "  </thead>\n",
       "  <tbody>\n",
       "    <tr>\n",
       "      <th>15</th>\n",
       "      <td>Jagadeesha Suchith</td>\n",
       "      <td>20</td>\n",
       "      <td>30</td>\n",
       "      <td>Sold</td>\n",
       "      <td>SRH</td>\n",
       "      <td>MI, DC, PBKS</td>\n",
       "      <td>India</td>\n",
       "      <td>Spin Bowler</td>\n",
       "      <td>NaN</td>\n",
       "      <td>Slow Left Orthodox</td>\n",
       "      <td>NaN</td>\n",
       "      <td>Uncapped</td>\n",
       "    </tr>\n",
       "  </tbody>\n",
       "</table>\n",
       "</div>"
      ],
      "text/plain": [
       "           Player_Name  Base_Price  Price_Paid Status Bought_by  \\\n",
       "15  Jagadeesha Suchith          20          30   Sold       SRH   \n",
       "\n",
       "   Previous_IPL_Teams Country         Role Batting_Style       Bowling_Style  \\\n",
       "15       MI, DC, PBKS   India  Spin Bowler           NaN  Slow Left Orthodox   \n",
       "\n",
       "   Batting_Order Capped_or_Uncapped  \n",
       "15           NaN           Uncapped  "
      ]
     },
     "execution_count": 15,
     "metadata": {},
     "output_type": "execute_result"
    }
   ],
   "source": [
    "srh[srh['Price_Paid']==srh[srh['Capped_or_Uncapped']=='Uncapped']['Price_Paid'].max()]"
   ]
  },
  {
   "cell_type": "markdown",
   "id": "8d886c9a",
   "metadata": {},
   "source": [
    "<h3>Visualization of distribution of Amount spent by SRH on each department: </h3>"
   ]
  },
  {
   "cell_type": "code",
   "execution_count": 16,
   "id": "40ead459",
   "metadata": {},
   "outputs": [
    {
     "data": {
      "image/png": "[encoded data removed]",
      "text/plain": [
       "<Figure size 1080x720 with 1 Axes>"
      ]
     },
     "metadata": {},
     "output_type": "display_data"
    }
   ],
   "source": [
    "srh.groupby(['Role']).sum().plot(kind='pie', y='Price_Paid', autopct=\"%.2f%%\", figsize=(15,10), title=\"Distribution of Amount spent by SRH on each department\").legend(loc='upper right');"
   ]
  },
  {
   "cell_type": "markdown",
   "id": "e419a8dc",
   "metadata": {},
   "source": [
    "<h3>No. of IPL Experienced and inexperienced Players bought by Sunrisers Hyderabad: </h3>"
   ]
  },
  {
   "cell_type": "code",
   "execution_count": 17,
   "id": "40a18702",
   "metadata": {},
   "outputs": [
    {
     "name": "stdout",
     "output_type": "stream",
     "text": [
      "Experienced Players:      3\n",
      "Inexperienced Players:    0\n"
     ]
    }
   ],
   "source": [
    "print(\"Experienced Players:     \",srh[pd.notnull(srh['Previous_IPL_Teams'])].shape[0])\n",
    "print(\"Inexperienced Players:   \",srh[pd.isnull(srh['Previous_IPL_Teams'])].shape[0])"
   ]
  },
  {
   "cell_type": "markdown",
   "id": "dcc8605e",
   "metadata": {},
   "source": [
    "<h3>No. of Internationally Experienced and inexperienced  Players bought by Sunrisers Hyderabad: </h3>"
   ]
  },
  {
   "cell_type": "code",
   "execution_count": 18,
   "id": "a76c32a6",
   "metadata": {},
   "outputs": [
    {
     "name": "stdout",
     "output_type": "stream",
     "text": [
      "Experienced Players:      2\n",
      "Inexperienced Players:    1\n"
     ]
    }
   ],
   "source": [
    "print(\"Experienced Players:     \",srh[srh['Capped_or_Uncapped']=='Capped'].shape[0])\n",
    "print(\"Inexperienced Players:   \",srh[srh['Capped_or_Uncapped']=='Uncapped'].shape[0])"
   ]
  },
  {
   "cell_type": "markdown",
   "id": "fcbf48d6",
   "metadata": {},
   "source": [
    "<h3>No. of players bought at</h3>"
   ]
  },
  {
   "cell_type": "code",
   "execution_count": 19,
   "id": "6be7d92e",
   "metadata": {},
   "outputs": [
    {
     "name": "stdout",
     "output_type": "stream",
     "text": [
      "Base Price:            2\n",
      "More than Base Price:  1\n"
     ]
    }
   ],
   "source": [
    "print(\"Base Price:           \",srh[srh['Price_Paid']==srh['Base_Price']].shape[0])\n",
    "print(\"More than Base Price: \",srh[srh['Price_Paid']!=srh['Base_Price']].shape[0])"
   ]
  }
 ],
 "metadata": {
  "kernelspec": {
   "display_name": "Python 3 (ipykernel)",
   "language": "python",
   "name": "python3"
  },
  "language_info": {
   "codemirror_mode": {
    "name": "ipython",
    "version": 3
   },
   "file_extension": ".py",
   "mimetype": "text/x-python",
   "name": "python",
   "nbconvert_exporter": "python",
   "pygments_lexer": "ipython3",
   "version": "3.9.5"
  }
 },
 "nbformat": 4,
 "nbformat_minor": 5
}
