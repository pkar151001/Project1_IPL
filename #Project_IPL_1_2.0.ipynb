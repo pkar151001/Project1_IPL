{
 "cells": [
  {
   "cell_type": "markdown",
   "id": "c63d9bfe",
   "metadata": {},
   "source": [
    "## Importing Required Packages"
   ]
  },
  {
   "cell_type": "code",
   "execution_count": null,
   "id": "6b31c6d7",
   "metadata": {},
   "outputs": [],
   "source": []
  },
  {
   "cell_type": "code",
   "execution_count": 2,
   "id": "8cc357d8",
   "metadata": {},
   "outputs": [],
   "source": [
    "import pandas as pd\n",
    "import numpy as np\n",
    "import matplotlib.pyplot as plt"
   ]
  },
  {
   "cell_type": "markdown",
   "id": "0ea6f965",
   "metadata": {},
   "source": [
    "## Retrieving the Data"
   ]
  },
  {
   "cell_type": "code",
   "execution_count": 3,
   "id": "ca046fff",
   "metadata": {},
   "outputs": [],
   "source": [
    "data=pd.read_csv(\"./PROJECT_IPL_1_Edited.csv\")"
   ]
  },
  {
   "cell_type": "code",
   "execution_count": 4,
   "id": "8a043130",
   "metadata": {},
   "outputs": [
    {
     "name": "stdout",
     "output_type": "stream",
     "text": [
      "<class 'pandas.core.frame.DataFrame'>\n",
      "RangeIndex: 60 entries, 0 to 59\n",
      "Data columns (total 12 columns):\n",
      " #   Column                                                 Non-Null Count  Dtype \n",
      "---  ------                                                 --------------  ----- \n",
      " 0   Player Name                                            60 non-null     object\n",
      " 1   Base Price (in Lakhs Rupees)                           60 non-null     int64 \n",
      " 2   Price Paid (in Lakhs Rupees)                           60 non-null     int64 \n",
      " 3   Status                                                 60 non-null     object\n",
      " 4   Bought by                                              60 non-null     object\n",
      " 5   Previous IPL Teams                                     37 non-null     object\n",
      " 6   Country                                                60 non-null     object\n",
      " 7   Role                                                   60 non-null     object\n",
      " 8   Batting Style                                          39 non-null     object\n",
      " 9   Bowling Style                                          46 non-null     object\n",
      " 10  Batting Order                                          39 non-null     object\n",
      " 11  Capped or Uncapped at Internationals (during Auction)  60 non-null     object\n",
      "dtypes: int64(2), object(10)\n",
      "memory usage: 5.8+ KB\n"
     ]
    }
   ],
   "source": [
    "data.info()"
   ]
  },
  {
   "cell_type": "markdown",
   "id": "6b509496",
   "metadata": {},
   "source": [
    "## Renaming the Columns"
   ]
  },
  {
   "cell_type": "code",
   "execution_count": 5,
   "id": "893b0fe3",
   "metadata": {},
   "outputs": [],
   "source": [
    "data.rename(columns={'Player Name':'Player_Name','Base Price (in Lakhs Rupees)':'Base_Price','Price Paid (in Lakhs Rupees)':'Price_Paid','Status':'Status','Bought by':'Bought_by','Previous IPL Teams':'Previous_IPL_Teams','Country':'Country','Role':'Role','Batting Style':'Batting_Style','Bowling Style':'Bowling_Style','Batting Order':'Batting_Order','Capped or Uncapped at Internationals (during Auction)':'Capped_or_Uncapped'},inplace='True')"
   ]
  },
  {
   "cell_type": "code",
   "execution_count": 6,
   "id": "82896afb",
   "metadata": {},
   "outputs": [],
   "source": [
    "data.loc[data[\"Role\"] == \"Fast Bowler\", \"Role\"] = \"Seam Bowler\""
   ]
  },
  {
   "cell_type": "code",
   "execution_count": 7,
   "id": "b34277aa",
   "metadata": {},
   "outputs": [
    {
     "name": "stdout",
     "output_type": "stream",
     "text": [
      "<class 'pandas.core.frame.DataFrame'>\n",
      "RangeIndex: 60 entries, 0 to 59\n",
      "Data columns (total 12 columns):\n",
      " #   Column              Non-Null Count  Dtype \n",
      "---  ------              --------------  ----- \n",
      " 0   Player_Name         60 non-null     object\n",
      " 1   Base_Price          60 non-null     int64 \n",
      " 2   Price_Paid          60 non-null     int64 \n",
      " 3   Status              60 non-null     object\n",
      " 4   Bought_by           60 non-null     object\n",
      " 5   Previous_IPL_Teams  37 non-null     object\n",
      " 6   Country             60 non-null     object\n",
      " 7   Role                60 non-null     object\n",
      " 8   Batting_Style       39 non-null     object\n",
      " 9   Bowling_Style       46 non-null     object\n",
      " 10  Batting_Order       39 non-null     object\n",
      " 11  Capped_or_Uncapped  60 non-null     object\n",
      "dtypes: int64(2), object(10)\n",
      "memory usage: 5.8+ KB\n"
     ]
    }
   ],
   "source": [
    "data.info()"
   ]
  },
  {
   "cell_type": "markdown",
   "id": "f0b3705d",
   "metadata": {},
   "source": [
    "# Team Wise Analysis:"
   ]
  },
  {
   "cell_type": "markdown",
   "id": "e0ea8f03",
   "metadata": {},
   "source": [
    "## Chennai Super Kings (CSK)"
   ]
  },
  {
   "cell_type": "markdown",
   "id": "1d47a969",
   "metadata": {},
   "source": [
    "### Listing out players bought by CSK"
   ]
  },
  {
   "cell_type": "code",
   "execution_count": 8,
   "id": "30272d3e",
   "metadata": {},
   "outputs": [
    {
     "data": {
      "text/html": [
       "<div>\n",
       "<style scoped>\n",
       "    .dataframe tbody tr th:only-of-type {\n",
       "        vertical-align: middle;\n",
       "    }\n",
       "\n",
       "    .dataframe tbody tr th {\n",
       "        vertical-align: top;\n",
       "    }\n",
       "\n",
       "    .dataframe thead th {\n",
       "        text-align: right;\n",
       "    }\n",
       "</style>\n",
       "<table border=\"1\" class=\"dataframe\">\n",
       "  <thead>\n",
       "    <tr style=\"text-align: right;\">\n",
       "      <th></th>\n",
       "      <th>Player_Name</th>\n",
       "      <th>Base_Price</th>\n",
       "      <th>Price_Paid</th>\n",
       "      <th>Status</th>\n",
       "      <th>Bought_by</th>\n",
       "      <th>Previous_IPL_Teams</th>\n",
       "      <th>Country</th>\n",
       "      <th>Role</th>\n",
       "      <th>Batting_Style</th>\n",
       "      <th>Bowling_Style</th>\n",
       "      <th>Batting_Order</th>\n",
       "      <th>Capped_or_Uncapped</th>\n",
       "    </tr>\n",
       "  </thead>\n",
       "  <tbody>\n",
       "    <tr>\n",
       "      <th>4</th>\n",
       "      <td>Bhagath Varma</td>\n",
       "      <td>20</td>\n",
       "      <td>20</td>\n",
       "      <td>Sold</td>\n",
       "      <td>CSK</td>\n",
       "      <td>NaN</td>\n",
       "      <td>India</td>\n",
       "      <td>Bowling All Rounder</td>\n",
       "      <td>Right</td>\n",
       "      <td>Right Offbreak</td>\n",
       "      <td>Lower</td>\n",
       "      <td>Uncapped</td>\n",
       "    </tr>\n",
       "    <tr>\n",
       "      <th>5</th>\n",
       "      <td>C Hari Nishanth</td>\n",
       "      <td>20</td>\n",
       "      <td>20</td>\n",
       "      <td>Sold</td>\n",
       "      <td>CSK</td>\n",
       "      <td>NaN</td>\n",
       "      <td>India</td>\n",
       "      <td>Batsman</td>\n",
       "      <td>Left</td>\n",
       "      <td>NaN</td>\n",
       "      <td>Top</td>\n",
       "      <td>Uncapped</td>\n",
       "    </tr>\n",
       "    <tr>\n",
       "      <th>7</th>\n",
       "      <td>Cheteshwar Pujara</td>\n",
       "      <td>50</td>\n",
       "      <td>50</td>\n",
       "      <td>Sold</td>\n",
       "      <td>CSK</td>\n",
       "      <td>RCB, KKR, PBKS</td>\n",
       "      <td>India</td>\n",
       "      <td>Batsman</td>\n",
       "      <td>Right</td>\n",
       "      <td>NaN</td>\n",
       "      <td>Top</td>\n",
       "      <td>Capped</td>\n",
       "    </tr>\n",
       "    <tr>\n",
       "      <th>14</th>\n",
       "      <td>Harishankar Reddy</td>\n",
       "      <td>20</td>\n",
       "      <td>20</td>\n",
       "      <td>Sold</td>\n",
       "      <td>CSK</td>\n",
       "      <td>NaN</td>\n",
       "      <td>India</td>\n",
       "      <td>Seam Bowler</td>\n",
       "      <td>NaN</td>\n",
       "      <td>Right Medium</td>\n",
       "      <td>NaN</td>\n",
       "      <td>Uncapped</td>\n",
       "    </tr>\n",
       "    <tr>\n",
       "      <th>22</th>\n",
       "      <td>Krishnappa Gowtham</td>\n",
       "      <td>20</td>\n",
       "      <td>925</td>\n",
       "      <td>Sold</td>\n",
       "      <td>CSK</td>\n",
       "      <td>MI, RR, PBKS</td>\n",
       "      <td>India</td>\n",
       "      <td>Bowling All Rounder</td>\n",
       "      <td>Right</td>\n",
       "      <td>Right Offbreak</td>\n",
       "      <td>Lower</td>\n",
       "      <td>Uncapped</td>\n",
       "    </tr>\n",
       "    <tr>\n",
       "      <th>29</th>\n",
       "      <td>Moeen Ali</td>\n",
       "      <td>200</td>\n",
       "      <td>700</td>\n",
       "      <td>Sold</td>\n",
       "      <td>CSK</td>\n",
       "      <td>RCB</td>\n",
       "      <td>England</td>\n",
       "      <td>Batting All Rounder</td>\n",
       "      <td>Left</td>\n",
       "      <td>Right Offbreak</td>\n",
       "      <td>Top</td>\n",
       "      <td>Capped</td>\n",
       "    </tr>\n",
       "    <tr>\n",
       "      <th>59</th>\n",
       "      <td>Robin Uthappa</td>\n",
       "      <td>0</td>\n",
       "      <td>300</td>\n",
       "      <td>Transfer</td>\n",
       "      <td>CSK</td>\n",
       "      <td>MI, RCB, PWI, KKR, RR</td>\n",
       "      <td>India</td>\n",
       "      <td>Batsman</td>\n",
       "      <td>Right</td>\n",
       "      <td>NaN</td>\n",
       "      <td>Top</td>\n",
       "      <td>Capped</td>\n",
       "    </tr>\n",
       "  </tbody>\n",
       "</table>\n",
       "</div>"
      ],
      "text/plain": [
       "           Player_Name  Base_Price  Price_Paid    Status Bought_by  \\\n",
       "4        Bhagath Varma          20          20      Sold       CSK   \n",
       "5      C Hari Nishanth          20          20      Sold       CSK   \n",
       "7    Cheteshwar Pujara          50          50      Sold       CSK   \n",
       "14   Harishankar Reddy          20          20      Sold       CSK   \n",
       "22  Krishnappa Gowtham          20         925      Sold       CSK   \n",
       "29           Moeen Ali         200         700      Sold       CSK   \n",
       "59       Robin Uthappa           0         300  Transfer       CSK   \n",
       "\n",
       "       Previous_IPL_Teams  Country                 Role Batting_Style  \\\n",
       "4                     NaN    India  Bowling All Rounder        Right    \n",
       "5                     NaN    India              Batsman          Left   \n",
       "7          RCB, KKR, PBKS    India              Batsman        Right    \n",
       "14                    NaN    India          Seam Bowler           NaN   \n",
       "22           MI, RR, PBKS    India  Bowling All Rounder        Right    \n",
       "29                    RCB  England  Batting All Rounder          Left   \n",
       "59  MI, RCB, PWI, KKR, RR    India              Batsman        Right    \n",
       "\n",
       "     Bowling_Style Batting_Order Capped_or_Uncapped  \n",
       "4   Right Offbreak        Lower            Uncapped  \n",
       "5              NaN          Top            Uncapped  \n",
       "7              NaN           Top             Capped  \n",
       "14    Right Medium           NaN           Uncapped  \n",
       "22  Right Offbreak        Lower            Uncapped  \n",
       "29  Right Offbreak           Top             Capped  \n",
       "59             NaN           Top             Capped  "
      ]
     },
     "execution_count": 8,
     "metadata": {},
     "output_type": "execute_result"
    }
   ],
   "source": [
    "csk=data.groupby('Bought_by').get_group('CSK')\n",
    "csk"
   ]
  },
  {
   "cell_type": "markdown",
   "id": "b3b5330d",
   "metadata": {},
   "source": [
    "### Visualization of amount at which the players have been bought"
   ]
  },
  {
   "cell_type": "code",
   "execution_count": 9,
   "id": "461aa5ef",
   "metadata": {},
   "outputs": [
    {
     "data": {
      "image/png": "[encoded data removed]",
      "text/plain": [
       "<Figure size 432x288 with 1 Axes>"
      ]
     },
     "metadata": {
      "needs_background": "light"
     },
     "output_type": "display_data"
    }
   ],
   "source": [
    "x=list(csk['Player_Name']);\n",
    "y=list(csk['Price_Paid']);\n",
    "plt.barh(x,y);"
   ]
  },
  {
   "cell_type": "markdown",
   "id": "69772597",
   "metadata": {},
   "source": [
    "### List of Batsmen bought by CSK"
   ]
  },
  {
   "cell_type": "code",
   "execution_count": 10,
   "id": "1ae2973a",
   "metadata": {},
   "outputs": [
    {
     "data": {
      "text/html": [
       "<div>\n",
       "<style scoped>\n",
       "    .dataframe tbody tr th:only-of-type {\n",
       "        vertical-align: middle;\n",
       "    }\n",
       "\n",
       "    .dataframe tbody tr th {\n",
       "        vertical-align: top;\n",
       "    }\n",
       "\n",
       "    .dataframe thead th {\n",
       "        text-align: right;\n",
       "    }\n",
       "</style>\n",
       "<table border=\"1\" class=\"dataframe\">\n",
       "  <thead>\n",
       "    <tr style=\"text-align: right;\">\n",
       "      <th></th>\n",
       "      <th>Player_Name</th>\n",
       "      <th>Base_Price</th>\n",
       "      <th>Price_Paid</th>\n",
       "      <th>Status</th>\n",
       "      <th>Bought_by</th>\n",
       "      <th>Previous_IPL_Teams</th>\n",
       "      <th>Country</th>\n",
       "      <th>Role</th>\n",
       "      <th>Batting_Style</th>\n",
       "      <th>Bowling_Style</th>\n",
       "      <th>Batting_Order</th>\n",
       "      <th>Capped_or_Uncapped</th>\n",
       "    </tr>\n",
       "  </thead>\n",
       "  <tbody>\n",
       "    <tr>\n",
       "      <th>5</th>\n",
       "      <td>C Hari Nishanth</td>\n",
       "      <td>20</td>\n",
       "      <td>20</td>\n",
       "      <td>Sold</td>\n",
       "      <td>CSK</td>\n",
       "      <td>NaN</td>\n",
       "      <td>India</td>\n",
       "      <td>Batsman</td>\n",
       "      <td>Left</td>\n",
       "      <td>NaN</td>\n",
       "      <td>Top</td>\n",
       "      <td>Uncapped</td>\n",
       "    </tr>\n",
       "    <tr>\n",
       "      <th>7</th>\n",
       "      <td>Cheteshwar Pujara</td>\n",
       "      <td>50</td>\n",
       "      <td>50</td>\n",
       "      <td>Sold</td>\n",
       "      <td>CSK</td>\n",
       "      <td>RCB, KKR, PBKS</td>\n",
       "      <td>India</td>\n",
       "      <td>Batsman</td>\n",
       "      <td>Right</td>\n",
       "      <td>NaN</td>\n",
       "      <td>Top</td>\n",
       "      <td>Capped</td>\n",
       "    </tr>\n",
       "    <tr>\n",
       "      <th>59</th>\n",
       "      <td>Robin Uthappa</td>\n",
       "      <td>0</td>\n",
       "      <td>300</td>\n",
       "      <td>Transfer</td>\n",
       "      <td>CSK</td>\n",
       "      <td>MI, RCB, PWI, KKR, RR</td>\n",
       "      <td>India</td>\n",
       "      <td>Batsman</td>\n",
       "      <td>Right</td>\n",
       "      <td>NaN</td>\n",
       "      <td>Top</td>\n",
       "      <td>Capped</td>\n",
       "    </tr>\n",
       "  </tbody>\n",
       "</table>\n",
       "</div>"
      ],
      "text/plain": [
       "          Player_Name  Base_Price  Price_Paid    Status Bought_by  \\\n",
       "5     C Hari Nishanth          20          20      Sold       CSK   \n",
       "7   Cheteshwar Pujara          50          50      Sold       CSK   \n",
       "59      Robin Uthappa           0         300  Transfer       CSK   \n",
       "\n",
       "       Previous_IPL_Teams Country     Role Batting_Style Bowling_Style  \\\n",
       "5                     NaN   India  Batsman          Left           NaN   \n",
       "7          RCB, KKR, PBKS   India  Batsman        Right            NaN   \n",
       "59  MI, RCB, PWI, KKR, RR   India  Batsman        Right            NaN   \n",
       "\n",
       "   Batting_Order Capped_or_Uncapped  \n",
       "5           Top            Uncapped  \n",
       "7            Top             Capped  \n",
       "59           Top             Capped  "
      ]
     },
     "execution_count": 10,
     "metadata": {},
     "output_type": "execute_result"
    }
   ],
   "source": [
    "csk_bats=csk[csk['Role'].str.contains('Batsman')]\n",
    "csk_bats"
   ]
  },
  {
   "cell_type": "markdown",
   "id": "88416f7c",
   "metadata": {},
   "source": [
    "### List of Bowlers bought by CSK"
   ]
  },
  {
   "cell_type": "code",
   "execution_count": 11,
   "id": "e29d63c0",
   "metadata": {},
   "outputs": [
    {
     "data": {
      "text/html": [
       "<div>\n",
       "<style scoped>\n",
       "    .dataframe tbody tr th:only-of-type {\n",
       "        vertical-align: middle;\n",
       "    }\n",
       "\n",
       "    .dataframe tbody tr th {\n",
       "        vertical-align: top;\n",
       "    }\n",
       "\n",
       "    .dataframe thead th {\n",
       "        text-align: right;\n",
       "    }\n",
       "</style>\n",
       "<table border=\"1\" class=\"dataframe\">\n",
       "  <thead>\n",
       "    <tr style=\"text-align: right;\">\n",
       "      <th></th>\n",
       "      <th>Player_Name</th>\n",
       "      <th>Base_Price</th>\n",
       "      <th>Price_Paid</th>\n",
       "      <th>Status</th>\n",
       "      <th>Bought_by</th>\n",
       "      <th>Previous_IPL_Teams</th>\n",
       "      <th>Country</th>\n",
       "      <th>Role</th>\n",
       "      <th>Batting_Style</th>\n",
       "      <th>Bowling_Style</th>\n",
       "      <th>Batting_Order</th>\n",
       "      <th>Capped_or_Uncapped</th>\n",
       "    </tr>\n",
       "  </thead>\n",
       "  <tbody>\n",
       "    <tr>\n",
       "      <th>14</th>\n",
       "      <td>Harishankar Reddy</td>\n",
       "      <td>20</td>\n",
       "      <td>20</td>\n",
       "      <td>Sold</td>\n",
       "      <td>CSK</td>\n",
       "      <td>NaN</td>\n",
       "      <td>India</td>\n",
       "      <td>Seam Bowler</td>\n",
       "      <td>NaN</td>\n",
       "      <td>Right Medium</td>\n",
       "      <td>NaN</td>\n",
       "      <td>Uncapped</td>\n",
       "    </tr>\n",
       "  </tbody>\n",
       "</table>\n",
       "</div>"
      ],
      "text/plain": [
       "          Player_Name  Base_Price  Price_Paid Status Bought_by  \\\n",
       "14  Harishankar Reddy          20          20   Sold       CSK   \n",
       "\n",
       "   Previous_IPL_Teams Country         Role Batting_Style Bowling_Style  \\\n",
       "14                NaN   India  Seam Bowler           NaN  Right Medium   \n",
       "\n",
       "   Batting_Order Capped_or_Uncapped  \n",
       "14           NaN           Uncapped  "
      ]
     },
     "execution_count": 11,
     "metadata": {},
     "output_type": "execute_result"
    }
   ],
   "source": [
    "csk_bowl=csk[csk['Role'].str.contains('Bowler')]\n",
    "csk_bowl"
   ]
  },
  {
   "cell_type": "markdown",
   "id": "e8e2b723",
   "metadata": {},
   "source": [
    "### List of All Rounders bought by CSK"
   ]
  },
  {
   "cell_type": "code",
   "execution_count": 12,
   "id": "e867535b",
   "metadata": {},
   "outputs": [
    {
     "data": {
      "text/html": [
       "<div>\n",
       "<style scoped>\n",
       "    .dataframe tbody tr th:only-of-type {\n",
       "        vertical-align: middle;\n",
       "    }\n",
       "\n",
       "    .dataframe tbody tr th {\n",
       "        vertical-align: top;\n",
       "    }\n",
       "\n",
       "    .dataframe thead th {\n",
       "        text-align: right;\n",
       "    }\n",
       "</style>\n",
       "<table border=\"1\" class=\"dataframe\">\n",
       "  <thead>\n",
       "    <tr style=\"text-align: right;\">\n",
       "      <th></th>\n",
       "      <th>Player_Name</th>\n",
       "      <th>Base_Price</th>\n",
       "      <th>Price_Paid</th>\n",
       "      <th>Status</th>\n",
       "      <th>Bought_by</th>\n",
       "      <th>Previous_IPL_Teams</th>\n",
       "      <th>Country</th>\n",
       "      <th>Role</th>\n",
       "      <th>Batting_Style</th>\n",
       "      <th>Bowling_Style</th>\n",
       "      <th>Batting_Order</th>\n",
       "      <th>Capped_or_Uncapped</th>\n",
       "    </tr>\n",
       "  </thead>\n",
       "  <tbody>\n",
       "    <tr>\n",
       "      <th>4</th>\n",
       "      <td>Bhagath Varma</td>\n",
       "      <td>20</td>\n",
       "      <td>20</td>\n",
       "      <td>Sold</td>\n",
       "      <td>CSK</td>\n",
       "      <td>NaN</td>\n",
       "      <td>India</td>\n",
       "      <td>Bowling All Rounder</td>\n",
       "      <td>Right</td>\n",
       "      <td>Right Offbreak</td>\n",
       "      <td>Lower</td>\n",
       "      <td>Uncapped</td>\n",
       "    </tr>\n",
       "    <tr>\n",
       "      <th>22</th>\n",
       "      <td>Krishnappa Gowtham</td>\n",
       "      <td>20</td>\n",
       "      <td>925</td>\n",
       "      <td>Sold</td>\n",
       "      <td>CSK</td>\n",
       "      <td>MI, RR, PBKS</td>\n",
       "      <td>India</td>\n",
       "      <td>Bowling All Rounder</td>\n",
       "      <td>Right</td>\n",
       "      <td>Right Offbreak</td>\n",
       "      <td>Lower</td>\n",
       "      <td>Uncapped</td>\n",
       "    </tr>\n",
       "    <tr>\n",
       "      <th>29</th>\n",
       "      <td>Moeen Ali</td>\n",
       "      <td>200</td>\n",
       "      <td>700</td>\n",
       "      <td>Sold</td>\n",
       "      <td>CSK</td>\n",
       "      <td>RCB</td>\n",
       "      <td>England</td>\n",
       "      <td>Batting All Rounder</td>\n",
       "      <td>Left</td>\n",
       "      <td>Right Offbreak</td>\n",
       "      <td>Top</td>\n",
       "      <td>Capped</td>\n",
       "    </tr>\n",
       "  </tbody>\n",
       "</table>\n",
       "</div>"
      ],
      "text/plain": [
       "           Player_Name  Base_Price  Price_Paid Status Bought_by  \\\n",
       "4        Bhagath Varma          20          20   Sold       CSK   \n",
       "22  Krishnappa Gowtham          20         925   Sold       CSK   \n",
       "29           Moeen Ali         200         700   Sold       CSK   \n",
       "\n",
       "   Previous_IPL_Teams  Country                 Role Batting_Style  \\\n",
       "4                 NaN    India  Bowling All Rounder        Right    \n",
       "22       MI, RR, PBKS    India  Bowling All Rounder        Right    \n",
       "29                RCB  England  Batting All Rounder          Left   \n",
       "\n",
       "     Bowling_Style Batting_Order Capped_or_Uncapped  \n",
       "4   Right Offbreak        Lower            Uncapped  \n",
       "22  Right Offbreak        Lower            Uncapped  \n",
       "29  Right Offbreak           Top             Capped  "
      ]
     },
     "execution_count": 12,
     "metadata": {},
     "output_type": "execute_result"
    }
   ],
   "source": [
    "csk_all=csk[csk['Role'].str.contains('All Rounder')]\n",
    "csk_all"
   ]
  },
  {
   "cell_type": "markdown",
   "id": "fa896455",
   "metadata": {},
   "source": [
    "## TEAM ANALYSIS - CHENNAI SUPER KINGS"
   ]
  },
  {
   "cell_type": "code",
   "execution_count": 13,
   "id": "75003d9d",
   "metadata": {},
   "outputs": [],
   "source": [
    "def formpri (a):\n",
    "    print(\"Player Name:             \",a['Player_Name'].to_string(index=False))\n",
    "    print(\"Country:                 \",a['Country'].to_string(index=False))\n",
    "    print(\"Bought for (in crores):  \",(a['Price_Paid']/100).to_string(index=False))\n",
    "    print(\"Role:                    \",a['Role'].to_string(index=False))"
   ]
  },
  {
   "cell_type": "code",
   "execution_count": 14,
   "id": "b234b84a",
   "metadata": {},
   "outputs": [
    {
     "name": "stdout",
     "output_type": "stream",
     "text": [
      "Total amount spent during auction:  20.35  crores\n"
     ]
    }
   ],
   "source": [
    "print(\"Total amount spent during auction: \",(csk['Price_Paid'].sum())/100,\" crores\")"
   ]
  },
  {
   "cell_type": "code",
   "execution_count": 15,
   "id": "e8c8f2f4",
   "metadata": {},
   "outputs": [
    {
     "name": "stdout",
     "output_type": "stream",
     "text": [
      "Highest bid by Chennai Super Kings: \n",
      "\n",
      "Player Name:              Krishnappa Gowtham\n",
      "Country:                  India\n",
      "Bought for (in crores):   9.25\n",
      "Role:                     Bowling All Rounder\n"
     ]
    }
   ],
   "source": [
    "print(\"Highest bid by Chennai Super Kings: \")\n",
    "print()\n",
    "formpri(csk[csk['Price_Paid']==csk['Price_Paid'].max()])"
   ]
  },
  {
   "cell_type": "code",
   "execution_count": 16,
   "id": "2da6e01b",
   "metadata": {},
   "outputs": [
    {
     "name": "stdout",
     "output_type": "stream",
     "text": [
      "Highest Indian bid by Chennai Super Kings: \n",
      "\n",
      "Player Name:              Krishnappa Gowtham\n",
      "Country:                  India\n",
      "Bought for (in crores):   9.25\n",
      "Role:                     Bowling All Rounder\n"
     ]
    }
   ],
   "source": [
    "print(\"Highest Indian bid by Chennai Super Kings: \")\n",
    "print()\n",
    "formpri(csk[csk['Price_Paid']==csk[csk['Country']=='India']['Price_Paid'].max()])"
   ]
  },
  {
   "cell_type": "code",
   "execution_count": 17,
   "id": "dc6ea459",
   "metadata": {},
   "outputs": [
    {
     "name": "stdout",
     "output_type": "stream",
     "text": [
      "Highest Foreign bid by Chennai Super Kings: \n",
      "\n",
      "Player Name:              Moeen Ali\n",
      "Country:                  England\n",
      "Bought for (in crores):   7.0\n",
      "Role:                     Batting All Rounder\n"
     ]
    }
   ],
   "source": [
    "print(\"Highest Foreign bid by Chennai Super Kings: \")\n",
    "print()\n",
    "formpri(csk[csk['Price_Paid']==csk[csk['Country']!='India']['Price_Paid'].max()])"
   ]
  },
  {
   "cell_type": "code",
   "execution_count": 18,
   "id": "766fcb53",
   "metadata": {},
   "outputs": [
    {
     "name": "stdout",
     "output_type": "stream",
     "text": [
      "Amount Spent on each Department: \n",
      "\n",
      "Role\n",
      "Batsman                3.70\n",
      "Batting All Rounder    7.00\n",
      "Bowling All Rounder    9.45\n",
      "Seam Bowler            0.20\n"
     ]
    }
   ],
   "source": [
    "print(\"Amount Spent on each Department: \")\n",
    "print()\n",
    "print((csk.groupby('Role')['Price_Paid'].sum()/100).to_string())"
   ]
  },
  {
   "cell_type": "code",
   "execution_count": 19,
   "id": "85fc0ea4",
   "metadata": {},
   "outputs": [
    {
     "name": "stdout",
     "output_type": "stream",
     "text": [
      "Highest batsman bid by Chennai Super Kings: \n",
      "\n",
      "Player Name:              Robin Uthappa\n",
      "Country:                  India\n",
      "Bought for (in crores):   3.0\n",
      "Role:                     Batsman\n"
     ]
    }
   ],
   "source": [
    "print(\"Highest batsman bid by Chennai Super Kings: \")\n",
    "print()\n",
    "formpri(csk_bats[csk_bats['Price_Paid']==csk_bats['Price_Paid'].max()])"
   ]
  },
  {
   "cell_type": "code",
   "execution_count": 20,
   "id": "8e277fee",
   "metadata": {},
   "outputs": [
    {
     "name": "stdout",
     "output_type": "stream",
     "text": [
      "Highest bowler bid by Chennai Super Kings: \n",
      "\n",
      "Player Name:              Harishankar Reddy\n",
      "Country:                  India\n",
      "Bought for (in crores):   0.2\n",
      "Role:                     Seam Bowler\n"
     ]
    }
   ],
   "source": [
    "print(\"Highest bowler bid by Chennai Super Kings: \")\n",
    "print()\n",
    "formpri(csk_bowl[csk_bowl['Price_Paid']==csk_bowl['Price_Paid'].max()])"
   ]
  },
  {
   "cell_type": "code",
   "execution_count": 21,
   "id": "2686257a",
   "metadata": {},
   "outputs": [
    {
     "name": "stdout",
     "output_type": "stream",
     "text": [
      "Highest all rounder bid by Chennai Super Kings: \n",
      "\n",
      "Player Name:              Krishnappa Gowtham\n",
      "Country:                  India\n",
      "Bought for (in crores):   9.25\n",
      "Role:                     Bowling All Rounder\n"
     ]
    }
   ],
   "source": [
    "print(\"Highest all rounder bid by Chennai Super Kings: \")\n",
    "print()\n",
    "formpri(csk_all[csk_all['Price_Paid']==csk_all['Price_Paid'].max()])"
   ]
  },
  {
   "cell_type": "code",
   "execution_count": 22,
   "id": "044176de",
   "metadata": {},
   "outputs": [
    {
     "name": "stdout",
     "output_type": "stream",
     "text": [
      "Average amount spent on each department: \n",
      "\n",
      "Role\n",
      "Batsman                1.233333\n",
      "Batting All Rounder    7.000000\n",
      "Bowling All Rounder    4.725000\n",
      "Seam Bowler            0.200000\n"
     ]
    }
   ],
   "source": [
    "print(\"Average amount spent on each department: \")\n",
    "print()\n",
    "print((csk.groupby('Role')['Price_Paid'].mean()/100).to_string())"
   ]
  },
  {
   "cell_type": "code",
   "execution_count": 23,
   "id": "c9505b95",
   "metadata": {},
   "outputs": [
    {
     "name": "stdout",
     "output_type": "stream",
     "text": [
      "Highest capped bid by Chennai Super Kings: \n",
      "\n",
      "Player Name:              Moeen Ali\n",
      "Country:                  England\n",
      "Bought for (in crores):   7.0\n",
      "Role:                     Batting All Rounder\n"
     ]
    }
   ],
   "source": [
    "print(\"Highest capped bid by Chennai Super Kings: \")\n",
    "print()\n",
    "formpri(csk[csk['Price_Paid']==csk[csk['Capped_or_Uncapped']=='Capped']['Price_Paid'].max()])"
   ]
  },
  {
   "cell_type": "code",
   "execution_count": 24,
   "id": "6d61a294",
   "metadata": {},
   "outputs": [
    {
     "name": "stdout",
     "output_type": "stream",
     "text": [
      "Highest uncapped bid by Chennai Super Kings: \n",
      "\n",
      "Player Name:              Krishnappa Gowtham\n",
      "Country:                  India\n",
      "Bought for (in crores):   9.25\n",
      "Role:                     Bowling All Rounder\n"
     ]
    }
   ],
   "source": [
    "print(\"Highest uncapped bid by Chennai Super Kings: \")\n",
    "print()\n",
    "formpri(csk[csk['Price_Paid']==csk[csk['Capped_or_Uncapped']=='Uncapped']['Price_Paid'].max()])"
   ]
  },
  {
   "cell_type": "code",
   "execution_count": 25,
   "id": "ce64132f",
   "metadata": {},
   "outputs": [
    {
     "name": "stdout",
     "output_type": "stream",
     "text": [
      "Visualization of distribution of Amount spent by CSK on each department: \n",
      "\n"
     ]
    },
    {
     "data": {
      "image/png": "[encoded data removed]",
      "text/plain": [
       "<Figure size 1080x720 with 1 Axes>"
      ]
     },
     "metadata": {},
     "output_type": "display_data"
    }
   ],
   "source": [
    "print(\"Visualization of distribution of Amount spent by CSK on each department: \")\n",
    "print()\n",
    "csk.groupby(['Role']).sum().plot(kind='pie', y='Price_Paid', autopct=\"%.2f%%\", figsize=(15,10), title=\"Distribution of Amount spent by CSK on each department\").legend(loc='upper right');"
   ]
  },
  {
   "cell_type": "code",
   "execution_count": 26,
   "id": "cf425670",
   "metadata": {},
   "outputs": [
    {
     "name": "stdout",
     "output_type": "stream",
     "text": [
      "No. of IPL Experienced and inexperienced Players bought by Chennai Super Kings: \n",
      "Experienced Players:      4\n",
      "Inexperienced Players:    3\n"
     ]
    }
   ],
   "source": [
    "print(\"No. of IPL Experienced and inexperienced Players bought by Chennai Super Kings: \")\n",
    "print(\"Experienced Players:     \",csk[pd.notnull(csk['Previous_IPL_Teams'])].shape[0])\n",
    "print(\"Inexperienced Players:   \",csk[pd.isnull(csk['Previous_IPL_Teams'])].shape[0])"
   ]
  },
  {
   "cell_type": "code",
   "execution_count": 27,
   "id": "b8bec538",
   "metadata": {},
   "outputs": [
    {
     "name": "stdout",
     "output_type": "stream",
     "text": [
      "No. of Internationally Experienced and inexperienced  Players bought by Chennai Super Kings: \n",
      "Experienced Players:      3\n",
      "Inexperienced Players:    4\n"
     ]
    }
   ],
   "source": [
    "print(\"No. of Internationally Experienced and inexperienced  Players bought by Chennai Super Kings: \")\n",
    "print(\"Experienced Players:     \",csk[csk['Capped_or_Uncapped']=='Capped'].shape[0])\n",
    "print(\"Inexperienced Players:   \",csk[csk['Capped_or_Uncapped']=='Uncapped'].shape[0])"
   ]
  },
  {
   "cell_type": "code",
   "execution_count": 28,
   "id": "3dc6e09c",
   "metadata": {},
   "outputs": [
    {
     "name": "stdout",
     "output_type": "stream",
     "text": [
      "No. of players bought at\n",
      "Base Price:            4\n",
      "More than Base Price:  3\n"
     ]
    }
   ],
   "source": [
    "print(\"No. of players bought at\")\n",
    "print(\"Base Price:           \",csk[csk['Price_Paid']==csk['Base_Price']].shape[0])\n",
    "print(\"More than Base Price: \",csk[csk['Price_Paid']!=csk['Base_Price']].shape[0])"
   ]
  },
  {
   "cell_type": "markdown",
   "id": "c1d5121e",
   "metadata": {},
   "source": [
    "## Royal Challengers Bangalore (RCB)"
   ]
  },
  {
   "cell_type": "markdown",
   "id": "2779d053",
   "metadata": {},
   "source": [
    "### Listing out players bought by RCB"
   ]
  },
  {
   "cell_type": "code",
   "execution_count": 29,
   "id": "ba2116d7",
   "metadata": {},
   "outputs": [
    {
     "data": {
      "text/html": [
       "<div>\n",
       "<style scoped>\n",
       "    .dataframe tbody tr th:only-of-type {\n",
       "        vertical-align: middle;\n",
       "    }\n",
       "\n",
       "    .dataframe tbody tr th {\n",
       "        vertical-align: top;\n",
       "    }\n",
       "\n",
       "    .dataframe thead th {\n",
       "        text-align: right;\n",
       "    }\n",
       "</style>\n",
       "<table border=\"1\" class=\"dataframe\">\n",
       "  <thead>\n",
       "    <tr style=\"text-align: right;\">\n",
       "      <th></th>\n",
       "      <th>Player_Name</th>\n",
       "      <th>Base_Price</th>\n",
       "      <th>Price_Paid</th>\n",
       "      <th>Status</th>\n",
       "      <th>Bought_by</th>\n",
       "      <th>Previous_IPL_Teams</th>\n",
       "      <th>Country</th>\n",
       "      <th>Role</th>\n",
       "      <th>Batting_Style</th>\n",
       "      <th>Bowling_Style</th>\n",
       "      <th>Batting_Order</th>\n",
       "      <th>Capped_or_Uncapped</th>\n",
       "    </tr>\n",
       "  </thead>\n",
       "  <tbody>\n",
       "    <tr>\n",
       "      <th>9</th>\n",
       "      <td>Dan Christian</td>\n",
       "      <td>75</td>\n",
       "      <td>480</td>\n",
       "      <td>Sold</td>\n",
       "      <td>RCB</td>\n",
       "      <td>RCB, RPS, DC, SRH</td>\n",
       "      <td>Australia</td>\n",
       "      <td>All Rounder</td>\n",
       "      <td>Right</td>\n",
       "      <td>Right Fast Medium</td>\n",
       "      <td>Middle</td>\n",
       "      <td>Capped</td>\n",
       "    </tr>\n",
       "    <tr>\n",
       "      <th>12</th>\n",
       "      <td>Glenn Maxwell</td>\n",
       "      <td>200</td>\n",
       "      <td>1425</td>\n",
       "      <td>Sold</td>\n",
       "      <td>RCB</td>\n",
       "      <td>PBKS, MI, DC</td>\n",
       "      <td>Australia</td>\n",
       "      <td>Batting All Rounder</td>\n",
       "      <td>Right</td>\n",
       "      <td>Right Offbreak</td>\n",
       "      <td>Middle</td>\n",
       "      <td>Capped</td>\n",
       "    </tr>\n",
       "    <tr>\n",
       "      <th>24</th>\n",
       "      <td>Kyle Jamieson</td>\n",
       "      <td>75</td>\n",
       "      <td>1500</td>\n",
       "      <td>Sold</td>\n",
       "      <td>RCB</td>\n",
       "      <td>NaN</td>\n",
       "      <td>New Zealand</td>\n",
       "      <td>Seam Bowler</td>\n",
       "      <td>NaN</td>\n",
       "      <td>Right Fast Medium</td>\n",
       "      <td>NaN</td>\n",
       "      <td>Capped</td>\n",
       "    </tr>\n",
       "    <tr>\n",
       "      <th>30</th>\n",
       "      <td>Mohammed Azharuddeen</td>\n",
       "      <td>20</td>\n",
       "      <td>20</td>\n",
       "      <td>Sold</td>\n",
       "      <td>RCB</td>\n",
       "      <td>NaN</td>\n",
       "      <td>India</td>\n",
       "      <td>Wicket Keeper Batsman</td>\n",
       "      <td>Right</td>\n",
       "      <td>NaN</td>\n",
       "      <td>Top</td>\n",
       "      <td>Uncapped</td>\n",
       "    </tr>\n",
       "    <tr>\n",
       "      <th>37</th>\n",
       "      <td>Rajat Patidar</td>\n",
       "      <td>20</td>\n",
       "      <td>20</td>\n",
       "      <td>Sold</td>\n",
       "      <td>RCB</td>\n",
       "      <td>NaN</td>\n",
       "      <td>India</td>\n",
       "      <td>Batsman</td>\n",
       "      <td>Right</td>\n",
       "      <td>NaN</td>\n",
       "      <td>Top</td>\n",
       "      <td>Uncapped</td>\n",
       "    </tr>\n",
       "    <tr>\n",
       "      <th>40</th>\n",
       "      <td>Sachin Baby</td>\n",
       "      <td>20</td>\n",
       "      <td>20</td>\n",
       "      <td>Sold</td>\n",
       "      <td>RCB</td>\n",
       "      <td>RR, RCB, SRH</td>\n",
       "      <td>India</td>\n",
       "      <td>Batsman</td>\n",
       "      <td>Left</td>\n",
       "      <td>NaN</td>\n",
       "      <td>Middle</td>\n",
       "      <td>Uncapped</td>\n",
       "    </tr>\n",
       "    <tr>\n",
       "      <th>47</th>\n",
       "      <td>Srikar Bharat</td>\n",
       "      <td>20</td>\n",
       "      <td>20</td>\n",
       "      <td>Sold</td>\n",
       "      <td>RCB</td>\n",
       "      <td>DC</td>\n",
       "      <td>India</td>\n",
       "      <td>Wicket Keeper Batsman</td>\n",
       "      <td>Right</td>\n",
       "      <td>NaN</td>\n",
       "      <td>Top</td>\n",
       "      <td>Uncapped</td>\n",
       "    </tr>\n",
       "    <tr>\n",
       "      <th>49</th>\n",
       "      <td>Suyash Prabhudessai</td>\n",
       "      <td>20</td>\n",
       "      <td>20</td>\n",
       "      <td>Sold</td>\n",
       "      <td>RCB</td>\n",
       "      <td>NaN</td>\n",
       "      <td>India</td>\n",
       "      <td>Batting All Rounder</td>\n",
       "      <td>Right</td>\n",
       "      <td>Right Medium</td>\n",
       "      <td>Middle</td>\n",
       "      <td>Uncapped</td>\n",
       "    </tr>\n",
       "    <tr>\n",
       "      <th>57</th>\n",
       "      <td>Daniel Sams</td>\n",
       "      <td>0</td>\n",
       "      <td>30</td>\n",
       "      <td>Transfer</td>\n",
       "      <td>RCB</td>\n",
       "      <td>DC</td>\n",
       "      <td>Australia</td>\n",
       "      <td>All Rounder</td>\n",
       "      <td>Right</td>\n",
       "      <td>Left Fast Medium</td>\n",
       "      <td>Middle</td>\n",
       "      <td>Capped</td>\n",
       "    </tr>\n",
       "    <tr>\n",
       "      <th>58</th>\n",
       "      <td>Harshal Patel</td>\n",
       "      <td>0</td>\n",
       "      <td>20</td>\n",
       "      <td>Transfer</td>\n",
       "      <td>RCB</td>\n",
       "      <td>DC, RCB</td>\n",
       "      <td>India</td>\n",
       "      <td>Seam Bowler</td>\n",
       "      <td>NaN</td>\n",
       "      <td>Right Medium</td>\n",
       "      <td>NaN</td>\n",
       "      <td>Uncapped</td>\n",
       "    </tr>\n",
       "  </tbody>\n",
       "</table>\n",
       "</div>"
      ],
      "text/plain": [
       "             Player_Name  Base_Price  Price_Paid    Status Bought_by  \\\n",
       "9          Dan Christian          75         480      Sold       RCB   \n",
       "12         Glenn Maxwell         200        1425      Sold       RCB   \n",
       "24         Kyle Jamieson          75        1500      Sold       RCB   \n",
       "30  Mohammed Azharuddeen          20          20      Sold       RCB   \n",
       "37         Rajat Patidar          20          20     Sold        RCB   \n",
       "40           Sachin Baby          20          20      Sold       RCB   \n",
       "47         Srikar Bharat          20          20      Sold       RCB   \n",
       "49   Suyash Prabhudessai          20          20      Sold       RCB   \n",
       "57           Daniel Sams           0          30  Transfer       RCB   \n",
       "58         Harshal Patel           0          20  Transfer       RCB   \n",
       "\n",
       "   Previous_IPL_Teams      Country                   Role Batting_Style  \\\n",
       "9   RCB, RPS, DC, SRH    Australia            All Rounder        Right    \n",
       "12       PBKS, MI, DC    Australia    Batting All Rounder        Right    \n",
       "24                NaN  New Zealand            Seam Bowler           NaN   \n",
       "30                NaN        India  Wicket Keeper Batsman        Right    \n",
       "37                NaN        India                Batsman        Right    \n",
       "40       RR, RCB, SRH        India                Batsman          Left   \n",
       "47                 DC        India  Wicket Keeper Batsman        Right    \n",
       "49                NaN        India    Batting All Rounder        Right    \n",
       "57                 DC    Australia            All Rounder        Right    \n",
       "58            DC, RCB        India            Seam Bowler           NaN   \n",
       "\n",
       "        Bowling_Style Batting_Order Capped_or_Uncapped  \n",
       "9   Right Fast Medium       Middle              Capped  \n",
       "12     Right Offbreak       Middle              Capped  \n",
       "24  Right Fast Medium           NaN             Capped  \n",
       "30                NaN           Top           Uncapped  \n",
       "37                NaN           Top           Uncapped  \n",
       "40                NaN        Middle           Uncapped  \n",
       "47                NaN           Top           Uncapped  \n",
       "49       Right Medium        Middle           Uncapped  \n",
       "57   Left Fast Medium        Middle             Capped  \n",
       "58       Right Medium           NaN           Uncapped  "
      ]
     },
     "execution_count": 29,
     "metadata": {},
     "output_type": "execute_result"
    }
   ],
   "source": [
    "rcb=data.groupby('Bought_by').get_group('RCB')\n",
    "rcb"
   ]
  },
  {
   "cell_type": "markdown",
   "id": "189ae07b",
   "metadata": {},
   "source": [
    "### Visualization of amount at which the players have been bought"
   ]
  },
  {
   "cell_type": "code",
   "execution_count": 30,
   "id": "05af57a8",
   "metadata": {},
   "outputs": [
    {
     "data": {
      "image/png": "[encoded data removed]",
      "text/plain": [
       "<Figure size 432x288 with 1 Axes>"
      ]
     },
     "metadata": {
      "needs_background": "light"
     },
     "output_type": "display_data"
    }
   ],
   "source": [
    "x=list(rcb['Player_Name']);\n",
    "y=list(rcb['Price_Paid']);\n",
    "plt.barh(x,y);"
   ]
  },
  {
   "cell_type": "markdown",
   "id": "2c7ca86f",
   "metadata": {},
   "source": [
    "### List of Batsmen bought by RCB"
   ]
  },
  {
   "cell_type": "code",
   "execution_count": 31,
   "id": "6564fff4",
   "metadata": {},
   "outputs": [
    {
     "data": {
      "text/html": [
       "<div>\n",
       "<style scoped>\n",
       "    .dataframe tbody tr th:only-of-type {\n",
       "        vertical-align: middle;\n",
       "    }\n",
       "\n",
       "    .dataframe tbody tr th {\n",
       "        vertical-align: top;\n",
       "    }\n",
       "\n",
       "    .dataframe thead th {\n",
       "        text-align: right;\n",
       "    }\n",
       "</style>\n",
       "<table border=\"1\" class=\"dataframe\">\n",
       "  <thead>\n",
       "    <tr style=\"text-align: right;\">\n",
       "      <th></th>\n",
       "      <th>Player_Name</th>\n",
       "      <th>Base_Price</th>\n",
       "      <th>Price_Paid</th>\n",
       "      <th>Status</th>\n",
       "      <th>Bought_by</th>\n",
       "      <th>Previous_IPL_Teams</th>\n",
       "      <th>Country</th>\n",
       "      <th>Role</th>\n",
       "      <th>Batting_Style</th>\n",
       "      <th>Bowling_Style</th>\n",
       "      <th>Batting_Order</th>\n",
       "      <th>Capped_or_Uncapped</th>\n",
       "    </tr>\n",
       "  </thead>\n",
       "  <tbody>\n",
       "    <tr>\n",
       "      <th>30</th>\n",
       "      <td>Mohammed Azharuddeen</td>\n",
       "      <td>20</td>\n",
       "      <td>20</td>\n",
       "      <td>Sold</td>\n",
       "      <td>RCB</td>\n",
       "      <td>NaN</td>\n",
       "      <td>India</td>\n",
       "      <td>Wicket Keeper Batsman</td>\n",
       "      <td>Right</td>\n",
       "      <td>NaN</td>\n",
       "      <td>Top</td>\n",
       "      <td>Uncapped</td>\n",
       "    </tr>\n",
       "    <tr>\n",
       "      <th>37</th>\n",
       "      <td>Rajat Patidar</td>\n",
       "      <td>20</td>\n",
       "      <td>20</td>\n",
       "      <td>Sold</td>\n",
       "      <td>RCB</td>\n",
       "      <td>NaN</td>\n",
       "      <td>India</td>\n",
       "      <td>Batsman</td>\n",
       "      <td>Right</td>\n",
       "      <td>NaN</td>\n",
       "      <td>Top</td>\n",
       "      <td>Uncapped</td>\n",
       "    </tr>\n",
       "    <tr>\n",
       "      <th>40</th>\n",
       "      <td>Sachin Baby</td>\n",
       "      <td>20</td>\n",
       "      <td>20</td>\n",
       "      <td>Sold</td>\n",
       "      <td>RCB</td>\n",
       "      <td>RR, RCB, SRH</td>\n",
       "      <td>India</td>\n",
       "      <td>Batsman</td>\n",
       "      <td>Left</td>\n",
       "      <td>NaN</td>\n",
       "      <td>Middle</td>\n",
       "      <td>Uncapped</td>\n",
       "    </tr>\n",
       "    <tr>\n",
       "      <th>47</th>\n",
       "      <td>Srikar Bharat</td>\n",
       "      <td>20</td>\n",
       "      <td>20</td>\n",
       "      <td>Sold</td>\n",
       "      <td>RCB</td>\n",
       "      <td>DC</td>\n",
       "      <td>India</td>\n",
       "      <td>Wicket Keeper Batsman</td>\n",
       "      <td>Right</td>\n",
       "      <td>NaN</td>\n",
       "      <td>Top</td>\n",
       "      <td>Uncapped</td>\n",
       "    </tr>\n",
       "  </tbody>\n",
       "</table>\n",
       "</div>"
      ],
      "text/plain": [
       "             Player_Name  Base_Price  Price_Paid Status Bought_by  \\\n",
       "30  Mohammed Azharuddeen          20          20   Sold       RCB   \n",
       "37         Rajat Patidar          20          20  Sold        RCB   \n",
       "40           Sachin Baby          20          20   Sold       RCB   \n",
       "47         Srikar Bharat          20          20   Sold       RCB   \n",
       "\n",
       "   Previous_IPL_Teams Country                   Role Batting_Style  \\\n",
       "30                NaN   India  Wicket Keeper Batsman        Right    \n",
       "37                NaN   India                Batsman        Right    \n",
       "40       RR, RCB, SRH   India                Batsman          Left   \n",
       "47                 DC   India  Wicket Keeper Batsman        Right    \n",
       "\n",
       "   Bowling_Style Batting_Order Capped_or_Uncapped  \n",
       "30           NaN           Top           Uncapped  \n",
       "37           NaN           Top           Uncapped  \n",
       "40           NaN        Middle           Uncapped  \n",
       "47           NaN           Top           Uncapped  "
      ]
     },
     "execution_count": 31,
     "metadata": {},
     "output_type": "execute_result"
    }
   ],
   "source": [
    "rcb_bats=rcb[rcb['Role'].str.contains('Batsman')]\n",
    "rcb_bats"
   ]
  },
  {
   "cell_type": "markdown",
   "id": "d930a76f",
   "metadata": {},
   "source": [
    "### List of Bowlers bought by RCB"
   ]
  },
  {
   "cell_type": "code",
   "execution_count": 32,
   "id": "be3474af",
   "metadata": {},
   "outputs": [
    {
     "data": {
      "text/html": [
       "<div>\n",
       "<style scoped>\n",
       "    .dataframe tbody tr th:only-of-type {\n",
       "        vertical-align: middle;\n",
       "    }\n",
       "\n",
       "    .dataframe tbody tr th {\n",
       "        vertical-align: top;\n",
       "    }\n",
       "\n",
       "    .dataframe thead th {\n",
       "        text-align: right;\n",
       "    }\n",
       "</style>\n",
       "<table border=\"1\" class=\"dataframe\">\n",
       "  <thead>\n",
       "    <tr style=\"text-align: right;\">\n",
       "      <th></th>\n",
       "      <th>Player_Name</th>\n",
       "      <th>Base_Price</th>\n",
       "      <th>Price_Paid</th>\n",
       "      <th>Status</th>\n",
       "      <th>Bought_by</th>\n",
       "      <th>Previous_IPL_Teams</th>\n",
       "      <th>Country</th>\n",
       "      <th>Role</th>\n",
       "      <th>Batting_Style</th>\n",
       "      <th>Bowling_Style</th>\n",
       "      <th>Batting_Order</th>\n",
       "      <th>Capped_or_Uncapped</th>\n",
       "    </tr>\n",
       "  </thead>\n",
       "  <tbody>\n",
       "    <tr>\n",
       "      <th>24</th>\n",
       "      <td>Kyle Jamieson</td>\n",
       "      <td>75</td>\n",
       "      <td>1500</td>\n",
       "      <td>Sold</td>\n",
       "      <td>RCB</td>\n",
       "      <td>NaN</td>\n",
       "      <td>New Zealand</td>\n",
       "      <td>Seam Bowler</td>\n",
       "      <td>NaN</td>\n",
       "      <td>Right Fast Medium</td>\n",
       "      <td>NaN</td>\n",
       "      <td>Capped</td>\n",
       "    </tr>\n",
       "    <tr>\n",
       "      <th>58</th>\n",
       "      <td>Harshal Patel</td>\n",
       "      <td>0</td>\n",
       "      <td>20</td>\n",
       "      <td>Transfer</td>\n",
       "      <td>RCB</td>\n",
       "      <td>DC, RCB</td>\n",
       "      <td>India</td>\n",
       "      <td>Seam Bowler</td>\n",
       "      <td>NaN</td>\n",
       "      <td>Right Medium</td>\n",
       "      <td>NaN</td>\n",
       "      <td>Uncapped</td>\n",
       "    </tr>\n",
       "  </tbody>\n",
       "</table>\n",
       "</div>"
      ],
      "text/plain": [
       "      Player_Name  Base_Price  Price_Paid    Status Bought_by  \\\n",
       "24  Kyle Jamieson          75        1500      Sold       RCB   \n",
       "58  Harshal Patel           0          20  Transfer       RCB   \n",
       "\n",
       "   Previous_IPL_Teams      Country         Role Batting_Style  \\\n",
       "24                NaN  New Zealand  Seam Bowler           NaN   \n",
       "58            DC, RCB        India  Seam Bowler           NaN   \n",
       "\n",
       "        Bowling_Style Batting_Order Capped_or_Uncapped  \n",
       "24  Right Fast Medium           NaN             Capped  \n",
       "58       Right Medium           NaN           Uncapped  "
      ]
     },
     "execution_count": 32,
     "metadata": {},
     "output_type": "execute_result"
    }
   ],
   "source": [
    "rcb_bowl=rcb[rcb['Role'].str.contains('Bowler')]\n",
    "rcb_bowl"
   ]
  },
  {
   "cell_type": "markdown",
   "id": "f9d5cee7",
   "metadata": {},
   "source": [
    "### List of All Rounders bought by RCB"
   ]
  },
  {
   "cell_type": "code",
   "execution_count": 33,
   "id": "9686b955",
   "metadata": {},
   "outputs": [
    {
     "data": {
      "text/html": [
       "<div>\n",
       "<style scoped>\n",
       "    .dataframe tbody tr th:only-of-type {\n",
       "        vertical-align: middle;\n",
       "    }\n",
       "\n",
       "    .dataframe tbody tr th {\n",
       "        vertical-align: top;\n",
       "    }\n",
       "\n",
       "    .dataframe thead th {\n",
       "        text-align: right;\n",
       "    }\n",
       "</style>\n",
       "<table border=\"1\" class=\"dataframe\">\n",
       "  <thead>\n",
       "    <tr style=\"text-align: right;\">\n",
       "      <th></th>\n",
       "      <th>Player_Name</th>\n",
       "      <th>Base_Price</th>\n",
       "      <th>Price_Paid</th>\n",
       "      <th>Status</th>\n",
       "      <th>Bought_by</th>\n",
       "      <th>Previous_IPL_Teams</th>\n",
       "      <th>Country</th>\n",
       "      <th>Role</th>\n",
       "      <th>Batting_Style</th>\n",
       "      <th>Bowling_Style</th>\n",
       "      <th>Batting_Order</th>\n",
       "      <th>Capped_or_Uncapped</th>\n",
       "    </tr>\n",
       "  </thead>\n",
       "  <tbody>\n",
       "    <tr>\n",
       "      <th>9</th>\n",
       "      <td>Dan Christian</td>\n",
       "      <td>75</td>\n",
       "      <td>480</td>\n",
       "      <td>Sold</td>\n",
       "      <td>RCB</td>\n",
       "      <td>RCB, RPS, DC, SRH</td>\n",
       "      <td>Australia</td>\n",
       "      <td>All Rounder</td>\n",
       "      <td>Right</td>\n",
       "      <td>Right Fast Medium</td>\n",
       "      <td>Middle</td>\n",
       "      <td>Capped</td>\n",
       "    </tr>\n",
       "    <tr>\n",
       "      <th>12</th>\n",
       "      <td>Glenn Maxwell</td>\n",
       "      <td>200</td>\n",
       "      <td>1425</td>\n",
       "      <td>Sold</td>\n",
       "      <td>RCB</td>\n",
       "      <td>PBKS, MI, DC</td>\n",
       "      <td>Australia</td>\n",
       "      <td>Batting All Rounder</td>\n",
       "      <td>Right</td>\n",
       "      <td>Right Offbreak</td>\n",
       "      <td>Middle</td>\n",
       "      <td>Capped</td>\n",
       "    </tr>\n",
       "    <tr>\n",
       "      <th>49</th>\n",
       "      <td>Suyash Prabhudessai</td>\n",
       "      <td>20</td>\n",
       "      <td>20</td>\n",
       "      <td>Sold</td>\n",
       "      <td>RCB</td>\n",
       "      <td>NaN</td>\n",
       "      <td>India</td>\n",
       "      <td>Batting All Rounder</td>\n",
       "      <td>Right</td>\n",
       "      <td>Right Medium</td>\n",
       "      <td>Middle</td>\n",
       "      <td>Uncapped</td>\n",
       "    </tr>\n",
       "    <tr>\n",
       "      <th>57</th>\n",
       "      <td>Daniel Sams</td>\n",
       "      <td>0</td>\n",
       "      <td>30</td>\n",
       "      <td>Transfer</td>\n",
       "      <td>RCB</td>\n",
       "      <td>DC</td>\n",
       "      <td>Australia</td>\n",
       "      <td>All Rounder</td>\n",
       "      <td>Right</td>\n",
       "      <td>Left Fast Medium</td>\n",
       "      <td>Middle</td>\n",
       "      <td>Capped</td>\n",
       "    </tr>\n",
       "  </tbody>\n",
       "</table>\n",
       "</div>"
      ],
      "text/plain": [
       "            Player_Name  Base_Price  Price_Paid    Status Bought_by  \\\n",
       "9         Dan Christian          75         480      Sold       RCB   \n",
       "12        Glenn Maxwell         200        1425      Sold       RCB   \n",
       "49  Suyash Prabhudessai          20          20      Sold       RCB   \n",
       "57          Daniel Sams           0          30  Transfer       RCB   \n",
       "\n",
       "   Previous_IPL_Teams    Country                 Role Batting_Style  \\\n",
       "9   RCB, RPS, DC, SRH  Australia          All Rounder        Right    \n",
       "12       PBKS, MI, DC  Australia  Batting All Rounder        Right    \n",
       "49                NaN      India  Batting All Rounder        Right    \n",
       "57                 DC  Australia          All Rounder        Right    \n",
       "\n",
       "        Bowling_Style Batting_Order Capped_or_Uncapped  \n",
       "9   Right Fast Medium       Middle              Capped  \n",
       "12     Right Offbreak       Middle              Capped  \n",
       "49       Right Medium        Middle           Uncapped  \n",
       "57   Left Fast Medium        Middle             Capped  "
      ]
     },
     "execution_count": 33,
     "metadata": {},
     "output_type": "execute_result"
    }
   ],
   "source": [
    "rcb_all=rcb[rcb['Role'].str.contains('All Rounder')]\n",
    "rcb_all"
   ]
  },
  {
   "cell_type": "markdown",
   "id": "54149750",
   "metadata": {},
   "source": [
    "## TEAM ANALYSIS - ROYAL CHALLENGERS BANGALORE"
   ]
  },
  {
   "cell_type": "code",
   "execution_count": 34,
   "id": "5b4ad45f",
   "metadata": {},
   "outputs": [
    {
     "name": "stdout",
     "output_type": "stream",
     "text": [
      "Total amount spent during auction:  35.55  crores\n"
     ]
    }
   ],
   "source": [
    "print(\"Total amount spent during auction: \",(rcb['Price_Paid'].sum())/100,\" crores\")"
   ]
  },
  {
   "cell_type": "code",
   "execution_count": 35,
   "id": "92d8b61f",
   "metadata": {},
   "outputs": [
    {
     "name": "stdout",
     "output_type": "stream",
     "text": [
      "Highest bid by Royal Challengers Bangalore: \n",
      "\n",
      "Player Name:              Kyle Jamieson\n",
      "Country:                  New Zealand\n",
      "Bought for (in crores):   15.0\n",
      "Role:                     Seam Bowler\n"
     ]
    }
   ],
   "source": [
    "print(\"Highest bid by Royal Challengers Bangalore: \")\n",
    "print()\n",
    "formpri(rcb[rcb['Price_Paid']==rcb['Price_Paid'].max()])"
   ]
  },
  {
   "cell_type": "code",
   "execution_count": 36,
   "id": "1b4eaefa",
   "metadata": {},
   "outputs": [
    {
     "name": "stdout",
     "output_type": "stream",
     "text": [
      "Highest Indian bid by Royal Challengers Bangalore: \n",
      "\n"
     ]
    },
    {
     "data": {
      "text/html": [
       "<div>\n",
       "<style scoped>\n",
       "    .dataframe tbody tr th:only-of-type {\n",
       "        vertical-align: middle;\n",
       "    }\n",
       "\n",
       "    .dataframe tbody tr th {\n",
       "        vertical-align: top;\n",
       "    }\n",
       "\n",
       "    .dataframe thead th {\n",
       "        text-align: right;\n",
       "    }\n",
       "</style>\n",
       "<table border=\"1\" class=\"dataframe\">\n",
       "  <thead>\n",
       "    <tr style=\"text-align: right;\">\n",
       "      <th></th>\n",
       "      <th>Player_Name</th>\n",
       "      <th>Base_Price</th>\n",
       "      <th>Price_Paid</th>\n",
       "      <th>Status</th>\n",
       "      <th>Bought_by</th>\n",
       "      <th>Previous_IPL_Teams</th>\n",
       "      <th>Country</th>\n",
       "      <th>Role</th>\n",
       "      <th>Batting_Style</th>\n",
       "      <th>Bowling_Style</th>\n",
       "      <th>Batting_Order</th>\n",
       "      <th>Capped_or_Uncapped</th>\n",
       "    </tr>\n",
       "  </thead>\n",
       "  <tbody>\n",
       "    <tr>\n",
       "      <th>30</th>\n",
       "      <td>Mohammed Azharuddeen</td>\n",
       "      <td>20</td>\n",
       "      <td>20</td>\n",
       "      <td>Sold</td>\n",
       "      <td>RCB</td>\n",
       "      <td>NaN</td>\n",
       "      <td>India</td>\n",
       "      <td>Wicket Keeper Batsman</td>\n",
       "      <td>Right</td>\n",
       "      <td>NaN</td>\n",
       "      <td>Top</td>\n",
       "      <td>Uncapped</td>\n",
       "    </tr>\n",
       "    <tr>\n",
       "      <th>37</th>\n",
       "      <td>Rajat Patidar</td>\n",
       "      <td>20</td>\n",
       "      <td>20</td>\n",
       "      <td>Sold</td>\n",
       "      <td>RCB</td>\n",
       "      <td>NaN</td>\n",
       "      <td>India</td>\n",
       "      <td>Batsman</td>\n",
       "      <td>Right</td>\n",
       "      <td>NaN</td>\n",
       "      <td>Top</td>\n",
       "      <td>Uncapped</td>\n",
       "    </tr>\n",
       "    <tr>\n",
       "      <th>40</th>\n",
       "      <td>Sachin Baby</td>\n",
       "      <td>20</td>\n",
       "      <td>20</td>\n",
       "      <td>Sold</td>\n",
       "      <td>RCB</td>\n",
       "      <td>RR, RCB, SRH</td>\n",
       "      <td>India</td>\n",
       "      <td>Batsman</td>\n",
       "      <td>Left</td>\n",
       "      <td>NaN</td>\n",
       "      <td>Middle</td>\n",
       "      <td>Uncapped</td>\n",
       "    </tr>\n",
       "    <tr>\n",
       "      <th>47</th>\n",
       "      <td>Srikar Bharat</td>\n",
       "      <td>20</td>\n",
       "      <td>20</td>\n",
       "      <td>Sold</td>\n",
       "      <td>RCB</td>\n",
       "      <td>DC</td>\n",
       "      <td>India</td>\n",
       "      <td>Wicket Keeper Batsman</td>\n",
       "      <td>Right</td>\n",
       "      <td>NaN</td>\n",
       "      <td>Top</td>\n",
       "      <td>Uncapped</td>\n",
       "    </tr>\n",
       "    <tr>\n",
       "      <th>49</th>\n",
       "      <td>Suyash Prabhudessai</td>\n",
       "      <td>20</td>\n",
       "      <td>20</td>\n",
       "      <td>Sold</td>\n",
       "      <td>RCB</td>\n",
       "      <td>NaN</td>\n",
       "      <td>India</td>\n",
       "      <td>Batting All Rounder</td>\n",
       "      <td>Right</td>\n",
       "      <td>Right Medium</td>\n",
       "      <td>Middle</td>\n",
       "      <td>Uncapped</td>\n",
       "    </tr>\n",
       "    <tr>\n",
       "      <th>58</th>\n",
       "      <td>Harshal Patel</td>\n",
       "      <td>0</td>\n",
       "      <td>20</td>\n",
       "      <td>Transfer</td>\n",
       "      <td>RCB</td>\n",
       "      <td>DC, RCB</td>\n",
       "      <td>India</td>\n",
       "      <td>Seam Bowler</td>\n",
       "      <td>NaN</td>\n",
       "      <td>Right Medium</td>\n",
       "      <td>NaN</td>\n",
       "      <td>Uncapped</td>\n",
       "    </tr>\n",
       "  </tbody>\n",
       "</table>\n",
       "</div>"
      ],
      "text/plain": [
       "             Player_Name  Base_Price  Price_Paid    Status Bought_by  \\\n",
       "30  Mohammed Azharuddeen          20          20      Sold       RCB   \n",
       "37         Rajat Patidar          20          20     Sold        RCB   \n",
       "40           Sachin Baby          20          20      Sold       RCB   \n",
       "47         Srikar Bharat          20          20      Sold       RCB   \n",
       "49   Suyash Prabhudessai          20          20      Sold       RCB   \n",
       "58         Harshal Patel           0          20  Transfer       RCB   \n",
       "\n",
       "   Previous_IPL_Teams Country                   Role Batting_Style  \\\n",
       "30                NaN   India  Wicket Keeper Batsman        Right    \n",
       "37                NaN   India                Batsman        Right    \n",
       "40       RR, RCB, SRH   India                Batsman          Left   \n",
       "47                 DC   India  Wicket Keeper Batsman        Right    \n",
       "49                NaN   India    Batting All Rounder        Right    \n",
       "58            DC, RCB   India            Seam Bowler           NaN   \n",
       "\n",
       "   Bowling_Style Batting_Order Capped_or_Uncapped  \n",
       "30           NaN           Top           Uncapped  \n",
       "37           NaN           Top           Uncapped  \n",
       "40           NaN        Middle           Uncapped  \n",
       "47           NaN           Top           Uncapped  \n",
       "49  Right Medium        Middle           Uncapped  \n",
       "58  Right Medium           NaN           Uncapped  "
      ]
     },
     "execution_count": 36,
     "metadata": {},
     "output_type": "execute_result"
    }
   ],
   "source": [
    "print(\"Highest Indian bid by Royal Challengers Bangalore: \")\n",
    "print()\n",
    "rcb[rcb['Price_Paid']==rcb[rcb['Country']=='India']['Price_Paid'].max()]"
   ]
  },
  {
   "cell_type": "code",
   "execution_count": 37,
   "id": "3db5f291",
   "metadata": {},
   "outputs": [
    {
     "name": "stdout",
     "output_type": "stream",
     "text": [
      "Highest Foreign bid by Royal Challengers Bangalore: \n",
      "\n",
      "Player Name:              Kyle Jamieson\n",
      "Country:                  New Zealand\n",
      "Bought for (in crores):   15.0\n",
      "Role:                     Seam Bowler\n"
     ]
    }
   ],
   "source": [
    "print(\"Highest Foreign bid by Royal Challengers Bangalore: \")\n",
    "print()\n",
    "formpri(rcb[rcb['Price_Paid']==rcb[rcb['Country']!='India']['Price_Paid'].max()])"
   ]
  },
  {
   "cell_type": "code",
   "execution_count": 38,
   "id": "36d51073",
   "metadata": {},
   "outputs": [
    {
     "name": "stdout",
     "output_type": "stream",
     "text": [
      "Amount Spent on each Department: \n",
      "\n",
      "Role\n",
      "All Rounder               5.10\n",
      "Batsman                   0.40\n",
      "Batting All Rounder      14.45\n",
      "Seam Bowler              15.20\n",
      "Wicket Keeper Batsman     0.40\n"
     ]
    }
   ],
   "source": [
    "print(\"Amount Spent on each Department: \")\n",
    "print()\n",
    "print((rcb.groupby('Role')['Price_Paid'].sum()/100).to_string())"
   ]
  },
  {
   "cell_type": "code",
   "execution_count": 39,
   "id": "32c387a7",
   "metadata": {},
   "outputs": [
    {
     "name": "stdout",
     "output_type": "stream",
     "text": [
      "Highest batsman bid by Royal Challengers Bangalore: \n",
      "\n"
     ]
    },
    {
     "data": {
      "text/html": [
       "<div>\n",
       "<style scoped>\n",
       "    .dataframe tbody tr th:only-of-type {\n",
       "        vertical-align: middle;\n",
       "    }\n",
       "\n",
       "    .dataframe tbody tr th {\n",
       "        vertical-align: top;\n",
       "    }\n",
       "\n",
       "    .dataframe thead th {\n",
       "        text-align: right;\n",
       "    }\n",
       "</style>\n",
       "<table border=\"1\" class=\"dataframe\">\n",
       "  <thead>\n",
       "    <tr style=\"text-align: right;\">\n",
       "      <th></th>\n",
       "      <th>Player_Name</th>\n",
       "      <th>Base_Price</th>\n",
       "      <th>Price_Paid</th>\n",
       "      <th>Status</th>\n",
       "      <th>Bought_by</th>\n",
       "      <th>Previous_IPL_Teams</th>\n",
       "      <th>Country</th>\n",
       "      <th>Role</th>\n",
       "      <th>Batting_Style</th>\n",
       "      <th>Bowling_Style</th>\n",
       "      <th>Batting_Order</th>\n",
       "      <th>Capped_or_Uncapped</th>\n",
       "    </tr>\n",
       "  </thead>\n",
       "  <tbody>\n",
       "    <tr>\n",
       "      <th>30</th>\n",
       "      <td>Mohammed Azharuddeen</td>\n",
       "      <td>20</td>\n",
       "      <td>20</td>\n",
       "      <td>Sold</td>\n",
       "      <td>RCB</td>\n",
       "      <td>NaN</td>\n",
       "      <td>India</td>\n",
       "      <td>Wicket Keeper Batsman</td>\n",
       "      <td>Right</td>\n",
       "      <td>NaN</td>\n",
       "      <td>Top</td>\n",
       "      <td>Uncapped</td>\n",
       "    </tr>\n",
       "    <tr>\n",
       "      <th>37</th>\n",
       "      <td>Rajat Patidar</td>\n",
       "      <td>20</td>\n",
       "      <td>20</td>\n",
       "      <td>Sold</td>\n",
       "      <td>RCB</td>\n",
       "      <td>NaN</td>\n",
       "      <td>India</td>\n",
       "      <td>Batsman</td>\n",
       "      <td>Right</td>\n",
       "      <td>NaN</td>\n",
       "      <td>Top</td>\n",
       "      <td>Uncapped</td>\n",
       "    </tr>\n",
       "    <tr>\n",
       "      <th>40</th>\n",
       "      <td>Sachin Baby</td>\n",
       "      <td>20</td>\n",
       "      <td>20</td>\n",
       "      <td>Sold</td>\n",
       "      <td>RCB</td>\n",
       "      <td>RR, RCB, SRH</td>\n",
       "      <td>India</td>\n",
       "      <td>Batsman</td>\n",
       "      <td>Left</td>\n",
       "      <td>NaN</td>\n",
       "      <td>Middle</td>\n",
       "      <td>Uncapped</td>\n",
       "    </tr>\n",
       "    <tr>\n",
       "      <th>47</th>\n",
       "      <td>Srikar Bharat</td>\n",
       "      <td>20</td>\n",
       "      <td>20</td>\n",
       "      <td>Sold</td>\n",
       "      <td>RCB</td>\n",
       "      <td>DC</td>\n",
       "      <td>India</td>\n",
       "      <td>Wicket Keeper Batsman</td>\n",
       "      <td>Right</td>\n",
       "      <td>NaN</td>\n",
       "      <td>Top</td>\n",
       "      <td>Uncapped</td>\n",
       "    </tr>\n",
       "  </tbody>\n",
       "</table>\n",
       "</div>"
      ],
      "text/plain": [
       "             Player_Name  Base_Price  Price_Paid Status Bought_by  \\\n",
       "30  Mohammed Azharuddeen          20          20   Sold       RCB   \n",
       "37         Rajat Patidar          20          20  Sold        RCB   \n",
       "40           Sachin Baby          20          20   Sold       RCB   \n",
       "47         Srikar Bharat          20          20   Sold       RCB   \n",
       "\n",
       "   Previous_IPL_Teams Country                   Role Batting_Style  \\\n",
       "30                NaN   India  Wicket Keeper Batsman        Right    \n",
       "37                NaN   India                Batsman        Right    \n",
       "40       RR, RCB, SRH   India                Batsman          Left   \n",
       "47                 DC   India  Wicket Keeper Batsman        Right    \n",
       "\n",
       "   Bowling_Style Batting_Order Capped_or_Uncapped  \n",
       "30           NaN           Top           Uncapped  \n",
       "37           NaN           Top           Uncapped  \n",
       "40           NaN        Middle           Uncapped  \n",
       "47           NaN           Top           Uncapped  "
      ]
     },
     "execution_count": 39,
     "metadata": {},
     "output_type": "execute_result"
    }
   ],
   "source": [
    "print(\"Highest batsman bid by Royal Challengers Bangalore: \")\n",
    "print()\n",
    "rcb_bats[rcb_bats['Price_Paid']==rcb_bats['Price_Paid'].max()]"
   ]
  },
  {
   "cell_type": "code",
   "execution_count": 40,
   "id": "63446c65",
   "metadata": {},
   "outputs": [
    {
     "name": "stdout",
     "output_type": "stream",
     "text": [
      "Highest bowler bid by Royal Challengers Bangalore: \n",
      "\n",
      "Player Name:              Kyle Jamieson\n",
      "Country:                  New Zealand\n",
      "Bought for (in crores):   15.0\n",
      "Role:                     Seam Bowler\n"
     ]
    }
   ],
   "source": [
    "print(\"Highest bowler bid by Royal Challengers Bangalore: \")\n",
    "print()\n",
    "formpri(rcb_bowl[rcb_bowl['Price_Paid']==rcb_bowl['Price_Paid'].max()])"
   ]
  },
  {
   "cell_type": "code",
   "execution_count": 41,
   "id": "feba3ca4",
   "metadata": {},
   "outputs": [
    {
     "name": "stdout",
     "output_type": "stream",
     "text": [
      "Highest all rounder bid by Royal Challengers Bangalore: \n",
      "\n",
      "Player Name:              Glenn Maxwell\n",
      "Country:                  Australia\n",
      "Bought for (in crores):   14.25\n",
      "Role:                     Batting All Rounder\n"
     ]
    }
   ],
   "source": [
    "print(\"Highest all rounder bid by Royal Challengers Bangalore: \")\n",
    "print()\n",
    "formpri(rcb_all[rcb_all['Price_Paid']==rcb_all['Price_Paid'].max()])"
   ]
  },
  {
   "cell_type": "code",
   "execution_count": 42,
   "id": "27717e25",
   "metadata": {},
   "outputs": [
    {
     "name": "stdout",
     "output_type": "stream",
     "text": [
      "Average amount spent on each department: \n",
      "\n",
      "Role\n",
      "All Rounder              2.550\n",
      "Batsman                  0.200\n",
      "Batting All Rounder      7.225\n",
      "Seam Bowler              7.600\n",
      "Wicket Keeper Batsman    0.200\n"
     ]
    }
   ],
   "source": [
    "print(\"Average amount spent on each department: \")\n",
    "print()\n",
    "print((rcb.groupby('Role')['Price_Paid'].mean()/100).to_string())"
   ]
  },
  {
   "cell_type": "code",
   "execution_count": 43,
   "id": "60bb10e6",
   "metadata": {},
   "outputs": [
    {
     "name": "stdout",
     "output_type": "stream",
     "text": [
      "Highest capped bid by Royal Challengers Bangalore: \n",
      "\n",
      "Player Name:              Kyle Jamieson\n",
      "Country:                  New Zealand\n",
      "Bought for (in crores):   15.0\n",
      "Role:                     Seam Bowler\n"
     ]
    }
   ],
   "source": [
    "print(\"Highest capped bid by Royal Challengers Bangalore: \")\n",
    "print()\n",
    "formpri(rcb[rcb['Price_Paid']==rcb[rcb['Capped_or_Uncapped']=='Capped']['Price_Paid'].max()])"
   ]
  },
  {
   "cell_type": "code",
   "execution_count": 44,
   "id": "bdf22c4a",
   "metadata": {},
   "outputs": [
    {
     "name": "stdout",
     "output_type": "stream",
     "text": [
      "Highest uncapped bid by Royal Challengers Bangalore: \n",
      "\n"
     ]
    },
    {
     "data": {
      "text/html": [
       "<div>\n",
       "<style scoped>\n",
       "    .dataframe tbody tr th:only-of-type {\n",
       "        vertical-align: middle;\n",
       "    }\n",
       "\n",
       "    .dataframe tbody tr th {\n",
       "        vertical-align: top;\n",
       "    }\n",
       "\n",
       "    .dataframe thead th {\n",
       "        text-align: right;\n",
       "    }\n",
       "</style>\n",
       "<table border=\"1\" class=\"dataframe\">\n",
       "  <thead>\n",
       "    <tr style=\"text-align: right;\">\n",
       "      <th></th>\n",
       "      <th>Player_Name</th>\n",
       "      <th>Base_Price</th>\n",
       "      <th>Price_Paid</th>\n",
       "      <th>Status</th>\n",
       "      <th>Bought_by</th>\n",
       "      <th>Previous_IPL_Teams</th>\n",
       "      <th>Country</th>\n",
       "      <th>Role</th>\n",
       "      <th>Batting_Style</th>\n",
       "      <th>Bowling_Style</th>\n",
       "      <th>Batting_Order</th>\n",
       "      <th>Capped_or_Uncapped</th>\n",
       "    </tr>\n",
       "  </thead>\n",
       "  <tbody>\n",
       "    <tr>\n",
       "      <th>30</th>\n",
       "      <td>Mohammed Azharuddeen</td>\n",
       "      <td>20</td>\n",
       "      <td>20</td>\n",
       "      <td>Sold</td>\n",
       "      <td>RCB</td>\n",
       "      <td>NaN</td>\n",
       "      <td>India</td>\n",
       "      <td>Wicket Keeper Batsman</td>\n",
       "      <td>Right</td>\n",
       "      <td>NaN</td>\n",
       "      <td>Top</td>\n",
       "      <td>Uncapped</td>\n",
       "    </tr>\n",
       "    <tr>\n",
       "      <th>37</th>\n",
       "      <td>Rajat Patidar</td>\n",
       "      <td>20</td>\n",
       "      <td>20</td>\n",
       "      <td>Sold</td>\n",
       "      <td>RCB</td>\n",
       "      <td>NaN</td>\n",
       "      <td>India</td>\n",
       "      <td>Batsman</td>\n",
       "      <td>Right</td>\n",
       "      <td>NaN</td>\n",
       "      <td>Top</td>\n",
       "      <td>Uncapped</td>\n",
       "    </tr>\n",
       "    <tr>\n",
       "      <th>40</th>\n",
       "      <td>Sachin Baby</td>\n",
       "      <td>20</td>\n",
       "      <td>20</td>\n",
       "      <td>Sold</td>\n",
       "      <td>RCB</td>\n",
       "      <td>RR, RCB, SRH</td>\n",
       "      <td>India</td>\n",
       "      <td>Batsman</td>\n",
       "      <td>Left</td>\n",
       "      <td>NaN</td>\n",
       "      <td>Middle</td>\n",
       "      <td>Uncapped</td>\n",
       "    </tr>\n",
       "    <tr>\n",
       "      <th>47</th>\n",
       "      <td>Srikar Bharat</td>\n",
       "      <td>20</td>\n",
       "      <td>20</td>\n",
       "      <td>Sold</td>\n",
       "      <td>RCB</td>\n",
       "      <td>DC</td>\n",
       "      <td>India</td>\n",
       "      <td>Wicket Keeper Batsman</td>\n",
       "      <td>Right</td>\n",
       "      <td>NaN</td>\n",
       "      <td>Top</td>\n",
       "      <td>Uncapped</td>\n",
       "    </tr>\n",
       "    <tr>\n",
       "      <th>49</th>\n",
       "      <td>Suyash Prabhudessai</td>\n",
       "      <td>20</td>\n",
       "      <td>20</td>\n",
       "      <td>Sold</td>\n",
       "      <td>RCB</td>\n",
       "      <td>NaN</td>\n",
       "      <td>India</td>\n",
       "      <td>Batting All Rounder</td>\n",
       "      <td>Right</td>\n",
       "      <td>Right Medium</td>\n",
       "      <td>Middle</td>\n",
       "      <td>Uncapped</td>\n",
       "    </tr>\n",
       "    <tr>\n",
       "      <th>58</th>\n",
       "      <td>Harshal Patel</td>\n",
       "      <td>0</td>\n",
       "      <td>20</td>\n",
       "      <td>Transfer</td>\n",
       "      <td>RCB</td>\n",
       "      <td>DC, RCB</td>\n",
       "      <td>India</td>\n",
       "      <td>Seam Bowler</td>\n",
       "      <td>NaN</td>\n",
       "      <td>Right Medium</td>\n",
       "      <td>NaN</td>\n",
       "      <td>Uncapped</td>\n",
       "    </tr>\n",
       "  </tbody>\n",
       "</table>\n",
       "</div>"
      ],
      "text/plain": [
       "             Player_Name  Base_Price  Price_Paid    Status Bought_by  \\\n",
       "30  Mohammed Azharuddeen          20          20      Sold       RCB   \n",
       "37         Rajat Patidar          20          20     Sold        RCB   \n",
       "40           Sachin Baby          20          20      Sold       RCB   \n",
       "47         Srikar Bharat          20          20      Sold       RCB   \n",
       "49   Suyash Prabhudessai          20          20      Sold       RCB   \n",
       "58         Harshal Patel           0          20  Transfer       RCB   \n",
       "\n",
       "   Previous_IPL_Teams Country                   Role Batting_Style  \\\n",
       "30                NaN   India  Wicket Keeper Batsman        Right    \n",
       "37                NaN   India                Batsman        Right    \n",
       "40       RR, RCB, SRH   India                Batsman          Left   \n",
       "47                 DC   India  Wicket Keeper Batsman        Right    \n",
       "49                NaN   India    Batting All Rounder        Right    \n",
       "58            DC, RCB   India            Seam Bowler           NaN   \n",
       "\n",
       "   Bowling_Style Batting_Order Capped_or_Uncapped  \n",
       "30           NaN           Top           Uncapped  \n",
       "37           NaN           Top           Uncapped  \n",
       "40           NaN        Middle           Uncapped  \n",
       "47           NaN           Top           Uncapped  \n",
       "49  Right Medium        Middle           Uncapped  \n",
       "58  Right Medium           NaN           Uncapped  "
      ]
     },
     "execution_count": 44,
     "metadata": {},
     "output_type": "execute_result"
    }
   ],
   "source": [
    "print(\"Highest uncapped bid by Royal Challengers Bangalore: \")\n",
    "print()\n",
    "rcb[rcb['Price_Paid']==rcb[rcb['Capped_or_Uncapped']=='Uncapped']['Price_Paid'].max()]"
   ]
  },
  {
   "cell_type": "code",
   "execution_count": 45,
   "id": "2d988f17",
   "metadata": {},
   "outputs": [
    {
     "name": "stdout",
     "output_type": "stream",
     "text": [
      "Visualization of distribution of Amount spent by RCB on each department: \n",
      "\n"
     ]
    },
    {
     "data": {
      "image/png": "[encoded data removed]",
      "text/plain": [
       "<Figure size 1080x720 with 1 Axes>"
      ]
     },
     "metadata": {},
     "output_type": "display_data"
    }
   ],
   "source": [
    "print(\"Visualization of distribution of Amount spent by RCB on each department: \")\n",
    "print()\n",
    "rcb.groupby(['Role']).sum().plot(kind='pie', y='Price_Paid', autopct=\"%.2f%%\", figsize=(15,10), title=\"Distribution of Amount spent by RCB on each department\").legend(loc='upper right');"
   ]
  },
  {
   "cell_type": "code",
   "execution_count": 46,
   "id": "b7bfcc28",
   "metadata": {},
   "outputs": [
    {
     "name": "stdout",
     "output_type": "stream",
     "text": [
      "No. of IPL Experienced and inexperienced Players bought by Royal Challengers Bangalore: \n",
      "Experienced Players:      6\n",
      "Inexperienced Players:    4\n"
     ]
    }
   ],
   "source": [
    "print(\"No. of IPL Experienced and inexperienced Players bought by Royal Challengers Bangalore: \")\n",
    "print(\"Experienced Players:     \",rcb[pd.notnull(rcb['Previous_IPL_Teams'])].shape[0])\n",
    "print(\"Inexperienced Players:   \",rcb[pd.isnull(rcb['Previous_IPL_Teams'])].shape[0])"
   ]
  },
  {
   "cell_type": "code",
   "execution_count": 47,
   "id": "0b16018f",
   "metadata": {},
   "outputs": [
    {
     "name": "stdout",
     "output_type": "stream",
     "text": [
      "No. of Internationally Experienced and inexperienced  Players bought by Royal Challengers Bangalore: \n",
      "Experienced Players:      4\n",
      "Inexperienced Players:    6\n"
     ]
    }
   ],
   "source": [
    "print(\"No. of Internationally Experienced and inexperienced  Players bought by Royal Challengers Bangalore: \")\n",
    "print(\"Experienced Players:     \",rcb[rcb['Capped_or_Uncapped']=='Capped'].shape[0])\n",
    "print(\"Inexperienced Players:   \",rcb[rcb['Capped_or_Uncapped']=='Uncapped'].shape[0])"
   ]
  },
  {
   "cell_type": "code",
   "execution_count": 48,
   "id": "1a69b124",
   "metadata": {},
   "outputs": [
    {
     "name": "stdout",
     "output_type": "stream",
     "text": [
      "No. of players bought at\n",
      "Base Price:            5\n",
      "More than Base Price:  5\n"
     ]
    }
   ],
   "source": [
    "print(\"No. of players bought at\")\n",
    "print(\"Base Price:           \",rcb[rcb['Price_Paid']==rcb['Base_Price']].shape[0])\n",
    "print(\"More than Base Price: \",rcb[rcb['Price_Paid']!=rcb['Base_Price']].shape[0])"
   ]
  },
  {
   "cell_type": "markdown",
   "id": "c1a2e86c",
   "metadata": {},
   "source": [
    "## Mumbai Indians (MI)"
   ]
  },
  {
   "cell_type": "markdown",
   "id": "925f05b9",
   "metadata": {},
   "source": [
    " ### Listing out players bought by MI"
   ]
  },
  {
   "cell_type": "code",
   "execution_count": 49,
   "id": "12d0ff9e",
   "metadata": {},
   "outputs": [
    {
     "data": {
      "text/html": [
       "<div>\n",
       "<style scoped>\n",
       "    .dataframe tbody tr th:only-of-type {\n",
       "        vertical-align: middle;\n",
       "    }\n",
       "\n",
       "    .dataframe tbody tr th {\n",
       "        vertical-align: top;\n",
       "    }\n",
       "\n",
       "    .dataframe thead th {\n",
       "        text-align: right;\n",
       "    }\n",
       "</style>\n",
       "<table border=\"1\" class=\"dataframe\">\n",
       "  <thead>\n",
       "    <tr style=\"text-align: right;\">\n",
       "      <th></th>\n",
       "      <th>Player_Name</th>\n",
       "      <th>Base_Price</th>\n",
       "      <th>Price_Paid</th>\n",
       "      <th>Status</th>\n",
       "      <th>Bought_by</th>\n",
       "      <th>Previous_IPL_Teams</th>\n",
       "      <th>Country</th>\n",
       "      <th>Role</th>\n",
       "      <th>Batting_Style</th>\n",
       "      <th>Bowling_Style</th>\n",
       "      <th>Batting_Order</th>\n",
       "      <th>Capped_or_Uncapped</th>\n",
       "    </tr>\n",
       "  </thead>\n",
       "  <tbody>\n",
       "    <tr>\n",
       "      <th>0</th>\n",
       "      <td>Adam Milne</td>\n",
       "      <td>50</td>\n",
       "      <td>320</td>\n",
       "      <td>Sold</td>\n",
       "      <td>MI</td>\n",
       "      <td>RCB</td>\n",
       "      <td>New Zealand</td>\n",
       "      <td>Seam Bowler</td>\n",
       "      <td>NaN</td>\n",
       "      <td>Right Fast</td>\n",
       "      <td>NaN</td>\n",
       "      <td>Capped</td>\n",
       "    </tr>\n",
       "    <tr>\n",
       "      <th>2</th>\n",
       "      <td>Arjun Tendulkar</td>\n",
       "      <td>20</td>\n",
       "      <td>20</td>\n",
       "      <td>Sold</td>\n",
       "      <td>MI</td>\n",
       "      <td>NaN</td>\n",
       "      <td>India</td>\n",
       "      <td>Seam Bowler</td>\n",
       "      <td>NaN</td>\n",
       "      <td>Left Medium Fast</td>\n",
       "      <td>NaN</td>\n",
       "      <td>Uncapped</td>\n",
       "    </tr>\n",
       "    <tr>\n",
       "      <th>17</th>\n",
       "      <td>James Neesham</td>\n",
       "      <td>50</td>\n",
       "      <td>50</td>\n",
       "      <td>Sold</td>\n",
       "      <td>MI</td>\n",
       "      <td>DC, PBKS, KKR</td>\n",
       "      <td>New Zealand</td>\n",
       "      <td>Batting All Rounder</td>\n",
       "      <td>Left</td>\n",
       "      <td>Right Medium</td>\n",
       "      <td>Middle</td>\n",
       "      <td>Capped</td>\n",
       "    </tr>\n",
       "    <tr>\n",
       "      <th>28</th>\n",
       "      <td>Marco Jansen</td>\n",
       "      <td>20</td>\n",
       "      <td>20</td>\n",
       "      <td>Sold</td>\n",
       "      <td>MI</td>\n",
       "      <td>NaN</td>\n",
       "      <td>South Africa</td>\n",
       "      <td>Bowling All Rounder</td>\n",
       "      <td>Right</td>\n",
       "      <td>Left Fast</td>\n",
       "      <td>Lower</td>\n",
       "      <td>Uncapped</td>\n",
       "    </tr>\n",
       "    <tr>\n",
       "      <th>34</th>\n",
       "      <td>Nathan Coulter-Nile</td>\n",
       "      <td>150</td>\n",
       "      <td>500</td>\n",
       "      <td>Sold</td>\n",
       "      <td>MI</td>\n",
       "      <td>MI, DC, KKR, RCB</td>\n",
       "      <td>Australia</td>\n",
       "      <td>Bowling All Rounder</td>\n",
       "      <td>Right</td>\n",
       "      <td>Right Fast</td>\n",
       "      <td>Lower</td>\n",
       "      <td>Capped</td>\n",
       "    </tr>\n",
       "    <tr>\n",
       "      <th>36</th>\n",
       "      <td>Piyush Chawla</td>\n",
       "      <td>50</td>\n",
       "      <td>240</td>\n",
       "      <td>Sold</td>\n",
       "      <td>MI</td>\n",
       "      <td>KKR, PBKS, CSK</td>\n",
       "      <td>India</td>\n",
       "      <td>Bowling All Rounder</td>\n",
       "      <td>Left</td>\n",
       "      <td>Right Legbreak</td>\n",
       "      <td>Lower</td>\n",
       "      <td>Capped</td>\n",
       "    </tr>\n",
       "    <tr>\n",
       "      <th>56</th>\n",
       "      <td>Yudhvir Charak</td>\n",
       "      <td>20</td>\n",
       "      <td>20</td>\n",
       "      <td>Sold</td>\n",
       "      <td>MI</td>\n",
       "      <td>NaN</td>\n",
       "      <td>India</td>\n",
       "      <td>Seam Bowler</td>\n",
       "      <td>NaN</td>\n",
       "      <td>Right Medium Fast</td>\n",
       "      <td>NaN</td>\n",
       "      <td>Uncapped</td>\n",
       "    </tr>\n",
       "  </tbody>\n",
       "</table>\n",
       "</div>"
      ],
      "text/plain": [
       "            Player_Name  Base_Price  Price_Paid Status Bought_by  \\\n",
       "0            Adam Milne          50         320   Sold        MI   \n",
       "2       Arjun Tendulkar          20          20   Sold        MI   \n",
       "17        James Neesham          50          50   Sold        MI   \n",
       "28         Marco Jansen          20          20   Sold        MI   \n",
       "34  Nathan Coulter-Nile         150         500   Sold        MI   \n",
       "36        Piyush Chawla          50         240   Sold        MI   \n",
       "56       Yudhvir Charak          20          20   Sold        MI   \n",
       "\n",
       "   Previous_IPL_Teams       Country                 Role Batting_Style  \\\n",
       "0                 RCB   New Zealand          Seam Bowler           NaN   \n",
       "2                 NaN         India          Seam Bowler           NaN   \n",
       "17      DC, PBKS, KKR   New Zealand  Batting All Rounder          Left   \n",
       "28                NaN  South Africa  Bowling All Rounder        Right    \n",
       "34   MI, DC, KKR, RCB     Australia  Bowling All Rounder        Right    \n",
       "36     KKR, PBKS, CSK         India  Bowling All Rounder          Left   \n",
       "56                NaN         India          Seam Bowler           NaN   \n",
       "\n",
       "        Bowling_Style Batting_Order Capped_or_Uncapped  \n",
       "0          Right Fast           NaN             Capped  \n",
       "2    Left Medium Fast           NaN           Uncapped  \n",
       "17       Right Medium        Middle             Capped  \n",
       "28          Left Fast        Lower            Uncapped  \n",
       "34         Right Fast        Lower              Capped  \n",
       "36     Right Legbreak        Lower              Capped  \n",
       "56  Right Medium Fast           NaN           Uncapped  "
      ]
     },
     "execution_count": 49,
     "metadata": {},
     "output_type": "execute_result"
    }
   ],
   "source": [
    "mi=data.groupby('Bought_by').get_group('MI')\n",
    "mi"
   ]
  },
  {
   "cell_type": "markdown",
   "id": "c0a34fe9",
   "metadata": {},
   "source": [
    "### Visualization of amount at which the players have been bought"
   ]
  },
  {
   "cell_type": "code",
   "execution_count": 50,
   "id": "d722da35",
   "metadata": {},
   "outputs": [
    {
     "data": {
      "image/png": "[encoded data removed]",
      "text/plain": [
       "<Figure size 432x288 with 1 Axes>"
      ]
     },
     "metadata": {
      "needs_background": "light"
     },
     "output_type": "display_data"
    }
   ],
   "source": [
    "x=list(mi['Player_Name']);\n",
    "y=list(mi['Price_Paid']);\n",
    "plt.barh(x,y);"
   ]
  },
  {
   "cell_type": "markdown",
   "id": "6aa95a60",
   "metadata": {},
   "source": [
    "### List of Batsmen bought by MI"
   ]
  },
  {
   "cell_type": "code",
   "execution_count": 51,
   "id": "2b96f5e2",
   "metadata": {},
   "outputs": [
    {
     "data": {
      "text/html": [
       "<div>\n",
       "<style scoped>\n",
       "    .dataframe tbody tr th:only-of-type {\n",
       "        vertical-align: middle;\n",
       "    }\n",
       "\n",
       "    .dataframe tbody tr th {\n",
       "        vertical-align: top;\n",
       "    }\n",
       "\n",
       "    .dataframe thead th {\n",
       "        text-align: right;\n",
       "    }\n",
       "</style>\n",
       "<table border=\"1\" class=\"dataframe\">\n",
       "  <thead>\n",
       "    <tr style=\"text-align: right;\">\n",
       "      <th></th>\n",
       "      <th>Player_Name</th>\n",
       "      <th>Base_Price</th>\n",
       "      <th>Price_Paid</th>\n",
       "      <th>Status</th>\n",
       "      <th>Bought_by</th>\n",
       "      <th>Previous_IPL_Teams</th>\n",
       "      <th>Country</th>\n",
       "      <th>Role</th>\n",
       "      <th>Batting_Style</th>\n",
       "      <th>Bowling_Style</th>\n",
       "      <th>Batting_Order</th>\n",
       "      <th>Capped_or_Uncapped</th>\n",
       "    </tr>\n",
       "  </thead>\n",
       "  <tbody>\n",
       "  </tbody>\n",
       "</table>\n",
       "</div>"
      ],
      "text/plain": [
       "Empty DataFrame\n",
       "Columns: [Player_Name, Base_Price, Price_Paid, Status, Bought_by, Previous_IPL_Teams, Country, Role, Batting_Style, Bowling_Style, Batting_Order, Capped_or_Uncapped]\n",
       "Index: []"
      ]
     },
     "execution_count": 51,
     "metadata": {},
     "output_type": "execute_result"
    }
   ],
   "source": [
    "mi_bats=mi[mi['Role'].str.contains('Batsman')]\n",
    "mi_bats"
   ]
  },
  {
   "cell_type": "markdown",
   "id": "75ec7a1e",
   "metadata": {},
   "source": [
    "### List of Bowlers bought by MI"
   ]
  },
  {
   "cell_type": "code",
   "execution_count": 52,
   "id": "c3549493",
   "metadata": {},
   "outputs": [
    {
     "data": {
      "text/html": [
       "<div>\n",
       "<style scoped>\n",
       "    .dataframe tbody tr th:only-of-type {\n",
       "        vertical-align: middle;\n",
       "    }\n",
       "\n",
       "    .dataframe tbody tr th {\n",
       "        vertical-align: top;\n",
       "    }\n",
       "\n",
       "    .dataframe thead th {\n",
       "        text-align: right;\n",
       "    }\n",
       "</style>\n",
       "<table border=\"1\" class=\"dataframe\">\n",
       "  <thead>\n",
       "    <tr style=\"text-align: right;\">\n",
       "      <th></th>\n",
       "      <th>Player_Name</th>\n",
       "      <th>Base_Price</th>\n",
       "      <th>Price_Paid</th>\n",
       "      <th>Status</th>\n",
       "      <th>Bought_by</th>\n",
       "      <th>Previous_IPL_Teams</th>\n",
       "      <th>Country</th>\n",
       "      <th>Role</th>\n",
       "      <th>Batting_Style</th>\n",
       "      <th>Bowling_Style</th>\n",
       "      <th>Batting_Order</th>\n",
       "      <th>Capped_or_Uncapped</th>\n",
       "    </tr>\n",
       "  </thead>\n",
       "  <tbody>\n",
       "    <tr>\n",
       "      <th>0</th>\n",
       "      <td>Adam Milne</td>\n",
       "      <td>50</td>\n",
       "      <td>320</td>\n",
       "      <td>Sold</td>\n",
       "      <td>MI</td>\n",
       "      <td>RCB</td>\n",
       "      <td>New Zealand</td>\n",
       "      <td>Seam Bowler</td>\n",
       "      <td>NaN</td>\n",
       "      <td>Right Fast</td>\n",
       "      <td>NaN</td>\n",
       "      <td>Capped</td>\n",
       "    </tr>\n",
       "    <tr>\n",
       "      <th>2</th>\n",
       "      <td>Arjun Tendulkar</td>\n",
       "      <td>20</td>\n",
       "      <td>20</td>\n",
       "      <td>Sold</td>\n",
       "      <td>MI</td>\n",
       "      <td>NaN</td>\n",
       "      <td>India</td>\n",
       "      <td>Seam Bowler</td>\n",
       "      <td>NaN</td>\n",
       "      <td>Left Medium Fast</td>\n",
       "      <td>NaN</td>\n",
       "      <td>Uncapped</td>\n",
       "    </tr>\n",
       "    <tr>\n",
       "      <th>56</th>\n",
       "      <td>Yudhvir Charak</td>\n",
       "      <td>20</td>\n",
       "      <td>20</td>\n",
       "      <td>Sold</td>\n",
       "      <td>MI</td>\n",
       "      <td>NaN</td>\n",
       "      <td>India</td>\n",
       "      <td>Seam Bowler</td>\n",
       "      <td>NaN</td>\n",
       "      <td>Right Medium Fast</td>\n",
       "      <td>NaN</td>\n",
       "      <td>Uncapped</td>\n",
       "    </tr>\n",
       "  </tbody>\n",
       "</table>\n",
       "</div>"
      ],
      "text/plain": [
       "        Player_Name  Base_Price  Price_Paid Status Bought_by  \\\n",
       "0        Adam Milne          50         320   Sold        MI   \n",
       "2   Arjun Tendulkar          20          20   Sold        MI   \n",
       "56   Yudhvir Charak          20          20   Sold        MI   \n",
       "\n",
       "   Previous_IPL_Teams      Country         Role Batting_Style  \\\n",
       "0                 RCB  New Zealand  Seam Bowler           NaN   \n",
       "2                 NaN        India  Seam Bowler           NaN   \n",
       "56                NaN        India  Seam Bowler           NaN   \n",
       "\n",
       "        Bowling_Style Batting_Order Capped_or_Uncapped  \n",
       "0          Right Fast           NaN             Capped  \n",
       "2    Left Medium Fast           NaN           Uncapped  \n",
       "56  Right Medium Fast           NaN           Uncapped  "
      ]
     },
     "execution_count": 52,
     "metadata": {},
     "output_type": "execute_result"
    }
   ],
   "source": [
    "mi_bowl=mi[mi['Role'].str.contains('Bowler')]\n",
    "mi_bowl"
   ]
  },
  {
   "cell_type": "markdown",
   "id": "bf9f5f7a",
   "metadata": {},
   "source": [
    "### List of All Rounders bought by MI"
   ]
  },
  {
   "cell_type": "code",
   "execution_count": 53,
   "id": "ab97c594",
   "metadata": {},
   "outputs": [
    {
     "data": {
      "text/html": [
       "<div>\n",
       "<style scoped>\n",
       "    .dataframe tbody tr th:only-of-type {\n",
       "        vertical-align: middle;\n",
       "    }\n",
       "\n",
       "    .dataframe tbody tr th {\n",
       "        vertical-align: top;\n",
       "    }\n",
       "\n",
       "    .dataframe thead th {\n",
       "        text-align: right;\n",
       "    }\n",
       "</style>\n",
       "<table border=\"1\" class=\"dataframe\">\n",
       "  <thead>\n",
       "    <tr style=\"text-align: right;\">\n",
       "      <th></th>\n",
       "      <th>Player_Name</th>\n",
       "      <th>Base_Price</th>\n",
       "      <th>Price_Paid</th>\n",
       "      <th>Status</th>\n",
       "      <th>Bought_by</th>\n",
       "      <th>Previous_IPL_Teams</th>\n",
       "      <th>Country</th>\n",
       "      <th>Role</th>\n",
       "      <th>Batting_Style</th>\n",
       "      <th>Bowling_Style</th>\n",
       "      <th>Batting_Order</th>\n",
       "      <th>Capped_or_Uncapped</th>\n",
       "    </tr>\n",
       "  </thead>\n",
       "  <tbody>\n",
       "    <tr>\n",
       "      <th>17</th>\n",
       "      <td>James Neesham</td>\n",
       "      <td>50</td>\n",
       "      <td>50</td>\n",
       "      <td>Sold</td>\n",
       "      <td>MI</td>\n",
       "      <td>DC, PBKS, KKR</td>\n",
       "      <td>New Zealand</td>\n",
       "      <td>Batting All Rounder</td>\n",
       "      <td>Left</td>\n",
       "      <td>Right Medium</td>\n",
       "      <td>Middle</td>\n",
       "      <td>Capped</td>\n",
       "    </tr>\n",
       "    <tr>\n",
       "      <th>28</th>\n",
       "      <td>Marco Jansen</td>\n",
       "      <td>20</td>\n",
       "      <td>20</td>\n",
       "      <td>Sold</td>\n",
       "      <td>MI</td>\n",
       "      <td>NaN</td>\n",
       "      <td>South Africa</td>\n",
       "      <td>Bowling All Rounder</td>\n",
       "      <td>Right</td>\n",
       "      <td>Left Fast</td>\n",
       "      <td>Lower</td>\n",
       "      <td>Uncapped</td>\n",
       "    </tr>\n",
       "    <tr>\n",
       "      <th>34</th>\n",
       "      <td>Nathan Coulter-Nile</td>\n",
       "      <td>150</td>\n",
       "      <td>500</td>\n",
       "      <td>Sold</td>\n",
       "      <td>MI</td>\n",
       "      <td>MI, DC, KKR, RCB</td>\n",
       "      <td>Australia</td>\n",
       "      <td>Bowling All Rounder</td>\n",
       "      <td>Right</td>\n",
       "      <td>Right Fast</td>\n",
       "      <td>Lower</td>\n",
       "      <td>Capped</td>\n",
       "    </tr>\n",
       "    <tr>\n",
       "      <th>36</th>\n",
       "      <td>Piyush Chawla</td>\n",
       "      <td>50</td>\n",
       "      <td>240</td>\n",
       "      <td>Sold</td>\n",
       "      <td>MI</td>\n",
       "      <td>KKR, PBKS, CSK</td>\n",
       "      <td>India</td>\n",
       "      <td>Bowling All Rounder</td>\n",
       "      <td>Left</td>\n",
       "      <td>Right Legbreak</td>\n",
       "      <td>Lower</td>\n",
       "      <td>Capped</td>\n",
       "    </tr>\n",
       "  </tbody>\n",
       "</table>\n",
       "</div>"
      ],
      "text/plain": [
       "            Player_Name  Base_Price  Price_Paid Status Bought_by  \\\n",
       "17        James Neesham          50          50   Sold        MI   \n",
       "28         Marco Jansen          20          20   Sold        MI   \n",
       "34  Nathan Coulter-Nile         150         500   Sold        MI   \n",
       "36        Piyush Chawla          50         240   Sold        MI   \n",
       "\n",
       "   Previous_IPL_Teams       Country                 Role Batting_Style  \\\n",
       "17      DC, PBKS, KKR   New Zealand  Batting All Rounder          Left   \n",
       "28                NaN  South Africa  Bowling All Rounder        Right    \n",
       "34   MI, DC, KKR, RCB     Australia  Bowling All Rounder        Right    \n",
       "36     KKR, PBKS, CSK         India  Bowling All Rounder          Left   \n",
       "\n",
       "     Bowling_Style Batting_Order Capped_or_Uncapped  \n",
       "17    Right Medium        Middle             Capped  \n",
       "28       Left Fast        Lower            Uncapped  \n",
       "34      Right Fast        Lower              Capped  \n",
       "36  Right Legbreak        Lower              Capped  "
      ]
     },
     "execution_count": 53,
     "metadata": {},
     "output_type": "execute_result"
    }
   ],
   "source": [
    "mi_all=mi[mi['Role'].str.contains('All Rounder')]\n",
    "mi_all"
   ]
  },
  {
   "cell_type": "markdown",
   "id": "fabc70f8",
   "metadata": {},
   "source": [
    "## TEAM ANALYSIS - MUMBAI INDIANS"
   ]
  },
  {
   "cell_type": "code",
   "execution_count": 54,
   "id": "e1d6ab2f",
   "metadata": {},
   "outputs": [
    {
     "name": "stdout",
     "output_type": "stream",
     "text": [
      "Total amount spent during auction:  11.7  crores\n"
     ]
    }
   ],
   "source": [
    "print(\"Total amount spent during auction: \",(mi['Price_Paid'].sum())/100,\" crores\")"
   ]
  },
  {
   "cell_type": "code",
   "execution_count": 55,
   "id": "72fa111c",
   "metadata": {},
   "outputs": [
    {
     "name": "stdout",
     "output_type": "stream",
     "text": [
      "Highest bid by Mumbai Indians: \n",
      "\n",
      "Player Name:              Nathan Coulter-Nile\n",
      "Country:                  Australia\n",
      "Bought for (in crores):   5.0\n",
      "Role:                     Bowling All Rounder\n"
     ]
    }
   ],
   "source": [
    "print(\"Highest bid by Mumbai Indians: \")\n",
    "print()\n",
    "formpri(mi[mi['Price_Paid']==mi['Price_Paid'].max()])"
   ]
  },
  {
   "cell_type": "code",
   "execution_count": 56,
   "id": "04065dad",
   "metadata": {},
   "outputs": [
    {
     "name": "stdout",
     "output_type": "stream",
     "text": [
      "Highest Indian bid by Mumbai Indians: \n",
      "\n",
      "Player Name:              Piyush Chawla\n",
      "Country:                  India\n",
      "Bought for (in crores):   2.4\n",
      "Role:                     Bowling All Rounder\n"
     ]
    }
   ],
   "source": [
    "print(\"Highest Indian bid by Mumbai Indians: \")\n",
    "print()\n",
    "formpri(mi[mi['Price_Paid']==mi[mi['Country']=='India']['Price_Paid'].max()])"
   ]
  },
  {
   "cell_type": "code",
   "execution_count": 57,
   "id": "f377da8a",
   "metadata": {},
   "outputs": [
    {
     "name": "stdout",
     "output_type": "stream",
     "text": [
      "Highest Foreign bid by Mumbai Indians: \n",
      "\n",
      "Player Name:              Nathan Coulter-Nile\n",
      "Country:                  Australia\n",
      "Bought for (in crores):   5.0\n",
      "Role:                     Bowling All Rounder\n"
     ]
    }
   ],
   "source": [
    "print(\"Highest Foreign bid by Mumbai Indians: \")\n",
    "print()\n",
    "formpri(mi[mi['Price_Paid']==mi[mi['Country']!='India']['Price_Paid'].max()])"
   ]
  },
  {
   "cell_type": "code",
   "execution_count": 58,
   "id": "8c692fec",
   "metadata": {},
   "outputs": [
    {
     "name": "stdout",
     "output_type": "stream",
     "text": [
      "Amount Spent on each Department: \n",
      "\n",
      "Role\n",
      "Batting All Rounder    0.5\n",
      "Bowling All Rounder    7.6\n",
      "Seam Bowler            3.6\n"
     ]
    }
   ],
   "source": [
    "print(\"Amount Spent on each Department: \")\n",
    "print()\n",
    "print((mi.groupby('Role')['Price_Paid'].sum()/100).to_string())"
   ]
  },
  {
   "cell_type": "code",
   "execution_count": 59,
   "id": "76a04249",
   "metadata": {},
   "outputs": [
    {
     "name": "stdout",
     "output_type": "stream",
     "text": [
      "Highest bowler bid by Mumbai Indians: \n",
      "\n",
      "Player Name:              Adam Milne\n",
      "Country:                  New Zealand\n",
      "Bought for (in crores):   3.2\n",
      "Role:                     Seam Bowler\n"
     ]
    }
   ],
   "source": [
    "print(\"Highest bowler bid by Mumbai Indians: \")\n",
    "print()\n",
    "formpri(mi_bowl[mi_bowl['Price_Paid']==mi_bowl['Price_Paid'].max()])"
   ]
  },
  {
   "cell_type": "code",
   "execution_count": 60,
   "id": "c69c0a2b",
   "metadata": {},
   "outputs": [
    {
     "name": "stdout",
     "output_type": "stream",
     "text": [
      "Highest all rounder bid by Mumbai Indians: \n",
      "\n",
      "Player Name:              Nathan Coulter-Nile\n",
      "Country:                  Australia\n",
      "Bought for (in crores):   5.0\n",
      "Role:                     Bowling All Rounder\n"
     ]
    }
   ],
   "source": [
    "print(\"Highest all rounder bid by Mumbai Indians: \")\n",
    "print()\n",
    "formpri(mi_all[mi_all['Price_Paid']==mi_all['Price_Paid'].max()])"
   ]
  },
  {
   "cell_type": "code",
   "execution_count": 61,
   "id": "b57b9d0a",
   "metadata": {},
   "outputs": [
    {
     "name": "stdout",
     "output_type": "stream",
     "text": [
      "Average amount spent on each department: \n",
      "\n",
      "Role\n",
      "Batting All Rounder    0.500000\n",
      "Bowling All Rounder    2.533333\n",
      "Seam Bowler            1.200000\n"
     ]
    }
   ],
   "source": [
    "print(\"Average amount spent on each department: \")\n",
    "print()\n",
    "print((mi.groupby('Role')['Price_Paid'].mean()/100).to_string())"
   ]
  },
  {
   "cell_type": "code",
   "execution_count": 62,
   "id": "37ffd08c",
   "metadata": {},
   "outputs": [
    {
     "name": "stdout",
     "output_type": "stream",
     "text": [
      "Highest capped bid by Mumbai Indians: \n",
      "\n",
      "Player Name:              Nathan Coulter-Nile\n",
      "Country:                  Australia\n",
      "Bought for (in crores):   5.0\n",
      "Role:                     Bowling All Rounder\n"
     ]
    }
   ],
   "source": [
    "print(\"Highest capped bid by Mumbai Indians: \")\n",
    "print()\n",
    "formpri(mi[mi['Price_Paid']==mi[mi['Capped_or_Uncapped']=='Capped']['Price_Paid'].max()])"
   ]
  },
  {
   "cell_type": "code",
   "execution_count": 63,
   "id": "176b0663",
   "metadata": {},
   "outputs": [
    {
     "name": "stdout",
     "output_type": "stream",
     "text": [
      "Highest uncapped bid by Mumbai Indians: \n",
      "\n"
     ]
    },
    {
     "data": {
      "text/html": [
       "<div>\n",
       "<style scoped>\n",
       "    .dataframe tbody tr th:only-of-type {\n",
       "        vertical-align: middle;\n",
       "    }\n",
       "\n",
       "    .dataframe tbody tr th {\n",
       "        vertical-align: top;\n",
       "    }\n",
       "\n",
       "    .dataframe thead th {\n",
       "        text-align: right;\n",
       "    }\n",
       "</style>\n",
       "<table border=\"1\" class=\"dataframe\">\n",
       "  <thead>\n",
       "    <tr style=\"text-align: right;\">\n",
       "      <th></th>\n",
       "      <th>Player_Name</th>\n",
       "      <th>Base_Price</th>\n",
       "      <th>Price_Paid</th>\n",
       "      <th>Status</th>\n",
       "      <th>Bought_by</th>\n",
       "      <th>Previous_IPL_Teams</th>\n",
       "      <th>Country</th>\n",
       "      <th>Role</th>\n",
       "      <th>Batting_Style</th>\n",
       "      <th>Bowling_Style</th>\n",
       "      <th>Batting_Order</th>\n",
       "      <th>Capped_or_Uncapped</th>\n",
       "    </tr>\n",
       "  </thead>\n",
       "  <tbody>\n",
       "    <tr>\n",
       "      <th>2</th>\n",
       "      <td>Arjun Tendulkar</td>\n",
       "      <td>20</td>\n",
       "      <td>20</td>\n",
       "      <td>Sold</td>\n",
       "      <td>MI</td>\n",
       "      <td>NaN</td>\n",
       "      <td>India</td>\n",
       "      <td>Seam Bowler</td>\n",
       "      <td>NaN</td>\n",
       "      <td>Left Medium Fast</td>\n",
       "      <td>NaN</td>\n",
       "      <td>Uncapped</td>\n",
       "    </tr>\n",
       "    <tr>\n",
       "      <th>28</th>\n",
       "      <td>Marco Jansen</td>\n",
       "      <td>20</td>\n",
       "      <td>20</td>\n",
       "      <td>Sold</td>\n",
       "      <td>MI</td>\n",
       "      <td>NaN</td>\n",
       "      <td>South Africa</td>\n",
       "      <td>Bowling All Rounder</td>\n",
       "      <td>Right</td>\n",
       "      <td>Left Fast</td>\n",
       "      <td>Lower</td>\n",
       "      <td>Uncapped</td>\n",
       "    </tr>\n",
       "    <tr>\n",
       "      <th>56</th>\n",
       "      <td>Yudhvir Charak</td>\n",
       "      <td>20</td>\n",
       "      <td>20</td>\n",
       "      <td>Sold</td>\n",
       "      <td>MI</td>\n",
       "      <td>NaN</td>\n",
       "      <td>India</td>\n",
       "      <td>Seam Bowler</td>\n",
       "      <td>NaN</td>\n",
       "      <td>Right Medium Fast</td>\n",
       "      <td>NaN</td>\n",
       "      <td>Uncapped</td>\n",
       "    </tr>\n",
       "  </tbody>\n",
       "</table>\n",
       "</div>"
      ],
      "text/plain": [
       "        Player_Name  Base_Price  Price_Paid Status Bought_by  \\\n",
       "2   Arjun Tendulkar          20          20   Sold        MI   \n",
       "28     Marco Jansen          20          20   Sold        MI   \n",
       "56   Yudhvir Charak          20          20   Sold        MI   \n",
       "\n",
       "   Previous_IPL_Teams       Country                 Role Batting_Style  \\\n",
       "2                 NaN         India          Seam Bowler           NaN   \n",
       "28                NaN  South Africa  Bowling All Rounder        Right    \n",
       "56                NaN         India          Seam Bowler           NaN   \n",
       "\n",
       "        Bowling_Style Batting_Order Capped_or_Uncapped  \n",
       "2    Left Medium Fast           NaN           Uncapped  \n",
       "28          Left Fast        Lower            Uncapped  \n",
       "56  Right Medium Fast           NaN           Uncapped  "
      ]
     },
     "execution_count": 63,
     "metadata": {},
     "output_type": "execute_result"
    }
   ],
   "source": [
    "print(\"Highest uncapped bid by Mumbai Indians: \")\n",
    "print()\n",
    "mi[mi['Price_Paid']==mi[mi['Capped_or_Uncapped']=='Uncapped']['Price_Paid'].max()]"
   ]
  },
  {
   "cell_type": "code",
   "execution_count": 64,
   "id": "cfb9f394",
   "metadata": {},
   "outputs": [
    {
     "name": "stdout",
     "output_type": "stream",
     "text": [
      "Visualization of distribution of Amount spent by MI on each department: \n",
      "\n"
     ]
    },
    {
     "data": {
      "image/png": "[encoded data removed]",
      "text/plain": [
       "<Figure size 1080x720 with 1 Axes>"
      ]
     },
     "metadata": {},
     "output_type": "display_data"
    }
   ],
   "source": [
    "print(\"Visualization of distribution of Amount spent by MI on each department: \")\n",
    "print()\n",
    "mi.groupby(['Role']).sum().plot(kind='pie', y='Price_Paid', autopct=\"%.2f%%\", figsize=(15,10), title=\"Distribution of Amount spent by MI on each department\").legend(loc='upper right');"
   ]
  },
  {
   "cell_type": "code",
   "execution_count": 65,
   "id": "06850911",
   "metadata": {},
   "outputs": [
    {
     "name": "stdout",
     "output_type": "stream",
     "text": [
      "No. of IPL Experienced and inexperienced Players bought by Mumbai Indians: \n",
      "Experienced Players:      4\n",
      "Inexperienced Players:    3\n"
     ]
    }
   ],
   "source": [
    "print(\"No. of IPL Experienced and inexperienced Players bought by Mumbai Indians: \")\n",
    "print(\"Experienced Players:     \",mi[pd.notnull(mi['Previous_IPL_Teams'])].shape[0])\n",
    "print(\"Inexperienced Players:   \",mi[pd.isnull(mi['Previous_IPL_Teams'])].shape[0])"
   ]
  },
  {
   "cell_type": "code",
   "execution_count": 66,
   "id": "6b760075",
   "metadata": {},
   "outputs": [
    {
     "name": "stdout",
     "output_type": "stream",
     "text": [
      "No. of Internationally Experienced and inexperienced  Players bought by Mumbai Indians: \n",
      "Experienced Players:      4\n",
      "Inexperienced Players:    3\n"
     ]
    }
   ],
   "source": [
    "print(\"No. of Internationally Experienced and inexperienced  Players bought by Mumbai Indians: \")\n",
    "print(\"Experienced Players:     \",mi[mi['Capped_or_Uncapped']=='Capped'].shape[0])\n",
    "print(\"Inexperienced Players:   \",mi[mi['Capped_or_Uncapped']=='Uncapped'].shape[0])"
   ]
  },
  {
   "cell_type": "code",
   "execution_count": 67,
   "id": "57ecba7e",
   "metadata": {},
   "outputs": [
    {
     "name": "stdout",
     "output_type": "stream",
     "text": [
      "No. of players bought at\n",
      "Base Price:            4\n",
      "More than Base Price:  3\n"
     ]
    }
   ],
   "source": [
    "print(\"No. of players bought at\")\n",
    "print(\"Base Price:           \",mi[mi['Price_Paid']==mi['Base_Price']].shape[0])\n",
    "print(\"More than Base Price: \",mi[mi['Price_Paid']!=mi['Base_Price']].shape[0])"
   ]
  },
  {
   "cell_type": "markdown",
   "id": "3f68ad4d",
   "metadata": {},
   "source": [
    "## Delhi Capitals (DC)"
   ]
  },
  {
   "cell_type": "markdown",
   "id": "f441e785",
   "metadata": {},
   "source": [
    "### Listing out players bought by DC"
   ]
  },
  {
   "cell_type": "code",
   "execution_count": 68,
   "id": "f0e2202b",
   "metadata": {},
   "outputs": [
    {
     "data": {
      "text/html": [
       "<div>\n",
       "<style scoped>\n",
       "    .dataframe tbody tr th:only-of-type {\n",
       "        vertical-align: middle;\n",
       "    }\n",
       "\n",
       "    .dataframe tbody tr th {\n",
       "        vertical-align: top;\n",
       "    }\n",
       "\n",
       "    .dataframe thead th {\n",
       "        text-align: right;\n",
       "    }\n",
       "</style>\n",
       "<table border=\"1\" class=\"dataframe\">\n",
       "  <thead>\n",
       "    <tr style=\"text-align: right;\">\n",
       "      <th></th>\n",
       "      <th>Player_Name</th>\n",
       "      <th>Base_Price</th>\n",
       "      <th>Price_Paid</th>\n",
       "      <th>Status</th>\n",
       "      <th>Bought_by</th>\n",
       "      <th>Previous_IPL_Teams</th>\n",
       "      <th>Country</th>\n",
       "      <th>Role</th>\n",
       "      <th>Batting_Style</th>\n",
       "      <th>Bowling_Style</th>\n",
       "      <th>Batting_Order</th>\n",
       "      <th>Capped_or_Uncapped</th>\n",
       "    </tr>\n",
       "  </thead>\n",
       "  <tbody>\n",
       "    <tr>\n",
       "      <th>26</th>\n",
       "      <td>Lukman Meriwala</td>\n",
       "      <td>20</td>\n",
       "      <td>20</td>\n",
       "      <td>Sold</td>\n",
       "      <td>DC</td>\n",
       "      <td>NaN</td>\n",
       "      <td>India</td>\n",
       "      <td>Seam Bowler</td>\n",
       "      <td>NaN</td>\n",
       "      <td>Left Fast Medium</td>\n",
       "      <td>NaN</td>\n",
       "      <td>Uncapped</td>\n",
       "    </tr>\n",
       "    <tr>\n",
       "      <th>27</th>\n",
       "      <td>Manimaran Siddharth</td>\n",
       "      <td>20</td>\n",
       "      <td>20</td>\n",
       "      <td>Sold</td>\n",
       "      <td>DC</td>\n",
       "      <td>NaN</td>\n",
       "      <td>India</td>\n",
       "      <td>Spin Bowler</td>\n",
       "      <td>NaN</td>\n",
       "      <td>Slow Left Orthodox</td>\n",
       "      <td>NaN</td>\n",
       "      <td>Uncapped</td>\n",
       "    </tr>\n",
       "    <tr>\n",
       "      <th>39</th>\n",
       "      <td>Ripal Patel</td>\n",
       "      <td>20</td>\n",
       "      <td>20</td>\n",
       "      <td>Sold</td>\n",
       "      <td>DC</td>\n",
       "      <td>NaN</td>\n",
       "      <td>India</td>\n",
       "      <td>Batting All Rounder</td>\n",
       "      <td>Right</td>\n",
       "      <td>Right Medium Fast</td>\n",
       "      <td>Middle</td>\n",
       "      <td>Uncapped</td>\n",
       "    </tr>\n",
       "    <tr>\n",
       "      <th>41</th>\n",
       "      <td>Sam Billings</td>\n",
       "      <td>200</td>\n",
       "      <td>200</td>\n",
       "      <td>Sold</td>\n",
       "      <td>DC</td>\n",
       "      <td>DC, CSK</td>\n",
       "      <td>England</td>\n",
       "      <td>Wicket Keeper Batsman</td>\n",
       "      <td>Right</td>\n",
       "      <td>NaN</td>\n",
       "      <td>Middle</td>\n",
       "      <td>Capped</td>\n",
       "    </tr>\n",
       "    <tr>\n",
       "      <th>48</th>\n",
       "      <td>Steven Smith</td>\n",
       "      <td>200</td>\n",
       "      <td>200</td>\n",
       "      <td>Sold</td>\n",
       "      <td>DC</td>\n",
       "      <td>RCB, KTK, PWI, RR, RPS</td>\n",
       "      <td>Australia</td>\n",
       "      <td>Batsman</td>\n",
       "      <td>Right</td>\n",
       "      <td>NaN</td>\n",
       "      <td>Middle</td>\n",
       "      <td>Capped</td>\n",
       "    </tr>\n",
       "    <tr>\n",
       "      <th>50</th>\n",
       "      <td>Tom Curran</td>\n",
       "      <td>150</td>\n",
       "      <td>525</td>\n",
       "      <td>Sold</td>\n",
       "      <td>DC</td>\n",
       "      <td>KKR, RR</td>\n",
       "      <td>England</td>\n",
       "      <td>Bowling All Rounder</td>\n",
       "      <td>Right</td>\n",
       "      <td>Right Fast Medium</td>\n",
       "      <td>Lower</td>\n",
       "      <td>Capped</td>\n",
       "    </tr>\n",
       "    <tr>\n",
       "      <th>51</th>\n",
       "      <td>Umesh Yadav</td>\n",
       "      <td>100</td>\n",
       "      <td>100</td>\n",
       "      <td>Sold</td>\n",
       "      <td>DC</td>\n",
       "      <td>RCB, KKR, DC</td>\n",
       "      <td>India</td>\n",
       "      <td>Seam Bowler</td>\n",
       "      <td>NaN</td>\n",
       "      <td>Right Fast</td>\n",
       "      <td>NaN</td>\n",
       "      <td>Capped</td>\n",
       "    </tr>\n",
       "    <tr>\n",
       "      <th>55</th>\n",
       "      <td>Vishnu Vinod</td>\n",
       "      <td>20</td>\n",
       "      <td>20</td>\n",
       "      <td>Sold</td>\n",
       "      <td>DC</td>\n",
       "      <td>RCB</td>\n",
       "      <td>India</td>\n",
       "      <td>Wicket Keeper Batsman</td>\n",
       "      <td>Right</td>\n",
       "      <td>NaN</td>\n",
       "      <td>Middle</td>\n",
       "      <td>Uncapped</td>\n",
       "    </tr>\n",
       "  </tbody>\n",
       "</table>\n",
       "</div>"
      ],
      "text/plain": [
       "            Player_Name  Base_Price  Price_Paid Status Bought_by  \\\n",
       "26      Lukman Meriwala          20          20   Sold        DC   \n",
       "27  Manimaran Siddharth          20          20  Sold         DC   \n",
       "39          Ripal Patel          20          20   Sold        DC   \n",
       "41         Sam Billings         200         200   Sold        DC   \n",
       "48         Steven Smith         200         200   Sold        DC   \n",
       "50           Tom Curran         150         525   Sold        DC   \n",
       "51          Umesh Yadav         100         100   Sold        DC   \n",
       "55         Vishnu Vinod          20          20   Sold        DC   \n",
       "\n",
       "        Previous_IPL_Teams    Country                   Role Batting_Style  \\\n",
       "26                     NaN      India            Seam Bowler           NaN   \n",
       "27                     NaN      India            Spin Bowler           NaN   \n",
       "39                     NaN      India    Batting All Rounder        Right    \n",
       "41                 DC, CSK    England  Wicket Keeper Batsman        Right    \n",
       "48  RCB, KTK, PWI, RR, RPS  Australia                Batsman        Right    \n",
       "50                 KKR, RR    England    Bowling All Rounder        Right    \n",
       "51            RCB, KKR, DC      India            Seam Bowler           NaN   \n",
       "55                     RCB      India  Wicket Keeper Batsman        Right    \n",
       "\n",
       "         Bowling_Style Batting_Order Capped_or_Uncapped  \n",
       "26    Left Fast Medium           NaN           Uncapped  \n",
       "27  Slow Left Orthodox           NaN           Uncapped  \n",
       "39   Right Medium Fast        Middle           Uncapped  \n",
       "41                 NaN        Middle             Capped  \n",
       "48                 NaN        Middle             Capped  \n",
       "50   Right Fast Medium        Lower              Capped  \n",
       "51          Right Fast           NaN             Capped  \n",
       "55                 NaN        Middle           Uncapped  "
      ]
     },
     "execution_count": 68,
     "metadata": {},
     "output_type": "execute_result"
    }
   ],
   "source": [
    "dc=data.groupby('Bought_by').get_group('DC')\n",
    "dc"
   ]
  },
  {
   "cell_type": "markdown",
   "id": "9efeeb21",
   "metadata": {},
   "source": [
    "### Visualization of amount at which the players have been bought"
   ]
  },
  {
   "cell_type": "code",
   "execution_count": 69,
   "id": "805ed566",
   "metadata": {},
   "outputs": [
    {
     "data": {
      "image/png": "[encoded data removed]",
      "text/plain": [
       "<Figure size 432x288 with 1 Axes>"
      ]
     },
     "metadata": {
      "needs_background": "light"
     },
     "output_type": "display_data"
    }
   ],
   "source": [
    "x=list(dc['Player_Name']);\n",
    "y=list(dc['Price_Paid']);\n",
    "plt.barh(x,y);"
   ]
  },
  {
   "cell_type": "markdown",
   "id": "1fee6115",
   "metadata": {},
   "source": [
    "### List of Batsmen bought by DC"
   ]
  },
  {
   "cell_type": "code",
   "execution_count": 70,
   "id": "d9436b9f",
   "metadata": {},
   "outputs": [
    {
     "data": {
      "text/html": [
       "<div>\n",
       "<style scoped>\n",
       "    .dataframe tbody tr th:only-of-type {\n",
       "        vertical-align: middle;\n",
       "    }\n",
       "\n",
       "    .dataframe tbody tr th {\n",
       "        vertical-align: top;\n",
       "    }\n",
       "\n",
       "    .dataframe thead th {\n",
       "        text-align: right;\n",
       "    }\n",
       "</style>\n",
       "<table border=\"1\" class=\"dataframe\">\n",
       "  <thead>\n",
       "    <tr style=\"text-align: right;\">\n",
       "      <th></th>\n",
       "      <th>Player_Name</th>\n",
       "      <th>Base_Price</th>\n",
       "      <th>Price_Paid</th>\n",
       "      <th>Status</th>\n",
       "      <th>Bought_by</th>\n",
       "      <th>Previous_IPL_Teams</th>\n",
       "      <th>Country</th>\n",
       "      <th>Role</th>\n",
       "      <th>Batting_Style</th>\n",
       "      <th>Bowling_Style</th>\n",
       "      <th>Batting_Order</th>\n",
       "      <th>Capped_or_Uncapped</th>\n",
       "    </tr>\n",
       "  </thead>\n",
       "  <tbody>\n",
       "    <tr>\n",
       "      <th>41</th>\n",
       "      <td>Sam Billings</td>\n",
       "      <td>200</td>\n",
       "      <td>200</td>\n",
       "      <td>Sold</td>\n",
       "      <td>DC</td>\n",
       "      <td>DC, CSK</td>\n",
       "      <td>England</td>\n",
       "      <td>Wicket Keeper Batsman</td>\n",
       "      <td>Right</td>\n",
       "      <td>NaN</td>\n",
       "      <td>Middle</td>\n",
       "      <td>Capped</td>\n",
       "    </tr>\n",
       "    <tr>\n",
       "      <th>48</th>\n",
       "      <td>Steven Smith</td>\n",
       "      <td>200</td>\n",
       "      <td>200</td>\n",
       "      <td>Sold</td>\n",
       "      <td>DC</td>\n",
       "      <td>RCB, KTK, PWI, RR, RPS</td>\n",
       "      <td>Australia</td>\n",
       "      <td>Batsman</td>\n",
       "      <td>Right</td>\n",
       "      <td>NaN</td>\n",
       "      <td>Middle</td>\n",
       "      <td>Capped</td>\n",
       "    </tr>\n",
       "    <tr>\n",
       "      <th>55</th>\n",
       "      <td>Vishnu Vinod</td>\n",
       "      <td>20</td>\n",
       "      <td>20</td>\n",
       "      <td>Sold</td>\n",
       "      <td>DC</td>\n",
       "      <td>RCB</td>\n",
       "      <td>India</td>\n",
       "      <td>Wicket Keeper Batsman</td>\n",
       "      <td>Right</td>\n",
       "      <td>NaN</td>\n",
       "      <td>Middle</td>\n",
       "      <td>Uncapped</td>\n",
       "    </tr>\n",
       "  </tbody>\n",
       "</table>\n",
       "</div>"
      ],
      "text/plain": [
       "     Player_Name  Base_Price  Price_Paid Status Bought_by  \\\n",
       "41  Sam Billings         200         200   Sold        DC   \n",
       "48  Steven Smith         200         200   Sold        DC   \n",
       "55  Vishnu Vinod          20          20   Sold        DC   \n",
       "\n",
       "        Previous_IPL_Teams    Country                   Role Batting_Style  \\\n",
       "41                 DC, CSK    England  Wicket Keeper Batsman        Right    \n",
       "48  RCB, KTK, PWI, RR, RPS  Australia                Batsman        Right    \n",
       "55                     RCB      India  Wicket Keeper Batsman        Right    \n",
       "\n",
       "   Bowling_Style Batting_Order Capped_or_Uncapped  \n",
       "41           NaN        Middle             Capped  \n",
       "48           NaN        Middle             Capped  \n",
       "55           NaN        Middle           Uncapped  "
      ]
     },
     "execution_count": 70,
     "metadata": {},
     "output_type": "execute_result"
    }
   ],
   "source": [
    "dc_bats=dc[dc['Role'].str.contains('Batsman')]\n",
    "dc_bats"
   ]
  },
  {
   "cell_type": "markdown",
   "id": "6184a093",
   "metadata": {},
   "source": [
    "### List of Bowlers bought by DC"
   ]
  },
  {
   "cell_type": "code",
   "execution_count": 71,
   "id": "f8e70c95",
   "metadata": {},
   "outputs": [
    {
     "data": {
      "text/html": [
       "<div>\n",
       "<style scoped>\n",
       "    .dataframe tbody tr th:only-of-type {\n",
       "        vertical-align: middle;\n",
       "    }\n",
       "\n",
       "    .dataframe tbody tr th {\n",
       "        vertical-align: top;\n",
       "    }\n",
       "\n",
       "    .dataframe thead th {\n",
       "        text-align: right;\n",
       "    }\n",
       "</style>\n",
       "<table border=\"1\" class=\"dataframe\">\n",
       "  <thead>\n",
       "    <tr style=\"text-align: right;\">\n",
       "      <th></th>\n",
       "      <th>Player_Name</th>\n",
       "      <th>Base_Price</th>\n",
       "      <th>Price_Paid</th>\n",
       "      <th>Status</th>\n",
       "      <th>Bought_by</th>\n",
       "      <th>Previous_IPL_Teams</th>\n",
       "      <th>Country</th>\n",
       "      <th>Role</th>\n",
       "      <th>Batting_Style</th>\n",
       "      <th>Bowling_Style</th>\n",
       "      <th>Batting_Order</th>\n",
       "      <th>Capped_or_Uncapped</th>\n",
       "    </tr>\n",
       "  </thead>\n",
       "  <tbody>\n",
       "    <tr>\n",
       "      <th>26</th>\n",
       "      <td>Lukman Meriwala</td>\n",
       "      <td>20</td>\n",
       "      <td>20</td>\n",
       "      <td>Sold</td>\n",
       "      <td>DC</td>\n",
       "      <td>NaN</td>\n",
       "      <td>India</td>\n",
       "      <td>Seam Bowler</td>\n",
       "      <td>NaN</td>\n",
       "      <td>Left Fast Medium</td>\n",
       "      <td>NaN</td>\n",
       "      <td>Uncapped</td>\n",
       "    </tr>\n",
       "    <tr>\n",
       "      <th>27</th>\n",
       "      <td>Manimaran Siddharth</td>\n",
       "      <td>20</td>\n",
       "      <td>20</td>\n",
       "      <td>Sold</td>\n",
       "      <td>DC</td>\n",
       "      <td>NaN</td>\n",
       "      <td>India</td>\n",
       "      <td>Spin Bowler</td>\n",
       "      <td>NaN</td>\n",
       "      <td>Slow Left Orthodox</td>\n",
       "      <td>NaN</td>\n",
       "      <td>Uncapped</td>\n",
       "    </tr>\n",
       "    <tr>\n",
       "      <th>51</th>\n",
       "      <td>Umesh Yadav</td>\n",
       "      <td>100</td>\n",
       "      <td>100</td>\n",
       "      <td>Sold</td>\n",
       "      <td>DC</td>\n",
       "      <td>RCB, KKR, DC</td>\n",
       "      <td>India</td>\n",
       "      <td>Seam Bowler</td>\n",
       "      <td>NaN</td>\n",
       "      <td>Right Fast</td>\n",
       "      <td>NaN</td>\n",
       "      <td>Capped</td>\n",
       "    </tr>\n",
       "  </tbody>\n",
       "</table>\n",
       "</div>"
      ],
      "text/plain": [
       "            Player_Name  Base_Price  Price_Paid Status Bought_by  \\\n",
       "26      Lukman Meriwala          20          20   Sold        DC   \n",
       "27  Manimaran Siddharth          20          20  Sold         DC   \n",
       "51          Umesh Yadav         100         100   Sold        DC   \n",
       "\n",
       "   Previous_IPL_Teams Country         Role Batting_Style       Bowling_Style  \\\n",
       "26                NaN   India  Seam Bowler           NaN    Left Fast Medium   \n",
       "27                NaN   India  Spin Bowler           NaN  Slow Left Orthodox   \n",
       "51       RCB, KKR, DC   India  Seam Bowler           NaN          Right Fast   \n",
       "\n",
       "   Batting_Order Capped_or_Uncapped  \n",
       "26           NaN           Uncapped  \n",
       "27           NaN           Uncapped  \n",
       "51           NaN             Capped  "
      ]
     },
     "execution_count": 71,
     "metadata": {},
     "output_type": "execute_result"
    }
   ],
   "source": [
    "dc_bowl=dc[dc['Role'].str.contains('Bowler')]\n",
    "dc_bowl"
   ]
  },
  {
   "cell_type": "markdown",
   "id": "2616a4b2",
   "metadata": {},
   "source": [
    "### List of All Rounders bought by DC"
   ]
  },
  {
   "cell_type": "code",
   "execution_count": 72,
   "id": "0caea72f",
   "metadata": {},
   "outputs": [
    {
     "data": {
      "text/html": [
       "<div>\n",
       "<style scoped>\n",
       "    .dataframe tbody tr th:only-of-type {\n",
       "        vertical-align: middle;\n",
       "    }\n",
       "\n",
       "    .dataframe tbody tr th {\n",
       "        vertical-align: top;\n",
       "    }\n",
       "\n",
       "    .dataframe thead th {\n",
       "        text-align: right;\n",
       "    }\n",
       "</style>\n",
       "<table border=\"1\" class=\"dataframe\">\n",
       "  <thead>\n",
       "    <tr style=\"text-align: right;\">\n",
       "      <th></th>\n",
       "      <th>Player_Name</th>\n",
       "      <th>Base_Price</th>\n",
       "      <th>Price_Paid</th>\n",
       "      <th>Status</th>\n",
       "      <th>Bought_by</th>\n",
       "      <th>Previous_IPL_Teams</th>\n",
       "      <th>Country</th>\n",
       "      <th>Role</th>\n",
       "      <th>Batting_Style</th>\n",
       "      <th>Bowling_Style</th>\n",
       "      <th>Batting_Order</th>\n",
       "      <th>Capped_or_Uncapped</th>\n",
       "    </tr>\n",
       "  </thead>\n",
       "  <tbody>\n",
       "    <tr>\n",
       "      <th>39</th>\n",
       "      <td>Ripal Patel</td>\n",
       "      <td>20</td>\n",
       "      <td>20</td>\n",
       "      <td>Sold</td>\n",
       "      <td>DC</td>\n",
       "      <td>NaN</td>\n",
       "      <td>India</td>\n",
       "      <td>Batting All Rounder</td>\n",
       "      <td>Right</td>\n",
       "      <td>Right Medium Fast</td>\n",
       "      <td>Middle</td>\n",
       "      <td>Uncapped</td>\n",
       "    </tr>\n",
       "    <tr>\n",
       "      <th>50</th>\n",
       "      <td>Tom Curran</td>\n",
       "      <td>150</td>\n",
       "      <td>525</td>\n",
       "      <td>Sold</td>\n",
       "      <td>DC</td>\n",
       "      <td>KKR, RR</td>\n",
       "      <td>England</td>\n",
       "      <td>Bowling All Rounder</td>\n",
       "      <td>Right</td>\n",
       "      <td>Right Fast Medium</td>\n",
       "      <td>Lower</td>\n",
       "      <td>Capped</td>\n",
       "    </tr>\n",
       "  </tbody>\n",
       "</table>\n",
       "</div>"
      ],
      "text/plain": [
       "    Player_Name  Base_Price  Price_Paid Status Bought_by Previous_IPL_Teams  \\\n",
       "39  Ripal Patel          20          20   Sold        DC                NaN   \n",
       "50   Tom Curran         150         525   Sold        DC            KKR, RR   \n",
       "\n",
       "    Country                 Role Batting_Style      Bowling_Style  \\\n",
       "39    India  Batting All Rounder        Right   Right Medium Fast   \n",
       "50  England  Bowling All Rounder        Right   Right Fast Medium   \n",
       "\n",
       "   Batting_Order Capped_or_Uncapped  \n",
       "39        Middle           Uncapped  \n",
       "50        Lower              Capped  "
      ]
     },
     "execution_count": 72,
     "metadata": {},
     "output_type": "execute_result"
    }
   ],
   "source": [
    "dc_all=dc[dc['Role'].str.contains('All Rounder')]\n",
    "dc_all"
   ]
  },
  {
   "cell_type": "markdown",
   "id": "fa33a9c4",
   "metadata": {},
   "source": [
    "## TEAM ANALYSIS - DELHI CAPITALS"
   ]
  },
  {
   "cell_type": "code",
   "execution_count": 73,
   "id": "c33b3ad2",
   "metadata": {},
   "outputs": [
    {
     "name": "stdout",
     "output_type": "stream",
     "text": [
      "Total amount spent during auction:  11.05  crores\n"
     ]
    }
   ],
   "source": [
    "print(\"Total amount spent during auction: \",(dc['Price_Paid'].sum())/100,\" crores\")"
   ]
  },
  {
   "cell_type": "code",
   "execution_count": 74,
   "id": "7676785b",
   "metadata": {},
   "outputs": [
    {
     "name": "stdout",
     "output_type": "stream",
     "text": [
      "Highest bid by Delhi Capitals: \n",
      "\n",
      "Player Name:              Tom Curran\n",
      "Country:                  England\n",
      "Bought for (in crores):   5.25\n",
      "Role:                     Bowling All Rounder\n"
     ]
    }
   ],
   "source": [
    "print(\"Highest bid by Delhi Capitals: \")\n",
    "print()\n",
    "formpri(dc[dc['Price_Paid']==dc['Price_Paid'].max()])"
   ]
  },
  {
   "cell_type": "code",
   "execution_count": 75,
   "id": "e8cd8f6d",
   "metadata": {},
   "outputs": [
    {
     "name": "stdout",
     "output_type": "stream",
     "text": [
      "Highest Indian bid by Delhi Capitals: \n",
      "\n",
      "Player Name:              Umesh Yadav\n",
      "Country:                  India\n",
      "Bought for (in crores):   1.0\n",
      "Role:                     Seam Bowler\n"
     ]
    }
   ],
   "source": [
    "print(\"Highest Indian bid by Delhi Capitals: \")\n",
    "print()\n",
    "formpri(dc[dc['Price_Paid']==dc[dc['Country']=='India']['Price_Paid'].max()])"
   ]
  },
  {
   "cell_type": "code",
   "execution_count": 76,
   "id": "5359e216",
   "metadata": {},
   "outputs": [
    {
     "name": "stdout",
     "output_type": "stream",
     "text": [
      "Highest Foreign bid by Delhi Capitals: \n",
      "\n",
      "Player Name:              Tom Curran\n",
      "Country:                  England\n",
      "Bought for (in crores):   5.25\n",
      "Role:                     Bowling All Rounder\n"
     ]
    }
   ],
   "source": [
    "print(\"Highest Foreign bid by Delhi Capitals: \")\n",
    "print()\n",
    "formpri(dc[dc['Price_Paid']==dc[dc['Country']!='India']['Price_Paid'].max()])"
   ]
  },
  {
   "cell_type": "code",
   "execution_count": 77,
   "id": "5585f161",
   "metadata": {},
   "outputs": [
    {
     "name": "stdout",
     "output_type": "stream",
     "text": [
      "Amount Spent on each Department: \n",
      "\n",
      "Role\n",
      "Batsman                  2.00\n",
      "Batting All Rounder      0.20\n",
      "Bowling All Rounder      5.25\n",
      "Seam Bowler              1.20\n",
      "Spin Bowler              0.20\n",
      "Wicket Keeper Batsman    2.20\n"
     ]
    }
   ],
   "source": [
    "print(\"Amount Spent on each Department: \")\n",
    "print()\n",
    "print((dc.groupby('Role')['Price_Paid'].sum()/100).to_string())"
   ]
  },
  {
   "cell_type": "code",
   "execution_count": 78,
   "id": "9d508ca4",
   "metadata": {},
   "outputs": [
    {
     "name": "stdout",
     "output_type": "stream",
     "text": [
      "Highest batsman bid by Delhi Capitals: \n",
      "\n"
     ]
    },
    {
     "data": {
      "text/html": [
       "<div>\n",
       "<style scoped>\n",
       "    .dataframe tbody tr th:only-of-type {\n",
       "        vertical-align: middle;\n",
       "    }\n",
       "\n",
       "    .dataframe tbody tr th {\n",
       "        vertical-align: top;\n",
       "    }\n",
       "\n",
       "    .dataframe thead th {\n",
       "        text-align: right;\n",
       "    }\n",
       "</style>\n",
       "<table border=\"1\" class=\"dataframe\">\n",
       "  <thead>\n",
       "    <tr style=\"text-align: right;\">\n",
       "      <th></th>\n",
       "      <th>Player_Name</th>\n",
       "      <th>Base_Price</th>\n",
       "      <th>Price_Paid</th>\n",
       "      <th>Status</th>\n",
       "      <th>Bought_by</th>\n",
       "      <th>Previous_IPL_Teams</th>\n",
       "      <th>Country</th>\n",
       "      <th>Role</th>\n",
       "      <th>Batting_Style</th>\n",
       "      <th>Bowling_Style</th>\n",
       "      <th>Batting_Order</th>\n",
       "      <th>Capped_or_Uncapped</th>\n",
       "    </tr>\n",
       "  </thead>\n",
       "  <tbody>\n",
       "    <tr>\n",
       "      <th>41</th>\n",
       "      <td>Sam Billings</td>\n",
       "      <td>200</td>\n",
       "      <td>200</td>\n",
       "      <td>Sold</td>\n",
       "      <td>DC</td>\n",
       "      <td>DC, CSK</td>\n",
       "      <td>England</td>\n",
       "      <td>Wicket Keeper Batsman</td>\n",
       "      <td>Right</td>\n",
       "      <td>NaN</td>\n",
       "      <td>Middle</td>\n",
       "      <td>Capped</td>\n",
       "    </tr>\n",
       "    <tr>\n",
       "      <th>48</th>\n",
       "      <td>Steven Smith</td>\n",
       "      <td>200</td>\n",
       "      <td>200</td>\n",
       "      <td>Sold</td>\n",
       "      <td>DC</td>\n",
       "      <td>RCB, KTK, PWI, RR, RPS</td>\n",
       "      <td>Australia</td>\n",
       "      <td>Batsman</td>\n",
       "      <td>Right</td>\n",
       "      <td>NaN</td>\n",
       "      <td>Middle</td>\n",
       "      <td>Capped</td>\n",
       "    </tr>\n",
       "  </tbody>\n",
       "</table>\n",
       "</div>"
      ],
      "text/plain": [
       "     Player_Name  Base_Price  Price_Paid Status Bought_by  \\\n",
       "41  Sam Billings         200         200   Sold        DC   \n",
       "48  Steven Smith         200         200   Sold        DC   \n",
       "\n",
       "        Previous_IPL_Teams    Country                   Role Batting_Style  \\\n",
       "41                 DC, CSK    England  Wicket Keeper Batsman        Right    \n",
       "48  RCB, KTK, PWI, RR, RPS  Australia                Batsman        Right    \n",
       "\n",
       "   Bowling_Style Batting_Order Capped_or_Uncapped  \n",
       "41           NaN        Middle             Capped  \n",
       "48           NaN        Middle             Capped  "
      ]
     },
     "execution_count": 78,
     "metadata": {},
     "output_type": "execute_result"
    }
   ],
   "source": [
    "print(\"Highest batsman bid by Delhi Capitals: \")\n",
    "print()\n",
    "dc_bats[dc_bats['Price_Paid']==dc_bats['Price_Paid'].max()]"
   ]
  },
  {
   "cell_type": "code",
   "execution_count": 79,
   "id": "f447bc64",
   "metadata": {},
   "outputs": [
    {
     "name": "stdout",
     "output_type": "stream",
     "text": [
      "Highest bowler bid by Delhi Capitals: \n",
      "\n",
      "Player Name:              Umesh Yadav\n",
      "Country:                  India\n",
      "Bought for (in crores):   1.0\n",
      "Role:                     Seam Bowler\n"
     ]
    }
   ],
   "source": [
    "print(\"Highest bowler bid by Delhi Capitals: \")\n",
    "print()\n",
    "formpri(dc_bowl[dc_bowl['Price_Paid']==dc_bowl['Price_Paid'].max()])"
   ]
  },
  {
   "cell_type": "code",
   "execution_count": 80,
   "id": "5cc3f12a",
   "metadata": {},
   "outputs": [
    {
     "name": "stdout",
     "output_type": "stream",
     "text": [
      "Highest all rounder bid by Delhi Capitals: \n",
      "\n",
      "Player Name:              Tom Curran\n",
      "Country:                  England\n",
      "Bought for (in crores):   5.25\n",
      "Role:                     Bowling All Rounder\n"
     ]
    }
   ],
   "source": [
    "print(\"Highest all rounder bid by Delhi Capitals: \")\n",
    "print()\n",
    "formpri(dc_all[dc_all['Price_Paid']==dc_all['Price_Paid'].max()])"
   ]
  },
  {
   "cell_type": "code",
   "execution_count": 81,
   "id": "5be3cefd",
   "metadata": {},
   "outputs": [
    {
     "name": "stdout",
     "output_type": "stream",
     "text": [
      "Average amount spent on each department: \n",
      "\n",
      "Role\n",
      "Batsman                  2.00\n",
      "Batting All Rounder      0.20\n",
      "Bowling All Rounder      5.25\n",
      "Seam Bowler              0.60\n",
      "Spin Bowler              0.20\n",
      "Wicket Keeper Batsman    1.10\n"
     ]
    }
   ],
   "source": [
    "print(\"Average amount spent on each department: \")\n",
    "print()\n",
    "print((dc.groupby('Role')['Price_Paid'].mean()/100).to_string())"
   ]
  },
  {
   "cell_type": "code",
   "execution_count": 82,
   "id": "903e3c2b",
   "metadata": {},
   "outputs": [
    {
     "name": "stdout",
     "output_type": "stream",
     "text": [
      "Highest capped bid by Delhi Capitals: \n",
      "\n",
      "Player Name:              Tom Curran\n",
      "Country:                  England\n",
      "Bought for (in crores):   5.25\n",
      "Role:                     Bowling All Rounder\n"
     ]
    }
   ],
   "source": [
    "print(\"Highest capped bid by Delhi Capitals: \")\n",
    "print()\n",
    "formpri(dc[dc['Price_Paid']==dc[dc['Capped_or_Uncapped']=='Capped']['Price_Paid'].max()])"
   ]
  },
  {
   "cell_type": "code",
   "execution_count": 83,
   "id": "93b5cbf3",
   "metadata": {},
   "outputs": [
    {
     "name": "stdout",
     "output_type": "stream",
     "text": [
      "Highest uncapped bid by Delhi Capitals: \n",
      "\n"
     ]
    },
    {
     "data": {
      "text/html": [
       "<div>\n",
       "<style scoped>\n",
       "    .dataframe tbody tr th:only-of-type {\n",
       "        vertical-align: middle;\n",
       "    }\n",
       "\n",
       "    .dataframe tbody tr th {\n",
       "        vertical-align: top;\n",
       "    }\n",
       "\n",
       "    .dataframe thead th {\n",
       "        text-align: right;\n",
       "    }\n",
       "</style>\n",
       "<table border=\"1\" class=\"dataframe\">\n",
       "  <thead>\n",
       "    <tr style=\"text-align: right;\">\n",
       "      <th></th>\n",
       "      <th>Player_Name</th>\n",
       "      <th>Base_Price</th>\n",
       "      <th>Price_Paid</th>\n",
       "      <th>Status</th>\n",
       "      <th>Bought_by</th>\n",
       "      <th>Previous_IPL_Teams</th>\n",
       "      <th>Country</th>\n",
       "      <th>Role</th>\n",
       "      <th>Batting_Style</th>\n",
       "      <th>Bowling_Style</th>\n",
       "      <th>Batting_Order</th>\n",
       "      <th>Capped_or_Uncapped</th>\n",
       "    </tr>\n",
       "  </thead>\n",
       "  <tbody>\n",
       "    <tr>\n",
       "      <th>26</th>\n",
       "      <td>Lukman Meriwala</td>\n",
       "      <td>20</td>\n",
       "      <td>20</td>\n",
       "      <td>Sold</td>\n",
       "      <td>DC</td>\n",
       "      <td>NaN</td>\n",
       "      <td>India</td>\n",
       "      <td>Seam Bowler</td>\n",
       "      <td>NaN</td>\n",
       "      <td>Left Fast Medium</td>\n",
       "      <td>NaN</td>\n",
       "      <td>Uncapped</td>\n",
       "    </tr>\n",
       "    <tr>\n",
       "      <th>27</th>\n",
       "      <td>Manimaran Siddharth</td>\n",
       "      <td>20</td>\n",
       "      <td>20</td>\n",
       "      <td>Sold</td>\n",
       "      <td>DC</td>\n",
       "      <td>NaN</td>\n",
       "      <td>India</td>\n",
       "      <td>Spin Bowler</td>\n",
       "      <td>NaN</td>\n",
       "      <td>Slow Left Orthodox</td>\n",
       "      <td>NaN</td>\n",
       "      <td>Uncapped</td>\n",
       "    </tr>\n",
       "    <tr>\n",
       "      <th>39</th>\n",
       "      <td>Ripal Patel</td>\n",
       "      <td>20</td>\n",
       "      <td>20</td>\n",
       "      <td>Sold</td>\n",
       "      <td>DC</td>\n",
       "      <td>NaN</td>\n",
       "      <td>India</td>\n",
       "      <td>Batting All Rounder</td>\n",
       "      <td>Right</td>\n",
       "      <td>Right Medium Fast</td>\n",
       "      <td>Middle</td>\n",
       "      <td>Uncapped</td>\n",
       "    </tr>\n",
       "    <tr>\n",
       "      <th>55</th>\n",
       "      <td>Vishnu Vinod</td>\n",
       "      <td>20</td>\n",
       "      <td>20</td>\n",
       "      <td>Sold</td>\n",
       "      <td>DC</td>\n",
       "      <td>RCB</td>\n",
       "      <td>India</td>\n",
       "      <td>Wicket Keeper Batsman</td>\n",
       "      <td>Right</td>\n",
       "      <td>NaN</td>\n",
       "      <td>Middle</td>\n",
       "      <td>Uncapped</td>\n",
       "    </tr>\n",
       "  </tbody>\n",
       "</table>\n",
       "</div>"
      ],
      "text/plain": [
       "            Player_Name  Base_Price  Price_Paid Status Bought_by  \\\n",
       "26      Lukman Meriwala          20          20   Sold        DC   \n",
       "27  Manimaran Siddharth          20          20  Sold         DC   \n",
       "39          Ripal Patel          20          20   Sold        DC   \n",
       "55         Vishnu Vinod          20          20   Sold        DC   \n",
       "\n",
       "   Previous_IPL_Teams Country                   Role Batting_Style  \\\n",
       "26                NaN   India            Seam Bowler           NaN   \n",
       "27                NaN   India            Spin Bowler           NaN   \n",
       "39                NaN   India    Batting All Rounder        Right    \n",
       "55                RCB   India  Wicket Keeper Batsman        Right    \n",
       "\n",
       "         Bowling_Style Batting_Order Capped_or_Uncapped  \n",
       "26    Left Fast Medium           NaN           Uncapped  \n",
       "27  Slow Left Orthodox           NaN           Uncapped  \n",
       "39   Right Medium Fast        Middle           Uncapped  \n",
       "55                 NaN        Middle           Uncapped  "
      ]
     },
     "execution_count": 83,
     "metadata": {},
     "output_type": "execute_result"
    }
   ],
   "source": [
    "print(\"Highest uncapped bid by Delhi Capitals: \")\n",
    "print()\n",
    "dc[dc['Price_Paid']==dc[dc['Capped_or_Uncapped']=='Uncapped']['Price_Paid'].max()]"
   ]
  },
  {
   "cell_type": "code",
   "execution_count": 84,
   "id": "1df35a97",
   "metadata": {},
   "outputs": [
    {
     "name": "stdout",
     "output_type": "stream",
     "text": [
      "Visualization of distribution of Amount spent by DC on each department: \n",
      "\n"
     ]
    },
    {
     "data": {
      "image/png": "[encoded data removed]",
      "text/plain": [
       "<Figure size 1080x720 with 1 Axes>"
      ]
     },
     "metadata": {},
     "output_type": "display_data"
    }
   ],
   "source": [
    "print(\"Visualization of distribution of Amount spent by DC on each department: \")\n",
    "print()\n",
    "dc.groupby(['Role']).sum().plot(kind='pie', y='Price_Paid', autopct=\"%.2f%%\", figsize=(15,10), title=\"Distribution of Amount spent by DC on each department\").legend(loc='upper right');"
   ]
  },
  {
   "cell_type": "code",
   "execution_count": 85,
   "id": "5c04a898",
   "metadata": {},
   "outputs": [
    {
     "name": "stdout",
     "output_type": "stream",
     "text": [
      "No. of IPL Experienced and inexperienced Players bought by Delhi Capitals: \n",
      "Experienced Players:      5\n",
      "Inexperienced Players:    3\n"
     ]
    }
   ],
   "source": [
    "print(\"No. of IPL Experienced and inexperienced Players bought by Delhi Capitals: \")\n",
    "print(\"Experienced Players:     \",dc[pd.notnull(dc['Previous_IPL_Teams'])].shape[0])\n",
    "print(\"Inexperienced Players:   \",dc[pd.isnull(dc['Previous_IPL_Teams'])].shape[0])"
   ]
  },
  {
   "cell_type": "code",
   "execution_count": 86,
   "id": "ba1bb0eb",
   "metadata": {},
   "outputs": [
    {
     "name": "stdout",
     "output_type": "stream",
     "text": [
      "No. of Internationally Experienced and inexperienced  Players bought by Delhi Capitals: \n",
      "Experienced Players:      4\n",
      "Inexperienced Players:    4\n"
     ]
    }
   ],
   "source": [
    "print(\"No. of Internationally Experienced and inexperienced  Players bought by Delhi Capitals: \")\n",
    "print(\"Experienced Players:     \",dc[dc['Capped_or_Uncapped']=='Capped'].shape[0])\n",
    "print(\"Inexperienced Players:   \",dc[dc['Capped_or_Uncapped']=='Uncapped'].shape[0])"
   ]
  },
  {
   "cell_type": "code",
   "execution_count": 87,
   "id": "89adc246",
   "metadata": {},
   "outputs": [
    {
     "name": "stdout",
     "output_type": "stream",
     "text": [
      "No. of players bought at\n",
      "Base Price:            7\n",
      "More than Base Price:  1\n"
     ]
    }
   ],
   "source": [
    "print(\"No. of players bought at\")\n",
    "print(\"Base Price:           \",dc[dc['Price_Paid']==dc['Base_Price']].shape[0])\n",
    "print(\"More than Base Price: \",dc[dc['Price_Paid']!=dc['Base_Price']].shape[0])"
   ]
  },
  {
   "cell_type": "markdown",
   "id": "e03fcb11",
   "metadata": {},
   "source": [
    "## Sunrisers Hyderabad (SRH)"
   ]
  },
  {
   "cell_type": "markdown",
   "id": "99faf5d4",
   "metadata": {},
   "source": [
    "### Listing out players bought by SRH"
   ]
  },
  {
   "cell_type": "code",
   "execution_count": 88,
   "id": "7065c996",
   "metadata": {},
   "outputs": [
    {
     "data": {
      "text/html": [
       "<div>\n",
       "<style scoped>\n",
       "    .dataframe tbody tr th:only-of-type {\n",
       "        vertical-align: middle;\n",
       "    }\n",
       "\n",
       "    .dataframe tbody tr th {\n",
       "        vertical-align: top;\n",
       "    }\n",
       "\n",
       "    .dataframe thead th {\n",
       "        text-align: right;\n",
       "    }\n",
       "</style>\n",
       "<table border=\"1\" class=\"dataframe\">\n",
       "  <thead>\n",
       "    <tr style=\"text-align: right;\">\n",
       "      <th></th>\n",
       "      <th>Player_Name</th>\n",
       "      <th>Base_Price</th>\n",
       "      <th>Price_Paid</th>\n",
       "      <th>Status</th>\n",
       "      <th>Bought_by</th>\n",
       "      <th>Previous_IPL_Teams</th>\n",
       "      <th>Country</th>\n",
       "      <th>Role</th>\n",
       "      <th>Batting_Style</th>\n",
       "      <th>Bowling_Style</th>\n",
       "      <th>Batting_Order</th>\n",
       "      <th>Capped_or_Uncapped</th>\n",
       "    </tr>\n",
       "  </thead>\n",
       "  <tbody>\n",
       "    <tr>\n",
       "      <th>15</th>\n",
       "      <td>Jagadeesha Suchith</td>\n",
       "      <td>20</td>\n",
       "      <td>30</td>\n",
       "      <td>Sold</td>\n",
       "      <td>SRH</td>\n",
       "      <td>MI, DC, PBKS</td>\n",
       "      <td>India</td>\n",
       "      <td>Spin Bowler</td>\n",
       "      <td>NaN</td>\n",
       "      <td>Slow Left Orthodox</td>\n",
       "      <td>NaN</td>\n",
       "      <td>Uncapped</td>\n",
       "    </tr>\n",
       "    <tr>\n",
       "      <th>20</th>\n",
       "      <td>Kedar Jadhav</td>\n",
       "      <td>200</td>\n",
       "      <td>200</td>\n",
       "      <td>Sold</td>\n",
       "      <td>SRH</td>\n",
       "      <td>DC, CSK, RCB, KTK</td>\n",
       "      <td>India</td>\n",
       "      <td>Batting All Rounder</td>\n",
       "      <td>Right</td>\n",
       "      <td>Right Offbreak</td>\n",
       "      <td>Middle</td>\n",
       "      <td>Capped</td>\n",
       "    </tr>\n",
       "    <tr>\n",
       "      <th>32</th>\n",
       "      <td>Mujeeb Ur Rahman</td>\n",
       "      <td>150</td>\n",
       "      <td>150</td>\n",
       "      <td>Sold</td>\n",
       "      <td>SRH</td>\n",
       "      <td>PBKS</td>\n",
       "      <td>Afghanistan</td>\n",
       "      <td>Spin Bowler</td>\n",
       "      <td>NaN</td>\n",
       "      <td>Right Offbreak</td>\n",
       "      <td>NaN</td>\n",
       "      <td>Capped</td>\n",
       "    </tr>\n",
       "  </tbody>\n",
       "</table>\n",
       "</div>"
      ],
      "text/plain": [
       "           Player_Name  Base_Price  Price_Paid Status Bought_by  \\\n",
       "15  Jagadeesha Suchith          20          30   Sold       SRH   \n",
       "20        Kedar Jadhav         200         200   Sold       SRH   \n",
       "32    Mujeeb Ur Rahman         150         150   Sold       SRH   \n",
       "\n",
       "   Previous_IPL_Teams      Country                 Role Batting_Style  \\\n",
       "15       MI, DC, PBKS        India          Spin Bowler           NaN   \n",
       "20  DC, CSK, RCB, KTK        India  Batting All Rounder        Right    \n",
       "32               PBKS  Afghanistan          Spin Bowler           NaN   \n",
       "\n",
       "         Bowling_Style Batting_Order Capped_or_Uncapped  \n",
       "15  Slow Left Orthodox           NaN           Uncapped  \n",
       "20      Right Offbreak        Middle             Capped  \n",
       "32      Right Offbreak           NaN             Capped  "
      ]
     },
     "execution_count": 88,
     "metadata": {},
     "output_type": "execute_result"
    }
   ],
   "source": [
    "srh=data.groupby('Bought_by').get_group('SRH')\n",
    "srh"
   ]
  },
  {
   "cell_type": "markdown",
   "id": "2eebcb1e",
   "metadata": {},
   "source": [
    "### Visualization of amount at which the players have been bought"
   ]
  },
  {
   "cell_type": "code",
   "execution_count": 89,
   "id": "7fec0c3a",
   "metadata": {},
   "outputs": [
    {
     "data": {
      "image/png": "[encoded data removed]",
      "text/plain": [
       "<Figure size 432x288 with 1 Axes>"
      ]
     },
     "metadata": {
      "needs_background": "light"
     },
     "output_type": "display_data"
    }
   ],
   "source": [
    "x=list(srh['Player_Name']);\n",
    "y=list(srh['Price_Paid']);\n",
    "plt.barh(x,y);"
   ]
  },
  {
   "cell_type": "markdown",
   "id": "fed4d995",
   "metadata": {},
   "source": [
    "### List of Batsmen bought by SRH"
   ]
  },
  {
   "cell_type": "code",
   "execution_count": 90,
   "id": "1203aec7",
   "metadata": {},
   "outputs": [
    {
     "data": {
      "text/html": [
       "<div>\n",
       "<style scoped>\n",
       "    .dataframe tbody tr th:only-of-type {\n",
       "        vertical-align: middle;\n",
       "    }\n",
       "\n",
       "    .dataframe tbody tr th {\n",
       "        vertical-align: top;\n",
       "    }\n",
       "\n",
       "    .dataframe thead th {\n",
       "        text-align: right;\n",
       "    }\n",
       "</style>\n",
       "<table border=\"1\" class=\"dataframe\">\n",
       "  <thead>\n",
       "    <tr style=\"text-align: right;\">\n",
       "      <th></th>\n",
       "      <th>Player_Name</th>\n",
       "      <th>Base_Price</th>\n",
       "      <th>Price_Paid</th>\n",
       "      <th>Status</th>\n",
       "      <th>Bought_by</th>\n",
       "      <th>Previous_IPL_Teams</th>\n",
       "      <th>Country</th>\n",
       "      <th>Role</th>\n",
       "      <th>Batting_Style</th>\n",
       "      <th>Bowling_Style</th>\n",
       "      <th>Batting_Order</th>\n",
       "      <th>Capped_or_Uncapped</th>\n",
       "    </tr>\n",
       "  </thead>\n",
       "  <tbody>\n",
       "  </tbody>\n",
       "</table>\n",
       "</div>"
      ],
      "text/plain": [
       "Empty DataFrame\n",
       "Columns: [Player_Name, Base_Price, Price_Paid, Status, Bought_by, Previous_IPL_Teams, Country, Role, Batting_Style, Bowling_Style, Batting_Order, Capped_or_Uncapped]\n",
       "Index: []"
      ]
     },
     "execution_count": 90,
     "metadata": {},
     "output_type": "execute_result"
    }
   ],
   "source": [
    "srh_bats=srh[srh['Role'].str.contains('Batsman')]\n",
    "srh_bats"
   ]
  },
  {
   "cell_type": "markdown",
   "id": "6c9df1fb",
   "metadata": {},
   "source": [
    "### List of Bowlers bought by SRH"
   ]
  },
  {
   "cell_type": "code",
   "execution_count": 91,
   "id": "f039b1fe",
   "metadata": {},
   "outputs": [
    {
     "data": {
      "text/html": [
       "<div>\n",
       "<style scoped>\n",
       "    .dataframe tbody tr th:only-of-type {\n",
       "        vertical-align: middle;\n",
       "    }\n",
       "\n",
       "    .dataframe tbody tr th {\n",
       "        vertical-align: top;\n",
       "    }\n",
       "\n",
       "    .dataframe thead th {\n",
       "        text-align: right;\n",
       "    }\n",
       "</style>\n",
       "<table border=\"1\" class=\"dataframe\">\n",
       "  <thead>\n",
       "    <tr style=\"text-align: right;\">\n",
       "      <th></th>\n",
       "      <th>Player_Name</th>\n",
       "      <th>Base_Price</th>\n",
       "      <th>Price_Paid</th>\n",
       "      <th>Status</th>\n",
       "      <th>Bought_by</th>\n",
       "      <th>Previous_IPL_Teams</th>\n",
       "      <th>Country</th>\n",
       "      <th>Role</th>\n",
       "      <th>Batting_Style</th>\n",
       "      <th>Bowling_Style</th>\n",
       "      <th>Batting_Order</th>\n",
       "      <th>Capped_or_Uncapped</th>\n",
       "    </tr>\n",
       "  </thead>\n",
       "  <tbody>\n",
       "    <tr>\n",
       "      <th>15</th>\n",
       "      <td>Jagadeesha Suchith</td>\n",
       "      <td>20</td>\n",
       "      <td>30</td>\n",
       "      <td>Sold</td>\n",
       "      <td>SRH</td>\n",
       "      <td>MI, DC, PBKS</td>\n",
       "      <td>India</td>\n",
       "      <td>Spin Bowler</td>\n",
       "      <td>NaN</td>\n",
       "      <td>Slow Left Orthodox</td>\n",
       "      <td>NaN</td>\n",
       "      <td>Uncapped</td>\n",
       "    </tr>\n",
       "    <tr>\n",
       "      <th>32</th>\n",
       "      <td>Mujeeb Ur Rahman</td>\n",
       "      <td>150</td>\n",
       "      <td>150</td>\n",
       "      <td>Sold</td>\n",
       "      <td>SRH</td>\n",
       "      <td>PBKS</td>\n",
       "      <td>Afghanistan</td>\n",
       "      <td>Spin Bowler</td>\n",
       "      <td>NaN</td>\n",
       "      <td>Right Offbreak</td>\n",
       "      <td>NaN</td>\n",
       "      <td>Capped</td>\n",
       "    </tr>\n",
       "  </tbody>\n",
       "</table>\n",
       "</div>"
      ],
      "text/plain": [
       "           Player_Name  Base_Price  Price_Paid Status Bought_by  \\\n",
       "15  Jagadeesha Suchith          20          30   Sold       SRH   \n",
       "32    Mujeeb Ur Rahman         150         150   Sold       SRH   \n",
       "\n",
       "   Previous_IPL_Teams      Country         Role Batting_Style  \\\n",
       "15       MI, DC, PBKS        India  Spin Bowler           NaN   \n",
       "32               PBKS  Afghanistan  Spin Bowler           NaN   \n",
       "\n",
       "         Bowling_Style Batting_Order Capped_or_Uncapped  \n",
       "15  Slow Left Orthodox           NaN           Uncapped  \n",
       "32      Right Offbreak           NaN             Capped  "
      ]
     },
     "execution_count": 91,
     "metadata": {},
     "output_type": "execute_result"
    }
   ],
   "source": [
    "srh_bowl=srh[srh['Role'].str.contains('Bowler')]\n",
    "srh_bowl"
   ]
  },
  {
   "cell_type": "markdown",
   "id": "27cb3c72",
   "metadata": {},
   "source": [
    "### List of All Rounders bought by SRH"
   ]
  },
  {
   "cell_type": "code",
   "execution_count": 92,
   "id": "d9e9491c",
   "metadata": {},
   "outputs": [
    {
     "data": {
      "text/html": [
       "<div>\n",
       "<style scoped>\n",
       "    .dataframe tbody tr th:only-of-type {\n",
       "        vertical-align: middle;\n",
       "    }\n",
       "\n",
       "    .dataframe tbody tr th {\n",
       "        vertical-align: top;\n",
       "    }\n",
       "\n",
       "    .dataframe thead th {\n",
       "        text-align: right;\n",
       "    }\n",
       "</style>\n",
       "<table border=\"1\" class=\"dataframe\">\n",
       "  <thead>\n",
       "    <tr style=\"text-align: right;\">\n",
       "      <th></th>\n",
       "      <th>Player_Name</th>\n",
       "      <th>Base_Price</th>\n",
       "      <th>Price_Paid</th>\n",
       "      <th>Status</th>\n",
       "      <th>Bought_by</th>\n",
       "      <th>Previous_IPL_Teams</th>\n",
       "      <th>Country</th>\n",
       "      <th>Role</th>\n",
       "      <th>Batting_Style</th>\n",
       "      <th>Bowling_Style</th>\n",
       "      <th>Batting_Order</th>\n",
       "      <th>Capped_or_Uncapped</th>\n",
       "    </tr>\n",
       "  </thead>\n",
       "  <tbody>\n",
       "    <tr>\n",
       "      <th>20</th>\n",
       "      <td>Kedar Jadhav</td>\n",
       "      <td>200</td>\n",
       "      <td>200</td>\n",
       "      <td>Sold</td>\n",
       "      <td>SRH</td>\n",
       "      <td>DC, CSK, RCB, KTK</td>\n",
       "      <td>India</td>\n",
       "      <td>Batting All Rounder</td>\n",
       "      <td>Right</td>\n",
       "      <td>Right Offbreak</td>\n",
       "      <td>Middle</td>\n",
       "      <td>Capped</td>\n",
       "    </tr>\n",
       "  </tbody>\n",
       "</table>\n",
       "</div>"
      ],
      "text/plain": [
       "     Player_Name  Base_Price  Price_Paid Status Bought_by Previous_IPL_Teams  \\\n",
       "20  Kedar Jadhav         200         200   Sold       SRH  DC, CSK, RCB, KTK   \n",
       "\n",
       "   Country                 Role Batting_Style   Bowling_Style Batting_Order  \\\n",
       "20   India  Batting All Rounder        Right   Right Offbreak        Middle   \n",
       "\n",
       "   Capped_or_Uncapped  \n",
       "20             Capped  "
      ]
     },
     "execution_count": 92,
     "metadata": {},
     "output_type": "execute_result"
    }
   ],
   "source": [
    "srh_all=srh[srh['Role'].str.contains('All Rounder')]\n",
    "srh_all"
   ]
  },
  {
   "cell_type": "markdown",
   "id": "28a8d7d1",
   "metadata": {},
   "source": [
    "## TEAM ANALYSIS - SUNRISERS HYDERABAD"
   ]
  },
  {
   "cell_type": "code",
   "execution_count": 93,
   "id": "422d1171",
   "metadata": {},
   "outputs": [
    {
     "name": "stdout",
     "output_type": "stream",
     "text": [
      "Total amount spent during auction:  3.8  crores\n"
     ]
    }
   ],
   "source": [
    "print(\"Total amount spent during auction: \",(srh['Price_Paid'].sum())/100,\" crores\")"
   ]
  },
  {
   "cell_type": "code",
   "execution_count": 94,
   "id": "07a1875b",
   "metadata": {},
   "outputs": [
    {
     "name": "stdout",
     "output_type": "stream",
     "text": [
      "Highest bid by Sunrisers Hyderabad: \n",
      "\n",
      "Player Name:              Kedar Jadhav\n",
      "Country:                  India\n",
      "Bought for (in crores):   2.0\n",
      "Role:                     Batting All Rounder\n"
     ]
    }
   ],
   "source": [
    "print(\"Highest bid by Sunrisers Hyderabad: \")\n",
    "print()\n",
    "formpri(srh[srh['Price_Paid']==srh['Price_Paid'].max()])"
   ]
  },
  {
   "cell_type": "code",
   "execution_count": 95,
   "id": "562c8abc",
   "metadata": {},
   "outputs": [
    {
     "name": "stdout",
     "output_type": "stream",
     "text": [
      "Highest Indian bid by Sunrisers Hyderabad: \n",
      "\n",
      "Player Name:              Kedar Jadhav\n",
      "Country:                  India\n",
      "Bought for (in crores):   2.0\n",
      "Role:                     Batting All Rounder\n"
     ]
    }
   ],
   "source": [
    "print(\"Highest Indian bid by Sunrisers Hyderabad: \")\n",
    "print()\n",
    "formpri(srh[srh['Price_Paid']==srh[srh['Country']=='India']['Price_Paid'].max()])"
   ]
  },
  {
   "cell_type": "code",
   "execution_count": 96,
   "id": "daa22165",
   "metadata": {},
   "outputs": [
    {
     "name": "stdout",
     "output_type": "stream",
     "text": [
      "Highest Foreign bid by Sunrisers Hyderabad: \n",
      "\n",
      "Player Name:              Mujeeb Ur Rahman\n",
      "Country:                  Afghanistan\n",
      "Bought for (in crores):   1.5\n",
      "Role:                     Spin Bowler\n"
     ]
    }
   ],
   "source": [
    "print(\"Highest Foreign bid by Sunrisers Hyderabad: \")\n",
    "print()\n",
    "formpri(srh[srh['Price_Paid']==srh[srh['Country']!='India']['Price_Paid'].max()])"
   ]
  },
  {
   "cell_type": "code",
   "execution_count": 97,
   "id": "7d2044a3",
   "metadata": {},
   "outputs": [
    {
     "name": "stdout",
     "output_type": "stream",
     "text": [
      "Amount Spent on each Department: \n",
      "\n",
      "Role\n",
      "Batting All Rounder    2.0\n",
      "Spin Bowler            1.8\n"
     ]
    }
   ],
   "source": [
    "print(\"Amount Spent on each Department: \")\n",
    "print()\n",
    "print((srh.groupby('Role')['Price_Paid'].sum()/100).to_string())"
   ]
  },
  {
   "cell_type": "code",
   "execution_count": 98,
   "id": "bfbca502",
   "metadata": {},
   "outputs": [
    {
     "name": "stdout",
     "output_type": "stream",
     "text": [
      "Highest bowler bid by Sunrisers Hyderabad: \n",
      "\n",
      "Player Name:              Mujeeb Ur Rahman\n",
      "Country:                  Afghanistan\n",
      "Bought for (in crores):   1.5\n",
      "Role:                     Spin Bowler\n"
     ]
    }
   ],
   "source": [
    "print(\"Highest bowler bid by Sunrisers Hyderabad: \")\n",
    "print()\n",
    "formpri(srh_bowl[srh_bowl['Price_Paid']==srh_bowl['Price_Paid'].max()])"
   ]
  },
  {
   "cell_type": "code",
   "execution_count": 99,
   "id": "c76d8bc2",
   "metadata": {},
   "outputs": [
    {
     "name": "stdout",
     "output_type": "stream",
     "text": [
      "Highest all rounder bid by Sunrisers Hyderabad: \n",
      "\n",
      "Player Name:              Kedar Jadhav\n",
      "Country:                  India\n",
      "Bought for (in crores):   2.0\n",
      "Role:                     Batting All Rounder\n"
     ]
    }
   ],
   "source": [
    "print(\"Highest all rounder bid by Sunrisers Hyderabad: \")\n",
    "print()\n",
    "formpri(srh_all[srh_all['Price_Paid']==srh_all['Price_Paid'].max()])"
   ]
  },
  {
   "cell_type": "code",
   "execution_count": 100,
   "id": "6cc6a33d",
   "metadata": {},
   "outputs": [
    {
     "name": "stdout",
     "output_type": "stream",
     "text": [
      "Average amount spent on each department: \n",
      "\n",
      "Role\n",
      "Batting All Rounder    2.0\n",
      "Spin Bowler            0.9\n"
     ]
    }
   ],
   "source": [
    "print(\"Average amount spent on each department: \")\n",
    "print()\n",
    "print((srh.groupby('Role')['Price_Paid'].mean()/100).to_string())"
   ]
  },
  {
   "cell_type": "code",
   "execution_count": 101,
   "id": "28a423e4",
   "metadata": {},
   "outputs": [
    {
     "name": "stdout",
     "output_type": "stream",
     "text": [
      "Highest capped bid by Sunrisers Hyderabad: \n",
      "\n",
      "Player Name:              Kedar Jadhav\n",
      "Country:                  India\n",
      "Bought for (in crores):   2.0\n",
      "Role:                     Batting All Rounder\n"
     ]
    }
   ],
   "source": [
    "print(\"Highest capped bid by Sunrisers Hyderabad: \")\n",
    "print()\n",
    "formpri(srh[srh['Price_Paid']==srh[srh['Capped_or_Uncapped']=='Capped']['Price_Paid'].max()])"
   ]
  },
  {
   "cell_type": "code",
   "execution_count": 102,
   "id": "d90dcb8e",
   "metadata": {},
   "outputs": [
    {
     "name": "stdout",
     "output_type": "stream",
     "text": [
      "Highest uncapped bid by Sunrisers Hyderabad: \n",
      "\n",
      "Player Name:              Jagadeesha Suchith\n",
      "Country:                  India\n",
      "Bought for (in crores):   0.3\n",
      "Role:                     Spin Bowler\n"
     ]
    }
   ],
   "source": [
    "print(\"Highest uncapped bid by Sunrisers Hyderabad: \")\n",
    "print()\n",
    "formpri(srh[srh['Price_Paid']==srh[srh['Capped_or_Uncapped']=='Uncapped']['Price_Paid'].max()])"
   ]
  },
  {
   "cell_type": "code",
   "execution_count": 103,
   "id": "e1a9ed00",
   "metadata": {},
   "outputs": [
    {
     "name": "stdout",
     "output_type": "stream",
     "text": [
      "Visualization of distribution of Amount spent by SRH on each department: \n",
      "\n"
     ]
    },
    {
     "data": {
      "image/png": "[encoded data removed]",
      "text/plain": [
       "<Figure size 1080x720 with 1 Axes>"
      ]
     },
     "metadata": {},
     "output_type": "display_data"
    }
   ],
   "source": [
    "print(\"Visualization of distribution of Amount spent by SRH on each department: \")\n",
    "print()\n",
    "srh.groupby(['Role']).sum().plot(kind='pie', y='Price_Paid', autopct=\"%.2f%%\", figsize=(15,10), title=\"Distribution of Amount spent by SRH on each department\").legend(loc='upper right');"
   ]
  },
  {
   "cell_type": "code",
   "execution_count": 104,
   "id": "c3ac523e",
   "metadata": {},
   "outputs": [
    {
     "name": "stdout",
     "output_type": "stream",
     "text": [
      "No. of IPL Experienced and inexperienced Players bought by Sunrisers Hyderabad: \n",
      "Experienced Players:      3\n",
      "Inexperienced Players:    0\n"
     ]
    }
   ],
   "source": [
    "print(\"No. of IPL Experienced and inexperienced Players bought by Sunrisers Hyderabad: \")\n",
    "print(\"Experienced Players:     \",srh[pd.notnull(srh['Previous_IPL_Teams'])].shape[0])\n",
    "print(\"Inexperienced Players:   \",srh[pd.isnull(srh['Previous_IPL_Teams'])].shape[0])"
   ]
  },
  {
   "cell_type": "code",
   "execution_count": 105,
   "id": "efe4ba05",
   "metadata": {},
   "outputs": [
    {
     "name": "stdout",
     "output_type": "stream",
     "text": [
      "No. of Internationally Experienced and inexperienced  Players bought by Chennai Super Kings: \n",
      "Experienced Players:      2\n",
      "Inexperienced Players:    1\n"
     ]
    }
   ],
   "source": [
    "print(\"No. of Internationally Experienced and inexperienced  Players bought by Chennai Super Kings: \")\n",
    "print(\"Experienced Players:     \",srh[srh['Capped_or_Uncapped']=='Capped'].shape[0])\n",
    "print(\"Inexperienced Players:   \",srh[srh['Capped_or_Uncapped']=='Uncapped'].shape[0])"
   ]
  },
  {
   "cell_type": "code",
   "execution_count": 106,
   "id": "4200bf5b",
   "metadata": {},
   "outputs": [
    {
     "name": "stdout",
     "output_type": "stream",
     "text": [
      "No. of players bought at\n",
      "Base Price:            2\n",
      "More than Base Price:  1\n"
     ]
    }
   ],
   "source": [
    "print(\"No. of players bought at\")\n",
    "print(\"Base Price:           \",srh[srh['Price_Paid']==srh['Base_Price']].shape[0])\n",
    "print(\"More than Base Price: \",srh[srh['Price_Paid']!=srh['Base_Price']].shape[0])"
   ]
  },
  {
   "cell_type": "markdown",
   "id": "2687d68a",
   "metadata": {},
   "source": [
    "## Rajasthan Royals (RR)"
   ]
  },
  {
   "cell_type": "markdown",
   "id": "1ac24e27",
   "metadata": {},
   "source": [
    "### Listing out players bought by RR"
   ]
  },
  {
   "cell_type": "code",
   "execution_count": 107,
   "id": "49c1a8d3",
   "metadata": {},
   "outputs": [
    {
     "data": {
      "text/html": [
       "<div>\n",
       "<style scoped>\n",
       "    .dataframe tbody tr th:only-of-type {\n",
       "        vertical-align: middle;\n",
       "    }\n",
       "\n",
       "    .dataframe tbody tr th {\n",
       "        vertical-align: top;\n",
       "    }\n",
       "\n",
       "    .dataframe thead th {\n",
       "        text-align: right;\n",
       "    }\n",
       "</style>\n",
       "<table border=\"1\" class=\"dataframe\">\n",
       "  <thead>\n",
       "    <tr style=\"text-align: right;\">\n",
       "      <th></th>\n",
       "      <th>Player_Name</th>\n",
       "      <th>Base_Price</th>\n",
       "      <th>Price_Paid</th>\n",
       "      <th>Status</th>\n",
       "      <th>Bought_by</th>\n",
       "      <th>Previous_IPL_Teams</th>\n",
       "      <th>Country</th>\n",
       "      <th>Role</th>\n",
       "      <th>Batting_Style</th>\n",
       "      <th>Bowling_Style</th>\n",
       "      <th>Batting_Order</th>\n",
       "      <th>Capped_or_Uncapped</th>\n",
       "    </tr>\n",
       "  </thead>\n",
       "  <tbody>\n",
       "    <tr>\n",
       "      <th>1</th>\n",
       "      <td>Akash Singh</td>\n",
       "      <td>20</td>\n",
       "      <td>20</td>\n",
       "      <td>Sold</td>\n",
       "      <td>RR</td>\n",
       "      <td>NaN</td>\n",
       "      <td>India</td>\n",
       "      <td>Seam Bowler</td>\n",
       "      <td>NaN</td>\n",
       "      <td>Left Medium Fast</td>\n",
       "      <td>NaN</td>\n",
       "      <td>Uncapped</td>\n",
       "    </tr>\n",
       "    <tr>\n",
       "      <th>6</th>\n",
       "      <td>Chetan Sakariya</td>\n",
       "      <td>20</td>\n",
       "      <td>120</td>\n",
       "      <td>Sold</td>\n",
       "      <td>RR</td>\n",
       "      <td>NaN</td>\n",
       "      <td>India</td>\n",
       "      <td>Seam Bowler</td>\n",
       "      <td>NaN</td>\n",
       "      <td>Left Medium Fast</td>\n",
       "      <td>NaN</td>\n",
       "      <td>Uncapped</td>\n",
       "    </tr>\n",
       "    <tr>\n",
       "      <th>8</th>\n",
       "      <td>Chris Morris</td>\n",
       "      <td>75</td>\n",
       "      <td>1625</td>\n",
       "      <td>Sold</td>\n",
       "      <td>RR</td>\n",
       "      <td>CSK, RR, DC, RCB</td>\n",
       "      <td>South Africa</td>\n",
       "      <td>Bowling All Rounder</td>\n",
       "      <td>Right</td>\n",
       "      <td>Right Fast Medium</td>\n",
       "      <td>Middle</td>\n",
       "      <td>Capped</td>\n",
       "    </tr>\n",
       "    <tr>\n",
       "      <th>21</th>\n",
       "      <td>Kishan Cariappa</td>\n",
       "      <td>20</td>\n",
       "      <td>20</td>\n",
       "      <td>Sold</td>\n",
       "      <td>RR</td>\n",
       "      <td>KKR, PBKS</td>\n",
       "      <td>India</td>\n",
       "      <td>Spin Bowler</td>\n",
       "      <td>NaN</td>\n",
       "      <td>Right Legbreak</td>\n",
       "      <td>NaN</td>\n",
       "      <td>Uncapped</td>\n",
       "    </tr>\n",
       "    <tr>\n",
       "      <th>23</th>\n",
       "      <td>Kuldip Yadav</td>\n",
       "      <td>20</td>\n",
       "      <td>20</td>\n",
       "      <td>Sold</td>\n",
       "      <td>RR</td>\n",
       "      <td>NaN</td>\n",
       "      <td>India</td>\n",
       "      <td>Seam Bowler</td>\n",
       "      <td>NaN</td>\n",
       "      <td>Left Medium Fast</td>\n",
       "      <td>NaN</td>\n",
       "      <td>Uncapped</td>\n",
       "    </tr>\n",
       "    <tr>\n",
       "      <th>25</th>\n",
       "      <td>Liam Livingstone</td>\n",
       "      <td>75</td>\n",
       "      <td>75</td>\n",
       "      <td>Sold</td>\n",
       "      <td>RR</td>\n",
       "      <td>RR</td>\n",
       "      <td>England</td>\n",
       "      <td>Batting All Rounder</td>\n",
       "      <td>Right</td>\n",
       "      <td>Right Legbreak, Right Offbreak</td>\n",
       "      <td>Top</td>\n",
       "      <td>Capped</td>\n",
       "    </tr>\n",
       "    <tr>\n",
       "      <th>33</th>\n",
       "      <td>Mustaifur Rahman</td>\n",
       "      <td>100</td>\n",
       "      <td>100</td>\n",
       "      <td>Sold</td>\n",
       "      <td>RR</td>\n",
       "      <td>MI, SRH</td>\n",
       "      <td>Bangladesh</td>\n",
       "      <td>Seam Bowler</td>\n",
       "      <td>NaN</td>\n",
       "      <td>Left Fast Medium</td>\n",
       "      <td>NaN</td>\n",
       "      <td>Capped</td>\n",
       "    </tr>\n",
       "    <tr>\n",
       "      <th>46</th>\n",
       "      <td>Shivam Dube</td>\n",
       "      <td>50</td>\n",
       "      <td>440</td>\n",
       "      <td>Sold</td>\n",
       "      <td>RR</td>\n",
       "      <td>RCB</td>\n",
       "      <td>India</td>\n",
       "      <td>All Rounder</td>\n",
       "      <td>Left</td>\n",
       "      <td>Right Medium</td>\n",
       "      <td>Middle</td>\n",
       "      <td>Capped</td>\n",
       "    </tr>\n",
       "  </tbody>\n",
       "</table>\n",
       "</div>"
      ],
      "text/plain": [
       "         Player_Name  Base_Price  Price_Paid Status Bought_by  \\\n",
       "1        Akash Singh          20          20   Sold        RR   \n",
       "6    Chetan Sakariya          20         120   Sold        RR   \n",
       "8       Chris Morris          75        1625   Sold        RR   \n",
       "21   Kishan Cariappa          20          20   Sold        RR   \n",
       "23      Kuldip Yadav          20          20   Sold        RR   \n",
       "25  Liam Livingstone          75          75   Sold        RR   \n",
       "33  Mustaifur Rahman         100         100   Sold        RR   \n",
       "46       Shivam Dube          50         440   Sold        RR   \n",
       "\n",
       "   Previous_IPL_Teams       Country                 Role Batting_Style  \\\n",
       "1                 NaN         India          Seam Bowler           NaN   \n",
       "6                 NaN         India          Seam Bowler           NaN   \n",
       "8    CSK, RR, DC, RCB  South Africa  Bowling All Rounder        Right    \n",
       "21          KKR, PBKS         India          Spin Bowler           NaN   \n",
       "23                NaN         India          Seam Bowler           NaN   \n",
       "25                 RR       England  Batting All Rounder        Right    \n",
       "33            MI, SRH    Bangladesh          Seam Bowler           NaN   \n",
       "46                RCB         India          All Rounder          Left   \n",
       "\n",
       "                     Bowling_Style Batting_Order Capped_or_Uncapped  \n",
       "1                 Left Medium Fast           NaN           Uncapped  \n",
       "6                 Left Medium Fast           NaN           Uncapped  \n",
       "8                Right Fast Medium        Middle             Capped  \n",
       "21                  Right Legbreak           NaN           Uncapped  \n",
       "23                Left Medium Fast           NaN           Uncapped  \n",
       "25  Right Legbreak, Right Offbreak           Top             Capped  \n",
       "33                Left Fast Medium           NaN             Capped  \n",
       "46                    Right Medium        Middle             Capped  "
      ]
     },
     "execution_count": 107,
     "metadata": {},
     "output_type": "execute_result"
    }
   ],
   "source": [
    "rr=data.groupby('Bought_by').get_group('RR')\n",
    "rr"
   ]
  },
  {
   "cell_type": "code",
   "execution_count": 108,
   "id": "d42df5ea",
   "metadata": {},
   "outputs": [
    {
     "data": {
      "image/png": "[encoded data removed]",
      "text/plain": [
       "<Figure size 432x288 with 1 Axes>"
      ]
     },
     "metadata": {
      "needs_background": "light"
     },
     "output_type": "display_data"
    }
   ],
   "source": [
    "x=list(rr['Player_Name']);\n",
    "y=list(rr['Price_Paid']);\n",
    "plt.barh(x,y);"
   ]
  },
  {
   "cell_type": "markdown",
   "id": "7e391a52",
   "metadata": {},
   "source": [
    "### List of Batsmen bought by RR"
   ]
  },
  {
   "cell_type": "code",
   "execution_count": 109,
   "id": "ac13bb14",
   "metadata": {},
   "outputs": [
    {
     "data": {
      "text/html": [
       "<div>\n",
       "<style scoped>\n",
       "    .dataframe tbody tr th:only-of-type {\n",
       "        vertical-align: middle;\n",
       "    }\n",
       "\n",
       "    .dataframe tbody tr th {\n",
       "        vertical-align: top;\n",
       "    }\n",
       "\n",
       "    .dataframe thead th {\n",
       "        text-align: right;\n",
       "    }\n",
       "</style>\n",
       "<table border=\"1\" class=\"dataframe\">\n",
       "  <thead>\n",
       "    <tr style=\"text-align: right;\">\n",
       "      <th></th>\n",
       "      <th>Player_Name</th>\n",
       "      <th>Base_Price</th>\n",
       "      <th>Price_Paid</th>\n",
       "      <th>Status</th>\n",
       "      <th>Bought_by</th>\n",
       "      <th>Previous_IPL_Teams</th>\n",
       "      <th>Country</th>\n",
       "      <th>Role</th>\n",
       "      <th>Batting_Style</th>\n",
       "      <th>Bowling_Style</th>\n",
       "      <th>Batting_Order</th>\n",
       "      <th>Capped_or_Uncapped</th>\n",
       "    </tr>\n",
       "  </thead>\n",
       "  <tbody>\n",
       "  </tbody>\n",
       "</table>\n",
       "</div>"
      ],
      "text/plain": [
       "Empty DataFrame\n",
       "Columns: [Player_Name, Base_Price, Price_Paid, Status, Bought_by, Previous_IPL_Teams, Country, Role, Batting_Style, Bowling_Style, Batting_Order, Capped_or_Uncapped]\n",
       "Index: []"
      ]
     },
     "execution_count": 109,
     "metadata": {},
     "output_type": "execute_result"
    }
   ],
   "source": [
    "rr_bats=rr[rr['Role'].str.contains('Batsman')]\n",
    "rr_bats"
   ]
  },
  {
   "cell_type": "markdown",
   "id": "cfa6199a",
   "metadata": {},
   "source": [
    "### List of Bowlers bought by RR"
   ]
  },
  {
   "cell_type": "code",
   "execution_count": 110,
   "id": "6a742fc3",
   "metadata": {},
   "outputs": [
    {
     "data": {
      "text/html": [
       "<div>\n",
       "<style scoped>\n",
       "    .dataframe tbody tr th:only-of-type {\n",
       "        vertical-align: middle;\n",
       "    }\n",
       "\n",
       "    .dataframe tbody tr th {\n",
       "        vertical-align: top;\n",
       "    }\n",
       "\n",
       "    .dataframe thead th {\n",
       "        text-align: right;\n",
       "    }\n",
       "</style>\n",
       "<table border=\"1\" class=\"dataframe\">\n",
       "  <thead>\n",
       "    <tr style=\"text-align: right;\">\n",
       "      <th></th>\n",
       "      <th>Player_Name</th>\n",
       "      <th>Base_Price</th>\n",
       "      <th>Price_Paid</th>\n",
       "      <th>Status</th>\n",
       "      <th>Bought_by</th>\n",
       "      <th>Previous_IPL_Teams</th>\n",
       "      <th>Country</th>\n",
       "      <th>Role</th>\n",
       "      <th>Batting_Style</th>\n",
       "      <th>Bowling_Style</th>\n",
       "      <th>Batting_Order</th>\n",
       "      <th>Capped_or_Uncapped</th>\n",
       "    </tr>\n",
       "  </thead>\n",
       "  <tbody>\n",
       "    <tr>\n",
       "      <th>1</th>\n",
       "      <td>Akash Singh</td>\n",
       "      <td>20</td>\n",
       "      <td>20</td>\n",
       "      <td>Sold</td>\n",
       "      <td>RR</td>\n",
       "      <td>NaN</td>\n",
       "      <td>India</td>\n",
       "      <td>Seam Bowler</td>\n",
       "      <td>NaN</td>\n",
       "      <td>Left Medium Fast</td>\n",
       "      <td>NaN</td>\n",
       "      <td>Uncapped</td>\n",
       "    </tr>\n",
       "    <tr>\n",
       "      <th>6</th>\n",
       "      <td>Chetan Sakariya</td>\n",
       "      <td>20</td>\n",
       "      <td>120</td>\n",
       "      <td>Sold</td>\n",
       "      <td>RR</td>\n",
       "      <td>NaN</td>\n",
       "      <td>India</td>\n",
       "      <td>Seam Bowler</td>\n",
       "      <td>NaN</td>\n",
       "      <td>Left Medium Fast</td>\n",
       "      <td>NaN</td>\n",
       "      <td>Uncapped</td>\n",
       "    </tr>\n",
       "    <tr>\n",
       "      <th>21</th>\n",
       "      <td>Kishan Cariappa</td>\n",
       "      <td>20</td>\n",
       "      <td>20</td>\n",
       "      <td>Sold</td>\n",
       "      <td>RR</td>\n",
       "      <td>KKR, PBKS</td>\n",
       "      <td>India</td>\n",
       "      <td>Spin Bowler</td>\n",
       "      <td>NaN</td>\n",
       "      <td>Right Legbreak</td>\n",
       "      <td>NaN</td>\n",
       "      <td>Uncapped</td>\n",
       "    </tr>\n",
       "    <tr>\n",
       "      <th>23</th>\n",
       "      <td>Kuldip Yadav</td>\n",
       "      <td>20</td>\n",
       "      <td>20</td>\n",
       "      <td>Sold</td>\n",
       "      <td>RR</td>\n",
       "      <td>NaN</td>\n",
       "      <td>India</td>\n",
       "      <td>Seam Bowler</td>\n",
       "      <td>NaN</td>\n",
       "      <td>Left Medium Fast</td>\n",
       "      <td>NaN</td>\n",
       "      <td>Uncapped</td>\n",
       "    </tr>\n",
       "    <tr>\n",
       "      <th>33</th>\n",
       "      <td>Mustaifur Rahman</td>\n",
       "      <td>100</td>\n",
       "      <td>100</td>\n",
       "      <td>Sold</td>\n",
       "      <td>RR</td>\n",
       "      <td>MI, SRH</td>\n",
       "      <td>Bangladesh</td>\n",
       "      <td>Seam Bowler</td>\n",
       "      <td>NaN</td>\n",
       "      <td>Left Fast Medium</td>\n",
       "      <td>NaN</td>\n",
       "      <td>Capped</td>\n",
       "    </tr>\n",
       "  </tbody>\n",
       "</table>\n",
       "</div>"
      ],
      "text/plain": [
       "         Player_Name  Base_Price  Price_Paid Status Bought_by  \\\n",
       "1        Akash Singh          20          20   Sold        RR   \n",
       "6    Chetan Sakariya          20         120   Sold        RR   \n",
       "21   Kishan Cariappa          20          20   Sold        RR   \n",
       "23      Kuldip Yadav          20          20   Sold        RR   \n",
       "33  Mustaifur Rahman         100         100   Sold        RR   \n",
       "\n",
       "   Previous_IPL_Teams     Country         Role Batting_Style  \\\n",
       "1                 NaN       India  Seam Bowler           NaN   \n",
       "6                 NaN       India  Seam Bowler           NaN   \n",
       "21          KKR, PBKS       India  Spin Bowler           NaN   \n",
       "23                NaN       India  Seam Bowler           NaN   \n",
       "33            MI, SRH  Bangladesh  Seam Bowler           NaN   \n",
       "\n",
       "       Bowling_Style Batting_Order Capped_or_Uncapped  \n",
       "1   Left Medium Fast           NaN           Uncapped  \n",
       "6   Left Medium Fast           NaN           Uncapped  \n",
       "21    Right Legbreak           NaN           Uncapped  \n",
       "23  Left Medium Fast           NaN           Uncapped  \n",
       "33  Left Fast Medium           NaN             Capped  "
      ]
     },
     "execution_count": 110,
     "metadata": {},
     "output_type": "execute_result"
    }
   ],
   "source": [
    "rr_bowl=rr[rr['Role'].str.contains('Bowler')]\n",
    "rr_bowl"
   ]
  },
  {
   "cell_type": "markdown",
   "id": "5cf4a72f",
   "metadata": {},
   "source": [
    "### List of All Rounders bought by RR"
   ]
  },
  {
   "cell_type": "code",
   "execution_count": 111,
   "id": "a5141ecb",
   "metadata": {},
   "outputs": [
    {
     "data": {
      "text/html": [
       "<div>\n",
       "<style scoped>\n",
       "    .dataframe tbody tr th:only-of-type {\n",
       "        vertical-align: middle;\n",
       "    }\n",
       "\n",
       "    .dataframe tbody tr th {\n",
       "        vertical-align: top;\n",
       "    }\n",
       "\n",
       "    .dataframe thead th {\n",
       "        text-align: right;\n",
       "    }\n",
       "</style>\n",
       "<table border=\"1\" class=\"dataframe\">\n",
       "  <thead>\n",
       "    <tr style=\"text-align: right;\">\n",
       "      <th></th>\n",
       "      <th>Player_Name</th>\n",
       "      <th>Base_Price</th>\n",
       "      <th>Price_Paid</th>\n",
       "      <th>Status</th>\n",
       "      <th>Bought_by</th>\n",
       "      <th>Previous_IPL_Teams</th>\n",
       "      <th>Country</th>\n",
       "      <th>Role</th>\n",
       "      <th>Batting_Style</th>\n",
       "      <th>Bowling_Style</th>\n",
       "      <th>Batting_Order</th>\n",
       "      <th>Capped_or_Uncapped</th>\n",
       "    </tr>\n",
       "  </thead>\n",
       "  <tbody>\n",
       "    <tr>\n",
       "      <th>8</th>\n",
       "      <td>Chris Morris</td>\n",
       "      <td>75</td>\n",
       "      <td>1625</td>\n",
       "      <td>Sold</td>\n",
       "      <td>RR</td>\n",
       "      <td>CSK, RR, DC, RCB</td>\n",
       "      <td>South Africa</td>\n",
       "      <td>Bowling All Rounder</td>\n",
       "      <td>Right</td>\n",
       "      <td>Right Fast Medium</td>\n",
       "      <td>Middle</td>\n",
       "      <td>Capped</td>\n",
       "    </tr>\n",
       "    <tr>\n",
       "      <th>25</th>\n",
       "      <td>Liam Livingstone</td>\n",
       "      <td>75</td>\n",
       "      <td>75</td>\n",
       "      <td>Sold</td>\n",
       "      <td>RR</td>\n",
       "      <td>RR</td>\n",
       "      <td>England</td>\n",
       "      <td>Batting All Rounder</td>\n",
       "      <td>Right</td>\n",
       "      <td>Right Legbreak, Right Offbreak</td>\n",
       "      <td>Top</td>\n",
       "      <td>Capped</td>\n",
       "    </tr>\n",
       "    <tr>\n",
       "      <th>46</th>\n",
       "      <td>Shivam Dube</td>\n",
       "      <td>50</td>\n",
       "      <td>440</td>\n",
       "      <td>Sold</td>\n",
       "      <td>RR</td>\n",
       "      <td>RCB</td>\n",
       "      <td>India</td>\n",
       "      <td>All Rounder</td>\n",
       "      <td>Left</td>\n",
       "      <td>Right Medium</td>\n",
       "      <td>Middle</td>\n",
       "      <td>Capped</td>\n",
       "    </tr>\n",
       "  </tbody>\n",
       "</table>\n",
       "</div>"
      ],
      "text/plain": [
       "         Player_Name  Base_Price  Price_Paid Status Bought_by  \\\n",
       "8       Chris Morris          75        1625   Sold        RR   \n",
       "25  Liam Livingstone          75          75   Sold        RR   \n",
       "46       Shivam Dube          50         440   Sold        RR   \n",
       "\n",
       "   Previous_IPL_Teams       Country                 Role Batting_Style  \\\n",
       "8    CSK, RR, DC, RCB  South Africa  Bowling All Rounder        Right    \n",
       "25                 RR       England  Batting All Rounder        Right    \n",
       "46                RCB         India          All Rounder          Left   \n",
       "\n",
       "                     Bowling_Style Batting_Order Capped_or_Uncapped  \n",
       "8                Right Fast Medium        Middle             Capped  \n",
       "25  Right Legbreak, Right Offbreak           Top             Capped  \n",
       "46                    Right Medium        Middle             Capped  "
      ]
     },
     "execution_count": 111,
     "metadata": {},
     "output_type": "execute_result"
    }
   ],
   "source": [
    "rr_all=rr[rr['Role'].str.contains('All Rounder')]\n",
    "rr_all"
   ]
  },
  {
   "cell_type": "markdown",
   "id": "4c32ecb4",
   "metadata": {},
   "source": [
    "## TEAM ANALYSIS - RAJASTHAN ROYALS"
   ]
  },
  {
   "cell_type": "code",
   "execution_count": 112,
   "id": "e78b53af",
   "metadata": {},
   "outputs": [
    {
     "name": "stdout",
     "output_type": "stream",
     "text": [
      "Total amount spent during auction:  24.2  crores\n"
     ]
    }
   ],
   "source": [
    "print(\"Total amount spent during auction: \",(rr['Price_Paid'].sum())/100,\" crores\")"
   ]
  },
  {
   "cell_type": "code",
   "execution_count": 113,
   "id": "2b07d656",
   "metadata": {},
   "outputs": [
    {
     "name": "stdout",
     "output_type": "stream",
     "text": [
      "Highest bid by Rajasthan Royals: \n",
      "\n",
      "Player Name:              Chris Morris\n",
      "Country:                  South Africa\n",
      "Bought for (in crores):   16.25\n",
      "Role:                     Bowling All Rounder\n"
     ]
    }
   ],
   "source": [
    "print(\"Highest bid by Rajasthan Royals: \")\n",
    "print()\n",
    "formpri(rr[rr['Price_Paid']==rr['Price_Paid'].max()])"
   ]
  },
  {
   "cell_type": "code",
   "execution_count": 114,
   "id": "cf07339c",
   "metadata": {},
   "outputs": [
    {
     "name": "stdout",
     "output_type": "stream",
     "text": [
      "Highest Indian bid by Rajasthan Royals: \n",
      "\n",
      "Player Name:              Shivam Dube\n",
      "Country:                  India\n",
      "Bought for (in crores):   4.4\n",
      "Role:                     All Rounder\n"
     ]
    }
   ],
   "source": [
    "print(\"Highest Indian bid by Rajasthan Royals: \")\n",
    "print()\n",
    "formpri(rr[rr['Price_Paid']==rr[rr['Country']=='India']['Price_Paid'].max()])"
   ]
  },
  {
   "cell_type": "code",
   "execution_count": 115,
   "id": "b3c70161",
   "metadata": {},
   "outputs": [
    {
     "name": "stdout",
     "output_type": "stream",
     "text": [
      "Highest Foreign bid by Rajasthan Royals: \n",
      "\n",
      "Player Name:              Chris Morris\n",
      "Country:                  South Africa\n",
      "Bought for (in crores):   16.25\n",
      "Role:                     Bowling All Rounder\n"
     ]
    }
   ],
   "source": [
    "print(\"Highest Foreign bid by Rajasthan Royals: \")\n",
    "print()\n",
    "formpri(rr[rr['Price_Paid']==rr[rr['Country']!='India']['Price_Paid'].max()])"
   ]
  },
  {
   "cell_type": "code",
   "execution_count": 116,
   "id": "ddcdaba7",
   "metadata": {},
   "outputs": [
    {
     "name": "stdout",
     "output_type": "stream",
     "text": [
      "Amount Spent on each Department: \n",
      "\n",
      "Role\n",
      "All Rounder             4.40\n",
      "Batting All Rounder     0.75\n",
      "Bowling All Rounder    16.25\n",
      "Seam Bowler             2.60\n",
      "Spin Bowler             0.20\n"
     ]
    }
   ],
   "source": [
    "print(\"Amount Spent on each Department: \")\n",
    "print()\n",
    "print((rr.groupby('Role')['Price_Paid'].sum()/100).to_string())"
   ]
  },
  {
   "cell_type": "code",
   "execution_count": 117,
   "id": "d49de9a0",
   "metadata": {},
   "outputs": [
    {
     "name": "stdout",
     "output_type": "stream",
     "text": [
      "Highest bowler bid by Rajasthan Royals: \n",
      "\n",
      "Player Name:              Chetan Sakariya\n",
      "Country:                  India\n",
      "Bought for (in crores):   1.2\n",
      "Role:                     Seam Bowler\n"
     ]
    }
   ],
   "source": [
    "print(\"Highest bowler bid by Rajasthan Royals: \")\n",
    "print()\n",
    "formpri(rr_bowl[rr_bowl['Price_Paid']==rr_bowl['Price_Paid'].max()])"
   ]
  },
  {
   "cell_type": "code",
   "execution_count": 118,
   "id": "b941b869",
   "metadata": {},
   "outputs": [
    {
     "name": "stdout",
     "output_type": "stream",
     "text": [
      "Highest all rounder bid by Rajasthan Royals: \n",
      "\n",
      "Player Name:              Chris Morris\n",
      "Country:                  South Africa\n",
      "Bought for (in crores):   16.25\n",
      "Role:                     Bowling All Rounder\n"
     ]
    }
   ],
   "source": [
    "print(\"Highest all rounder bid by Rajasthan Royals: \")\n",
    "print()\n",
    "formpri(rr_all[rr_all['Price_Paid']==rr_all['Price_Paid'].max()])"
   ]
  },
  {
   "cell_type": "code",
   "execution_count": 119,
   "id": "3c0af7ab",
   "metadata": {},
   "outputs": [
    {
     "name": "stdout",
     "output_type": "stream",
     "text": [
      "Average amount spent on each department: \n",
      "\n",
      "Role\n",
      "All Rounder             4.40\n",
      "Batting All Rounder     0.75\n",
      "Bowling All Rounder    16.25\n",
      "Seam Bowler             0.65\n",
      "Spin Bowler             0.20\n"
     ]
    }
   ],
   "source": [
    "print(\"Average amount spent on each department: \")\n",
    "print()\n",
    "print((rr.groupby('Role')['Price_Paid'].mean()/100).to_string())"
   ]
  },
  {
   "cell_type": "code",
   "execution_count": 120,
   "id": "404d0722",
   "metadata": {},
   "outputs": [
    {
     "name": "stdout",
     "output_type": "stream",
     "text": [
      "Highest capped bid by Rajasthan Royals: \n",
      "\n",
      "Player Name:              Chris Morris\n",
      "Country:                  South Africa\n",
      "Bought for (in crores):   16.25\n",
      "Role:                     Bowling All Rounder\n"
     ]
    }
   ],
   "source": [
    "print(\"Highest capped bid by Rajasthan Royals: \")\n",
    "print()\n",
    "formpri(rr[rr['Price_Paid']==rr[rr['Capped_or_Uncapped']=='Capped']['Price_Paid'].max()])"
   ]
  },
  {
   "cell_type": "code",
   "execution_count": 121,
   "id": "e67f50de",
   "metadata": {},
   "outputs": [
    {
     "name": "stdout",
     "output_type": "stream",
     "text": [
      "Highest uncapped bid by Rajasthan Royals: \n",
      "\n",
      "Player Name:              Chetan Sakariya\n",
      "Country:                  India\n",
      "Bought for (in crores):   1.2\n",
      "Role:                     Seam Bowler\n"
     ]
    }
   ],
   "source": [
    "print(\"Highest uncapped bid by Rajasthan Royals: \")\n",
    "print()\n",
    "formpri(rr[rr['Price_Paid']==rr[rr['Capped_or_Uncapped']=='Uncapped']['Price_Paid'].max()])"
   ]
  },
  {
   "cell_type": "code",
   "execution_count": 122,
   "id": "067d6b13",
   "metadata": {},
   "outputs": [
    {
     "name": "stdout",
     "output_type": "stream",
     "text": [
      "Visualization of distribution of Amount spent by RR on each department: \n",
      "\n"
     ]
    },
    {
     "data": {
      "image/png": "[encoded data removed]",
      "text/plain": [
       "<Figure size 1080x720 with 1 Axes>"
      ]
     },
     "metadata": {},
     "output_type": "display_data"
    }
   ],
   "source": [
    "print(\"Visualization of distribution of Amount spent by RR on each department: \")\n",
    "print()\n",
    "rr.groupby(['Role']).sum().plot(kind='pie', y='Price_Paid', autopct=\"%.2f%%\", figsize=(15,10), title=\"Distribution of Amount spent by RR on each department\").legend(loc='upper right');"
   ]
  },
  {
   "cell_type": "code",
   "execution_count": 123,
   "id": "c6091d63",
   "metadata": {},
   "outputs": [
    {
     "name": "stdout",
     "output_type": "stream",
     "text": [
      "No. of IPL Experienced and inexperienced Players bought by Rajasthan Royals: \n",
      "Experienced Players:      5\n",
      "Inexperienced Players:    3\n"
     ]
    }
   ],
   "source": [
    "print(\"No. of IPL Experienced and inexperienced Players bought by Rajasthan Royals: \")\n",
    "print(\"Experienced Players:     \",rr[pd.notnull(rr['Previous_IPL_Teams'])].shape[0])\n",
    "print(\"Inexperienced Players:   \",rr[pd.isnull(rr['Previous_IPL_Teams'])].shape[0])"
   ]
  },
  {
   "cell_type": "code",
   "execution_count": 124,
   "id": "63563408",
   "metadata": {},
   "outputs": [
    {
     "name": "stdout",
     "output_type": "stream",
     "text": [
      "No. of Internationally Experienced and inexperienced  Players bought by Rajasthan Royals: \n",
      "Experienced Players:      4\n",
      "Inexperienced Players:    4\n"
     ]
    }
   ],
   "source": [
    "print(\"No. of Internationally Experienced and inexperienced  Players bought by Rajasthan Royals: \")\n",
    "print(\"Experienced Players:     \",rr[rr['Capped_or_Uncapped']=='Capped'].shape[0])\n",
    "print(\"Inexperienced Players:   \",rr[rr['Capped_or_Uncapped']=='Uncapped'].shape[0])"
   ]
  },
  {
   "cell_type": "code",
   "execution_count": 125,
   "id": "a34087b8",
   "metadata": {},
   "outputs": [
    {
     "name": "stdout",
     "output_type": "stream",
     "text": [
      "No. of players bought at\n",
      "Base Price:            5\n",
      "More than Base Price:  3\n"
     ]
    }
   ],
   "source": [
    "print(\"No. of players bought at\")\n",
    "print(\"Base Price:           \",rr[rr['Price_Paid']==rr['Base_Price']].shape[0])\n",
    "print(\"More than Base Price: \",rr[rr['Price_Paid']!=rr['Base_Price']].shape[0])"
   ]
  },
  {
   "cell_type": "markdown",
   "id": "22a71a10",
   "metadata": {},
   "source": [
    "## Punjab Kings (PBKS)"
   ]
  },
  {
   "cell_type": "markdown",
   "id": "cbe3fe83",
   "metadata": {},
   "source": [
    "### Listing out players bought by PBKS"
   ]
  },
  {
   "cell_type": "code",
   "execution_count": 126,
   "id": "4cf57b9d",
   "metadata": {},
   "outputs": [
    {
     "data": {
      "text/html": [
       "<div>\n",
       "<style scoped>\n",
       "    .dataframe tbody tr th:only-of-type {\n",
       "        vertical-align: middle;\n",
       "    }\n",
       "\n",
       "    .dataframe tbody tr th {\n",
       "        vertical-align: top;\n",
       "    }\n",
       "\n",
       "    .dataframe thead th {\n",
       "        text-align: right;\n",
       "    }\n",
       "</style>\n",
       "<table border=\"1\" class=\"dataframe\">\n",
       "  <thead>\n",
       "    <tr style=\"text-align: right;\">\n",
       "      <th></th>\n",
       "      <th>Player_Name</th>\n",
       "      <th>Base_Price</th>\n",
       "      <th>Price_Paid</th>\n",
       "      <th>Status</th>\n",
       "      <th>Bought_by</th>\n",
       "      <th>Previous_IPL_Teams</th>\n",
       "      <th>Country</th>\n",
       "      <th>Role</th>\n",
       "      <th>Batting_Style</th>\n",
       "      <th>Bowling_Style</th>\n",
       "      <th>Batting_Order</th>\n",
       "      <th>Capped_or_Uncapped</th>\n",
       "    </tr>\n",
       "  </thead>\n",
       "  <tbody>\n",
       "    <tr>\n",
       "      <th>10</th>\n",
       "      <td>Dawid Malan</td>\n",
       "      <td>150</td>\n",
       "      <td>150</td>\n",
       "      <td>Sold</td>\n",
       "      <td>PBKS</td>\n",
       "      <td>NaN</td>\n",
       "      <td>England</td>\n",
       "      <td>Batsman</td>\n",
       "      <td>Left</td>\n",
       "      <td>NaN</td>\n",
       "      <td>Top</td>\n",
       "      <td>Capped</td>\n",
       "    </tr>\n",
       "    <tr>\n",
       "      <th>11</th>\n",
       "      <td>Fabian Allen</td>\n",
       "      <td>75</td>\n",
       "      <td>75</td>\n",
       "      <td>Sold</td>\n",
       "      <td>PBKS</td>\n",
       "      <td>SRH</td>\n",
       "      <td>West Indies</td>\n",
       "      <td>Bowling All Rounder</td>\n",
       "      <td>Right</td>\n",
       "      <td>Slow Left Orthodox</td>\n",
       "      <td>Middle</td>\n",
       "      <td>Capped</td>\n",
       "    </tr>\n",
       "    <tr>\n",
       "      <th>16</th>\n",
       "      <td>Jalaj Saxena</td>\n",
       "      <td>30</td>\n",
       "      <td>30</td>\n",
       "      <td>Sold</td>\n",
       "      <td>PBKS</td>\n",
       "      <td>MI, DC, RCB</td>\n",
       "      <td>India</td>\n",
       "      <td>Batting All Rounder</td>\n",
       "      <td>Right</td>\n",
       "      <td>Right Offbreak</td>\n",
       "      <td>Top</td>\n",
       "      <td>Uncapped</td>\n",
       "    </tr>\n",
       "    <tr>\n",
       "      <th>18</th>\n",
       "      <td>Jhye Richardson</td>\n",
       "      <td>150</td>\n",
       "      <td>1400</td>\n",
       "      <td>Sold</td>\n",
       "      <td>PBKS</td>\n",
       "      <td>NaN</td>\n",
       "      <td>Australia</td>\n",
       "      <td>Seam Bowler</td>\n",
       "      <td>NaN</td>\n",
       "      <td>Right Fast</td>\n",
       "      <td>NaN</td>\n",
       "      <td>Capped</td>\n",
       "    </tr>\n",
       "    <tr>\n",
       "      <th>31</th>\n",
       "      <td>Moises Henriques</td>\n",
       "      <td>100</td>\n",
       "      <td>420</td>\n",
       "      <td>Sold</td>\n",
       "      <td>PBKS</td>\n",
       "      <td>KKR, DC, RCB, SRH, MI</td>\n",
       "      <td>Australia</td>\n",
       "      <td>All Rounder</td>\n",
       "      <td>Right</td>\n",
       "      <td>Right Fast Medium</td>\n",
       "      <td>Middle</td>\n",
       "      <td>Capped</td>\n",
       "    </tr>\n",
       "    <tr>\n",
       "      <th>38</th>\n",
       "      <td>Riley Meredith</td>\n",
       "      <td>40</td>\n",
       "      <td>800</td>\n",
       "      <td>Sold</td>\n",
       "      <td>PBKS</td>\n",
       "      <td>NaN</td>\n",
       "      <td>Australia</td>\n",
       "      <td>Seam Bowler</td>\n",
       "      <td>NaN</td>\n",
       "      <td>Right Fast</td>\n",
       "      <td>NaN</td>\n",
       "      <td>Uncapped</td>\n",
       "    </tr>\n",
       "    <tr>\n",
       "      <th>42</th>\n",
       "      <td>Saurabh Kumar</td>\n",
       "      <td>20</td>\n",
       "      <td>20</td>\n",
       "      <td>Sold</td>\n",
       "      <td>PBKS</td>\n",
       "      <td>RPS</td>\n",
       "      <td>India</td>\n",
       "      <td>Bowling All Rounder</td>\n",
       "      <td>Left</td>\n",
       "      <td>Slow Left Orthodox</td>\n",
       "      <td>Lower</td>\n",
       "      <td>Uncapped</td>\n",
       "    </tr>\n",
       "    <tr>\n",
       "      <th>43</th>\n",
       "      <td>Shahrukh Khan</td>\n",
       "      <td>20</td>\n",
       "      <td>525</td>\n",
       "      <td>Sold</td>\n",
       "      <td>PBKS</td>\n",
       "      <td>NaN</td>\n",
       "      <td>India</td>\n",
       "      <td>Batsman</td>\n",
       "      <td>Right</td>\n",
       "      <td>NaN</td>\n",
       "      <td>Middle</td>\n",
       "      <td>Uncapped</td>\n",
       "    </tr>\n",
       "    <tr>\n",
       "      <th>52</th>\n",
       "      <td>Utkarsh Singh</td>\n",
       "      <td>20</td>\n",
       "      <td>20</td>\n",
       "      <td>Sold</td>\n",
       "      <td>PBKS</td>\n",
       "      <td>NaN</td>\n",
       "      <td>India</td>\n",
       "      <td>All Rounder</td>\n",
       "      <td>Left</td>\n",
       "      <td>Right Offbreak</td>\n",
       "      <td>Top</td>\n",
       "      <td>Uncapped</td>\n",
       "    </tr>\n",
       "  </tbody>\n",
       "</table>\n",
       "</div>"
      ],
      "text/plain": [
       "         Player_Name  Base_Price  Price_Paid Status Bought_by  \\\n",
       "10       Dawid Malan         150         150   Sold      PBKS   \n",
       "11      Fabian Allen          75          75   Sold      PBKS   \n",
       "16      Jalaj Saxena          30          30   Sold      PBKS   \n",
       "18   Jhye Richardson         150        1400   Sold      PBKS   \n",
       "31  Moises Henriques         100         420   Sold      PBKS   \n",
       "38    Riley Meredith          40         800  Sold       PBKS   \n",
       "42     Saurabh Kumar          20          20   Sold      PBKS   \n",
       "43     Shahrukh Khan          20         525   Sold      PBKS   \n",
       "52    Utkarsh Singh           20          20   Sold      PBKS   \n",
       "\n",
       "       Previous_IPL_Teams      Country                 Role Batting_Style  \\\n",
       "10                    NaN      England              Batsman          Left   \n",
       "11                    SRH  West Indies  Bowling All Rounder        Right    \n",
       "16            MI, DC, RCB        India  Batting All Rounder        Right    \n",
       "18                    NaN    Australia          Seam Bowler           NaN   \n",
       "31  KKR, DC, RCB, SRH, MI    Australia          All Rounder        Right    \n",
       "38                    NaN    Australia          Seam Bowler           NaN   \n",
       "42                    RPS        India  Bowling All Rounder          Left   \n",
       "43                    NaN        India              Batsman        Right    \n",
       "52                    NaN        India          All Rounder          Left   \n",
       "\n",
       "         Bowling_Style Batting_Order Capped_or_Uncapped  \n",
       "10                 NaN          Top              Capped  \n",
       "11  Slow Left Orthodox       Middle              Capped  \n",
       "16      Right Offbreak          Top            Uncapped  \n",
       "18          Right Fast           NaN             Capped  \n",
       "31   Right Fast Medium        Middle             Capped  \n",
       "38          Right Fast           NaN           Uncapped  \n",
       "42  Slow Left Orthodox        Lower            Uncapped  \n",
       "43                 NaN        Middle           Uncapped  \n",
       "52      Right Offbreak           Top           Uncapped  "
      ]
     },
     "execution_count": 126,
     "metadata": {},
     "output_type": "execute_result"
    }
   ],
   "source": [
    "pbks=data.groupby('Bought_by').get_group('PBKS')\n",
    "pbks"
   ]
  },
  {
   "cell_type": "markdown",
   "id": "915f7fcc",
   "metadata": {},
   "source": [
    "### Visualization of amount at which the players have been bought"
   ]
  },
  {
   "cell_type": "code",
   "execution_count": 127,
   "id": "10baf5c4",
   "metadata": {},
   "outputs": [
    {
     "data": {
      "image/png": "[encoded data removed]",
      "text/plain": [
       "<Figure size 432x288 with 1 Axes>"
      ]
     },
     "metadata": {
      "needs_background": "light"
     },
     "output_type": "display_data"
    }
   ],
   "source": [
    "x=list(pbks['Player_Name']);\n",
    "y=list(pbks['Price_Paid']);\n",
    "plt.barh(x,y);"
   ]
  },
  {
   "cell_type": "markdown",
   "id": "e55eea5f",
   "metadata": {},
   "source": [
    "### List of Batsmen bought by PBKS"
   ]
  },
  {
   "cell_type": "code",
   "execution_count": 128,
   "id": "54e79ece",
   "metadata": {},
   "outputs": [
    {
     "data": {
      "text/html": [
       "<div>\n",
       "<style scoped>\n",
       "    .dataframe tbody tr th:only-of-type {\n",
       "        vertical-align: middle;\n",
       "    }\n",
       "\n",
       "    .dataframe tbody tr th {\n",
       "        vertical-align: top;\n",
       "    }\n",
       "\n",
       "    .dataframe thead th {\n",
       "        text-align: right;\n",
       "    }\n",
       "</style>\n",
       "<table border=\"1\" class=\"dataframe\">\n",
       "  <thead>\n",
       "    <tr style=\"text-align: right;\">\n",
       "      <th></th>\n",
       "      <th>Player_Name</th>\n",
       "      <th>Base_Price</th>\n",
       "      <th>Price_Paid</th>\n",
       "      <th>Status</th>\n",
       "      <th>Bought_by</th>\n",
       "      <th>Previous_IPL_Teams</th>\n",
       "      <th>Country</th>\n",
       "      <th>Role</th>\n",
       "      <th>Batting_Style</th>\n",
       "      <th>Bowling_Style</th>\n",
       "      <th>Batting_Order</th>\n",
       "      <th>Capped_or_Uncapped</th>\n",
       "    </tr>\n",
       "  </thead>\n",
       "  <tbody>\n",
       "    <tr>\n",
       "      <th>10</th>\n",
       "      <td>Dawid Malan</td>\n",
       "      <td>150</td>\n",
       "      <td>150</td>\n",
       "      <td>Sold</td>\n",
       "      <td>PBKS</td>\n",
       "      <td>NaN</td>\n",
       "      <td>England</td>\n",
       "      <td>Batsman</td>\n",
       "      <td>Left</td>\n",
       "      <td>NaN</td>\n",
       "      <td>Top</td>\n",
       "      <td>Capped</td>\n",
       "    </tr>\n",
       "    <tr>\n",
       "      <th>43</th>\n",
       "      <td>Shahrukh Khan</td>\n",
       "      <td>20</td>\n",
       "      <td>525</td>\n",
       "      <td>Sold</td>\n",
       "      <td>PBKS</td>\n",
       "      <td>NaN</td>\n",
       "      <td>India</td>\n",
       "      <td>Batsman</td>\n",
       "      <td>Right</td>\n",
       "      <td>NaN</td>\n",
       "      <td>Middle</td>\n",
       "      <td>Uncapped</td>\n",
       "    </tr>\n",
       "  </tbody>\n",
       "</table>\n",
       "</div>"
      ],
      "text/plain": [
       "      Player_Name  Base_Price  Price_Paid Status Bought_by Previous_IPL_Teams  \\\n",
       "10    Dawid Malan         150         150   Sold      PBKS                NaN   \n",
       "43  Shahrukh Khan          20         525   Sold      PBKS                NaN   \n",
       "\n",
       "    Country     Role Batting_Style Bowling_Style Batting_Order  \\\n",
       "10  England  Batsman          Left           NaN          Top    \n",
       "43    India  Batsman        Right            NaN        Middle   \n",
       "\n",
       "   Capped_or_Uncapped  \n",
       "10             Capped  \n",
       "43           Uncapped  "
      ]
     },
     "execution_count": 128,
     "metadata": {},
     "output_type": "execute_result"
    }
   ],
   "source": [
    "pbks_bats=pbks[pbks['Role'].str.contains('Batsman')]\n",
    "pbks_bats"
   ]
  },
  {
   "cell_type": "markdown",
   "id": "cdc5f216",
   "metadata": {},
   "source": [
    "### List of Bowlers bought by PBKS"
   ]
  },
  {
   "cell_type": "code",
   "execution_count": 129,
   "id": "15d8f591",
   "metadata": {},
   "outputs": [
    {
     "data": {
      "text/html": [
       "<div>\n",
       "<style scoped>\n",
       "    .dataframe tbody tr th:only-of-type {\n",
       "        vertical-align: middle;\n",
       "    }\n",
       "\n",
       "    .dataframe tbody tr th {\n",
       "        vertical-align: top;\n",
       "    }\n",
       "\n",
       "    .dataframe thead th {\n",
       "        text-align: right;\n",
       "    }\n",
       "</style>\n",
       "<table border=\"1\" class=\"dataframe\">\n",
       "  <thead>\n",
       "    <tr style=\"text-align: right;\">\n",
       "      <th></th>\n",
       "      <th>Player_Name</th>\n",
       "      <th>Base_Price</th>\n",
       "      <th>Price_Paid</th>\n",
       "      <th>Status</th>\n",
       "      <th>Bought_by</th>\n",
       "      <th>Previous_IPL_Teams</th>\n",
       "      <th>Country</th>\n",
       "      <th>Role</th>\n",
       "      <th>Batting_Style</th>\n",
       "      <th>Bowling_Style</th>\n",
       "      <th>Batting_Order</th>\n",
       "      <th>Capped_or_Uncapped</th>\n",
       "    </tr>\n",
       "  </thead>\n",
       "  <tbody>\n",
       "    <tr>\n",
       "      <th>18</th>\n",
       "      <td>Jhye Richardson</td>\n",
       "      <td>150</td>\n",
       "      <td>1400</td>\n",
       "      <td>Sold</td>\n",
       "      <td>PBKS</td>\n",
       "      <td>NaN</td>\n",
       "      <td>Australia</td>\n",
       "      <td>Seam Bowler</td>\n",
       "      <td>NaN</td>\n",
       "      <td>Right Fast</td>\n",
       "      <td>NaN</td>\n",
       "      <td>Capped</td>\n",
       "    </tr>\n",
       "    <tr>\n",
       "      <th>38</th>\n",
       "      <td>Riley Meredith</td>\n",
       "      <td>40</td>\n",
       "      <td>800</td>\n",
       "      <td>Sold</td>\n",
       "      <td>PBKS</td>\n",
       "      <td>NaN</td>\n",
       "      <td>Australia</td>\n",
       "      <td>Seam Bowler</td>\n",
       "      <td>NaN</td>\n",
       "      <td>Right Fast</td>\n",
       "      <td>NaN</td>\n",
       "      <td>Uncapped</td>\n",
       "    </tr>\n",
       "  </tbody>\n",
       "</table>\n",
       "</div>"
      ],
      "text/plain": [
       "        Player_Name  Base_Price  Price_Paid Status Bought_by  \\\n",
       "18  Jhye Richardson         150        1400   Sold      PBKS   \n",
       "38   Riley Meredith          40         800  Sold       PBKS   \n",
       "\n",
       "   Previous_IPL_Teams    Country         Role Batting_Style Bowling_Style  \\\n",
       "18                NaN  Australia  Seam Bowler           NaN    Right Fast   \n",
       "38                NaN  Australia  Seam Bowler           NaN    Right Fast   \n",
       "\n",
       "   Batting_Order Capped_or_Uncapped  \n",
       "18           NaN             Capped  \n",
       "38           NaN           Uncapped  "
      ]
     },
     "execution_count": 129,
     "metadata": {},
     "output_type": "execute_result"
    }
   ],
   "source": [
    "pbks_bowl=pbks[pbks['Role'].str.contains('Bowler')]\n",
    "pbks_bowl"
   ]
  },
  {
   "cell_type": "markdown",
   "id": "8c14e21f",
   "metadata": {},
   "source": [
    "### List of All Rounders bought by PBKS"
   ]
  },
  {
   "cell_type": "code",
   "execution_count": 130,
   "id": "d89ea299",
   "metadata": {},
   "outputs": [
    {
     "data": {
      "text/html": [
       "<div>\n",
       "<style scoped>\n",
       "    .dataframe tbody tr th:only-of-type {\n",
       "        vertical-align: middle;\n",
       "    }\n",
       "\n",
       "    .dataframe tbody tr th {\n",
       "        vertical-align: top;\n",
       "    }\n",
       "\n",
       "    .dataframe thead th {\n",
       "        text-align: right;\n",
       "    }\n",
       "</style>\n",
       "<table border=\"1\" class=\"dataframe\">\n",
       "  <thead>\n",
       "    <tr style=\"text-align: right;\">\n",
       "      <th></th>\n",
       "      <th>Player_Name</th>\n",
       "      <th>Base_Price</th>\n",
       "      <th>Price_Paid</th>\n",
       "      <th>Status</th>\n",
       "      <th>Bought_by</th>\n",
       "      <th>Previous_IPL_Teams</th>\n",
       "      <th>Country</th>\n",
       "      <th>Role</th>\n",
       "      <th>Batting_Style</th>\n",
       "      <th>Bowling_Style</th>\n",
       "      <th>Batting_Order</th>\n",
       "      <th>Capped_or_Uncapped</th>\n",
       "    </tr>\n",
       "  </thead>\n",
       "  <tbody>\n",
       "    <tr>\n",
       "      <th>11</th>\n",
       "      <td>Fabian Allen</td>\n",
       "      <td>75</td>\n",
       "      <td>75</td>\n",
       "      <td>Sold</td>\n",
       "      <td>PBKS</td>\n",
       "      <td>SRH</td>\n",
       "      <td>West Indies</td>\n",
       "      <td>Bowling All Rounder</td>\n",
       "      <td>Right</td>\n",
       "      <td>Slow Left Orthodox</td>\n",
       "      <td>Middle</td>\n",
       "      <td>Capped</td>\n",
       "    </tr>\n",
       "    <tr>\n",
       "      <th>16</th>\n",
       "      <td>Jalaj Saxena</td>\n",
       "      <td>30</td>\n",
       "      <td>30</td>\n",
       "      <td>Sold</td>\n",
       "      <td>PBKS</td>\n",
       "      <td>MI, DC, RCB</td>\n",
       "      <td>India</td>\n",
       "      <td>Batting All Rounder</td>\n",
       "      <td>Right</td>\n",
       "      <td>Right Offbreak</td>\n",
       "      <td>Top</td>\n",
       "      <td>Uncapped</td>\n",
       "    </tr>\n",
       "    <tr>\n",
       "      <th>31</th>\n",
       "      <td>Moises Henriques</td>\n",
       "      <td>100</td>\n",
       "      <td>420</td>\n",
       "      <td>Sold</td>\n",
       "      <td>PBKS</td>\n",
       "      <td>KKR, DC, RCB, SRH, MI</td>\n",
       "      <td>Australia</td>\n",
       "      <td>All Rounder</td>\n",
       "      <td>Right</td>\n",
       "      <td>Right Fast Medium</td>\n",
       "      <td>Middle</td>\n",
       "      <td>Capped</td>\n",
       "    </tr>\n",
       "    <tr>\n",
       "      <th>42</th>\n",
       "      <td>Saurabh Kumar</td>\n",
       "      <td>20</td>\n",
       "      <td>20</td>\n",
       "      <td>Sold</td>\n",
       "      <td>PBKS</td>\n",
       "      <td>RPS</td>\n",
       "      <td>India</td>\n",
       "      <td>Bowling All Rounder</td>\n",
       "      <td>Left</td>\n",
       "      <td>Slow Left Orthodox</td>\n",
       "      <td>Lower</td>\n",
       "      <td>Uncapped</td>\n",
       "    </tr>\n",
       "    <tr>\n",
       "      <th>52</th>\n",
       "      <td>Utkarsh Singh</td>\n",
       "      <td>20</td>\n",
       "      <td>20</td>\n",
       "      <td>Sold</td>\n",
       "      <td>PBKS</td>\n",
       "      <td>NaN</td>\n",
       "      <td>India</td>\n",
       "      <td>All Rounder</td>\n",
       "      <td>Left</td>\n",
       "      <td>Right Offbreak</td>\n",
       "      <td>Top</td>\n",
       "      <td>Uncapped</td>\n",
       "    </tr>\n",
       "  </tbody>\n",
       "</table>\n",
       "</div>"
      ],
      "text/plain": [
       "         Player_Name  Base_Price  Price_Paid Status Bought_by  \\\n",
       "11      Fabian Allen          75          75   Sold      PBKS   \n",
       "16      Jalaj Saxena          30          30   Sold      PBKS   \n",
       "31  Moises Henriques         100         420   Sold      PBKS   \n",
       "42     Saurabh Kumar          20          20   Sold      PBKS   \n",
       "52    Utkarsh Singh           20          20   Sold      PBKS   \n",
       "\n",
       "       Previous_IPL_Teams      Country                 Role Batting_Style  \\\n",
       "11                    SRH  West Indies  Bowling All Rounder        Right    \n",
       "16            MI, DC, RCB        India  Batting All Rounder        Right    \n",
       "31  KKR, DC, RCB, SRH, MI    Australia          All Rounder        Right    \n",
       "42                    RPS        India  Bowling All Rounder          Left   \n",
       "52                    NaN        India          All Rounder          Left   \n",
       "\n",
       "         Bowling_Style Batting_Order Capped_or_Uncapped  \n",
       "11  Slow Left Orthodox       Middle              Capped  \n",
       "16      Right Offbreak          Top            Uncapped  \n",
       "31   Right Fast Medium        Middle             Capped  \n",
       "42  Slow Left Orthodox        Lower            Uncapped  \n",
       "52      Right Offbreak           Top           Uncapped  "
      ]
     },
     "execution_count": 130,
     "metadata": {},
     "output_type": "execute_result"
    }
   ],
   "source": [
    "pbks_all=pbks[pbks['Role'].str.contains('All Rounder')]\n",
    "pbks_all"
   ]
  },
  {
   "cell_type": "markdown",
   "id": "ab7b6aa4",
   "metadata": {},
   "source": [
    "### TEAM ANALYSIS - PUNJAB KINGS"
   ]
  },
  {
   "cell_type": "code",
   "execution_count": 131,
   "id": "d40b8945",
   "metadata": {},
   "outputs": [
    {
     "name": "stdout",
     "output_type": "stream",
     "text": [
      "Total amount spent during auction:  34.4  crores\n"
     ]
    }
   ],
   "source": [
    "print(\"Total amount spent during auction: \",(pbks['Price_Paid'].sum())/100,\" crores\")"
   ]
  },
  {
   "cell_type": "code",
   "execution_count": 132,
   "id": "251f8374",
   "metadata": {},
   "outputs": [
    {
     "name": "stdout",
     "output_type": "stream",
     "text": [
      "Highest bid by Punjab Kings: \n",
      "\n",
      "Player Name:              Jhye Richardson\n",
      "Country:                  Australia\n",
      "Bought for (in crores):   14.0\n",
      "Role:                     Seam Bowler\n"
     ]
    }
   ],
   "source": [
    "print(\"Highest bid by Punjab Kings: \")\n",
    "print()\n",
    "formpri(pbks[pbks['Price_Paid']==pbks['Price_Paid'].max()])"
   ]
  },
  {
   "cell_type": "code",
   "execution_count": 133,
   "id": "05a9adb2",
   "metadata": {},
   "outputs": [
    {
     "name": "stdout",
     "output_type": "stream",
     "text": [
      "Highest Indian bid by Punjab Kings: \n",
      "\n",
      "Player Name:              Shahrukh Khan\n",
      "Country:                  India\n",
      "Bought for (in crores):   5.25\n",
      "Role:                     Batsman\n"
     ]
    }
   ],
   "source": [
    "print(\"Highest Indian bid by Punjab Kings: \")\n",
    "print()\n",
    "formpri(pbks[pbks['Price_Paid']==pbks[pbks['Country']=='India']['Price_Paid'].max()])"
   ]
  },
  {
   "cell_type": "code",
   "execution_count": 134,
   "id": "b2dc55af",
   "metadata": {},
   "outputs": [
    {
     "name": "stdout",
     "output_type": "stream",
     "text": [
      "Highest Foreign bid by Punjab Kings: \n",
      "\n",
      "Player Name:              Jhye Richardson\n",
      "Country:                  Australia\n",
      "Bought for (in crores):   14.0\n",
      "Role:                     Seam Bowler\n"
     ]
    }
   ],
   "source": [
    "print(\"Highest Foreign bid by Punjab Kings: \")\n",
    "print()\n",
    "formpri(pbks[pbks['Price_Paid']==pbks[pbks['Country']!='India']['Price_Paid'].max()])"
   ]
  },
  {
   "cell_type": "code",
   "execution_count": 135,
   "id": "e31123fd",
   "metadata": {},
   "outputs": [
    {
     "name": "stdout",
     "output_type": "stream",
     "text": [
      "Amount Spent on each Department: \n",
      "\n",
      "Role\n",
      "All Rounder             4.40\n",
      "Batsman                 6.75\n",
      "Batting All Rounder     0.30\n",
      "Bowling All Rounder     0.95\n",
      "Seam Bowler            22.00\n"
     ]
    }
   ],
   "source": [
    "print(\"Amount Spent on each Department: \")\n",
    "print()\n",
    "print((pbks.groupby('Role')['Price_Paid'].sum()/100).to_string())"
   ]
  },
  {
   "cell_type": "code",
   "execution_count": 136,
   "id": "4fc2f945",
   "metadata": {},
   "outputs": [
    {
     "name": "stdout",
     "output_type": "stream",
     "text": [
      "Highest batsman bid by Punjab Kings: \n",
      "\n",
      "Player Name:              Shahrukh Khan\n",
      "Country:                  India\n",
      "Bought for (in crores):   5.25\n",
      "Role:                     Batsman\n"
     ]
    }
   ],
   "source": [
    "print(\"Highest batsman bid by Punjab Kings: \")\n",
    "print()\n",
    "formpri(pbks_bats[pbks_bats['Price_Paid']==pbks_bats['Price_Paid'].max()])"
   ]
  },
  {
   "cell_type": "code",
   "execution_count": 137,
   "id": "6959164f",
   "metadata": {},
   "outputs": [
    {
     "name": "stdout",
     "output_type": "stream",
     "text": [
      "Highest bowler bid by Punjab Kings: \n",
      "\n",
      "Player Name:              Jhye Richardson\n",
      "Country:                  Australia\n",
      "Bought for (in crores):   14.0\n",
      "Role:                     Seam Bowler\n"
     ]
    }
   ],
   "source": [
    "print(\"Highest bowler bid by Punjab Kings: \")\n",
    "print()\n",
    "formpri(pbks_bowl[pbks_bowl['Price_Paid']==pbks_bowl['Price_Paid'].max()])"
   ]
  },
  {
   "cell_type": "code",
   "execution_count": 138,
   "id": "7a8b91b5",
   "metadata": {},
   "outputs": [
    {
     "name": "stdout",
     "output_type": "stream",
     "text": [
      "Highest all rounder bid by Punjab Kings: \n",
      "\n",
      "Player Name:              Moises Henriques\n",
      "Country:                  Australia\n",
      "Bought for (in crores):   4.2\n",
      "Role:                     All Rounder\n"
     ]
    }
   ],
   "source": [
    "print(\"Highest all rounder bid by Punjab Kings: \")\n",
    "print()\n",
    "formpri(pbks_all[pbks_all['Price_Paid']==pbks_all['Price_Paid'].max()])"
   ]
  },
  {
   "cell_type": "code",
   "execution_count": 139,
   "id": "1bf71a6a",
   "metadata": {},
   "outputs": [
    {
     "name": "stdout",
     "output_type": "stream",
     "text": [
      "Average amount spent on each department: \n",
      "\n",
      "Role\n",
      "All Rounder             2.200\n",
      "Batsman                 3.375\n",
      "Batting All Rounder     0.300\n",
      "Bowling All Rounder     0.475\n",
      "Seam Bowler            11.000\n"
     ]
    }
   ],
   "source": [
    "print(\"Average amount spent on each department: \")\n",
    "print()\n",
    "print((pbks.groupby('Role')['Price_Paid'].mean()/100).to_string())"
   ]
  },
  {
   "cell_type": "code",
   "execution_count": 140,
   "id": "b58e18e4",
   "metadata": {},
   "outputs": [
    {
     "name": "stdout",
     "output_type": "stream",
     "text": [
      "Highest capped bid by Punjab Kings: \n",
      "\n",
      "Player Name:              Jhye Richardson\n",
      "Country:                  Australia\n",
      "Bought for (in crores):   14.0\n",
      "Role:                     Seam Bowler\n"
     ]
    }
   ],
   "source": [
    "print(\"Highest capped bid by Punjab Kings: \")\n",
    "print()\n",
    "formpri(pbks[pbks['Price_Paid']==pbks[pbks['Capped_or_Uncapped']=='Capped']['Price_Paid'].max()])"
   ]
  },
  {
   "cell_type": "code",
   "execution_count": 141,
   "id": "b15b9ea1",
   "metadata": {},
   "outputs": [
    {
     "name": "stdout",
     "output_type": "stream",
     "text": [
      "Highest uncapped bid by Punjab Kings: \n",
      "\n",
      "Player Name:              Riley Meredith\n",
      "Country:                  Australia\n",
      "Bought for (in crores):   8.0\n",
      "Role:                     Seam Bowler\n"
     ]
    }
   ],
   "source": [
    "print(\"Highest uncapped bid by Punjab Kings: \")\n",
    "print()\n",
    "formpri(pbks[pbks['Price_Paid']==pbks[pbks['Capped_or_Uncapped']=='Uncapped']['Price_Paid'].max()])"
   ]
  },
  {
   "cell_type": "code",
   "execution_count": 142,
   "id": "6c63516d",
   "metadata": {},
   "outputs": [
    {
     "name": "stdout",
     "output_type": "stream",
     "text": [
      "Visualization of distribution of Amount spent by PBKS on each department: \n",
      "\n"
     ]
    },
    {
     "data": {
      "image/png": "[encoded data removed]",
      "text/plain": [
       "<Figure size 1080x720 with 1 Axes>"
      ]
     },
     "metadata": {},
     "output_type": "display_data"
    }
   ],
   "source": [
    "print(\"Visualization of distribution of Amount spent by PBKS on each department: \")\n",
    "print()\n",
    "pbks.groupby(['Role']).sum().plot(kind='pie', y='Price_Paid', autopct=\"%.2f%%\", figsize=(15,10), title=\"Distribution of Amount spent by PBKS on each department\").legend(loc='upper right');"
   ]
  },
  {
   "cell_type": "code",
   "execution_count": 143,
   "id": "253eed4b",
   "metadata": {},
   "outputs": [
    {
     "name": "stdout",
     "output_type": "stream",
     "text": [
      "No. of IPL Experienced and inexperienced Players bought by Punjab Kings: \n",
      "Experienced Players:      4\n",
      "Inexperienced Players:    5\n"
     ]
    }
   ],
   "source": [
    "print(\"No. of IPL Experienced and inexperienced Players bought by Punjab Kings: \")\n",
    "print(\"Experienced Players:     \",pbks[pd.notnull(pbks['Previous_IPL_Teams'])].shape[0])\n",
    "print(\"Inexperienced Players:   \",pbks[pd.isnull(pbks['Previous_IPL_Teams'])].shape[0])"
   ]
  },
  {
   "cell_type": "code",
   "execution_count": 144,
   "id": "e80aface",
   "metadata": {},
   "outputs": [
    {
     "name": "stdout",
     "output_type": "stream",
     "text": [
      "No. of Internationally Experienced and inexperienced  Players bought by Punjab Kings: \n",
      "Experienced Players:      4\n",
      "Inexperienced Players:    5\n"
     ]
    }
   ],
   "source": [
    "print(\"No. of Internationally Experienced and inexperienced  Players bought by Punjab Kings: \")\n",
    "print(\"Experienced Players:     \",pbks[pbks['Capped_or_Uncapped']=='Capped'].shape[0])\n",
    "print(\"Inexperienced Players:   \",pbks[pbks['Capped_or_Uncapped']=='Uncapped'].shape[0])"
   ]
  },
  {
   "cell_type": "code",
   "execution_count": 145,
   "id": "8340d510",
   "metadata": {},
   "outputs": [
    {
     "name": "stdout",
     "output_type": "stream",
     "text": [
      "No. of players bought at\n",
      "Base Price:            5\n",
      "More than Base Price:  4\n"
     ]
    }
   ],
   "source": [
    "print(\"No. of players bought at\")\n",
    "print(\"Base Price:           \",pbks[pbks['Price_Paid']==pbks['Base_Price']].shape[0])\n",
    "print(\"More than Base Price: \",pbks[pbks['Price_Paid']!=pbks['Base_Price']].shape[0])"
   ]
  },
  {
   "cell_type": "markdown",
   "id": "bf586532",
   "metadata": {},
   "source": [
    "## Kolkata Knight Riders (KKR)"
   ]
  },
  {
   "cell_type": "markdown",
   "id": "54b3933e",
   "metadata": {},
   "source": [
    "### Listing out players bought by KKR"
   ]
  },
  {
   "cell_type": "code",
   "execution_count": 146,
   "id": "ed0b2027",
   "metadata": {},
   "outputs": [
    {
     "data": {
      "text/html": [
       "<div>\n",
       "<style scoped>\n",
       "    .dataframe tbody tr th:only-of-type {\n",
       "        vertical-align: middle;\n",
       "    }\n",
       "\n",
       "    .dataframe tbody tr th {\n",
       "        vertical-align: top;\n",
       "    }\n",
       "\n",
       "    .dataframe thead th {\n",
       "        text-align: right;\n",
       "    }\n",
       "</style>\n",
       "<table border=\"1\" class=\"dataframe\">\n",
       "  <thead>\n",
       "    <tr style=\"text-align: right;\">\n",
       "      <th></th>\n",
       "      <th>Player_Name</th>\n",
       "      <th>Base_Price</th>\n",
       "      <th>Price_Paid</th>\n",
       "      <th>Status</th>\n",
       "      <th>Bought_by</th>\n",
       "      <th>Previous_IPL_Teams</th>\n",
       "      <th>Country</th>\n",
       "      <th>Role</th>\n",
       "      <th>Batting_Style</th>\n",
       "      <th>Bowling_Style</th>\n",
       "      <th>Batting_Order</th>\n",
       "      <th>Capped_or_Uncapped</th>\n",
       "    </tr>\n",
       "  </thead>\n",
       "  <tbody>\n",
       "    <tr>\n",
       "      <th>3</th>\n",
       "      <td>Ben Cutting</td>\n",
       "      <td>75</td>\n",
       "      <td>75</td>\n",
       "      <td>Sold</td>\n",
       "      <td>KKR</td>\n",
       "      <td>RR, SRH, MI</td>\n",
       "      <td>Australia</td>\n",
       "      <td>All Rounder</td>\n",
       "      <td>Right</td>\n",
       "      <td>Right Fast Medium</td>\n",
       "      <td>Middle</td>\n",
       "      <td>Capped</td>\n",
       "    </tr>\n",
       "    <tr>\n",
       "      <th>13</th>\n",
       "      <td>Harbhajan Singh</td>\n",
       "      <td>200</td>\n",
       "      <td>200</td>\n",
       "      <td>Sold</td>\n",
       "      <td>KKR</td>\n",
       "      <td>CSK, MI</td>\n",
       "      <td>India</td>\n",
       "      <td>Spin Bowler</td>\n",
       "      <td>NaN</td>\n",
       "      <td>Right Offbreak</td>\n",
       "      <td>NaN</td>\n",
       "      <td>Capped</td>\n",
       "    </tr>\n",
       "    <tr>\n",
       "      <th>19</th>\n",
       "      <td>Karun Nair</td>\n",
       "      <td>50</td>\n",
       "      <td>50</td>\n",
       "      <td>Sold</td>\n",
       "      <td>KKR</td>\n",
       "      <td>RCB, DC, PBKS, RR</td>\n",
       "      <td>India</td>\n",
       "      <td>Batsman</td>\n",
       "      <td>Right</td>\n",
       "      <td>NaN</td>\n",
       "      <td>Middle</td>\n",
       "      <td>Capped</td>\n",
       "    </tr>\n",
       "    <tr>\n",
       "      <th>35</th>\n",
       "      <td>Pawan Negi</td>\n",
       "      <td>50</td>\n",
       "      <td>50</td>\n",
       "      <td>Sold</td>\n",
       "      <td>KKR</td>\n",
       "      <td>DC, CSK, RCB</td>\n",
       "      <td>India</td>\n",
       "      <td>Spin Bowler</td>\n",
       "      <td>NaN</td>\n",
       "      <td>Slow Left Orthodox</td>\n",
       "      <td>NaN</td>\n",
       "      <td>Capped</td>\n",
       "    </tr>\n",
       "    <tr>\n",
       "      <th>44</th>\n",
       "      <td>Shakib Al Hasan</td>\n",
       "      <td>200</td>\n",
       "      <td>320</td>\n",
       "      <td>Sold</td>\n",
       "      <td>KKR</td>\n",
       "      <td>KKR, SRH</td>\n",
       "      <td>Bangladesh</td>\n",
       "      <td>All Rounder</td>\n",
       "      <td>Left</td>\n",
       "      <td>Left Orthodox</td>\n",
       "      <td>Middle</td>\n",
       "      <td>Capped</td>\n",
       "    </tr>\n",
       "    <tr>\n",
       "      <th>45</th>\n",
       "      <td>Sheldon Jackson</td>\n",
       "      <td>20</td>\n",
       "      <td>20</td>\n",
       "      <td>Sold</td>\n",
       "      <td>KKR</td>\n",
       "      <td>RCB, KKR</td>\n",
       "      <td>India</td>\n",
       "      <td>Wicket Keeper Batsman</td>\n",
       "      <td>Right</td>\n",
       "      <td>NaN</td>\n",
       "      <td>Top</td>\n",
       "      <td>Uncapped</td>\n",
       "    </tr>\n",
       "    <tr>\n",
       "      <th>53</th>\n",
       "      <td>Vaibhav Arora</td>\n",
       "      <td>20</td>\n",
       "      <td>20</td>\n",
       "      <td>Sold</td>\n",
       "      <td>KKR</td>\n",
       "      <td>NaN</td>\n",
       "      <td>India</td>\n",
       "      <td>Seam Bowler</td>\n",
       "      <td>NaN</td>\n",
       "      <td>Right Fast Medium</td>\n",
       "      <td>NaN</td>\n",
       "      <td>Uncapped</td>\n",
       "    </tr>\n",
       "    <tr>\n",
       "      <th>54</th>\n",
       "      <td>Venkatesh Iyer</td>\n",
       "      <td>20</td>\n",
       "      <td>20</td>\n",
       "      <td>Sold</td>\n",
       "      <td>KKR</td>\n",
       "      <td>NaN</td>\n",
       "      <td>India</td>\n",
       "      <td>Batting All Rounder</td>\n",
       "      <td>Left</td>\n",
       "      <td>Right Medium</td>\n",
       "      <td>Top</td>\n",
       "      <td>Uncapped</td>\n",
       "    </tr>\n",
       "  </tbody>\n",
       "</table>\n",
       "</div>"
      ],
      "text/plain": [
       "        Player_Name  Base_Price  Price_Paid Status Bought_by  \\\n",
       "3       Ben Cutting          75          75   Sold       KKR   \n",
       "13  Harbhajan Singh         200         200   Sold       KKR   \n",
       "19       Karun Nair          50          50   Sold       KKR   \n",
       "35       Pawan Negi          50          50   Sold       KKR   \n",
       "44  Shakib Al Hasan         200         320   Sold       KKR   \n",
       "45  Sheldon Jackson          20          20   Sold       KKR   \n",
       "53    Vaibhav Arora          20          20   Sold       KKR   \n",
       "54   Venkatesh Iyer          20          20   Sold       KKR   \n",
       "\n",
       "   Previous_IPL_Teams     Country                   Role Batting_Style  \\\n",
       "3         RR, SRH, MI   Australia            All Rounder        Right    \n",
       "13            CSK, MI       India            Spin Bowler           NaN   \n",
       "19  RCB, DC, PBKS, RR       India                Batsman        Right    \n",
       "35       DC, CSK, RCB       India            Spin Bowler           NaN   \n",
       "44           KKR, SRH  Bangladesh            All Rounder          Left   \n",
       "45           RCB, KKR       India  Wicket Keeper Batsman        Right    \n",
       "53                NaN       India            Seam Bowler           NaN   \n",
       "54                NaN       India    Batting All Rounder          Left   \n",
       "\n",
       "         Bowling_Style Batting_Order Capped_or_Uncapped  \n",
       "3    Right Fast Medium       Middle              Capped  \n",
       "13      Right Offbreak           NaN             Capped  \n",
       "19                 NaN        Middle             Capped  \n",
       "35  Slow Left Orthodox           NaN             Capped  \n",
       "44       Left Orthodox        Middle             Capped  \n",
       "45                 NaN           Top           Uncapped  \n",
       "53   Right Fast Medium           NaN           Uncapped  \n",
       "54        Right Medium           Top           Uncapped  "
      ]
     },
     "execution_count": 146,
     "metadata": {},
     "output_type": "execute_result"
    }
   ],
   "source": [
    "kkr=data.groupby('Bought_by').get_group('KKR')\n",
    "kkr"
   ]
  },
  {
   "cell_type": "markdown",
   "id": "61a94b51",
   "metadata": {},
   "source": [
    "### Visualization of amount at which the players have been bought"
   ]
  },
  {
   "cell_type": "code",
   "execution_count": 147,
   "id": "365f7f32",
   "metadata": {},
   "outputs": [
    {
     "data": {
      "image/png": "[encoded data removed]",
      "text/plain": [
       "<Figure size 432x288 with 1 Axes>"
      ]
     },
     "metadata": {
      "needs_background": "light"
     },
     "output_type": "display_data"
    }
   ],
   "source": [
    "x=list(kkr['Player_Name']);\n",
    "y=list(kkr['Price_Paid']);\n",
    "plt.barh(x,y);"
   ]
  },
  {
   "cell_type": "markdown",
   "id": "f6144cb0",
   "metadata": {},
   "source": [
    "### List of Batsmen bought by KKR"
   ]
  },
  {
   "cell_type": "code",
   "execution_count": 148,
   "id": "fbe528f5",
   "metadata": {},
   "outputs": [
    {
     "data": {
      "text/html": [
       "<div>\n",
       "<style scoped>\n",
       "    .dataframe tbody tr th:only-of-type {\n",
       "        vertical-align: middle;\n",
       "    }\n",
       "\n",
       "    .dataframe tbody tr th {\n",
       "        vertical-align: top;\n",
       "    }\n",
       "\n",
       "    .dataframe thead th {\n",
       "        text-align: right;\n",
       "    }\n",
       "</style>\n",
       "<table border=\"1\" class=\"dataframe\">\n",
       "  <thead>\n",
       "    <tr style=\"text-align: right;\">\n",
       "      <th></th>\n",
       "      <th>Player_Name</th>\n",
       "      <th>Base_Price</th>\n",
       "      <th>Price_Paid</th>\n",
       "      <th>Status</th>\n",
       "      <th>Bought_by</th>\n",
       "      <th>Previous_IPL_Teams</th>\n",
       "      <th>Country</th>\n",
       "      <th>Role</th>\n",
       "      <th>Batting_Style</th>\n",
       "      <th>Bowling_Style</th>\n",
       "      <th>Batting_Order</th>\n",
       "      <th>Capped_or_Uncapped</th>\n",
       "    </tr>\n",
       "  </thead>\n",
       "  <tbody>\n",
       "    <tr>\n",
       "      <th>19</th>\n",
       "      <td>Karun Nair</td>\n",
       "      <td>50</td>\n",
       "      <td>50</td>\n",
       "      <td>Sold</td>\n",
       "      <td>KKR</td>\n",
       "      <td>RCB, DC, PBKS, RR</td>\n",
       "      <td>India</td>\n",
       "      <td>Batsman</td>\n",
       "      <td>Right</td>\n",
       "      <td>NaN</td>\n",
       "      <td>Middle</td>\n",
       "      <td>Capped</td>\n",
       "    </tr>\n",
       "    <tr>\n",
       "      <th>45</th>\n",
       "      <td>Sheldon Jackson</td>\n",
       "      <td>20</td>\n",
       "      <td>20</td>\n",
       "      <td>Sold</td>\n",
       "      <td>KKR</td>\n",
       "      <td>RCB, KKR</td>\n",
       "      <td>India</td>\n",
       "      <td>Wicket Keeper Batsman</td>\n",
       "      <td>Right</td>\n",
       "      <td>NaN</td>\n",
       "      <td>Top</td>\n",
       "      <td>Uncapped</td>\n",
       "    </tr>\n",
       "  </tbody>\n",
       "</table>\n",
       "</div>"
      ],
      "text/plain": [
       "        Player_Name  Base_Price  Price_Paid Status Bought_by  \\\n",
       "19       Karun Nair          50          50   Sold       KKR   \n",
       "45  Sheldon Jackson          20          20   Sold       KKR   \n",
       "\n",
       "   Previous_IPL_Teams Country                   Role Batting_Style  \\\n",
       "19  RCB, DC, PBKS, RR   India                Batsman        Right    \n",
       "45           RCB, KKR   India  Wicket Keeper Batsman        Right    \n",
       "\n",
       "   Bowling_Style Batting_Order Capped_or_Uncapped  \n",
       "19           NaN        Middle             Capped  \n",
       "45           NaN           Top           Uncapped  "
      ]
     },
     "execution_count": 148,
     "metadata": {},
     "output_type": "execute_result"
    }
   ],
   "source": [
    "kkr_bats=kkr[kkr['Role'].str.contains('Batsman')]\n",
    "kkr_bats"
   ]
  },
  {
   "cell_type": "markdown",
   "id": "90c6e3cf",
   "metadata": {},
   "source": [
    "### List of Bowlers bought by KKR"
   ]
  },
  {
   "cell_type": "code",
   "execution_count": 149,
   "id": "2b1fe46d",
   "metadata": {},
   "outputs": [
    {
     "data": {
      "text/html": [
       "<div>\n",
       "<style scoped>\n",
       "    .dataframe tbody tr th:only-of-type {\n",
       "        vertical-align: middle;\n",
       "    }\n",
       "\n",
       "    .dataframe tbody tr th {\n",
       "        vertical-align: top;\n",
       "    }\n",
       "\n",
       "    .dataframe thead th {\n",
       "        text-align: right;\n",
       "    }\n",
       "</style>\n",
       "<table border=\"1\" class=\"dataframe\">\n",
       "  <thead>\n",
       "    <tr style=\"text-align: right;\">\n",
       "      <th></th>\n",
       "      <th>Player_Name</th>\n",
       "      <th>Base_Price</th>\n",
       "      <th>Price_Paid</th>\n",
       "      <th>Status</th>\n",
       "      <th>Bought_by</th>\n",
       "      <th>Previous_IPL_Teams</th>\n",
       "      <th>Country</th>\n",
       "      <th>Role</th>\n",
       "      <th>Batting_Style</th>\n",
       "      <th>Bowling_Style</th>\n",
       "      <th>Batting_Order</th>\n",
       "      <th>Capped_or_Uncapped</th>\n",
       "    </tr>\n",
       "  </thead>\n",
       "  <tbody>\n",
       "    <tr>\n",
       "      <th>13</th>\n",
       "      <td>Harbhajan Singh</td>\n",
       "      <td>200</td>\n",
       "      <td>200</td>\n",
       "      <td>Sold</td>\n",
       "      <td>KKR</td>\n",
       "      <td>CSK, MI</td>\n",
       "      <td>India</td>\n",
       "      <td>Spin Bowler</td>\n",
       "      <td>NaN</td>\n",
       "      <td>Right Offbreak</td>\n",
       "      <td>NaN</td>\n",
       "      <td>Capped</td>\n",
       "    </tr>\n",
       "    <tr>\n",
       "      <th>35</th>\n",
       "      <td>Pawan Negi</td>\n",
       "      <td>50</td>\n",
       "      <td>50</td>\n",
       "      <td>Sold</td>\n",
       "      <td>KKR</td>\n",
       "      <td>DC, CSK, RCB</td>\n",
       "      <td>India</td>\n",
       "      <td>Spin Bowler</td>\n",
       "      <td>NaN</td>\n",
       "      <td>Slow Left Orthodox</td>\n",
       "      <td>NaN</td>\n",
       "      <td>Capped</td>\n",
       "    </tr>\n",
       "    <tr>\n",
       "      <th>53</th>\n",
       "      <td>Vaibhav Arora</td>\n",
       "      <td>20</td>\n",
       "      <td>20</td>\n",
       "      <td>Sold</td>\n",
       "      <td>KKR</td>\n",
       "      <td>NaN</td>\n",
       "      <td>India</td>\n",
       "      <td>Seam Bowler</td>\n",
       "      <td>NaN</td>\n",
       "      <td>Right Fast Medium</td>\n",
       "      <td>NaN</td>\n",
       "      <td>Uncapped</td>\n",
       "    </tr>\n",
       "  </tbody>\n",
       "</table>\n",
       "</div>"
      ],
      "text/plain": [
       "        Player_Name  Base_Price  Price_Paid Status Bought_by  \\\n",
       "13  Harbhajan Singh         200         200   Sold       KKR   \n",
       "35       Pawan Negi          50          50   Sold       KKR   \n",
       "53    Vaibhav Arora          20          20   Sold       KKR   \n",
       "\n",
       "   Previous_IPL_Teams Country         Role Batting_Style       Bowling_Style  \\\n",
       "13            CSK, MI   India  Spin Bowler           NaN      Right Offbreak   \n",
       "35       DC, CSK, RCB   India  Spin Bowler           NaN  Slow Left Orthodox   \n",
       "53                NaN   India  Seam Bowler           NaN   Right Fast Medium   \n",
       "\n",
       "   Batting_Order Capped_or_Uncapped  \n",
       "13           NaN             Capped  \n",
       "35           NaN             Capped  \n",
       "53           NaN           Uncapped  "
      ]
     },
     "execution_count": 149,
     "metadata": {},
     "output_type": "execute_result"
    }
   ],
   "source": [
    "kkr_bowl=kkr[kkr['Role'].str.contains('Bowler')]\n",
    "kkr_bowl"
   ]
  },
  {
   "cell_type": "markdown",
   "id": "b1fb002d",
   "metadata": {},
   "source": [
    "### List of All Rounders bought by KKR"
   ]
  },
  {
   "cell_type": "code",
   "execution_count": 150,
   "id": "768d3892",
   "metadata": {},
   "outputs": [
    {
     "data": {
      "text/html": [
       "<div>\n",
       "<style scoped>\n",
       "    .dataframe tbody tr th:only-of-type {\n",
       "        vertical-align: middle;\n",
       "    }\n",
       "\n",
       "    .dataframe tbody tr th {\n",
       "        vertical-align: top;\n",
       "    }\n",
       "\n",
       "    .dataframe thead th {\n",
       "        text-align: right;\n",
       "    }\n",
       "</style>\n",
       "<table border=\"1\" class=\"dataframe\">\n",
       "  <thead>\n",
       "    <tr style=\"text-align: right;\">\n",
       "      <th></th>\n",
       "      <th>Player_Name</th>\n",
       "      <th>Base_Price</th>\n",
       "      <th>Price_Paid</th>\n",
       "      <th>Status</th>\n",
       "      <th>Bought_by</th>\n",
       "      <th>Previous_IPL_Teams</th>\n",
       "      <th>Country</th>\n",
       "      <th>Role</th>\n",
       "      <th>Batting_Style</th>\n",
       "      <th>Bowling_Style</th>\n",
       "      <th>Batting_Order</th>\n",
       "      <th>Capped_or_Uncapped</th>\n",
       "    </tr>\n",
       "  </thead>\n",
       "  <tbody>\n",
       "    <tr>\n",
       "      <th>3</th>\n",
       "      <td>Ben Cutting</td>\n",
       "      <td>75</td>\n",
       "      <td>75</td>\n",
       "      <td>Sold</td>\n",
       "      <td>KKR</td>\n",
       "      <td>RR, SRH, MI</td>\n",
       "      <td>Australia</td>\n",
       "      <td>All Rounder</td>\n",
       "      <td>Right</td>\n",
       "      <td>Right Fast Medium</td>\n",
       "      <td>Middle</td>\n",
       "      <td>Capped</td>\n",
       "    </tr>\n",
       "    <tr>\n",
       "      <th>44</th>\n",
       "      <td>Shakib Al Hasan</td>\n",
       "      <td>200</td>\n",
       "      <td>320</td>\n",
       "      <td>Sold</td>\n",
       "      <td>KKR</td>\n",
       "      <td>KKR, SRH</td>\n",
       "      <td>Bangladesh</td>\n",
       "      <td>All Rounder</td>\n",
       "      <td>Left</td>\n",
       "      <td>Left Orthodox</td>\n",
       "      <td>Middle</td>\n",
       "      <td>Capped</td>\n",
       "    </tr>\n",
       "    <tr>\n",
       "      <th>54</th>\n",
       "      <td>Venkatesh Iyer</td>\n",
       "      <td>20</td>\n",
       "      <td>20</td>\n",
       "      <td>Sold</td>\n",
       "      <td>KKR</td>\n",
       "      <td>NaN</td>\n",
       "      <td>India</td>\n",
       "      <td>Batting All Rounder</td>\n",
       "      <td>Left</td>\n",
       "      <td>Right Medium</td>\n",
       "      <td>Top</td>\n",
       "      <td>Uncapped</td>\n",
       "    </tr>\n",
       "  </tbody>\n",
       "</table>\n",
       "</div>"
      ],
      "text/plain": [
       "        Player_Name  Base_Price  Price_Paid Status Bought_by  \\\n",
       "3       Ben Cutting          75          75   Sold       KKR   \n",
       "44  Shakib Al Hasan         200         320   Sold       KKR   \n",
       "54   Venkatesh Iyer          20          20   Sold       KKR   \n",
       "\n",
       "   Previous_IPL_Teams     Country                 Role Batting_Style  \\\n",
       "3         RR, SRH, MI   Australia          All Rounder        Right    \n",
       "44           KKR, SRH  Bangladesh          All Rounder          Left   \n",
       "54                NaN       India  Batting All Rounder          Left   \n",
       "\n",
       "        Bowling_Style Batting_Order Capped_or_Uncapped  \n",
       "3   Right Fast Medium       Middle              Capped  \n",
       "44      Left Orthodox        Middle             Capped  \n",
       "54       Right Medium           Top           Uncapped  "
      ]
     },
     "execution_count": 150,
     "metadata": {},
     "output_type": "execute_result"
    }
   ],
   "source": [
    "kkr_all=kkr[kkr['Role'].str.contains('All Rounder')]\n",
    "kkr_all"
   ]
  },
  {
   "cell_type": "markdown",
   "id": "1790858f",
   "metadata": {},
   "source": [
    "## TEAM ANALYSIS - KOLKATA KNIGHT RIDERS"
   ]
  },
  {
   "cell_type": "code",
   "execution_count": 151,
   "id": "54592088",
   "metadata": {},
   "outputs": [
    {
     "name": "stdout",
     "output_type": "stream",
     "text": [
      "Total amount spent during auction:  7.55  crores\n"
     ]
    }
   ],
   "source": [
    "print(\"Total amount spent during auction: \",(kkr['Price_Paid'].sum())/100,\" crores\")"
   ]
  },
  {
   "cell_type": "code",
   "execution_count": 152,
   "id": "7a192e97",
   "metadata": {},
   "outputs": [
    {
     "name": "stdout",
     "output_type": "stream",
     "text": [
      "Highest bid by Kolkata Knight Riders: \n",
      "\n",
      "Player Name:              Shakib Al Hasan\n",
      "Country:                  Bangladesh\n",
      "Bought for (in crores):   3.2\n",
      "Role:                     All Rounder\n"
     ]
    }
   ],
   "source": [
    "print(\"Highest bid by Kolkata Knight Riders: \")\n",
    "print()\n",
    "formpri(kkr[kkr['Price_Paid']==kkr['Price_Paid'].max()])"
   ]
  },
  {
   "cell_type": "code",
   "execution_count": 153,
   "id": "1f64cf58",
   "metadata": {},
   "outputs": [
    {
     "name": "stdout",
     "output_type": "stream",
     "text": [
      "Highest Indian bid by Kolkata Knight Riders: \n",
      "\n",
      "Player Name:              Harbhajan Singh\n",
      "Country:                  India\n",
      "Bought for (in crores):   2.0\n",
      "Role:                     Spin Bowler\n"
     ]
    }
   ],
   "source": [
    "print(\"Highest Indian bid by Kolkata Knight Riders: \")\n",
    "print()\n",
    "formpri(kkr[kkr['Price_Paid']==kkr[kkr['Country']=='India']['Price_Paid'].max()])"
   ]
  },
  {
   "cell_type": "code",
   "execution_count": 154,
   "id": "ee851e3b",
   "metadata": {},
   "outputs": [
    {
     "name": "stdout",
     "output_type": "stream",
     "text": [
      "Highest Foreign bid by Kolkata Knight Riders: \n",
      "\n",
      "Player Name:              Shakib Al Hasan\n",
      "Country:                  Bangladesh\n",
      "Bought for (in crores):   3.2\n",
      "Role:                     All Rounder\n"
     ]
    }
   ],
   "source": [
    "print(\"Highest Foreign bid by Kolkata Knight Riders: \")\n",
    "print()\n",
    "formpri(kkr[kkr['Price_Paid']==kkr[kkr['Country']!='India']['Price_Paid'].max()])"
   ]
  },
  {
   "cell_type": "code",
   "execution_count": 155,
   "id": "c2c48212",
   "metadata": {},
   "outputs": [
    {
     "name": "stdout",
     "output_type": "stream",
     "text": [
      "Amount Spent on each Department: \n",
      "\n",
      "Role\n",
      "All Rounder              3.95\n",
      "Batsman                  0.50\n",
      "Batting All Rounder      0.20\n",
      "Seam Bowler              0.20\n",
      "Spin Bowler              2.50\n",
      "Wicket Keeper Batsman    0.20\n"
     ]
    }
   ],
   "source": [
    "print(\"Amount Spent on each Department: \")\n",
    "print()\n",
    "print((kkr.groupby('Role')['Price_Paid'].sum()/100).to_string())"
   ]
  },
  {
   "cell_type": "code",
   "execution_count": 156,
   "id": "82b98b12",
   "metadata": {},
   "outputs": [
    {
     "name": "stdout",
     "output_type": "stream",
     "text": [
      "Highest batsman bid by Kolkata Knight Riders: \n",
      "\n",
      "Player Name:              Karun Nair\n",
      "Country:                  India\n",
      "Bought for (in crores):   0.5\n",
      "Role:                     Batsman\n"
     ]
    }
   ],
   "source": [
    "print(\"Highest batsman bid by Kolkata Knight Riders: \")\n",
    "print()\n",
    "formpri(kkr_bats[kkr_bats['Price_Paid']==kkr_bats['Price_Paid'].max()])"
   ]
  },
  {
   "cell_type": "code",
   "execution_count": 157,
   "id": "f63eabe5",
   "metadata": {},
   "outputs": [
    {
     "name": "stdout",
     "output_type": "stream",
     "text": [
      "Highest bowler bid by Kolkata Knight Riders: \n",
      "\n",
      "Player Name:              Harbhajan Singh\n",
      "Country:                  India\n",
      "Bought for (in crores):   2.0\n",
      "Role:                     Spin Bowler\n"
     ]
    }
   ],
   "source": [
    "print(\"Highest bowler bid by Kolkata Knight Riders: \")\n",
    "print()\n",
    "formpri(kkr_bowl[kkr_bowl['Price_Paid']==kkr_bowl['Price_Paid'].max()])"
   ]
  },
  {
   "cell_type": "code",
   "execution_count": 158,
   "id": "183595ca",
   "metadata": {},
   "outputs": [
    {
     "name": "stdout",
     "output_type": "stream",
     "text": [
      "Highest all rounder bid by Kolkata Knight Riders: \n",
      "\n",
      "Player Name:              Shakib Al Hasan\n",
      "Country:                  Bangladesh\n",
      "Bought for (in crores):   3.2\n",
      "Role:                     All Rounder\n"
     ]
    }
   ],
   "source": [
    "print(\"Highest all rounder bid by Kolkata Knight Riders: \")\n",
    "print()\n",
    "formpri(kkr_all[kkr_all['Price_Paid']==kkr_all['Price_Paid'].max()])"
   ]
  },
  {
   "cell_type": "code",
   "execution_count": 159,
   "id": "6874f60f",
   "metadata": {},
   "outputs": [
    {
     "name": "stdout",
     "output_type": "stream",
     "text": [
      "Average amount spent on each department: \n",
      "\n",
      "Role\n",
      "All Rounder              1.975\n",
      "Batsman                  0.500\n",
      "Batting All Rounder      0.200\n",
      "Seam Bowler              0.200\n",
      "Spin Bowler              1.250\n",
      "Wicket Keeper Batsman    0.200\n"
     ]
    }
   ],
   "source": [
    "print(\"Average amount spent on each department: \")\n",
    "print()\n",
    "print((kkr.groupby('Role')['Price_Paid'].mean()/100).to_string())"
   ]
  },
  {
   "cell_type": "code",
   "execution_count": 160,
   "id": "333ad504",
   "metadata": {},
   "outputs": [
    {
     "name": "stdout",
     "output_type": "stream",
     "text": [
      "Highest capped bid by Kolkata Knight Riders: \n",
      "\n",
      "Player Name:              Shakib Al Hasan\n",
      "Country:                  Bangladesh\n",
      "Bought for (in crores):   3.2\n",
      "Role:                     All Rounder\n"
     ]
    }
   ],
   "source": [
    "print(\"Highest capped bid by Kolkata Knight Riders: \")\n",
    "print()\n",
    "formpri(kkr[kkr['Price_Paid']==kkr[kkr['Capped_or_Uncapped']=='Capped']['Price_Paid'].max()])"
   ]
  },
  {
   "cell_type": "code",
   "execution_count": 161,
   "id": "c49d3d9a",
   "metadata": {},
   "outputs": [
    {
     "name": "stdout",
     "output_type": "stream",
     "text": [
      "Highest uncapped bid by Kolkata Knight Riders: \n",
      "\n"
     ]
    },
    {
     "data": {
      "text/html": [
       "<div>\n",
       "<style scoped>\n",
       "    .dataframe tbody tr th:only-of-type {\n",
       "        vertical-align: middle;\n",
       "    }\n",
       "\n",
       "    .dataframe tbody tr th {\n",
       "        vertical-align: top;\n",
       "    }\n",
       "\n",
       "    .dataframe thead th {\n",
       "        text-align: right;\n",
       "    }\n",
       "</style>\n",
       "<table border=\"1\" class=\"dataframe\">\n",
       "  <thead>\n",
       "    <tr style=\"text-align: right;\">\n",
       "      <th></th>\n",
       "      <th>Player_Name</th>\n",
       "      <th>Base_Price</th>\n",
       "      <th>Price_Paid</th>\n",
       "      <th>Status</th>\n",
       "      <th>Bought_by</th>\n",
       "      <th>Previous_IPL_Teams</th>\n",
       "      <th>Country</th>\n",
       "      <th>Role</th>\n",
       "      <th>Batting_Style</th>\n",
       "      <th>Bowling_Style</th>\n",
       "      <th>Batting_Order</th>\n",
       "      <th>Capped_or_Uncapped</th>\n",
       "    </tr>\n",
       "  </thead>\n",
       "  <tbody>\n",
       "    <tr>\n",
       "      <th>45</th>\n",
       "      <td>Sheldon Jackson</td>\n",
       "      <td>20</td>\n",
       "      <td>20</td>\n",
       "      <td>Sold</td>\n",
       "      <td>KKR</td>\n",
       "      <td>RCB, KKR</td>\n",
       "      <td>India</td>\n",
       "      <td>Wicket Keeper Batsman</td>\n",
       "      <td>Right</td>\n",
       "      <td>NaN</td>\n",
       "      <td>Top</td>\n",
       "      <td>Uncapped</td>\n",
       "    </tr>\n",
       "    <tr>\n",
       "      <th>53</th>\n",
       "      <td>Vaibhav Arora</td>\n",
       "      <td>20</td>\n",
       "      <td>20</td>\n",
       "      <td>Sold</td>\n",
       "      <td>KKR</td>\n",
       "      <td>NaN</td>\n",
       "      <td>India</td>\n",
       "      <td>Seam Bowler</td>\n",
       "      <td>NaN</td>\n",
       "      <td>Right Fast Medium</td>\n",
       "      <td>NaN</td>\n",
       "      <td>Uncapped</td>\n",
       "    </tr>\n",
       "    <tr>\n",
       "      <th>54</th>\n",
       "      <td>Venkatesh Iyer</td>\n",
       "      <td>20</td>\n",
       "      <td>20</td>\n",
       "      <td>Sold</td>\n",
       "      <td>KKR</td>\n",
       "      <td>NaN</td>\n",
       "      <td>India</td>\n",
       "      <td>Batting All Rounder</td>\n",
       "      <td>Left</td>\n",
       "      <td>Right Medium</td>\n",
       "      <td>Top</td>\n",
       "      <td>Uncapped</td>\n",
       "    </tr>\n",
       "  </tbody>\n",
       "</table>\n",
       "</div>"
      ],
      "text/plain": [
       "        Player_Name  Base_Price  Price_Paid Status Bought_by  \\\n",
       "45  Sheldon Jackson          20          20   Sold       KKR   \n",
       "53    Vaibhav Arora          20          20   Sold       KKR   \n",
       "54   Venkatesh Iyer          20          20   Sold       KKR   \n",
       "\n",
       "   Previous_IPL_Teams Country                   Role Batting_Style  \\\n",
       "45           RCB, KKR   India  Wicket Keeper Batsman        Right    \n",
       "53                NaN   India            Seam Bowler           NaN   \n",
       "54                NaN   India    Batting All Rounder          Left   \n",
       "\n",
       "        Bowling_Style Batting_Order Capped_or_Uncapped  \n",
       "45                NaN           Top           Uncapped  \n",
       "53  Right Fast Medium           NaN           Uncapped  \n",
       "54       Right Medium           Top           Uncapped  "
      ]
     },
     "execution_count": 161,
     "metadata": {},
     "output_type": "execute_result"
    }
   ],
   "source": [
    "print(\"Highest uncapped bid by Kolkata Knight Riders: \")\n",
    "print()\n",
    "kkr[kkr['Price_Paid']==kkr[kkr['Capped_or_Uncapped']=='Uncapped']['Price_Paid'].max()]"
   ]
  },
  {
   "cell_type": "code",
   "execution_count": 162,
   "id": "730c1d7c",
   "metadata": {},
   "outputs": [
    {
     "name": "stdout",
     "output_type": "stream",
     "text": [
      "Visualization of distribution of Amount spent by KKR on each department: \n",
      "\n"
     ]
    },
    {
     "data": {
      "image/png": "[encoded data removed]",
      "text/plain": [
       "<Figure size 1080x720 with 1 Axes>"
      ]
     },
     "metadata": {},
     "output_type": "display_data"
    }
   ],
   "source": [
    "print(\"Visualization of distribution of Amount spent by KKR on each department: \")\n",
    "print()\n",
    "kkr.groupby(['Role']).sum().plot(kind='pie', y='Price_Paid', autopct=\"%.2f%%\", figsize=(15,10), title=\"Distribution of Amount spent by KKR on each department\").legend(loc='upper right');"
   ]
  },
  {
   "cell_type": "code",
   "execution_count": 163,
   "id": "0f106534",
   "metadata": {},
   "outputs": [
    {
     "name": "stdout",
     "output_type": "stream",
     "text": [
      "No. of IPL Experienced and inexperienced Players bought by Kolkata Knight Riders: \n",
      "Experienced Players:      6\n",
      "Inexperienced Players:    2\n"
     ]
    }
   ],
   "source": [
    "print(\"No. of IPL Experienced and inexperienced Players bought by Kolkata Knight Riders: \")\n",
    "print(\"Experienced Players:     \",kkr[pd.notnull(kkr['Previous_IPL_Teams'])].shape[0])\n",
    "print(\"Inexperienced Players:   \",kkr[pd.isnull(kkr['Previous_IPL_Teams'])].shape[0])"
   ]
  },
  {
   "cell_type": "code",
   "execution_count": 164,
   "id": "c099df68",
   "metadata": {},
   "outputs": [
    {
     "name": "stdout",
     "output_type": "stream",
     "text": [
      "No. of Internationally Experienced and inexperienced  Players bought by Kolkata Knight Riders: \n",
      "Experienced Players:      5\n",
      "Inexperienced Players:    3\n"
     ]
    }
   ],
   "source": [
    "print(\"No. of Internationally Experienced and inexperienced  Players bought by Kolkata Knight Riders: \")\n",
    "print(\"Experienced Players:     \",kkr[kkr['Capped_or_Uncapped']=='Capped'].shape[0])\n",
    "print(\"Inexperienced Players:   \",kkr[kkr['Capped_or_Uncapped']=='Uncapped'].shape[0])"
   ]
  },
  {
   "cell_type": "code",
   "execution_count": 165,
   "id": "5ee752f3",
   "metadata": {},
   "outputs": [
    {
     "name": "stdout",
     "output_type": "stream",
     "text": [
      "No. of players bought at\n",
      "Base Price:            7\n",
      "More than Base Price:  1\n"
     ]
    }
   ],
   "source": [
    "print(\"No. of players bought at\")\n",
    "print(\"Base Price:           \",kkr[kkr['Price_Paid']==kkr['Base_Price']].shape[0])\n",
    "print(\"More than Base Price: \",kkr[kkr['Price_Paid']!=kkr['Base_Price']].shape[0])"
   ]
  },
  {
   "cell_type": "markdown",
   "id": "e4b2604e",
   "metadata": {},
   "source": [
    "# Overall Analysis:"
   ]
  },
  {
   "cell_type": "code",
   "execution_count": 166,
   "id": "50c211bb",
   "metadata": {},
   "outputs": [
    {
     "name": "stdout",
     "output_type": "stream",
     "text": [
      "Highest bid - Overall: \n",
      "\n",
      "Player Name:              Chris Morris\n",
      "Country:                  South Africa\n",
      "Bought for (in crores):   16.25\n",
      "Role:                     Bowling All Rounder\n"
     ]
    }
   ],
   "source": [
    "print(\"Highest bid - Overall: \")\n",
    "print()\n",
    "formpri(data[data['Price_Paid']==data['Price_Paid'].max()])"
   ]
  },
  {
   "cell_type": "code",
   "execution_count": 167,
   "id": "f4817fc9",
   "metadata": {},
   "outputs": [
    {
     "name": "stdout",
     "output_type": "stream",
     "text": [
      "Highest Indian bid - Overall: \n",
      "\n",
      "Player Name:              Krishnappa Gowtham\n",
      "Country:                  India\n",
      "Bought for (in crores):   9.25\n",
      "Role:                     Bowling All Rounder\n"
     ]
    }
   ],
   "source": [
    "print(\"Highest Indian bid - Overall: \")\n",
    "print()\n",
    "formpri(data[data['Price_Paid']==data[data['Country']=='India']['Price_Paid'].max()])"
   ]
  },
  {
   "cell_type": "code",
   "execution_count": 168,
   "id": "9204f2d8",
   "metadata": {},
   "outputs": [
    {
     "name": "stdout",
     "output_type": "stream",
     "text": [
      "Highest Foreign bid - Overall: \n",
      "\n",
      "Player Name:              Chris Morris\n",
      "Country:                  South Africa\n",
      "Bought for (in crores):   16.25\n",
      "Role:                     Bowling All Rounder\n"
     ]
    }
   ],
   "source": [
    "print(\"Highest Foreign bid - Overall: \")\n",
    "print()\n",
    "formpri(data[data['Price_Paid']==data[data['Country']!='India']['Price_Paid'].max()])"
   ]
  },
  {
   "cell_type": "code",
   "execution_count": 169,
   "id": "d2bf76da",
   "metadata": {},
   "outputs": [
    {
     "name": "stdout",
     "output_type": "stream",
     "text": [
      "Highest batsman bid - Overall: \n",
      "\n",
      "Player Name:              Shahrukh Khan\n",
      "Country:                  India\n",
      "Bought for (in crores):   5.25\n",
      "Role:                     Batsman\n"
     ]
    }
   ],
   "source": [
    "print(\"Highest batsman bid - Overall: \")\n",
    "print()\n",
    "data_bats=data[data['Role'].str.contains('Batsman')]\n",
    "\n",
    "formpri(data_bats[data_bats['Price_Paid']==data_bats['Price_Paid'].max()])"
   ]
  },
  {
   "cell_type": "code",
   "execution_count": 170,
   "id": "d84c3ace",
   "metadata": {},
   "outputs": [
    {
     "name": "stdout",
     "output_type": "stream",
     "text": [
      "Highest bowler bid - Overall: \n",
      "\n",
      "Player Name:              Kyle Jamieson\n",
      "Country:                  New Zealand\n",
      "Bought for (in crores):   15.0\n",
      "Role:                     Seam Bowler\n"
     ]
    }
   ],
   "source": [
    "print(\"Highest bowler bid - Overall: \")\n",
    "print()\n",
    "data_bowl=data[data['Role'].str.contains('Bowler')]\n",
    "\n",
    "formpri(data_bowl[data_bowl['Price_Paid']==data_bowl['Price_Paid'].max()])"
   ]
  },
  {
   "cell_type": "code",
   "execution_count": 171,
   "id": "5e8e1e59",
   "metadata": {},
   "outputs": [
    {
     "name": "stdout",
     "output_type": "stream",
     "text": [
      "Highest all rounder bid - Overall: \n",
      "\n",
      "Player Name:              Chris Morris\n",
      "Country:                  South Africa\n",
      "Bought for (in crores):   16.25\n",
      "Role:                     Bowling All Rounder\n"
     ]
    }
   ],
   "source": [
    "print(\"Highest all rounder bid - Overall: \")\n",
    "print()\n",
    "data_all=data[data['Role'].str.contains('All Rounder')]\n",
    "\n",
    "formpri(data_all[data_all['Price_Paid']==data_all['Price_Paid'].max()])"
   ]
  },
  {
   "cell_type": "code",
   "execution_count": 172,
   "id": "69a2428d",
   "metadata": {},
   "outputs": [
    {
     "data": {
      "text/html": [
       "<div>\n",
       "<style scoped>\n",
       "    .dataframe tbody tr th:only-of-type {\n",
       "        vertical-align: middle;\n",
       "    }\n",
       "\n",
       "    .dataframe tbody tr th {\n",
       "        vertical-align: top;\n",
       "    }\n",
       "\n",
       "    .dataframe thead th {\n",
       "        text-align: right;\n",
       "    }\n",
       "</style>\n",
       "<table border=\"1\" class=\"dataframe\">\n",
       "  <thead>\n",
       "    <tr style=\"text-align: right;\">\n",
       "      <th></th>\n",
       "      <th>Player_Name</th>\n",
       "      <th>Base_Price</th>\n",
       "      <th>Price_Paid</th>\n",
       "      <th>Status</th>\n",
       "      <th>Bought_by</th>\n",
       "      <th>Previous_IPL_Teams</th>\n",
       "      <th>Country</th>\n",
       "      <th>Role</th>\n",
       "      <th>Batting_Style</th>\n",
       "      <th>Bowling_Style</th>\n",
       "      <th>Batting_Order</th>\n",
       "      <th>Capped_or_Uncapped</th>\n",
       "    </tr>\n",
       "  </thead>\n",
       "  <tbody>\n",
       "    <tr>\n",
       "      <th>30</th>\n",
       "      <td>Mohammed Azharuddeen</td>\n",
       "      <td>20</td>\n",
       "      <td>20</td>\n",
       "      <td>Sold</td>\n",
       "      <td>RCB</td>\n",
       "      <td>NaN</td>\n",
       "      <td>India</td>\n",
       "      <td>Wicket Keeper Batsman</td>\n",
       "      <td>Right</td>\n",
       "      <td>NaN</td>\n",
       "      <td>Top</td>\n",
       "      <td>Uncapped</td>\n",
       "    </tr>\n",
       "    <tr>\n",
       "      <th>41</th>\n",
       "      <td>Sam Billings</td>\n",
       "      <td>200</td>\n",
       "      <td>200</td>\n",
       "      <td>Sold</td>\n",
       "      <td>DC</td>\n",
       "      <td>DC, CSK</td>\n",
       "      <td>England</td>\n",
       "      <td>Wicket Keeper Batsman</td>\n",
       "      <td>Right</td>\n",
       "      <td>NaN</td>\n",
       "      <td>Middle</td>\n",
       "      <td>Capped</td>\n",
       "    </tr>\n",
       "    <tr>\n",
       "      <th>45</th>\n",
       "      <td>Sheldon Jackson</td>\n",
       "      <td>20</td>\n",
       "      <td>20</td>\n",
       "      <td>Sold</td>\n",
       "      <td>KKR</td>\n",
       "      <td>RCB, KKR</td>\n",
       "      <td>India</td>\n",
       "      <td>Wicket Keeper Batsman</td>\n",
       "      <td>Right</td>\n",
       "      <td>NaN</td>\n",
       "      <td>Top</td>\n",
       "      <td>Uncapped</td>\n",
       "    </tr>\n",
       "    <tr>\n",
       "      <th>47</th>\n",
       "      <td>Srikar Bharat</td>\n",
       "      <td>20</td>\n",
       "      <td>20</td>\n",
       "      <td>Sold</td>\n",
       "      <td>RCB</td>\n",
       "      <td>DC</td>\n",
       "      <td>India</td>\n",
       "      <td>Wicket Keeper Batsman</td>\n",
       "      <td>Right</td>\n",
       "      <td>NaN</td>\n",
       "      <td>Top</td>\n",
       "      <td>Uncapped</td>\n",
       "    </tr>\n",
       "    <tr>\n",
       "      <th>55</th>\n",
       "      <td>Vishnu Vinod</td>\n",
       "      <td>20</td>\n",
       "      <td>20</td>\n",
       "      <td>Sold</td>\n",
       "      <td>DC</td>\n",
       "      <td>RCB</td>\n",
       "      <td>India</td>\n",
       "      <td>Wicket Keeper Batsman</td>\n",
       "      <td>Right</td>\n",
       "      <td>NaN</td>\n",
       "      <td>Middle</td>\n",
       "      <td>Uncapped</td>\n",
       "    </tr>\n",
       "  </tbody>\n",
       "</table>\n",
       "</div>"
      ],
      "text/plain": [
       "             Player_Name  Base_Price  Price_Paid Status Bought_by  \\\n",
       "30  Mohammed Azharuddeen          20          20   Sold       RCB   \n",
       "41          Sam Billings         200         200   Sold        DC   \n",
       "45       Sheldon Jackson          20          20   Sold       KKR   \n",
       "47         Srikar Bharat          20          20   Sold       RCB   \n",
       "55          Vishnu Vinod          20          20   Sold        DC   \n",
       "\n",
       "   Previous_IPL_Teams  Country                   Role Batting_Style  \\\n",
       "30                NaN    India  Wicket Keeper Batsman        Right    \n",
       "41            DC, CSK  England  Wicket Keeper Batsman        Right    \n",
       "45           RCB, KKR    India  Wicket Keeper Batsman        Right    \n",
       "47                 DC    India  Wicket Keeper Batsman        Right    \n",
       "55                RCB    India  Wicket Keeper Batsman        Right    \n",
       "\n",
       "   Bowling_Style Batting_Order Capped_or_Uncapped  \n",
       "30           NaN           Top           Uncapped  \n",
       "41           NaN        Middle             Capped  \n",
       "45           NaN           Top           Uncapped  \n",
       "47           NaN           Top           Uncapped  \n",
       "55           NaN        Middle           Uncapped  "
      ]
     },
     "execution_count": 172,
     "metadata": {},
     "output_type": "execute_result"
    }
   ],
   "source": [
    "data_wk=data[data['Role'].str.contains('Wicket Keeper')]\n",
    "data_wk"
   ]
  },
  {
   "cell_type": "code",
   "execution_count": 173,
   "id": "ad0291a0",
   "metadata": {},
   "outputs": [
    {
     "name": "stdout",
     "output_type": "stream",
     "text": [
      "Total Amount spent on batsmen (in crores):  16.15\n",
      "Average Amount spent on batsmen (in crores):  1.1535714285714287\n"
     ]
    }
   ],
   "source": [
    "print(\"Total Amount spent on batsmen (in crores): \",data_bats['Price_Paid'].sum()/100)\n",
    "print(\"Average Amount spent on batsmen (in crores): \",data_bats['Price_Paid'].mean()/100)"
   ]
  },
  {
   "cell_type": "code",
   "execution_count": 174,
   "id": "4e5cc703",
   "metadata": {},
   "outputs": [
    {
     "name": "stdout",
     "output_type": "stream",
     "text": [
      "Total Amount spent on Bowlers (in crores):  49.7\n",
      "Average Amount spent on Bowlers (in crores):  2.3666666666666667\n"
     ]
    }
   ],
   "source": [
    "print(\"Total Amount spent on Bowlers (in crores): \",data_bowl['Price_Paid'].sum()/100)\n",
    "print(\"Average Amount spent on Bowlers (in crores): \",data_bowl['Price_Paid'].mean()/100)"
   ]
  },
  {
   "cell_type": "code",
   "execution_count": 175,
   "id": "4580e6d9",
   "metadata": {},
   "outputs": [
    {
     "name": "stdout",
     "output_type": "stream",
     "text": [
      "Total Amount spent on All Rounders (in crores):  82.75\n",
      "Average Amount spent on All Rounders (in crores):  3.31\n"
     ]
    }
   ],
   "source": [
    "print(\"Total Amount spent on All Rounders (in crores): \",data_all['Price_Paid'].sum()/100)\n",
    "print(\"Average Amount spent on All Rounders (in crores): \",data_all['Price_Paid'].mean()/100)"
   ]
  },
  {
   "cell_type": "code",
   "execution_count": null,
   "id": "df019d3e",
   "metadata": {},
   "outputs": [],
   "source": []
  },
  {
   "cell_type": "code",
   "execution_count": null,
   "id": "1ad21143",
   "metadata": {},
   "outputs": [],
   "source": []
  }
 ],
 "metadata": {
  "kernelspec": {
   "display_name": "Python 3 (ipykernel)",
   "language": "python",
   "name": "python3"
  },
  "language_info": {
   "codemirror_mode": {
    "name": "ipython",
    "version": 3
   },
   "file_extension": ".py",
   "mimetype": "text/x-python",
   "name": "python",
   "nbconvert_exporter": "python",
   "pygments_lexer": "ipython3",
   "version": "3.9.5"
  }
 },
 "nbformat": 4,
 "nbformat_minor": 5
}
