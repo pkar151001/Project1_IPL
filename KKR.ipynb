{
 "cells": [
  {
   "cell_type": "markdown",
   "id": "55a1d41a",
   "metadata": {},
   "source": [
    "<h1 style=\"text-align:center;\">Kolkata Knight Riders (KKR)</h1>"
   ]
  },
  {
   "cell_type": "markdown",
   "id": "ec42730f",
   "metadata": {},
   "source": [
    "<p style=\"text-align:center;\"><img src=\"https://www.insidesport.in/wp-content/uploads/2021/08/Kolkata-Knight-Riders.jpg\" width=700px height=500px></p> "
   ]
  },
  {
   "cell_type": "code",
   "execution_count": 1,
   "id": "50d04b7b",
   "metadata": {},
   "outputs": [],
   "source": [
    "import pandas as pd\n",
    "import numpy as np\n",
    "import matplotlib.pyplot as plt\n",
    "\n",
    "data=pd.read_csv(\"./PROJECT_IPL_1_Edited.csv\")\n",
    "data.rename(columns={'Player Name':'Player_Name','Base Price (in Lakhs Rupees)':'Base_Price','Price Paid (in Lakhs Rupees)':'Price_Paid','Status':'Status','Bought by':'Bought_by','Previous IPL Teams':'Previous_IPL_Teams','Country':'Country','Role':'Role','Batting Style':'Batting_Style','Bowling Style':'Bowling_Style','Batting Order':'Batting_Order','Capped or Uncapped at Internationals (during Auction)':'Capped_or_Uncapped'},inplace='True')\n",
    "data.loc[data[\"Role\"] == \"Fast Bowler\", \"Role\"] = \"Seam Bowler\"\n"
   ]
  },
  {
   "cell_type": "markdown",
   "id": "884b955d",
   "metadata": {},
   "source": [
    "<h2 style=\"text-align:center;\"> Listing out players bought by KKR </h2>"
   ]
  },
  {
   "cell_type": "code",
   "execution_count": 2,
   "id": "5b1678c3",
   "metadata": {},
   "outputs": [
    {
     "data": {
      "text/html": [
       "<div>\n",
       "<style scoped>\n",
       "    .dataframe tbody tr th:only-of-type {\n",
       "        vertical-align: middle;\n",
       "    }\n",
       "\n",
       "    .dataframe tbody tr th {\n",
       "        vertical-align: top;\n",
       "    }\n",
       "\n",
       "    .dataframe thead th {\n",
       "        text-align: right;\n",
       "    }\n",
       "</style>\n",
       "<table border=\"1\" class=\"dataframe\">\n",
       "  <thead>\n",
       "    <tr style=\"text-align: right;\">\n",
       "      <th></th>\n",
       "      <th>Player_Name</th>\n",
       "      <th>Base_Price</th>\n",
       "      <th>Price_Paid</th>\n",
       "      <th>Status</th>\n",
       "      <th>Bought_by</th>\n",
       "      <th>Previous_IPL_Teams</th>\n",
       "      <th>Country</th>\n",
       "      <th>Role</th>\n",
       "      <th>Batting_Style</th>\n",
       "      <th>Bowling_Style</th>\n",
       "      <th>Batting_Order</th>\n",
       "      <th>Capped_or_Uncapped</th>\n",
       "    </tr>\n",
       "  </thead>\n",
       "  <tbody>\n",
       "    <tr>\n",
       "      <th>3</th>\n",
       "      <td>Ben Cutting</td>\n",
       "      <td>75</td>\n",
       "      <td>75</td>\n",
       "      <td>Sold</td>\n",
       "      <td>KKR</td>\n",
       "      <td>RR, SRH, MI</td>\n",
       "      <td>Australia</td>\n",
       "      <td>All Rounder</td>\n",
       "      <td>Right</td>\n",
       "      <td>Right Fast Medium</td>\n",
       "      <td>Middle</td>\n",
       "      <td>Capped</td>\n",
       "    </tr>\n",
       "    <tr>\n",
       "      <th>13</th>\n",
       "      <td>Harbhajan Singh</td>\n",
       "      <td>200</td>\n",
       "      <td>200</td>\n",
       "      <td>Sold</td>\n",
       "      <td>KKR</td>\n",
       "      <td>CSK, MI</td>\n",
       "      <td>India</td>\n",
       "      <td>Spin Bowler</td>\n",
       "      <td>NaN</td>\n",
       "      <td>Right Offbreak</td>\n",
       "      <td>NaN</td>\n",
       "      <td>Capped</td>\n",
       "    </tr>\n",
       "    <tr>\n",
       "      <th>19</th>\n",
       "      <td>Karun Nair</td>\n",
       "      <td>50</td>\n",
       "      <td>50</td>\n",
       "      <td>Sold</td>\n",
       "      <td>KKR</td>\n",
       "      <td>RCB, DC, PBKS, RR</td>\n",
       "      <td>India</td>\n",
       "      <td>Batsman</td>\n",
       "      <td>Right</td>\n",
       "      <td>NaN</td>\n",
       "      <td>Middle</td>\n",
       "      <td>Capped</td>\n",
       "    </tr>\n",
       "    <tr>\n",
       "      <th>35</th>\n",
       "      <td>Pawan Negi</td>\n",
       "      <td>50</td>\n",
       "      <td>50</td>\n",
       "      <td>Sold</td>\n",
       "      <td>KKR</td>\n",
       "      <td>DC, CSK, RCB</td>\n",
       "      <td>India</td>\n",
       "      <td>Spin Bowler</td>\n",
       "      <td>NaN</td>\n",
       "      <td>Slow Left Orthodox</td>\n",
       "      <td>NaN</td>\n",
       "      <td>Capped</td>\n",
       "    </tr>\n",
       "    <tr>\n",
       "      <th>44</th>\n",
       "      <td>Shakib Al Hasan</td>\n",
       "      <td>200</td>\n",
       "      <td>320</td>\n",
       "      <td>Sold</td>\n",
       "      <td>KKR</td>\n",
       "      <td>KKR, SRH</td>\n",
       "      <td>Bangladesh</td>\n",
       "      <td>All Rounder</td>\n",
       "      <td>Left</td>\n",
       "      <td>Left Orthodox</td>\n",
       "      <td>Middle</td>\n",
       "      <td>Capped</td>\n",
       "    </tr>\n",
       "    <tr>\n",
       "      <th>45</th>\n",
       "      <td>Sheldon Jackson</td>\n",
       "      <td>20</td>\n",
       "      <td>20</td>\n",
       "      <td>Sold</td>\n",
       "      <td>KKR</td>\n",
       "      <td>RCB, KKR</td>\n",
       "      <td>India</td>\n",
       "      <td>Wicket Keeper Batsman</td>\n",
       "      <td>Right</td>\n",
       "      <td>NaN</td>\n",
       "      <td>Top</td>\n",
       "      <td>Uncapped</td>\n",
       "    </tr>\n",
       "    <tr>\n",
       "      <th>53</th>\n",
       "      <td>Vaibhav Arora</td>\n",
       "      <td>20</td>\n",
       "      <td>20</td>\n",
       "      <td>Sold</td>\n",
       "      <td>KKR</td>\n",
       "      <td>NaN</td>\n",
       "      <td>India</td>\n",
       "      <td>Seam Bowler</td>\n",
       "      <td>NaN</td>\n",
       "      <td>Right Fast Medium</td>\n",
       "      <td>NaN</td>\n",
       "      <td>Uncapped</td>\n",
       "    </tr>\n",
       "    <tr>\n",
       "      <th>54</th>\n",
       "      <td>Venkatesh Iyer</td>\n",
       "      <td>20</td>\n",
       "      <td>20</td>\n",
       "      <td>Sold</td>\n",
       "      <td>KKR</td>\n",
       "      <td>NaN</td>\n",
       "      <td>India</td>\n",
       "      <td>Batting All Rounder</td>\n",
       "      <td>Left</td>\n",
       "      <td>Right Medium</td>\n",
       "      <td>Top</td>\n",
       "      <td>Uncapped</td>\n",
       "    </tr>\n",
       "  </tbody>\n",
       "</table>\n",
       "</div>"
      ],
      "text/plain": [
       "        Player_Name  Base_Price  Price_Paid Status Bought_by  \\\n",
       "3       Ben Cutting          75          75   Sold       KKR   \n",
       "13  Harbhajan Singh         200         200   Sold       KKR   \n",
       "19       Karun Nair          50          50   Sold       KKR   \n",
       "35       Pawan Negi          50          50   Sold       KKR   \n",
       "44  Shakib Al Hasan         200         320   Sold       KKR   \n",
       "45  Sheldon Jackson          20          20   Sold       KKR   \n",
       "53    Vaibhav Arora          20          20   Sold       KKR   \n",
       "54   Venkatesh Iyer          20          20   Sold       KKR   \n",
       "\n",
       "   Previous_IPL_Teams     Country                   Role Batting_Style  \\\n",
       "3         RR, SRH, MI   Australia            All Rounder        Right    \n",
       "13            CSK, MI       India            Spin Bowler           NaN   \n",
       "19  RCB, DC, PBKS, RR       India                Batsman        Right    \n",
       "35       DC, CSK, RCB       India            Spin Bowler           NaN   \n",
       "44           KKR, SRH  Bangladesh            All Rounder          Left   \n",
       "45           RCB, KKR       India  Wicket Keeper Batsman        Right    \n",
       "53                NaN       India            Seam Bowler           NaN   \n",
       "54                NaN       India    Batting All Rounder          Left   \n",
       "\n",
       "         Bowling_Style Batting_Order Capped_or_Uncapped  \n",
       "3    Right Fast Medium       Middle              Capped  \n",
       "13      Right Offbreak           NaN             Capped  \n",
       "19                 NaN        Middle             Capped  \n",
       "35  Slow Left Orthodox           NaN             Capped  \n",
       "44       Left Orthodox        Middle             Capped  \n",
       "45                 NaN           Top           Uncapped  \n",
       "53   Right Fast Medium           NaN           Uncapped  \n",
       "54        Right Medium           Top           Uncapped  "
      ]
     },
     "execution_count": 2,
     "metadata": {},
     "output_type": "execute_result"
    }
   ],
   "source": [
    "kkr=data.groupby('Bought_by').get_group('KKR')\n",
    "kkr"
   ]
  },
  {
   "cell_type": "markdown",
   "id": "d10e668e",
   "metadata": {},
   "source": [
    "<h2 style=\"text-align:center;\"> Visualization of Price Paid for players bought by KKR </h2>"
   ]
  },
  {
   "cell_type": "code",
   "execution_count": 3,
   "id": "97031d41",
   "metadata": {},
   "outputs": [
    {
     "data": {
      "image/png": "[encoded data removed]",
      "text/plain": [
       "<Figure size 432x288 with 1 Axes>"
      ]
     },
     "metadata": {
      "needs_background": "light"
     },
     "output_type": "display_data"
    }
   ],
   "source": [
    "x=list(kkr['Player_Name']);\n",
    "y=list(kkr['Price_Paid']);\n",
    "plt.barh(x,y);"
   ]
  },
  {
   "cell_type": "markdown",
   "id": "f099a59e",
   "metadata": {},
   "source": [
    "<h2 style=\"text-align:center;\">List of Batsmen bought by KKR</h2>"
   ]
  },
  {
   "cell_type": "code",
   "execution_count": 4,
   "id": "ade55eba",
   "metadata": {},
   "outputs": [
    {
     "data": {
      "text/html": [
       "<div>\n",
       "<style scoped>\n",
       "    .dataframe tbody tr th:only-of-type {\n",
       "        vertical-align: middle;\n",
       "    }\n",
       "\n",
       "    .dataframe tbody tr th {\n",
       "        vertical-align: top;\n",
       "    }\n",
       "\n",
       "    .dataframe thead th {\n",
       "        text-align: right;\n",
       "    }\n",
       "</style>\n",
       "<table border=\"1\" class=\"dataframe\">\n",
       "  <thead>\n",
       "    <tr style=\"text-align: right;\">\n",
       "      <th></th>\n",
       "      <th>Player_Name</th>\n",
       "      <th>Base_Price</th>\n",
       "      <th>Price_Paid</th>\n",
       "      <th>Status</th>\n",
       "      <th>Bought_by</th>\n",
       "      <th>Previous_IPL_Teams</th>\n",
       "      <th>Country</th>\n",
       "      <th>Role</th>\n",
       "      <th>Batting_Style</th>\n",
       "      <th>Bowling_Style</th>\n",
       "      <th>Batting_Order</th>\n",
       "      <th>Capped_or_Uncapped</th>\n",
       "    </tr>\n",
       "  </thead>\n",
       "  <tbody>\n",
       "    <tr>\n",
       "      <th>19</th>\n",
       "      <td>Karun Nair</td>\n",
       "      <td>50</td>\n",
       "      <td>50</td>\n",
       "      <td>Sold</td>\n",
       "      <td>KKR</td>\n",
       "      <td>RCB, DC, PBKS, RR</td>\n",
       "      <td>India</td>\n",
       "      <td>Batsman</td>\n",
       "      <td>Right</td>\n",
       "      <td>NaN</td>\n",
       "      <td>Middle</td>\n",
       "      <td>Capped</td>\n",
       "    </tr>\n",
       "    <tr>\n",
       "      <th>45</th>\n",
       "      <td>Sheldon Jackson</td>\n",
       "      <td>20</td>\n",
       "      <td>20</td>\n",
       "      <td>Sold</td>\n",
       "      <td>KKR</td>\n",
       "      <td>RCB, KKR</td>\n",
       "      <td>India</td>\n",
       "      <td>Wicket Keeper Batsman</td>\n",
       "      <td>Right</td>\n",
       "      <td>NaN</td>\n",
       "      <td>Top</td>\n",
       "      <td>Uncapped</td>\n",
       "    </tr>\n",
       "  </tbody>\n",
       "</table>\n",
       "</div>"
      ],
      "text/plain": [
       "        Player_Name  Base_Price  Price_Paid Status Bought_by  \\\n",
       "19       Karun Nair          50          50   Sold       KKR   \n",
       "45  Sheldon Jackson          20          20   Sold       KKR   \n",
       "\n",
       "   Previous_IPL_Teams Country                   Role Batting_Style  \\\n",
       "19  RCB, DC, PBKS, RR   India                Batsman        Right    \n",
       "45           RCB, KKR   India  Wicket Keeper Batsman        Right    \n",
       "\n",
       "   Bowling_Style Batting_Order Capped_or_Uncapped  \n",
       "19           NaN        Middle             Capped  \n",
       "45           NaN           Top           Uncapped  "
      ]
     },
     "execution_count": 4,
     "metadata": {},
     "output_type": "execute_result"
    }
   ],
   "source": [
    "kkr_bats=kkr[kkr['Role'].str.contains('Batsman')]\n",
    "kkr_bats"
   ]
  },
  {
   "cell_type": "markdown",
   "id": "6e28cfb9",
   "metadata": {},
   "source": [
    "<h2 style=\"text-align:center;\">List of Bowlers bought by KKR</h2>"
   ]
  },
  {
   "cell_type": "code",
   "execution_count": 5,
   "id": "e11558b5",
   "metadata": {},
   "outputs": [
    {
     "data": {
      "text/html": [
       "<div>\n",
       "<style scoped>\n",
       "    .dataframe tbody tr th:only-of-type {\n",
       "        vertical-align: middle;\n",
       "    }\n",
       "\n",
       "    .dataframe tbody tr th {\n",
       "        vertical-align: top;\n",
       "    }\n",
       "\n",
       "    .dataframe thead th {\n",
       "        text-align: right;\n",
       "    }\n",
       "</style>\n",
       "<table border=\"1\" class=\"dataframe\">\n",
       "  <thead>\n",
       "    <tr style=\"text-align: right;\">\n",
       "      <th></th>\n",
       "      <th>Player_Name</th>\n",
       "      <th>Base_Price</th>\n",
       "      <th>Price_Paid</th>\n",
       "      <th>Status</th>\n",
       "      <th>Bought_by</th>\n",
       "      <th>Previous_IPL_Teams</th>\n",
       "      <th>Country</th>\n",
       "      <th>Role</th>\n",
       "      <th>Batting_Style</th>\n",
       "      <th>Bowling_Style</th>\n",
       "      <th>Batting_Order</th>\n",
       "      <th>Capped_or_Uncapped</th>\n",
       "    </tr>\n",
       "  </thead>\n",
       "  <tbody>\n",
       "    <tr>\n",
       "      <th>13</th>\n",
       "      <td>Harbhajan Singh</td>\n",
       "      <td>200</td>\n",
       "      <td>200</td>\n",
       "      <td>Sold</td>\n",
       "      <td>KKR</td>\n",
       "      <td>CSK, MI</td>\n",
       "      <td>India</td>\n",
       "      <td>Spin Bowler</td>\n",
       "      <td>NaN</td>\n",
       "      <td>Right Offbreak</td>\n",
       "      <td>NaN</td>\n",
       "      <td>Capped</td>\n",
       "    </tr>\n",
       "    <tr>\n",
       "      <th>35</th>\n",
       "      <td>Pawan Negi</td>\n",
       "      <td>50</td>\n",
       "      <td>50</td>\n",
       "      <td>Sold</td>\n",
       "      <td>KKR</td>\n",
       "      <td>DC, CSK, RCB</td>\n",
       "      <td>India</td>\n",
       "      <td>Spin Bowler</td>\n",
       "      <td>NaN</td>\n",
       "      <td>Slow Left Orthodox</td>\n",
       "      <td>NaN</td>\n",
       "      <td>Capped</td>\n",
       "    </tr>\n",
       "    <tr>\n",
       "      <th>53</th>\n",
       "      <td>Vaibhav Arora</td>\n",
       "      <td>20</td>\n",
       "      <td>20</td>\n",
       "      <td>Sold</td>\n",
       "      <td>KKR</td>\n",
       "      <td>NaN</td>\n",
       "      <td>India</td>\n",
       "      <td>Seam Bowler</td>\n",
       "      <td>NaN</td>\n",
       "      <td>Right Fast Medium</td>\n",
       "      <td>NaN</td>\n",
       "      <td>Uncapped</td>\n",
       "    </tr>\n",
       "  </tbody>\n",
       "</table>\n",
       "</div>"
      ],
      "text/plain": [
       "        Player_Name  Base_Price  Price_Paid Status Bought_by  \\\n",
       "13  Harbhajan Singh         200         200   Sold       KKR   \n",
       "35       Pawan Negi          50          50   Sold       KKR   \n",
       "53    Vaibhav Arora          20          20   Sold       KKR   \n",
       "\n",
       "   Previous_IPL_Teams Country         Role Batting_Style       Bowling_Style  \\\n",
       "13            CSK, MI   India  Spin Bowler           NaN      Right Offbreak   \n",
       "35       DC, CSK, RCB   India  Spin Bowler           NaN  Slow Left Orthodox   \n",
       "53                NaN   India  Seam Bowler           NaN   Right Fast Medium   \n",
       "\n",
       "   Batting_Order Capped_or_Uncapped  \n",
       "13           NaN             Capped  \n",
       "35           NaN             Capped  \n",
       "53           NaN           Uncapped  "
      ]
     },
     "execution_count": 5,
     "metadata": {},
     "output_type": "execute_result"
    }
   ],
   "source": [
    "kkr_bowl=kkr[kkr['Role'].str.contains('Bowler')]\n",
    "kkr_bowl"
   ]
  },
  {
   "cell_type": "markdown",
   "id": "f1d09afc",
   "metadata": {},
   "source": [
    "<h2 style=\"text-align:center;\">List of All Rounders bought by KKR</h2>"
   ]
  },
  {
   "cell_type": "code",
   "execution_count": 6,
   "id": "525098f2",
   "metadata": {},
   "outputs": [
    {
     "data": {
      "text/html": [
       "<div>\n",
       "<style scoped>\n",
       "    .dataframe tbody tr th:only-of-type {\n",
       "        vertical-align: middle;\n",
       "    }\n",
       "\n",
       "    .dataframe tbody tr th {\n",
       "        vertical-align: top;\n",
       "    }\n",
       "\n",
       "    .dataframe thead th {\n",
       "        text-align: right;\n",
       "    }\n",
       "</style>\n",
       "<table border=\"1\" class=\"dataframe\">\n",
       "  <thead>\n",
       "    <tr style=\"text-align: right;\">\n",
       "      <th></th>\n",
       "      <th>Player_Name</th>\n",
       "      <th>Base_Price</th>\n",
       "      <th>Price_Paid</th>\n",
       "      <th>Status</th>\n",
       "      <th>Bought_by</th>\n",
       "      <th>Previous_IPL_Teams</th>\n",
       "      <th>Country</th>\n",
       "      <th>Role</th>\n",
       "      <th>Batting_Style</th>\n",
       "      <th>Bowling_Style</th>\n",
       "      <th>Batting_Order</th>\n",
       "      <th>Capped_or_Uncapped</th>\n",
       "    </tr>\n",
       "  </thead>\n",
       "  <tbody>\n",
       "    <tr>\n",
       "      <th>3</th>\n",
       "      <td>Ben Cutting</td>\n",
       "      <td>75</td>\n",
       "      <td>75</td>\n",
       "      <td>Sold</td>\n",
       "      <td>KKR</td>\n",
       "      <td>RR, SRH, MI</td>\n",
       "      <td>Australia</td>\n",
       "      <td>All Rounder</td>\n",
       "      <td>Right</td>\n",
       "      <td>Right Fast Medium</td>\n",
       "      <td>Middle</td>\n",
       "      <td>Capped</td>\n",
       "    </tr>\n",
       "    <tr>\n",
       "      <th>44</th>\n",
       "      <td>Shakib Al Hasan</td>\n",
       "      <td>200</td>\n",
       "      <td>320</td>\n",
       "      <td>Sold</td>\n",
       "      <td>KKR</td>\n",
       "      <td>KKR, SRH</td>\n",
       "      <td>Bangladesh</td>\n",
       "      <td>All Rounder</td>\n",
       "      <td>Left</td>\n",
       "      <td>Left Orthodox</td>\n",
       "      <td>Middle</td>\n",
       "      <td>Capped</td>\n",
       "    </tr>\n",
       "    <tr>\n",
       "      <th>54</th>\n",
       "      <td>Venkatesh Iyer</td>\n",
       "      <td>20</td>\n",
       "      <td>20</td>\n",
       "      <td>Sold</td>\n",
       "      <td>KKR</td>\n",
       "      <td>NaN</td>\n",
       "      <td>India</td>\n",
       "      <td>Batting All Rounder</td>\n",
       "      <td>Left</td>\n",
       "      <td>Right Medium</td>\n",
       "      <td>Top</td>\n",
       "      <td>Uncapped</td>\n",
       "    </tr>\n",
       "  </tbody>\n",
       "</table>\n",
       "</div>"
      ],
      "text/plain": [
       "        Player_Name  Base_Price  Price_Paid Status Bought_by  \\\n",
       "3       Ben Cutting          75          75   Sold       KKR   \n",
       "44  Shakib Al Hasan         200         320   Sold       KKR   \n",
       "54   Venkatesh Iyer          20          20   Sold       KKR   \n",
       "\n",
       "   Previous_IPL_Teams     Country                 Role Batting_Style  \\\n",
       "3         RR, SRH, MI   Australia          All Rounder        Right    \n",
       "44           KKR, SRH  Bangladesh          All Rounder          Left   \n",
       "54                NaN       India  Batting All Rounder          Left   \n",
       "\n",
       "        Bowling_Style Batting_Order Capped_or_Uncapped  \n",
       "3   Right Fast Medium       Middle              Capped  \n",
       "44      Left Orthodox        Middle             Capped  \n",
       "54       Right Medium           Top           Uncapped  "
      ]
     },
     "execution_count": 6,
     "metadata": {},
     "output_type": "execute_result"
    }
   ],
   "source": [
    "kkr_all=kkr[kkr['Role'].str.contains('All Rounder')]\n",
    "kkr_all"
   ]
  },
  {
   "cell_type": "markdown",
   "id": "c8a5d2d4",
   "metadata": {},
   "source": [
    "<h2 style=\"text-align:center;\">Analysis - Kolkata Knight Riders </h2>"
   ]
  },
  {
   "cell_type": "markdown",
   "id": "1497bc2a",
   "metadata": {},
   "source": [
    "<h3>Total amount spent during auction (in crores): </h3>"
   ]
  },
  {
   "cell_type": "code",
   "execution_count": 7,
   "id": "c613304e",
   "metadata": {},
   "outputs": [
    {
     "data": {
      "text/plain": [
       "7.55"
      ]
     },
     "execution_count": 7,
     "metadata": {},
     "output_type": "execute_result"
    }
   ],
   "source": [
    "kkr['Price_Paid'].sum()/100"
   ]
  },
  {
   "cell_type": "markdown",
   "id": "773e3142",
   "metadata": {},
   "source": [
    "<h3>Highest bid by Kolkata Knight Riders: </h3>"
   ]
  },
  {
   "cell_type": "code",
   "execution_count": 8,
   "id": "52b4826c",
   "metadata": {},
   "outputs": [
    {
     "data": {
      "text/html": [
       "<div>\n",
       "<style scoped>\n",
       "    .dataframe tbody tr th:only-of-type {\n",
       "        vertical-align: middle;\n",
       "    }\n",
       "\n",
       "    .dataframe tbody tr th {\n",
       "        vertical-align: top;\n",
       "    }\n",
       "\n",
       "    .dataframe thead th {\n",
       "        text-align: right;\n",
       "    }\n",
       "</style>\n",
       "<table border=\"1\" class=\"dataframe\">\n",
       "  <thead>\n",
       "    <tr style=\"text-align: right;\">\n",
       "      <th></th>\n",
       "      <th>Player_Name</th>\n",
       "      <th>Base_Price</th>\n",
       "      <th>Price_Paid</th>\n",
       "      <th>Status</th>\n",
       "      <th>Bought_by</th>\n",
       "      <th>Previous_IPL_Teams</th>\n",
       "      <th>Country</th>\n",
       "      <th>Role</th>\n",
       "      <th>Batting_Style</th>\n",
       "      <th>Bowling_Style</th>\n",
       "      <th>Batting_Order</th>\n",
       "      <th>Capped_or_Uncapped</th>\n",
       "    </tr>\n",
       "  </thead>\n",
       "  <tbody>\n",
       "    <tr>\n",
       "      <th>44</th>\n",
       "      <td>Shakib Al Hasan</td>\n",
       "      <td>200</td>\n",
       "      <td>320</td>\n",
       "      <td>Sold</td>\n",
       "      <td>KKR</td>\n",
       "      <td>KKR, SRH</td>\n",
       "      <td>Bangladesh</td>\n",
       "      <td>All Rounder</td>\n",
       "      <td>Left</td>\n",
       "      <td>Left Orthodox</td>\n",
       "      <td>Middle</td>\n",
       "      <td>Capped</td>\n",
       "    </tr>\n",
       "  </tbody>\n",
       "</table>\n",
       "</div>"
      ],
      "text/plain": [
       "        Player_Name  Base_Price  Price_Paid Status Bought_by  \\\n",
       "44  Shakib Al Hasan         200         320   Sold       KKR   \n",
       "\n",
       "   Previous_IPL_Teams     Country         Role Batting_Style  Bowling_Style  \\\n",
       "44           KKR, SRH  Bangladesh  All Rounder          Left  Left Orthodox   \n",
       "\n",
       "   Batting_Order Capped_or_Uncapped  \n",
       "44        Middle             Capped  "
      ]
     },
     "execution_count": 8,
     "metadata": {},
     "output_type": "execute_result"
    }
   ],
   "source": [
    "kkr[kkr['Price_Paid']==kkr['Price_Paid'].max()]"
   ]
  },
  {
   "cell_type": "markdown",
   "id": "36a83b00",
   "metadata": {},
   "source": [
    "<h3>Highest Indian bid by Kolkata Knight Riders: </h3>"
   ]
  },
  {
   "cell_type": "code",
   "execution_count": 9,
   "id": "b3eefbbd",
   "metadata": {},
   "outputs": [
    {
     "data": {
      "text/html": [
       "<div>\n",
       "<style scoped>\n",
       "    .dataframe tbody tr th:only-of-type {\n",
       "        vertical-align: middle;\n",
       "    }\n",
       "\n",
       "    .dataframe tbody tr th {\n",
       "        vertical-align: top;\n",
       "    }\n",
       "\n",
       "    .dataframe thead th {\n",
       "        text-align: right;\n",
       "    }\n",
       "</style>\n",
       "<table border=\"1\" class=\"dataframe\">\n",
       "  <thead>\n",
       "    <tr style=\"text-align: right;\">\n",
       "      <th></th>\n",
       "      <th>Player_Name</th>\n",
       "      <th>Base_Price</th>\n",
       "      <th>Price_Paid</th>\n",
       "      <th>Status</th>\n",
       "      <th>Bought_by</th>\n",
       "      <th>Previous_IPL_Teams</th>\n",
       "      <th>Country</th>\n",
       "      <th>Role</th>\n",
       "      <th>Batting_Style</th>\n",
       "      <th>Bowling_Style</th>\n",
       "      <th>Batting_Order</th>\n",
       "      <th>Capped_or_Uncapped</th>\n",
       "    </tr>\n",
       "  </thead>\n",
       "  <tbody>\n",
       "    <tr>\n",
       "      <th>13</th>\n",
       "      <td>Harbhajan Singh</td>\n",
       "      <td>200</td>\n",
       "      <td>200</td>\n",
       "      <td>Sold</td>\n",
       "      <td>KKR</td>\n",
       "      <td>CSK, MI</td>\n",
       "      <td>India</td>\n",
       "      <td>Spin Bowler</td>\n",
       "      <td>NaN</td>\n",
       "      <td>Right Offbreak</td>\n",
       "      <td>NaN</td>\n",
       "      <td>Capped</td>\n",
       "    </tr>\n",
       "  </tbody>\n",
       "</table>\n",
       "</div>"
      ],
      "text/plain": [
       "        Player_Name  Base_Price  Price_Paid Status Bought_by  \\\n",
       "13  Harbhajan Singh         200         200   Sold       KKR   \n",
       "\n",
       "   Previous_IPL_Teams Country         Role Batting_Style   Bowling_Style  \\\n",
       "13            CSK, MI   India  Spin Bowler           NaN  Right Offbreak   \n",
       "\n",
       "   Batting_Order Capped_or_Uncapped  \n",
       "13           NaN             Capped  "
      ]
     },
     "execution_count": 9,
     "metadata": {},
     "output_type": "execute_result"
    }
   ],
   "source": [
    "kkr[kkr['Price_Paid']==kkr[kkr['Country']=='India']['Price_Paid'].max()]"
   ]
  },
  {
   "cell_type": "markdown",
   "id": "ad45f93e",
   "metadata": {},
   "source": [
    "<h3>Highest Foreign bid by Kolkata Knight Riders: </h3>"
   ]
  },
  {
   "cell_type": "code",
   "execution_count": 10,
   "id": "07cded06",
   "metadata": {},
   "outputs": [
    {
     "data": {
      "text/html": [
       "<div>\n",
       "<style scoped>\n",
       "    .dataframe tbody tr th:only-of-type {\n",
       "        vertical-align: middle;\n",
       "    }\n",
       "\n",
       "    .dataframe tbody tr th {\n",
       "        vertical-align: top;\n",
       "    }\n",
       "\n",
       "    .dataframe thead th {\n",
       "        text-align: right;\n",
       "    }\n",
       "</style>\n",
       "<table border=\"1\" class=\"dataframe\">\n",
       "  <thead>\n",
       "    <tr style=\"text-align: right;\">\n",
       "      <th></th>\n",
       "      <th>Player_Name</th>\n",
       "      <th>Base_Price</th>\n",
       "      <th>Price_Paid</th>\n",
       "      <th>Status</th>\n",
       "      <th>Bought_by</th>\n",
       "      <th>Previous_IPL_Teams</th>\n",
       "      <th>Country</th>\n",
       "      <th>Role</th>\n",
       "      <th>Batting_Style</th>\n",
       "      <th>Bowling_Style</th>\n",
       "      <th>Batting_Order</th>\n",
       "      <th>Capped_or_Uncapped</th>\n",
       "    </tr>\n",
       "  </thead>\n",
       "  <tbody>\n",
       "    <tr>\n",
       "      <th>44</th>\n",
       "      <td>Shakib Al Hasan</td>\n",
       "      <td>200</td>\n",
       "      <td>320</td>\n",
       "      <td>Sold</td>\n",
       "      <td>KKR</td>\n",
       "      <td>KKR, SRH</td>\n",
       "      <td>Bangladesh</td>\n",
       "      <td>All Rounder</td>\n",
       "      <td>Left</td>\n",
       "      <td>Left Orthodox</td>\n",
       "      <td>Middle</td>\n",
       "      <td>Capped</td>\n",
       "    </tr>\n",
       "  </tbody>\n",
       "</table>\n",
       "</div>"
      ],
      "text/plain": [
       "        Player_Name  Base_Price  Price_Paid Status Bought_by  \\\n",
       "44  Shakib Al Hasan         200         320   Sold       KKR   \n",
       "\n",
       "   Previous_IPL_Teams     Country         Role Batting_Style  Bowling_Style  \\\n",
       "44           KKR, SRH  Bangladesh  All Rounder          Left  Left Orthodox   \n",
       "\n",
       "   Batting_Order Capped_or_Uncapped  \n",
       "44        Middle             Capped  "
      ]
     },
     "execution_count": 10,
     "metadata": {},
     "output_type": "execute_result"
    }
   ],
   "source": [
    "kkr[kkr['Price_Paid']==kkr[kkr['Country']!='India']['Price_Paid'].max()]"
   ]
  },
  {
   "cell_type": "markdown",
   "id": "b42a07bb",
   "metadata": {},
   "source": [
    "<h3>Amount Spent on each Department (in crores): </h3>"
   ]
  },
  {
   "cell_type": "code",
   "execution_count": 11,
   "id": "924f619c",
   "metadata": {},
   "outputs": [
    {
     "name": "stdout",
     "output_type": "stream",
     "text": [
      "Role\n",
      "All Rounder              3.95\n",
      "Batsman                  0.50\n",
      "Batting All Rounder      0.20\n",
      "Seam Bowler              0.20\n",
      "Spin Bowler              2.50\n",
      "Wicket Keeper Batsman    0.20\n"
     ]
    }
   ],
   "source": [
    "print((kkr.groupby('Role')['Price_Paid'].sum()/100).to_string())"
   ]
  },
  {
   "cell_type": "markdown",
   "id": "7d5bd767",
   "metadata": {},
   "source": [
    "<h3>Highest batsman bid by Kolkata Knight Riders:  </h3>"
   ]
  },
  {
   "cell_type": "code",
   "execution_count": 12,
   "id": "a8f3842a",
   "metadata": {},
   "outputs": [
    {
     "data": {
      "text/html": [
       "<div>\n",
       "<style scoped>\n",
       "    .dataframe tbody tr th:only-of-type {\n",
       "        vertical-align: middle;\n",
       "    }\n",
       "\n",
       "    .dataframe tbody tr th {\n",
       "        vertical-align: top;\n",
       "    }\n",
       "\n",
       "    .dataframe thead th {\n",
       "        text-align: right;\n",
       "    }\n",
       "</style>\n",
       "<table border=\"1\" class=\"dataframe\">\n",
       "  <thead>\n",
       "    <tr style=\"text-align: right;\">\n",
       "      <th></th>\n",
       "      <th>Player_Name</th>\n",
       "      <th>Base_Price</th>\n",
       "      <th>Price_Paid</th>\n",
       "      <th>Status</th>\n",
       "      <th>Bought_by</th>\n",
       "      <th>Previous_IPL_Teams</th>\n",
       "      <th>Country</th>\n",
       "      <th>Role</th>\n",
       "      <th>Batting_Style</th>\n",
       "      <th>Bowling_Style</th>\n",
       "      <th>Batting_Order</th>\n",
       "      <th>Capped_or_Uncapped</th>\n",
       "    </tr>\n",
       "  </thead>\n",
       "  <tbody>\n",
       "    <tr>\n",
       "      <th>19</th>\n",
       "      <td>Karun Nair</td>\n",
       "      <td>50</td>\n",
       "      <td>50</td>\n",
       "      <td>Sold</td>\n",
       "      <td>KKR</td>\n",
       "      <td>RCB, DC, PBKS, RR</td>\n",
       "      <td>India</td>\n",
       "      <td>Batsman</td>\n",
       "      <td>Right</td>\n",
       "      <td>NaN</td>\n",
       "      <td>Middle</td>\n",
       "      <td>Capped</td>\n",
       "    </tr>\n",
       "  </tbody>\n",
       "</table>\n",
       "</div>"
      ],
      "text/plain": [
       "   Player_Name  Base_Price  Price_Paid Status Bought_by Previous_IPL_Teams  \\\n",
       "19  Karun Nair          50          50   Sold       KKR  RCB, DC, PBKS, RR   \n",
       "\n",
       "   Country     Role Batting_Style Bowling_Style Batting_Order  \\\n",
       "19   India  Batsman        Right            NaN        Middle   \n",
       "\n",
       "   Capped_or_Uncapped  \n",
       "19             Capped  "
      ]
     },
     "execution_count": 12,
     "metadata": {},
     "output_type": "execute_result"
    }
   ],
   "source": [
    "kkr_bats[kkr_bats['Price_Paid']==kkr_bats['Price_Paid'].max()]"
   ]
  },
  {
   "cell_type": "markdown",
   "id": "e59b1e5c",
   "metadata": {},
   "source": [
    "<h3>Highest bowler bid by Kolkata Knight Riders: </h3>"
   ]
  },
  {
   "cell_type": "code",
   "execution_count": 13,
   "id": "f7d005fb",
   "metadata": {},
   "outputs": [
    {
     "data": {
      "text/html": [
       "<div>\n",
       "<style scoped>\n",
       "    .dataframe tbody tr th:only-of-type {\n",
       "        vertical-align: middle;\n",
       "    }\n",
       "\n",
       "    .dataframe tbody tr th {\n",
       "        vertical-align: top;\n",
       "    }\n",
       "\n",
       "    .dataframe thead th {\n",
       "        text-align: right;\n",
       "    }\n",
       "</style>\n",
       "<table border=\"1\" class=\"dataframe\">\n",
       "  <thead>\n",
       "    <tr style=\"text-align: right;\">\n",
       "      <th></th>\n",
       "      <th>Player_Name</th>\n",
       "      <th>Base_Price</th>\n",
       "      <th>Price_Paid</th>\n",
       "      <th>Status</th>\n",
       "      <th>Bought_by</th>\n",
       "      <th>Previous_IPL_Teams</th>\n",
       "      <th>Country</th>\n",
       "      <th>Role</th>\n",
       "      <th>Batting_Style</th>\n",
       "      <th>Bowling_Style</th>\n",
       "      <th>Batting_Order</th>\n",
       "      <th>Capped_or_Uncapped</th>\n",
       "    </tr>\n",
       "  </thead>\n",
       "  <tbody>\n",
       "    <tr>\n",
       "      <th>13</th>\n",
       "      <td>Harbhajan Singh</td>\n",
       "      <td>200</td>\n",
       "      <td>200</td>\n",
       "      <td>Sold</td>\n",
       "      <td>KKR</td>\n",
       "      <td>CSK, MI</td>\n",
       "      <td>India</td>\n",
       "      <td>Spin Bowler</td>\n",
       "      <td>NaN</td>\n",
       "      <td>Right Offbreak</td>\n",
       "      <td>NaN</td>\n",
       "      <td>Capped</td>\n",
       "    </tr>\n",
       "  </tbody>\n",
       "</table>\n",
       "</div>"
      ],
      "text/plain": [
       "        Player_Name  Base_Price  Price_Paid Status Bought_by  \\\n",
       "13  Harbhajan Singh         200         200   Sold       KKR   \n",
       "\n",
       "   Previous_IPL_Teams Country         Role Batting_Style   Bowling_Style  \\\n",
       "13            CSK, MI   India  Spin Bowler           NaN  Right Offbreak   \n",
       "\n",
       "   Batting_Order Capped_or_Uncapped  \n",
       "13           NaN             Capped  "
      ]
     },
     "execution_count": 13,
     "metadata": {},
     "output_type": "execute_result"
    }
   ],
   "source": [
    "kkr_bowl[kkr_bowl['Price_Paid']==kkr_bowl['Price_Paid'].max()]"
   ]
  },
  {
   "cell_type": "markdown",
   "id": "f825ce6c",
   "metadata": {},
   "source": [
    "<h3>Highest All Rounder bid by Kolkata Knight Riders: </h3>"
   ]
  },
  {
   "cell_type": "code",
   "execution_count": 14,
   "id": "d29b7bfa",
   "metadata": {},
   "outputs": [
    {
     "data": {
      "text/html": [
       "<div>\n",
       "<style scoped>\n",
       "    .dataframe tbody tr th:only-of-type {\n",
       "        vertical-align: middle;\n",
       "    }\n",
       "\n",
       "    .dataframe tbody tr th {\n",
       "        vertical-align: top;\n",
       "    }\n",
       "\n",
       "    .dataframe thead th {\n",
       "        text-align: right;\n",
       "    }\n",
       "</style>\n",
       "<table border=\"1\" class=\"dataframe\">\n",
       "  <thead>\n",
       "    <tr style=\"text-align: right;\">\n",
       "      <th></th>\n",
       "      <th>Player_Name</th>\n",
       "      <th>Base_Price</th>\n",
       "      <th>Price_Paid</th>\n",
       "      <th>Status</th>\n",
       "      <th>Bought_by</th>\n",
       "      <th>Previous_IPL_Teams</th>\n",
       "      <th>Country</th>\n",
       "      <th>Role</th>\n",
       "      <th>Batting_Style</th>\n",
       "      <th>Bowling_Style</th>\n",
       "      <th>Batting_Order</th>\n",
       "      <th>Capped_or_Uncapped</th>\n",
       "    </tr>\n",
       "  </thead>\n",
       "  <tbody>\n",
       "    <tr>\n",
       "      <th>44</th>\n",
       "      <td>Shakib Al Hasan</td>\n",
       "      <td>200</td>\n",
       "      <td>320</td>\n",
       "      <td>Sold</td>\n",
       "      <td>KKR</td>\n",
       "      <td>KKR, SRH</td>\n",
       "      <td>Bangladesh</td>\n",
       "      <td>All Rounder</td>\n",
       "      <td>Left</td>\n",
       "      <td>Left Orthodox</td>\n",
       "      <td>Middle</td>\n",
       "      <td>Capped</td>\n",
       "    </tr>\n",
       "  </tbody>\n",
       "</table>\n",
       "</div>"
      ],
      "text/plain": [
       "        Player_Name  Base_Price  Price_Paid Status Bought_by  \\\n",
       "44  Shakib Al Hasan         200         320   Sold       KKR   \n",
       "\n",
       "   Previous_IPL_Teams     Country         Role Batting_Style  Bowling_Style  \\\n",
       "44           KKR, SRH  Bangladesh  All Rounder          Left  Left Orthodox   \n",
       "\n",
       "   Batting_Order Capped_or_Uncapped  \n",
       "44        Middle             Capped  "
      ]
     },
     "execution_count": 14,
     "metadata": {},
     "output_type": "execute_result"
    }
   ],
   "source": [
    "kkr_all[kkr_all['Price_Paid']==kkr_all['Price_Paid'].max()]"
   ]
  },
  {
   "cell_type": "markdown",
   "id": "309ea321",
   "metadata": {},
   "source": [
    "<h3>Highest Capped bid by Kolkata Knight Riders: </h3>"
   ]
  },
  {
   "cell_type": "code",
   "execution_count": 15,
   "id": "919073a6",
   "metadata": {},
   "outputs": [
    {
     "data": {
      "text/html": [
       "<div>\n",
       "<style scoped>\n",
       "    .dataframe tbody tr th:only-of-type {\n",
       "        vertical-align: middle;\n",
       "    }\n",
       "\n",
       "    .dataframe tbody tr th {\n",
       "        vertical-align: top;\n",
       "    }\n",
       "\n",
       "    .dataframe thead th {\n",
       "        text-align: right;\n",
       "    }\n",
       "</style>\n",
       "<table border=\"1\" class=\"dataframe\">\n",
       "  <thead>\n",
       "    <tr style=\"text-align: right;\">\n",
       "      <th></th>\n",
       "      <th>Player_Name</th>\n",
       "      <th>Base_Price</th>\n",
       "      <th>Price_Paid</th>\n",
       "      <th>Status</th>\n",
       "      <th>Bought_by</th>\n",
       "      <th>Previous_IPL_Teams</th>\n",
       "      <th>Country</th>\n",
       "      <th>Role</th>\n",
       "      <th>Batting_Style</th>\n",
       "      <th>Bowling_Style</th>\n",
       "      <th>Batting_Order</th>\n",
       "      <th>Capped_or_Uncapped</th>\n",
       "    </tr>\n",
       "  </thead>\n",
       "  <tbody>\n",
       "    <tr>\n",
       "      <th>44</th>\n",
       "      <td>Shakib Al Hasan</td>\n",
       "      <td>200</td>\n",
       "      <td>320</td>\n",
       "      <td>Sold</td>\n",
       "      <td>KKR</td>\n",
       "      <td>KKR, SRH</td>\n",
       "      <td>Bangladesh</td>\n",
       "      <td>All Rounder</td>\n",
       "      <td>Left</td>\n",
       "      <td>Left Orthodox</td>\n",
       "      <td>Middle</td>\n",
       "      <td>Capped</td>\n",
       "    </tr>\n",
       "  </tbody>\n",
       "</table>\n",
       "</div>"
      ],
      "text/plain": [
       "        Player_Name  Base_Price  Price_Paid Status Bought_by  \\\n",
       "44  Shakib Al Hasan         200         320   Sold       KKR   \n",
       "\n",
       "   Previous_IPL_Teams     Country         Role Batting_Style  Bowling_Style  \\\n",
       "44           KKR, SRH  Bangladesh  All Rounder          Left  Left Orthodox   \n",
       "\n",
       "   Batting_Order Capped_or_Uncapped  \n",
       "44        Middle             Capped  "
      ]
     },
     "execution_count": 15,
     "metadata": {},
     "output_type": "execute_result"
    }
   ],
   "source": [
    "kkr[kkr['Price_Paid']==kkr[kkr['Capped_or_Uncapped']=='Capped']['Price_Paid'].max()]"
   ]
  },
  {
   "cell_type": "markdown",
   "id": "cdb38b08",
   "metadata": {},
   "source": [
    "<h3>Highest Uncapped bid by Kolkata Knight Riders: </h3>"
   ]
  },
  {
   "cell_type": "code",
   "execution_count": 16,
   "id": "28a7b897",
   "metadata": {},
   "outputs": [
    {
     "data": {
      "text/html": [
       "<div>\n",
       "<style scoped>\n",
       "    .dataframe tbody tr th:only-of-type {\n",
       "        vertical-align: middle;\n",
       "    }\n",
       "\n",
       "    .dataframe tbody tr th {\n",
       "        vertical-align: top;\n",
       "    }\n",
       "\n",
       "    .dataframe thead th {\n",
       "        text-align: right;\n",
       "    }\n",
       "</style>\n",
       "<table border=\"1\" class=\"dataframe\">\n",
       "  <thead>\n",
       "    <tr style=\"text-align: right;\">\n",
       "      <th></th>\n",
       "      <th>Player_Name</th>\n",
       "      <th>Base_Price</th>\n",
       "      <th>Price_Paid</th>\n",
       "      <th>Status</th>\n",
       "      <th>Bought_by</th>\n",
       "      <th>Previous_IPL_Teams</th>\n",
       "      <th>Country</th>\n",
       "      <th>Role</th>\n",
       "      <th>Batting_Style</th>\n",
       "      <th>Bowling_Style</th>\n",
       "      <th>Batting_Order</th>\n",
       "      <th>Capped_or_Uncapped</th>\n",
       "    </tr>\n",
       "  </thead>\n",
       "  <tbody>\n",
       "    <tr>\n",
       "      <th>45</th>\n",
       "      <td>Sheldon Jackson</td>\n",
       "      <td>20</td>\n",
       "      <td>20</td>\n",
       "      <td>Sold</td>\n",
       "      <td>KKR</td>\n",
       "      <td>RCB, KKR</td>\n",
       "      <td>India</td>\n",
       "      <td>Wicket Keeper Batsman</td>\n",
       "      <td>Right</td>\n",
       "      <td>NaN</td>\n",
       "      <td>Top</td>\n",
       "      <td>Uncapped</td>\n",
       "    </tr>\n",
       "    <tr>\n",
       "      <th>53</th>\n",
       "      <td>Vaibhav Arora</td>\n",
       "      <td>20</td>\n",
       "      <td>20</td>\n",
       "      <td>Sold</td>\n",
       "      <td>KKR</td>\n",
       "      <td>NaN</td>\n",
       "      <td>India</td>\n",
       "      <td>Seam Bowler</td>\n",
       "      <td>NaN</td>\n",
       "      <td>Right Fast Medium</td>\n",
       "      <td>NaN</td>\n",
       "      <td>Uncapped</td>\n",
       "    </tr>\n",
       "    <tr>\n",
       "      <th>54</th>\n",
       "      <td>Venkatesh Iyer</td>\n",
       "      <td>20</td>\n",
       "      <td>20</td>\n",
       "      <td>Sold</td>\n",
       "      <td>KKR</td>\n",
       "      <td>NaN</td>\n",
       "      <td>India</td>\n",
       "      <td>Batting All Rounder</td>\n",
       "      <td>Left</td>\n",
       "      <td>Right Medium</td>\n",
       "      <td>Top</td>\n",
       "      <td>Uncapped</td>\n",
       "    </tr>\n",
       "  </tbody>\n",
       "</table>\n",
       "</div>"
      ],
      "text/plain": [
       "        Player_Name  Base_Price  Price_Paid Status Bought_by  \\\n",
       "45  Sheldon Jackson          20          20   Sold       KKR   \n",
       "53    Vaibhav Arora          20          20   Sold       KKR   \n",
       "54   Venkatesh Iyer          20          20   Sold       KKR   \n",
       "\n",
       "   Previous_IPL_Teams Country                   Role Batting_Style  \\\n",
       "45           RCB, KKR   India  Wicket Keeper Batsman        Right    \n",
       "53                NaN   India            Seam Bowler           NaN   \n",
       "54                NaN   India    Batting All Rounder          Left   \n",
       "\n",
       "        Bowling_Style Batting_Order Capped_or_Uncapped  \n",
       "45                NaN           Top           Uncapped  \n",
       "53  Right Fast Medium           NaN           Uncapped  \n",
       "54       Right Medium           Top           Uncapped  "
      ]
     },
     "execution_count": 16,
     "metadata": {},
     "output_type": "execute_result"
    }
   ],
   "source": [
    "kkr[kkr['Price_Paid']==kkr[kkr['Capped_or_Uncapped']=='Uncapped']['Price_Paid'].max()]"
   ]
  },
  {
   "cell_type": "markdown",
   "id": "2138797d",
   "metadata": {},
   "source": [
    "<h3>Visualization of distribution of Amount spent by RCB on each department: </h3>"
   ]
  },
  {
   "cell_type": "code",
   "execution_count": 17,
   "id": "3735d746",
   "metadata": {},
   "outputs": [
    {
     "data": {
      "image/png": "[encoded data removed]",
      "text/plain": [
       "<Figure size 1080x720 with 1 Axes>"
      ]
     },
     "metadata": {},
     "output_type": "display_data"
    }
   ],
   "source": [
    "kkr.groupby(['Role']).sum().plot(kind='pie', y='Price_Paid', autopct=\"%.2f%%\", figsize=(15,10), title=\"Distribution of Amount spent by KKR0 on each department\").legend(loc='upper right');"
   ]
  },
  {
   "cell_type": "markdown",
   "id": "fdafb8b3",
   "metadata": {},
   "source": [
    "<h3>No. of IPL Experienced and inexperienced Players bought by Kolkata Knight Riders: </h3>"
   ]
  },
  {
   "cell_type": "code",
   "execution_count": 18,
   "id": "19d275ea",
   "metadata": {},
   "outputs": [
    {
     "name": "stdout",
     "output_type": "stream",
     "text": [
      "Experienced Players:      6\n",
      "Inexperienced Players:    2\n"
     ]
    }
   ],
   "source": [
    "print(\"Experienced Players:     \",kkr[pd.notnull(kkr['Previous_IPL_Teams'])].shape[0])\n",
    "print(\"Inexperienced Players:   \",kkr[pd.isnull(kkr['Previous_IPL_Teams'])].shape[0])"
   ]
  },
  {
   "cell_type": "markdown",
   "id": "0b78fb07",
   "metadata": {},
   "source": [
    "<h3>No. of Internationally Experienced and inexperienced Players bought by Kolkata Knight Riders:   </h3>"
   ]
  },
  {
   "cell_type": "code",
   "execution_count": 19,
   "id": "0ba6ebdc",
   "metadata": {},
   "outputs": [
    {
     "name": "stdout",
     "output_type": "stream",
     "text": [
      "Experienced Players:      5\n",
      "Inexperienced Players:    3\n"
     ]
    }
   ],
   "source": [
    "print(\"Experienced Players:     \",kkr[kkr['Capped_or_Uncapped']=='Capped'].shape[0])\n",
    "print(\"Inexperienced Players:   \",kkr[kkr['Capped_or_Uncapped']=='Uncapped'].shape[0])"
   ]
  },
  {
   "cell_type": "markdown",
   "id": "68d7c7eb",
   "metadata": {},
   "source": [
    "<h3>No. of players bought at</h3>"
   ]
  },
  {
   "cell_type": "code",
   "execution_count": 20,
   "id": "80302a0c",
   "metadata": {},
   "outputs": [
    {
     "name": "stdout",
     "output_type": "stream",
     "text": [
      "Base Price:            7\n",
      "More than Base Price:  1\n"
     ]
    }
   ],
   "source": [
    "print(\"Base Price:           \",kkr[kkr['Price_Paid']==kkr['Base_Price']].shape[0])\n",
    "print(\"More than Base Price: \",kkr[kkr['Price_Paid']!=kkr['Base_Price']].shape[0])"
   ]
  },
  {
   "cell_type": "code",
   "execution_count": null,
   "id": "18183354",
   "metadata": {},
   "outputs": [],
   "source": []
  }
 ],
 "metadata": {
  "kernelspec": {
   "display_name": "Python 3 (ipykernel)",
   "language": "python",
   "name": "python3"
  },
  "language_info": {
   "codemirror_mode": {
    "name": "ipython",
    "version": 3
   },
   "file_extension": ".py",
   "mimetype": "text/x-python",
   "name": "python",
   "nbconvert_exporter": "python",
   "pygments_lexer": "ipython3",
   "version": "3.9.5"
  }
 },
 "nbformat": 4,
 "nbformat_minor": 5
}
