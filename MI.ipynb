{
 "cells": [
  {
   "cell_type": "markdown",
   "id": "fda08e97",
   "metadata": {},
   "source": [
    "<h1 style=\"text-align:center;\">Mumbai Indians (MI)</h1>"
   ]
  },
  {
   "cell_type": "markdown",
   "id": "3c725ad6",
   "metadata": {},
   "source": [
    "<p style=\"text-align:center;\"><img src=\"https://www.insidesport.in/wp-content/uploads/2021/03/Mumbai-Indians-MI-squad.jpg\" width=700px height=300px></p> "
   ]
  },
  {
   "cell_type": "code",
   "execution_count": 1,
   "id": "ff6533d1",
   "metadata": {},
   "outputs": [],
   "source": [
    "import pandas as pd\n",
    "import numpy as np\n",
    "import matplotlib.pyplot as plt\n",
    "\n",
    "data=pd.read_csv(\"./PROJECT_IPL_1_Edited.csv\")\n",
    "data.rename(columns={'Player Name':'Player_Name','Base Price (in Lakhs Rupees)':'Base_Price','Price Paid (in Lakhs Rupees)':'Price_Paid','Status':'Status','Bought by':'Bought_by','Previous IPL Teams':'Previous_IPL_Teams','Country':'Country','Role':'Role','Batting Style':'Batting_Style','Bowling Style':'Bowling_Style','Batting Order':'Batting_Order','Capped or Uncapped at Internationals (during Auction)':'Capped_or_Uncapped'},inplace='True')\n",
    "data.loc[data[\"Role\"] == \"Fast Bowler\", \"Role\"] = \"Seam Bowler\"\n"
   ]
  },
  {
   "cell_type": "markdown",
   "id": "7de20bcc",
   "metadata": {},
   "source": [
    "<h2 style=\"text-align:center;\"> Listing out players bought by MI </h2>"
   ]
  },
  {
   "cell_type": "code",
   "execution_count": 2,
   "id": "268e6f70",
   "metadata": {},
   "outputs": [
    {
     "data": {
      "text/html": [
       "<div>\n",
       "<style scoped>\n",
       "    .dataframe tbody tr th:only-of-type {\n",
       "        vertical-align: middle;\n",
       "    }\n",
       "\n",
       "    .dataframe tbody tr th {\n",
       "        vertical-align: top;\n",
       "    }\n",
       "\n",
       "    .dataframe thead th {\n",
       "        text-align: right;\n",
       "    }\n",
       "</style>\n",
       "<table border=\"1\" class=\"dataframe\">\n",
       "  <thead>\n",
       "    <tr style=\"text-align: right;\">\n",
       "      <th></th>\n",
       "      <th>Player_Name</th>\n",
       "      <th>Base_Price</th>\n",
       "      <th>Price_Paid</th>\n",
       "      <th>Status</th>\n",
       "      <th>Bought_by</th>\n",
       "      <th>Previous_IPL_Teams</th>\n",
       "      <th>Country</th>\n",
       "      <th>Role</th>\n",
       "      <th>Batting_Style</th>\n",
       "      <th>Bowling_Style</th>\n",
       "      <th>Batting_Order</th>\n",
       "      <th>Capped_or_Uncapped</th>\n",
       "    </tr>\n",
       "  </thead>\n",
       "  <tbody>\n",
       "    <tr>\n",
       "      <th>0</th>\n",
       "      <td>Adam Milne</td>\n",
       "      <td>50</td>\n",
       "      <td>320</td>\n",
       "      <td>Sold</td>\n",
       "      <td>MI</td>\n",
       "      <td>RCB</td>\n",
       "      <td>New Zealand</td>\n",
       "      <td>Seam Bowler</td>\n",
       "      <td>NaN</td>\n",
       "      <td>Right Fast</td>\n",
       "      <td>NaN</td>\n",
       "      <td>Capped</td>\n",
       "    </tr>\n",
       "    <tr>\n",
       "      <th>2</th>\n",
       "      <td>Arjun Tendulkar</td>\n",
       "      <td>20</td>\n",
       "      <td>20</td>\n",
       "      <td>Sold</td>\n",
       "      <td>MI</td>\n",
       "      <td>NaN</td>\n",
       "      <td>India</td>\n",
       "      <td>Seam Bowler</td>\n",
       "      <td>NaN</td>\n",
       "      <td>Left Medium Fast</td>\n",
       "      <td>NaN</td>\n",
       "      <td>Uncapped</td>\n",
       "    </tr>\n",
       "    <tr>\n",
       "      <th>17</th>\n",
       "      <td>James Neesham</td>\n",
       "      <td>50</td>\n",
       "      <td>50</td>\n",
       "      <td>Sold</td>\n",
       "      <td>MI</td>\n",
       "      <td>DC, PBKS, KKR</td>\n",
       "      <td>New Zealand</td>\n",
       "      <td>Batting All Rounder</td>\n",
       "      <td>Left</td>\n",
       "      <td>Right Medium</td>\n",
       "      <td>Middle</td>\n",
       "      <td>Capped</td>\n",
       "    </tr>\n",
       "    <tr>\n",
       "      <th>28</th>\n",
       "      <td>Marco Jansen</td>\n",
       "      <td>20</td>\n",
       "      <td>20</td>\n",
       "      <td>Sold</td>\n",
       "      <td>MI</td>\n",
       "      <td>NaN</td>\n",
       "      <td>South Africa</td>\n",
       "      <td>Bowling All Rounder</td>\n",
       "      <td>Right</td>\n",
       "      <td>Left Fast</td>\n",
       "      <td>Lower</td>\n",
       "      <td>Uncapped</td>\n",
       "    </tr>\n",
       "    <tr>\n",
       "      <th>34</th>\n",
       "      <td>Nathan Coulter-Nile</td>\n",
       "      <td>150</td>\n",
       "      <td>500</td>\n",
       "      <td>Sold</td>\n",
       "      <td>MI</td>\n",
       "      <td>MI, DC, KKR, RCB</td>\n",
       "      <td>Australia</td>\n",
       "      <td>Bowling All Rounder</td>\n",
       "      <td>Right</td>\n",
       "      <td>Right Fast</td>\n",
       "      <td>Lower</td>\n",
       "      <td>Capped</td>\n",
       "    </tr>\n",
       "    <tr>\n",
       "      <th>36</th>\n",
       "      <td>Piyush Chawla</td>\n",
       "      <td>50</td>\n",
       "      <td>240</td>\n",
       "      <td>Sold</td>\n",
       "      <td>MI</td>\n",
       "      <td>KKR, PBKS, CSK</td>\n",
       "      <td>India</td>\n",
       "      <td>Bowling All Rounder</td>\n",
       "      <td>Left</td>\n",
       "      <td>Right Legbreak</td>\n",
       "      <td>Lower</td>\n",
       "      <td>Capped</td>\n",
       "    </tr>\n",
       "    <tr>\n",
       "      <th>56</th>\n",
       "      <td>Yudhvir Charak</td>\n",
       "      <td>20</td>\n",
       "      <td>20</td>\n",
       "      <td>Sold</td>\n",
       "      <td>MI</td>\n",
       "      <td>NaN</td>\n",
       "      <td>India</td>\n",
       "      <td>Seam Bowler</td>\n",
       "      <td>NaN</td>\n",
       "      <td>Right Medium Fast</td>\n",
       "      <td>NaN</td>\n",
       "      <td>Uncapped</td>\n",
       "    </tr>\n",
       "  </tbody>\n",
       "</table>\n",
       "</div>"
      ],
      "text/plain": [
       "            Player_Name  Base_Price  Price_Paid Status Bought_by  \\\n",
       "0            Adam Milne          50         320   Sold        MI   \n",
       "2       Arjun Tendulkar          20          20   Sold        MI   \n",
       "17        James Neesham          50          50   Sold        MI   \n",
       "28         Marco Jansen          20          20   Sold        MI   \n",
       "34  Nathan Coulter-Nile         150         500   Sold        MI   \n",
       "36        Piyush Chawla          50         240   Sold        MI   \n",
       "56       Yudhvir Charak          20          20   Sold        MI   \n",
       "\n",
       "   Previous_IPL_Teams       Country                 Role Batting_Style  \\\n",
       "0                 RCB   New Zealand          Seam Bowler           NaN   \n",
       "2                 NaN         India          Seam Bowler           NaN   \n",
       "17      DC, PBKS, KKR   New Zealand  Batting All Rounder          Left   \n",
       "28                NaN  South Africa  Bowling All Rounder        Right    \n",
       "34   MI, DC, KKR, RCB     Australia  Bowling All Rounder        Right    \n",
       "36     KKR, PBKS, CSK         India  Bowling All Rounder          Left   \n",
       "56                NaN         India          Seam Bowler           NaN   \n",
       "\n",
       "        Bowling_Style Batting_Order Capped_or_Uncapped  \n",
       "0          Right Fast           NaN             Capped  \n",
       "2    Left Medium Fast           NaN           Uncapped  \n",
       "17       Right Medium        Middle             Capped  \n",
       "28          Left Fast        Lower            Uncapped  \n",
       "34         Right Fast        Lower              Capped  \n",
       "36     Right Legbreak        Lower              Capped  \n",
       "56  Right Medium Fast           NaN           Uncapped  "
      ]
     },
     "execution_count": 2,
     "metadata": {},
     "output_type": "execute_result"
    }
   ],
   "source": [
    "mi=data.groupby('Bought_by').get_group('MI')\n",
    "mi"
   ]
  },
  {
   "cell_type": "markdown",
   "id": "a2692b2f",
   "metadata": {},
   "source": [
    "<h2 style=\"text-align:center;\"> Visualization of Price Paid for players bought by MI </h2>"
   ]
  },
  {
   "cell_type": "code",
   "execution_count": 3,
   "id": "a00bd7d9",
   "metadata": {},
   "outputs": [
    {
     "data": {
      "image/png": "[encoded data removed]",
      "text/plain": [
       "<Figure size 432x288 with 1 Axes>"
      ]
     },
     "metadata": {
      "needs_background": "light"
     },
     "output_type": "display_data"
    }
   ],
   "source": [
    "x=list(mi['Player_Name']);\n",
    "y=list(mi['Price_Paid']);\n",
    "plt.barh(x,y);"
   ]
  },
  {
   "cell_type": "markdown",
   "id": "0272ca6d",
   "metadata": {},
   "source": [
    "<h2 style=\"text-align:center;\">List of Batsmen bought by MI</h2>"
   ]
  },
  {
   "cell_type": "code",
   "execution_count": 4,
   "id": "136d345d",
   "metadata": {},
   "outputs": [
    {
     "data": {
      "text/html": [
       "<div>\n",
       "<style scoped>\n",
       "    .dataframe tbody tr th:only-of-type {\n",
       "        vertical-align: middle;\n",
       "    }\n",
       "\n",
       "    .dataframe tbody tr th {\n",
       "        vertical-align: top;\n",
       "    }\n",
       "\n",
       "    .dataframe thead th {\n",
       "        text-align: right;\n",
       "    }\n",
       "</style>\n",
       "<table border=\"1\" class=\"dataframe\">\n",
       "  <thead>\n",
       "    <tr style=\"text-align: right;\">\n",
       "      <th></th>\n",
       "      <th>Player_Name</th>\n",
       "      <th>Base_Price</th>\n",
       "      <th>Price_Paid</th>\n",
       "      <th>Status</th>\n",
       "      <th>Bought_by</th>\n",
       "      <th>Previous_IPL_Teams</th>\n",
       "      <th>Country</th>\n",
       "      <th>Role</th>\n",
       "      <th>Batting_Style</th>\n",
       "      <th>Bowling_Style</th>\n",
       "      <th>Batting_Order</th>\n",
       "      <th>Capped_or_Uncapped</th>\n",
       "    </tr>\n",
       "  </thead>\n",
       "  <tbody>\n",
       "  </tbody>\n",
       "</table>\n",
       "</div>"
      ],
      "text/plain": [
       "Empty DataFrame\n",
       "Columns: [Player_Name, Base_Price, Price_Paid, Status, Bought_by, Previous_IPL_Teams, Country, Role, Batting_Style, Bowling_Style, Batting_Order, Capped_or_Uncapped]\n",
       "Index: []"
      ]
     },
     "execution_count": 4,
     "metadata": {},
     "output_type": "execute_result"
    }
   ],
   "source": [
    "mi_bats=mi[mi['Role'].str.contains('Batsman')]\n",
    "mi_bats"
   ]
  },
  {
   "cell_type": "markdown",
   "id": "4b0ff9e6",
   "metadata": {},
   "source": [
    "<h2 style=\"text-align:center;\">List of Bowlers bought by MI</h2>"
   ]
  },
  {
   "cell_type": "code",
   "execution_count": 5,
   "id": "80d6637c",
   "metadata": {},
   "outputs": [
    {
     "data": {
      "text/html": [
       "<div>\n",
       "<style scoped>\n",
       "    .dataframe tbody tr th:only-of-type {\n",
       "        vertical-align: middle;\n",
       "    }\n",
       "\n",
       "    .dataframe tbody tr th {\n",
       "        vertical-align: top;\n",
       "    }\n",
       "\n",
       "    .dataframe thead th {\n",
       "        text-align: right;\n",
       "    }\n",
       "</style>\n",
       "<table border=\"1\" class=\"dataframe\">\n",
       "  <thead>\n",
       "    <tr style=\"text-align: right;\">\n",
       "      <th></th>\n",
       "      <th>Player_Name</th>\n",
       "      <th>Base_Price</th>\n",
       "      <th>Price_Paid</th>\n",
       "      <th>Status</th>\n",
       "      <th>Bought_by</th>\n",
       "      <th>Previous_IPL_Teams</th>\n",
       "      <th>Country</th>\n",
       "      <th>Role</th>\n",
       "      <th>Batting_Style</th>\n",
       "      <th>Bowling_Style</th>\n",
       "      <th>Batting_Order</th>\n",
       "      <th>Capped_or_Uncapped</th>\n",
       "    </tr>\n",
       "  </thead>\n",
       "  <tbody>\n",
       "    <tr>\n",
       "      <th>0</th>\n",
       "      <td>Adam Milne</td>\n",
       "      <td>50</td>\n",
       "      <td>320</td>\n",
       "      <td>Sold</td>\n",
       "      <td>MI</td>\n",
       "      <td>RCB</td>\n",
       "      <td>New Zealand</td>\n",
       "      <td>Seam Bowler</td>\n",
       "      <td>NaN</td>\n",
       "      <td>Right Fast</td>\n",
       "      <td>NaN</td>\n",
       "      <td>Capped</td>\n",
       "    </tr>\n",
       "    <tr>\n",
       "      <th>2</th>\n",
       "      <td>Arjun Tendulkar</td>\n",
       "      <td>20</td>\n",
       "      <td>20</td>\n",
       "      <td>Sold</td>\n",
       "      <td>MI</td>\n",
       "      <td>NaN</td>\n",
       "      <td>India</td>\n",
       "      <td>Seam Bowler</td>\n",
       "      <td>NaN</td>\n",
       "      <td>Left Medium Fast</td>\n",
       "      <td>NaN</td>\n",
       "      <td>Uncapped</td>\n",
       "    </tr>\n",
       "    <tr>\n",
       "      <th>56</th>\n",
       "      <td>Yudhvir Charak</td>\n",
       "      <td>20</td>\n",
       "      <td>20</td>\n",
       "      <td>Sold</td>\n",
       "      <td>MI</td>\n",
       "      <td>NaN</td>\n",
       "      <td>India</td>\n",
       "      <td>Seam Bowler</td>\n",
       "      <td>NaN</td>\n",
       "      <td>Right Medium Fast</td>\n",
       "      <td>NaN</td>\n",
       "      <td>Uncapped</td>\n",
       "    </tr>\n",
       "  </tbody>\n",
       "</table>\n",
       "</div>"
      ],
      "text/plain": [
       "        Player_Name  Base_Price  Price_Paid Status Bought_by  \\\n",
       "0        Adam Milne          50         320   Sold        MI   \n",
       "2   Arjun Tendulkar          20          20   Sold        MI   \n",
       "56   Yudhvir Charak          20          20   Sold        MI   \n",
       "\n",
       "   Previous_IPL_Teams      Country         Role Batting_Style  \\\n",
       "0                 RCB  New Zealand  Seam Bowler           NaN   \n",
       "2                 NaN        India  Seam Bowler           NaN   \n",
       "56                NaN        India  Seam Bowler           NaN   \n",
       "\n",
       "        Bowling_Style Batting_Order Capped_or_Uncapped  \n",
       "0          Right Fast           NaN             Capped  \n",
       "2    Left Medium Fast           NaN           Uncapped  \n",
       "56  Right Medium Fast           NaN           Uncapped  "
      ]
     },
     "execution_count": 5,
     "metadata": {},
     "output_type": "execute_result"
    }
   ],
   "source": [
    "mi_bowl=mi[mi['Role'].str.contains('Bowler')]\n",
    "mi_bowl"
   ]
  },
  {
   "cell_type": "markdown",
   "id": "f4caf14b",
   "metadata": {},
   "source": [
    "<h2 style=\"text-align:center;\">List of All Rounders bought by MI</h2>"
   ]
  },
  {
   "cell_type": "code",
   "execution_count": 6,
   "id": "7f22218a",
   "metadata": {},
   "outputs": [
    {
     "data": {
      "text/html": [
       "<div>\n",
       "<style scoped>\n",
       "    .dataframe tbody tr th:only-of-type {\n",
       "        vertical-align: middle;\n",
       "    }\n",
       "\n",
       "    .dataframe tbody tr th {\n",
       "        vertical-align: top;\n",
       "    }\n",
       "\n",
       "    .dataframe thead th {\n",
       "        text-align: right;\n",
       "    }\n",
       "</style>\n",
       "<table border=\"1\" class=\"dataframe\">\n",
       "  <thead>\n",
       "    <tr style=\"text-align: right;\">\n",
       "      <th></th>\n",
       "      <th>Player_Name</th>\n",
       "      <th>Base_Price</th>\n",
       "      <th>Price_Paid</th>\n",
       "      <th>Status</th>\n",
       "      <th>Bought_by</th>\n",
       "      <th>Previous_IPL_Teams</th>\n",
       "      <th>Country</th>\n",
       "      <th>Role</th>\n",
       "      <th>Batting_Style</th>\n",
       "      <th>Bowling_Style</th>\n",
       "      <th>Batting_Order</th>\n",
       "      <th>Capped_or_Uncapped</th>\n",
       "    </tr>\n",
       "  </thead>\n",
       "  <tbody>\n",
       "    <tr>\n",
       "      <th>17</th>\n",
       "      <td>James Neesham</td>\n",
       "      <td>50</td>\n",
       "      <td>50</td>\n",
       "      <td>Sold</td>\n",
       "      <td>MI</td>\n",
       "      <td>DC, PBKS, KKR</td>\n",
       "      <td>New Zealand</td>\n",
       "      <td>Batting All Rounder</td>\n",
       "      <td>Left</td>\n",
       "      <td>Right Medium</td>\n",
       "      <td>Middle</td>\n",
       "      <td>Capped</td>\n",
       "    </tr>\n",
       "    <tr>\n",
       "      <th>28</th>\n",
       "      <td>Marco Jansen</td>\n",
       "      <td>20</td>\n",
       "      <td>20</td>\n",
       "      <td>Sold</td>\n",
       "      <td>MI</td>\n",
       "      <td>NaN</td>\n",
       "      <td>South Africa</td>\n",
       "      <td>Bowling All Rounder</td>\n",
       "      <td>Right</td>\n",
       "      <td>Left Fast</td>\n",
       "      <td>Lower</td>\n",
       "      <td>Uncapped</td>\n",
       "    </tr>\n",
       "    <tr>\n",
       "      <th>34</th>\n",
       "      <td>Nathan Coulter-Nile</td>\n",
       "      <td>150</td>\n",
       "      <td>500</td>\n",
       "      <td>Sold</td>\n",
       "      <td>MI</td>\n",
       "      <td>MI, DC, KKR, RCB</td>\n",
       "      <td>Australia</td>\n",
       "      <td>Bowling All Rounder</td>\n",
       "      <td>Right</td>\n",
       "      <td>Right Fast</td>\n",
       "      <td>Lower</td>\n",
       "      <td>Capped</td>\n",
       "    </tr>\n",
       "    <tr>\n",
       "      <th>36</th>\n",
       "      <td>Piyush Chawla</td>\n",
       "      <td>50</td>\n",
       "      <td>240</td>\n",
       "      <td>Sold</td>\n",
       "      <td>MI</td>\n",
       "      <td>KKR, PBKS, CSK</td>\n",
       "      <td>India</td>\n",
       "      <td>Bowling All Rounder</td>\n",
       "      <td>Left</td>\n",
       "      <td>Right Legbreak</td>\n",
       "      <td>Lower</td>\n",
       "      <td>Capped</td>\n",
       "    </tr>\n",
       "  </tbody>\n",
       "</table>\n",
       "</div>"
      ],
      "text/plain": [
       "            Player_Name  Base_Price  Price_Paid Status Bought_by  \\\n",
       "17        James Neesham          50          50   Sold        MI   \n",
       "28         Marco Jansen          20          20   Sold        MI   \n",
       "34  Nathan Coulter-Nile         150         500   Sold        MI   \n",
       "36        Piyush Chawla          50         240   Sold        MI   \n",
       "\n",
       "   Previous_IPL_Teams       Country                 Role Batting_Style  \\\n",
       "17      DC, PBKS, KKR   New Zealand  Batting All Rounder          Left   \n",
       "28                NaN  South Africa  Bowling All Rounder        Right    \n",
       "34   MI, DC, KKR, RCB     Australia  Bowling All Rounder        Right    \n",
       "36     KKR, PBKS, CSK         India  Bowling All Rounder          Left   \n",
       "\n",
       "     Bowling_Style Batting_Order Capped_or_Uncapped  \n",
       "17    Right Medium        Middle             Capped  \n",
       "28       Left Fast        Lower            Uncapped  \n",
       "34      Right Fast        Lower              Capped  \n",
       "36  Right Legbreak        Lower              Capped  "
      ]
     },
     "execution_count": 6,
     "metadata": {},
     "output_type": "execute_result"
    }
   ],
   "source": [
    "mi_all=mi[mi['Role'].str.contains('All Rounder')]\n",
    "mi_all"
   ]
  },
  {
   "cell_type": "markdown",
   "id": "3c88cfbb",
   "metadata": {},
   "source": [
    "<h2 style=\"text-align:center;\">Analysis - Mumbai Indians </h2>"
   ]
  },
  {
   "cell_type": "markdown",
   "id": "98e0298e",
   "metadata": {},
   "source": [
    "<h3>Total amount spent during auction (in crores): </h3>"
   ]
  },
  {
   "cell_type": "code",
   "execution_count": 7,
   "id": "8d6504d1",
   "metadata": {},
   "outputs": [
    {
     "data": {
      "text/plain": [
       "11.7"
      ]
     },
     "execution_count": 7,
     "metadata": {},
     "output_type": "execute_result"
    }
   ],
   "source": [
    "mi['Price_Paid'].sum()/100"
   ]
  },
  {
   "cell_type": "markdown",
   "id": "daf7d763",
   "metadata": {},
   "source": [
    "<h3>Highest bid by Mumbai Indians: </h3>"
   ]
  },
  {
   "cell_type": "code",
   "execution_count": 8,
   "id": "e4caf04b",
   "metadata": {},
   "outputs": [
    {
     "data": {
      "text/html": [
       "<div>\n",
       "<style scoped>\n",
       "    .dataframe tbody tr th:only-of-type {\n",
       "        vertical-align: middle;\n",
       "    }\n",
       "\n",
       "    .dataframe tbody tr th {\n",
       "        vertical-align: top;\n",
       "    }\n",
       "\n",
       "    .dataframe thead th {\n",
       "        text-align: right;\n",
       "    }\n",
       "</style>\n",
       "<table border=\"1\" class=\"dataframe\">\n",
       "  <thead>\n",
       "    <tr style=\"text-align: right;\">\n",
       "      <th></th>\n",
       "      <th>Player_Name</th>\n",
       "      <th>Base_Price</th>\n",
       "      <th>Price_Paid</th>\n",
       "      <th>Status</th>\n",
       "      <th>Bought_by</th>\n",
       "      <th>Previous_IPL_Teams</th>\n",
       "      <th>Country</th>\n",
       "      <th>Role</th>\n",
       "      <th>Batting_Style</th>\n",
       "      <th>Bowling_Style</th>\n",
       "      <th>Batting_Order</th>\n",
       "      <th>Capped_or_Uncapped</th>\n",
       "    </tr>\n",
       "  </thead>\n",
       "  <tbody>\n",
       "    <tr>\n",
       "      <th>34</th>\n",
       "      <td>Nathan Coulter-Nile</td>\n",
       "      <td>150</td>\n",
       "      <td>500</td>\n",
       "      <td>Sold</td>\n",
       "      <td>MI</td>\n",
       "      <td>MI, DC, KKR, RCB</td>\n",
       "      <td>Australia</td>\n",
       "      <td>Bowling All Rounder</td>\n",
       "      <td>Right</td>\n",
       "      <td>Right Fast</td>\n",
       "      <td>Lower</td>\n",
       "      <td>Capped</td>\n",
       "    </tr>\n",
       "  </tbody>\n",
       "</table>\n",
       "</div>"
      ],
      "text/plain": [
       "            Player_Name  Base_Price  Price_Paid Status Bought_by  \\\n",
       "34  Nathan Coulter-Nile         150         500   Sold        MI   \n",
       "\n",
       "   Previous_IPL_Teams    Country                 Role Batting_Style  \\\n",
       "34   MI, DC, KKR, RCB  Australia  Bowling All Rounder        Right    \n",
       "\n",
       "   Bowling_Style Batting_Order Capped_or_Uncapped  \n",
       "34    Right Fast        Lower              Capped  "
      ]
     },
     "execution_count": 8,
     "metadata": {},
     "output_type": "execute_result"
    }
   ],
   "source": [
    "mi[mi['Price_Paid']==mi['Price_Paid'].max()]"
   ]
  },
  {
   "cell_type": "markdown",
   "id": "a7687c75",
   "metadata": {},
   "source": [
    "<h3>Highest Indian bid by Mumbai Indians: </h3>"
   ]
  },
  {
   "cell_type": "code",
   "execution_count": 9,
   "id": "2cfc14c4",
   "metadata": {},
   "outputs": [
    {
     "data": {
      "text/html": [
       "<div>\n",
       "<style scoped>\n",
       "    .dataframe tbody tr th:only-of-type {\n",
       "        vertical-align: middle;\n",
       "    }\n",
       "\n",
       "    .dataframe tbody tr th {\n",
       "        vertical-align: top;\n",
       "    }\n",
       "\n",
       "    .dataframe thead th {\n",
       "        text-align: right;\n",
       "    }\n",
       "</style>\n",
       "<table border=\"1\" class=\"dataframe\">\n",
       "  <thead>\n",
       "    <tr style=\"text-align: right;\">\n",
       "      <th></th>\n",
       "      <th>Player_Name</th>\n",
       "      <th>Base_Price</th>\n",
       "      <th>Price_Paid</th>\n",
       "      <th>Status</th>\n",
       "      <th>Bought_by</th>\n",
       "      <th>Previous_IPL_Teams</th>\n",
       "      <th>Country</th>\n",
       "      <th>Role</th>\n",
       "      <th>Batting_Style</th>\n",
       "      <th>Bowling_Style</th>\n",
       "      <th>Batting_Order</th>\n",
       "      <th>Capped_or_Uncapped</th>\n",
       "    </tr>\n",
       "  </thead>\n",
       "  <tbody>\n",
       "    <tr>\n",
       "      <th>36</th>\n",
       "      <td>Piyush Chawla</td>\n",
       "      <td>50</td>\n",
       "      <td>240</td>\n",
       "      <td>Sold</td>\n",
       "      <td>MI</td>\n",
       "      <td>KKR, PBKS, CSK</td>\n",
       "      <td>India</td>\n",
       "      <td>Bowling All Rounder</td>\n",
       "      <td>Left</td>\n",
       "      <td>Right Legbreak</td>\n",
       "      <td>Lower</td>\n",
       "      <td>Capped</td>\n",
       "    </tr>\n",
       "  </tbody>\n",
       "</table>\n",
       "</div>"
      ],
      "text/plain": [
       "      Player_Name  Base_Price  Price_Paid Status Bought_by Previous_IPL_Teams  \\\n",
       "36  Piyush Chawla          50         240   Sold        MI     KKR, PBKS, CSK   \n",
       "\n",
       "   Country                 Role Batting_Style   Bowling_Style Batting_Order  \\\n",
       "36   India  Bowling All Rounder          Left  Right Legbreak        Lower    \n",
       "\n",
       "   Capped_or_Uncapped  \n",
       "36             Capped  "
      ]
     },
     "execution_count": 9,
     "metadata": {},
     "output_type": "execute_result"
    }
   ],
   "source": [
    "mi[mi['Price_Paid']==mi[mi['Country']=='India']['Price_Paid'].max()]"
   ]
  },
  {
   "cell_type": "markdown",
   "id": "93328951",
   "metadata": {},
   "source": [
    "<h3>Highest Foreign bid by Mumbai Indians: </h3>"
   ]
  },
  {
   "cell_type": "code",
   "execution_count": 10,
   "id": "4f4590b1",
   "metadata": {},
   "outputs": [
    {
     "data": {
      "text/html": [
       "<div>\n",
       "<style scoped>\n",
       "    .dataframe tbody tr th:only-of-type {\n",
       "        vertical-align: middle;\n",
       "    }\n",
       "\n",
       "    .dataframe tbody tr th {\n",
       "        vertical-align: top;\n",
       "    }\n",
       "\n",
       "    .dataframe thead th {\n",
       "        text-align: right;\n",
       "    }\n",
       "</style>\n",
       "<table border=\"1\" class=\"dataframe\">\n",
       "  <thead>\n",
       "    <tr style=\"text-align: right;\">\n",
       "      <th></th>\n",
       "      <th>Player_Name</th>\n",
       "      <th>Base_Price</th>\n",
       "      <th>Price_Paid</th>\n",
       "      <th>Status</th>\n",
       "      <th>Bought_by</th>\n",
       "      <th>Previous_IPL_Teams</th>\n",
       "      <th>Country</th>\n",
       "      <th>Role</th>\n",
       "      <th>Batting_Style</th>\n",
       "      <th>Bowling_Style</th>\n",
       "      <th>Batting_Order</th>\n",
       "      <th>Capped_or_Uncapped</th>\n",
       "    </tr>\n",
       "  </thead>\n",
       "  <tbody>\n",
       "    <tr>\n",
       "      <th>34</th>\n",
       "      <td>Nathan Coulter-Nile</td>\n",
       "      <td>150</td>\n",
       "      <td>500</td>\n",
       "      <td>Sold</td>\n",
       "      <td>MI</td>\n",
       "      <td>MI, DC, KKR, RCB</td>\n",
       "      <td>Australia</td>\n",
       "      <td>Bowling All Rounder</td>\n",
       "      <td>Right</td>\n",
       "      <td>Right Fast</td>\n",
       "      <td>Lower</td>\n",
       "      <td>Capped</td>\n",
       "    </tr>\n",
       "  </tbody>\n",
       "</table>\n",
       "</div>"
      ],
      "text/plain": [
       "            Player_Name  Base_Price  Price_Paid Status Bought_by  \\\n",
       "34  Nathan Coulter-Nile         150         500   Sold        MI   \n",
       "\n",
       "   Previous_IPL_Teams    Country                 Role Batting_Style  \\\n",
       "34   MI, DC, KKR, RCB  Australia  Bowling All Rounder        Right    \n",
       "\n",
       "   Bowling_Style Batting_Order Capped_or_Uncapped  \n",
       "34    Right Fast        Lower              Capped  "
      ]
     },
     "execution_count": 10,
     "metadata": {},
     "output_type": "execute_result"
    }
   ],
   "source": [
    "mi[mi['Price_Paid']==mi[mi['Country']!='India']['Price_Paid'].max()]"
   ]
  },
  {
   "cell_type": "markdown",
   "id": "c1f9e46f",
   "metadata": {},
   "source": [
    "<h3>Amount Spent on each Department (in crores): </h3>"
   ]
  },
  {
   "cell_type": "code",
   "execution_count": 11,
   "id": "95391724",
   "metadata": {},
   "outputs": [
    {
     "name": "stdout",
     "output_type": "stream",
     "text": [
      "Role\n",
      "Batting All Rounder    0.5\n",
      "Bowling All Rounder    7.6\n",
      "Seam Bowler            3.6\n"
     ]
    }
   ],
   "source": [
    "print((mi.groupby('Role')['Price_Paid'].sum()/100).to_string())"
   ]
  },
  {
   "cell_type": "markdown",
   "id": "0de2079c",
   "metadata": {},
   "source": [
    "<h3>Highest Bowler bid by Mumbai Indians:</h3>"
   ]
  },
  {
   "cell_type": "code",
   "execution_count": 12,
   "id": "a1701b22",
   "metadata": {},
   "outputs": [
    {
     "data": {
      "text/html": [
       "<div>\n",
       "<style scoped>\n",
       "    .dataframe tbody tr th:only-of-type {\n",
       "        vertical-align: middle;\n",
       "    }\n",
       "\n",
       "    .dataframe tbody tr th {\n",
       "        vertical-align: top;\n",
       "    }\n",
       "\n",
       "    .dataframe thead th {\n",
       "        text-align: right;\n",
       "    }\n",
       "</style>\n",
       "<table border=\"1\" class=\"dataframe\">\n",
       "  <thead>\n",
       "    <tr style=\"text-align: right;\">\n",
       "      <th></th>\n",
       "      <th>Player_Name</th>\n",
       "      <th>Base_Price</th>\n",
       "      <th>Price_Paid</th>\n",
       "      <th>Status</th>\n",
       "      <th>Bought_by</th>\n",
       "      <th>Previous_IPL_Teams</th>\n",
       "      <th>Country</th>\n",
       "      <th>Role</th>\n",
       "      <th>Batting_Style</th>\n",
       "      <th>Bowling_Style</th>\n",
       "      <th>Batting_Order</th>\n",
       "      <th>Capped_or_Uncapped</th>\n",
       "    </tr>\n",
       "  </thead>\n",
       "  <tbody>\n",
       "    <tr>\n",
       "      <th>0</th>\n",
       "      <td>Adam Milne</td>\n",
       "      <td>50</td>\n",
       "      <td>320</td>\n",
       "      <td>Sold</td>\n",
       "      <td>MI</td>\n",
       "      <td>RCB</td>\n",
       "      <td>New Zealand</td>\n",
       "      <td>Seam Bowler</td>\n",
       "      <td>NaN</td>\n",
       "      <td>Right Fast</td>\n",
       "      <td>NaN</td>\n",
       "      <td>Capped</td>\n",
       "    </tr>\n",
       "  </tbody>\n",
       "</table>\n",
       "</div>"
      ],
      "text/plain": [
       "  Player_Name  Base_Price  Price_Paid Status Bought_by Previous_IPL_Teams  \\\n",
       "0  Adam Milne          50         320   Sold        MI                RCB   \n",
       "\n",
       "       Country         Role Batting_Style Bowling_Style Batting_Order  \\\n",
       "0  New Zealand  Seam Bowler           NaN    Right Fast           NaN   \n",
       "\n",
       "  Capped_or_Uncapped  \n",
       "0             Capped  "
      ]
     },
     "execution_count": 12,
     "metadata": {},
     "output_type": "execute_result"
    }
   ],
   "source": [
    "mi_bowl[mi_bowl['Price_Paid']==mi_bowl['Price_Paid'].max()]"
   ]
  },
  {
   "cell_type": "markdown",
   "id": "4ccd9db4",
   "metadata": {},
   "source": [
    "<h3>Highest All Rounder bid by Mumbai Indians: </h3>"
   ]
  },
  {
   "cell_type": "code",
   "execution_count": 13,
   "id": "849fa7a8",
   "metadata": {},
   "outputs": [
    {
     "data": {
      "text/html": [
       "<div>\n",
       "<style scoped>\n",
       "    .dataframe tbody tr th:only-of-type {\n",
       "        vertical-align: middle;\n",
       "    }\n",
       "\n",
       "    .dataframe tbody tr th {\n",
       "        vertical-align: top;\n",
       "    }\n",
       "\n",
       "    .dataframe thead th {\n",
       "        text-align: right;\n",
       "    }\n",
       "</style>\n",
       "<table border=\"1\" class=\"dataframe\">\n",
       "  <thead>\n",
       "    <tr style=\"text-align: right;\">\n",
       "      <th></th>\n",
       "      <th>Player_Name</th>\n",
       "      <th>Base_Price</th>\n",
       "      <th>Price_Paid</th>\n",
       "      <th>Status</th>\n",
       "      <th>Bought_by</th>\n",
       "      <th>Previous_IPL_Teams</th>\n",
       "      <th>Country</th>\n",
       "      <th>Role</th>\n",
       "      <th>Batting_Style</th>\n",
       "      <th>Bowling_Style</th>\n",
       "      <th>Batting_Order</th>\n",
       "      <th>Capped_or_Uncapped</th>\n",
       "    </tr>\n",
       "  </thead>\n",
       "  <tbody>\n",
       "    <tr>\n",
       "      <th>34</th>\n",
       "      <td>Nathan Coulter-Nile</td>\n",
       "      <td>150</td>\n",
       "      <td>500</td>\n",
       "      <td>Sold</td>\n",
       "      <td>MI</td>\n",
       "      <td>MI, DC, KKR, RCB</td>\n",
       "      <td>Australia</td>\n",
       "      <td>Bowling All Rounder</td>\n",
       "      <td>Right</td>\n",
       "      <td>Right Fast</td>\n",
       "      <td>Lower</td>\n",
       "      <td>Capped</td>\n",
       "    </tr>\n",
       "  </tbody>\n",
       "</table>\n",
       "</div>"
      ],
      "text/plain": [
       "            Player_Name  Base_Price  Price_Paid Status Bought_by  \\\n",
       "34  Nathan Coulter-Nile         150         500   Sold        MI   \n",
       "\n",
       "   Previous_IPL_Teams    Country                 Role Batting_Style  \\\n",
       "34   MI, DC, KKR, RCB  Australia  Bowling All Rounder        Right    \n",
       "\n",
       "   Bowling_Style Batting_Order Capped_or_Uncapped  \n",
       "34    Right Fast        Lower              Capped  "
      ]
     },
     "execution_count": 13,
     "metadata": {},
     "output_type": "execute_result"
    }
   ],
   "source": [
    "mi_all[mi_all['Price_Paid']==mi_all['Price_Paid'].max()]"
   ]
  },
  {
   "cell_type": "markdown",
   "id": "be004be9",
   "metadata": {},
   "source": [
    "<h3>Highest Capped bid by Mumbai Indians: </h3>"
   ]
  },
  {
   "cell_type": "code",
   "execution_count": 14,
   "id": "c78e2ff3",
   "metadata": {},
   "outputs": [
    {
     "data": {
      "text/html": [
       "<div>\n",
       "<style scoped>\n",
       "    .dataframe tbody tr th:only-of-type {\n",
       "        vertical-align: middle;\n",
       "    }\n",
       "\n",
       "    .dataframe tbody tr th {\n",
       "        vertical-align: top;\n",
       "    }\n",
       "\n",
       "    .dataframe thead th {\n",
       "        text-align: right;\n",
       "    }\n",
       "</style>\n",
       "<table border=\"1\" class=\"dataframe\">\n",
       "  <thead>\n",
       "    <tr style=\"text-align: right;\">\n",
       "      <th></th>\n",
       "      <th>Player_Name</th>\n",
       "      <th>Base_Price</th>\n",
       "      <th>Price_Paid</th>\n",
       "      <th>Status</th>\n",
       "      <th>Bought_by</th>\n",
       "      <th>Previous_IPL_Teams</th>\n",
       "      <th>Country</th>\n",
       "      <th>Role</th>\n",
       "      <th>Batting_Style</th>\n",
       "      <th>Bowling_Style</th>\n",
       "      <th>Batting_Order</th>\n",
       "      <th>Capped_or_Uncapped</th>\n",
       "    </tr>\n",
       "  </thead>\n",
       "  <tbody>\n",
       "    <tr>\n",
       "      <th>34</th>\n",
       "      <td>Nathan Coulter-Nile</td>\n",
       "      <td>150</td>\n",
       "      <td>500</td>\n",
       "      <td>Sold</td>\n",
       "      <td>MI</td>\n",
       "      <td>MI, DC, KKR, RCB</td>\n",
       "      <td>Australia</td>\n",
       "      <td>Bowling All Rounder</td>\n",
       "      <td>Right</td>\n",
       "      <td>Right Fast</td>\n",
       "      <td>Lower</td>\n",
       "      <td>Capped</td>\n",
       "    </tr>\n",
       "  </tbody>\n",
       "</table>\n",
       "</div>"
      ],
      "text/plain": [
       "            Player_Name  Base_Price  Price_Paid Status Bought_by  \\\n",
       "34  Nathan Coulter-Nile         150         500   Sold        MI   \n",
       "\n",
       "   Previous_IPL_Teams    Country                 Role Batting_Style  \\\n",
       "34   MI, DC, KKR, RCB  Australia  Bowling All Rounder        Right    \n",
       "\n",
       "   Bowling_Style Batting_Order Capped_or_Uncapped  \n",
       "34    Right Fast        Lower              Capped  "
      ]
     },
     "execution_count": 14,
     "metadata": {},
     "output_type": "execute_result"
    }
   ],
   "source": [
    "mi[mi['Price_Paid']==mi[mi['Capped_or_Uncapped']=='Capped']['Price_Paid'].max()]"
   ]
  },
  {
   "cell_type": "markdown",
   "id": "a3e60c9b",
   "metadata": {},
   "source": [
    "<h3>Highest Uncapped bid by Mumbai Indians: </h3>"
   ]
  },
  {
   "cell_type": "code",
   "execution_count": 15,
   "id": "afc1fb63",
   "metadata": {},
   "outputs": [
    {
     "data": {
      "text/html": [
       "<div>\n",
       "<style scoped>\n",
       "    .dataframe tbody tr th:only-of-type {\n",
       "        vertical-align: middle;\n",
       "    }\n",
       "\n",
       "    .dataframe tbody tr th {\n",
       "        vertical-align: top;\n",
       "    }\n",
       "\n",
       "    .dataframe thead th {\n",
       "        text-align: right;\n",
       "    }\n",
       "</style>\n",
       "<table border=\"1\" class=\"dataframe\">\n",
       "  <thead>\n",
       "    <tr style=\"text-align: right;\">\n",
       "      <th></th>\n",
       "      <th>Player_Name</th>\n",
       "      <th>Base_Price</th>\n",
       "      <th>Price_Paid</th>\n",
       "      <th>Status</th>\n",
       "      <th>Bought_by</th>\n",
       "      <th>Previous_IPL_Teams</th>\n",
       "      <th>Country</th>\n",
       "      <th>Role</th>\n",
       "      <th>Batting_Style</th>\n",
       "      <th>Bowling_Style</th>\n",
       "      <th>Batting_Order</th>\n",
       "      <th>Capped_or_Uncapped</th>\n",
       "    </tr>\n",
       "  </thead>\n",
       "  <tbody>\n",
       "    <tr>\n",
       "      <th>2</th>\n",
       "      <td>Arjun Tendulkar</td>\n",
       "      <td>20</td>\n",
       "      <td>20</td>\n",
       "      <td>Sold</td>\n",
       "      <td>MI</td>\n",
       "      <td>NaN</td>\n",
       "      <td>India</td>\n",
       "      <td>Seam Bowler</td>\n",
       "      <td>NaN</td>\n",
       "      <td>Left Medium Fast</td>\n",
       "      <td>NaN</td>\n",
       "      <td>Uncapped</td>\n",
       "    </tr>\n",
       "    <tr>\n",
       "      <th>28</th>\n",
       "      <td>Marco Jansen</td>\n",
       "      <td>20</td>\n",
       "      <td>20</td>\n",
       "      <td>Sold</td>\n",
       "      <td>MI</td>\n",
       "      <td>NaN</td>\n",
       "      <td>South Africa</td>\n",
       "      <td>Bowling All Rounder</td>\n",
       "      <td>Right</td>\n",
       "      <td>Left Fast</td>\n",
       "      <td>Lower</td>\n",
       "      <td>Uncapped</td>\n",
       "    </tr>\n",
       "    <tr>\n",
       "      <th>56</th>\n",
       "      <td>Yudhvir Charak</td>\n",
       "      <td>20</td>\n",
       "      <td>20</td>\n",
       "      <td>Sold</td>\n",
       "      <td>MI</td>\n",
       "      <td>NaN</td>\n",
       "      <td>India</td>\n",
       "      <td>Seam Bowler</td>\n",
       "      <td>NaN</td>\n",
       "      <td>Right Medium Fast</td>\n",
       "      <td>NaN</td>\n",
       "      <td>Uncapped</td>\n",
       "    </tr>\n",
       "  </tbody>\n",
       "</table>\n",
       "</div>"
      ],
      "text/plain": [
       "        Player_Name  Base_Price  Price_Paid Status Bought_by  \\\n",
       "2   Arjun Tendulkar          20          20   Sold        MI   \n",
       "28     Marco Jansen          20          20   Sold        MI   \n",
       "56   Yudhvir Charak          20          20   Sold        MI   \n",
       "\n",
       "   Previous_IPL_Teams       Country                 Role Batting_Style  \\\n",
       "2                 NaN         India          Seam Bowler           NaN   \n",
       "28                NaN  South Africa  Bowling All Rounder        Right    \n",
       "56                NaN         India          Seam Bowler           NaN   \n",
       "\n",
       "        Bowling_Style Batting_Order Capped_or_Uncapped  \n",
       "2    Left Medium Fast           NaN           Uncapped  \n",
       "28          Left Fast        Lower            Uncapped  \n",
       "56  Right Medium Fast           NaN           Uncapped  "
      ]
     },
     "execution_count": 15,
     "metadata": {},
     "output_type": "execute_result"
    }
   ],
   "source": [
    "mi[mi['Price_Paid']==mi[mi['Capped_or_Uncapped']=='Uncapped']['Price_Paid'].max()]"
   ]
  },
  {
   "cell_type": "markdown",
   "id": "9685a7d3",
   "metadata": {},
   "source": [
    "<h3>Visualization of distribution of Amount spent by MI on each department: </h3>"
   ]
  },
  {
   "cell_type": "code",
   "execution_count": 16,
   "id": "4ac52fc0",
   "metadata": {},
   "outputs": [
    {
     "data": {
      "image/png": "[encoded data removed]",
      "text/plain": [
       "<Figure size 1080x720 with 1 Axes>"
      ]
     },
     "metadata": {},
     "output_type": "display_data"
    }
   ],
   "source": [
    "mi.groupby(['Role']).sum().plot(kind='pie', y='Price_Paid', autopct=\"%.2f%%\", figsize=(15,10), title=\"Distribution of Amount spent by MI on each department\").legend(loc='upper right');"
   ]
  },
  {
   "cell_type": "markdown",
   "id": "fca99048",
   "metadata": {},
   "source": [
    "<h3>No. of IPL Experienced and inexperienced Players bought by Mumbai Indians: </h3>"
   ]
  },
  {
   "cell_type": "code",
   "execution_count": 17,
   "id": "14e32a9b",
   "metadata": {},
   "outputs": [
    {
     "name": "stdout",
     "output_type": "stream",
     "text": [
      "Experienced Players:      4\n",
      "Inexperienced Players:    3\n"
     ]
    }
   ],
   "source": [
    "print(\"Experienced Players:     \",mi[pd.notnull(mi['Previous_IPL_Teams'])].shape[0])\n",
    "print(\"Inexperienced Players:   \",mi[pd.isnull(mi['Previous_IPL_Teams'])].shape[0])"
   ]
  },
  {
   "cell_type": "markdown",
   "id": "07ddfe17",
   "metadata": {},
   "source": [
    "<h3>No. of Internationally Experienced and inexperienced  Players bought by Mumbai Indians: </h3>"
   ]
  },
  {
   "cell_type": "code",
   "execution_count": 18,
   "id": "d59337c6",
   "metadata": {},
   "outputs": [
    {
     "name": "stdout",
     "output_type": "stream",
     "text": [
      "Experienced Players:      4\n",
      "Inexperienced Players:    3\n"
     ]
    }
   ],
   "source": [
    "print(\"Experienced Players:     \",mi[mi['Capped_or_Uncapped']=='Capped'].shape[0])\n",
    "print(\"Inexperienced Players:   \",mi[mi['Capped_or_Uncapped']=='Uncapped'].shape[0])"
   ]
  },
  {
   "cell_type": "markdown",
   "id": "2243d7bd",
   "metadata": {},
   "source": [
    "<h3>No. of players bought at</h3>"
   ]
  },
  {
   "cell_type": "code",
   "execution_count": 19,
   "id": "c7aad9d5",
   "metadata": {},
   "outputs": [
    {
     "name": "stdout",
     "output_type": "stream",
     "text": [
      "Base Price:            4\n",
      "More than Base Price:  3\n"
     ]
    }
   ],
   "source": [
    "print(\"Base Price:           \",mi[mi['Price_Paid']==mi['Base_Price']].shape[0])\n",
    "print(\"More than Base Price: \",mi[mi['Price_Paid']!=mi['Base_Price']].shape[0])"
   ]
  },
  {
   "cell_type": "code",
   "execution_count": null,
   "id": "3899bbcf",
   "metadata": {},
   "outputs": [],
   "source": []
  }
 ],
 "metadata": {
  "kernelspec": {
   "display_name": "Python 3 (ipykernel)",
   "language": "python",
   "name": "python3"
  },
  "language_info": {
   "codemirror_mode": {
    "name": "ipython",
    "version": 3
   },
   "file_extension": ".py",
   "mimetype": "text/x-python",
   "name": "python",
   "nbconvert_exporter": "python",
   "pygments_lexer": "ipython3",
   "version": "3.9.5"
  }
 },
 "nbformat": 4,
 "nbformat_minor": 5
}
