{
 "cells": [
  {
   "cell_type": "markdown",
   "id": "55a1d41a",
   "metadata": {},
   "source": [
    "<h1 style=\"text-align:center;\">Punjab Kings (PBKS)</h1>"
   ]
  },
  {
   "cell_type": "markdown",
   "id": "ec42730f",
   "metadata": {},
   "source": [
    "<p style=\"text-align:center;\"><img src=\"https://crickettimes.com/wp-content/uploads/2021/03/Punjab-Kings-1260x657.jpg\" width=700px height=500px></p> "
   ]
  },
  {
   "cell_type": "code",
   "execution_count": 1,
   "id": "50d04b7b",
   "metadata": {},
   "outputs": [],
   "source": [
    "import pandas as pd\n",
    "import numpy as np\n",
    "import matplotlib.pyplot as plt\n",
    "\n",
    "data=pd.read_csv(\"./PROJECT_IPL_1_Edited.csv\")\n",
    "data.rename(columns={'Player Name':'Player_Name','Base Price (in Lakhs Rupees)':'Base_Price','Price Paid (in Lakhs Rupees)':'Price_Paid','Status':'Status','Bought by':'Bought_by','Previous IPL Teams':'Previous_IPL_Teams','Country':'Country','Role':'Role','Batting Style':'Batting_Style','Bowling Style':'Bowling_Style','Batting Order':'Batting_Order','Capped or Uncapped at Internationals (during Auction)':'Capped_or_Uncapped'},inplace='True')\n",
    "data.loc[data[\"Role\"] == \"Fast Bowler\", \"Role\"] = \"Seam Bowler\"\n"
   ]
  },
  {
   "cell_type": "markdown",
   "id": "884b955d",
   "metadata": {},
   "source": [
    "<h2 style=\"text-align:center;\"> Listing out players bought by PBKS </h2>"
   ]
  },
  {
   "cell_type": "code",
   "execution_count": 2,
   "id": "5b1678c3",
   "metadata": {},
   "outputs": [
    {
     "data": {
      "text/html": [
       "<div>\n",
       "<style scoped>\n",
       "    .dataframe tbody tr th:only-of-type {\n",
       "        vertical-align: middle;\n",
       "    }\n",
       "\n",
       "    .dataframe tbody tr th {\n",
       "        vertical-align: top;\n",
       "    }\n",
       "\n",
       "    .dataframe thead th {\n",
       "        text-align: right;\n",
       "    }\n",
       "</style>\n",
       "<table border=\"1\" class=\"dataframe\">\n",
       "  <thead>\n",
       "    <tr style=\"text-align: right;\">\n",
       "      <th></th>\n",
       "      <th>Player_Name</th>\n",
       "      <th>Base_Price</th>\n",
       "      <th>Price_Paid</th>\n",
       "      <th>Status</th>\n",
       "      <th>Bought_by</th>\n",
       "      <th>Previous_IPL_Teams</th>\n",
       "      <th>Country</th>\n",
       "      <th>Role</th>\n",
       "      <th>Batting_Style</th>\n",
       "      <th>Bowling_Style</th>\n",
       "      <th>Batting_Order</th>\n",
       "      <th>Capped_or_Uncapped</th>\n",
       "    </tr>\n",
       "  </thead>\n",
       "  <tbody>\n",
       "    <tr>\n",
       "      <th>10</th>\n",
       "      <td>Dawid Malan</td>\n",
       "      <td>150</td>\n",
       "      <td>150</td>\n",
       "      <td>Sold</td>\n",
       "      <td>PBKS</td>\n",
       "      <td>NaN</td>\n",
       "      <td>England</td>\n",
       "      <td>Batsman</td>\n",
       "      <td>Left</td>\n",
       "      <td>NaN</td>\n",
       "      <td>Top</td>\n",
       "      <td>Capped</td>\n",
       "    </tr>\n",
       "    <tr>\n",
       "      <th>11</th>\n",
       "      <td>Fabian Allen</td>\n",
       "      <td>75</td>\n",
       "      <td>75</td>\n",
       "      <td>Sold</td>\n",
       "      <td>PBKS</td>\n",
       "      <td>SRH</td>\n",
       "      <td>West Indies</td>\n",
       "      <td>Bowling All Rounder</td>\n",
       "      <td>Right</td>\n",
       "      <td>Slow Left Orthodox</td>\n",
       "      <td>Middle</td>\n",
       "      <td>Capped</td>\n",
       "    </tr>\n",
       "    <tr>\n",
       "      <th>16</th>\n",
       "      <td>Jalaj Saxena</td>\n",
       "      <td>30</td>\n",
       "      <td>30</td>\n",
       "      <td>Sold</td>\n",
       "      <td>PBKS</td>\n",
       "      <td>MI, DC, RCB</td>\n",
       "      <td>India</td>\n",
       "      <td>Batting All Rounder</td>\n",
       "      <td>Right</td>\n",
       "      <td>Right Offbreak</td>\n",
       "      <td>Top</td>\n",
       "      <td>Uncapped</td>\n",
       "    </tr>\n",
       "    <tr>\n",
       "      <th>18</th>\n",
       "      <td>Jhye Richardson</td>\n",
       "      <td>150</td>\n",
       "      <td>1400</td>\n",
       "      <td>Sold</td>\n",
       "      <td>PBKS</td>\n",
       "      <td>NaN</td>\n",
       "      <td>Australia</td>\n",
       "      <td>Seam Bowler</td>\n",
       "      <td>NaN</td>\n",
       "      <td>Right Fast</td>\n",
       "      <td>NaN</td>\n",
       "      <td>Capped</td>\n",
       "    </tr>\n",
       "    <tr>\n",
       "      <th>31</th>\n",
       "      <td>Moises Henriques</td>\n",
       "      <td>100</td>\n",
       "      <td>420</td>\n",
       "      <td>Sold</td>\n",
       "      <td>PBKS</td>\n",
       "      <td>KKR, DC, RCB, SRH, MI</td>\n",
       "      <td>Australia</td>\n",
       "      <td>All Rounder</td>\n",
       "      <td>Right</td>\n",
       "      <td>Right Fast Medium</td>\n",
       "      <td>Middle</td>\n",
       "      <td>Capped</td>\n",
       "    </tr>\n",
       "    <tr>\n",
       "      <th>38</th>\n",
       "      <td>Riley Meredith</td>\n",
       "      <td>40</td>\n",
       "      <td>800</td>\n",
       "      <td>Sold</td>\n",
       "      <td>PBKS</td>\n",
       "      <td>NaN</td>\n",
       "      <td>Australia</td>\n",
       "      <td>Seam Bowler</td>\n",
       "      <td>NaN</td>\n",
       "      <td>Right Fast</td>\n",
       "      <td>NaN</td>\n",
       "      <td>Uncapped</td>\n",
       "    </tr>\n",
       "    <tr>\n",
       "      <th>42</th>\n",
       "      <td>Saurabh Kumar</td>\n",
       "      <td>20</td>\n",
       "      <td>20</td>\n",
       "      <td>Sold</td>\n",
       "      <td>PBKS</td>\n",
       "      <td>RPS</td>\n",
       "      <td>India</td>\n",
       "      <td>Bowling All Rounder</td>\n",
       "      <td>Left</td>\n",
       "      <td>Slow Left Orthodox</td>\n",
       "      <td>Lower</td>\n",
       "      <td>Uncapped</td>\n",
       "    </tr>\n",
       "    <tr>\n",
       "      <th>43</th>\n",
       "      <td>Shahrukh Khan</td>\n",
       "      <td>20</td>\n",
       "      <td>525</td>\n",
       "      <td>Sold</td>\n",
       "      <td>PBKS</td>\n",
       "      <td>NaN</td>\n",
       "      <td>India</td>\n",
       "      <td>Batsman</td>\n",
       "      <td>Right</td>\n",
       "      <td>NaN</td>\n",
       "      <td>Middle</td>\n",
       "      <td>Uncapped</td>\n",
       "    </tr>\n",
       "    <tr>\n",
       "      <th>52</th>\n",
       "      <td>Utkarsh Singh</td>\n",
       "      <td>20</td>\n",
       "      <td>20</td>\n",
       "      <td>Sold</td>\n",
       "      <td>PBKS</td>\n",
       "      <td>NaN</td>\n",
       "      <td>India</td>\n",
       "      <td>All Rounder</td>\n",
       "      <td>Left</td>\n",
       "      <td>Right Offbreak</td>\n",
       "      <td>Top</td>\n",
       "      <td>Uncapped</td>\n",
       "    </tr>\n",
       "  </tbody>\n",
       "</table>\n",
       "</div>"
      ],
      "text/plain": [
       "         Player_Name  Base_Price  Price_Paid Status Bought_by  \\\n",
       "10       Dawid Malan         150         150   Sold      PBKS   \n",
       "11      Fabian Allen          75          75   Sold      PBKS   \n",
       "16      Jalaj Saxena          30          30   Sold      PBKS   \n",
       "18   Jhye Richardson         150        1400   Sold      PBKS   \n",
       "31  Moises Henriques         100         420   Sold      PBKS   \n",
       "38    Riley Meredith          40         800  Sold       PBKS   \n",
       "42     Saurabh Kumar          20          20   Sold      PBKS   \n",
       "43     Shahrukh Khan          20         525   Sold      PBKS   \n",
       "52    Utkarsh Singh           20          20   Sold      PBKS   \n",
       "\n",
       "       Previous_IPL_Teams      Country                 Role Batting_Style  \\\n",
       "10                    NaN      England              Batsman          Left   \n",
       "11                    SRH  West Indies  Bowling All Rounder        Right    \n",
       "16            MI, DC, RCB        India  Batting All Rounder        Right    \n",
       "18                    NaN    Australia          Seam Bowler           NaN   \n",
       "31  KKR, DC, RCB, SRH, MI    Australia          All Rounder        Right    \n",
       "38                    NaN    Australia          Seam Bowler           NaN   \n",
       "42                    RPS        India  Bowling All Rounder          Left   \n",
       "43                    NaN        India              Batsman        Right    \n",
       "52                    NaN        India          All Rounder          Left   \n",
       "\n",
       "         Bowling_Style Batting_Order Capped_or_Uncapped  \n",
       "10                 NaN          Top              Capped  \n",
       "11  Slow Left Orthodox       Middle              Capped  \n",
       "16      Right Offbreak          Top            Uncapped  \n",
       "18          Right Fast           NaN             Capped  \n",
       "31   Right Fast Medium        Middle             Capped  \n",
       "38          Right Fast           NaN           Uncapped  \n",
       "42  Slow Left Orthodox        Lower            Uncapped  \n",
       "43                 NaN        Middle           Uncapped  \n",
       "52      Right Offbreak           Top           Uncapped  "
      ]
     },
     "execution_count": 2,
     "metadata": {},
     "output_type": "execute_result"
    }
   ],
   "source": [
    "pbks=data.groupby('Bought_by').get_group('PBKS')\n",
    "pbks"
   ]
  },
  {
   "cell_type": "markdown",
   "id": "d10e668e",
   "metadata": {},
   "source": [
    "<h2 style=\"text-align:center;\"> Visualization of Price Paid for players bought by PBKS </h2>"
   ]
  },
  {
   "cell_type": "code",
   "execution_count": 3,
   "id": "97031d41",
   "metadata": {},
   "outputs": [
    {
     "data": {
      "image/png": "[encoded data removed]",
      "text/plain": [
       "<Figure size 432x288 with 1 Axes>"
      ]
     },
     "metadata": {
      "needs_background": "light"
     },
     "output_type": "display_data"
    }
   ],
   "source": [
    "x=list(pbks['Player_Name']);\n",
    "y=list(pbks['Price_Paid']);\n",
    "plt.barh(x,y);"
   ]
  },
  {
   "cell_type": "markdown",
   "id": "f099a59e",
   "metadata": {},
   "source": [
    "<h2 style=\"text-align:center;\">List of Batsmen bought by PBKS</h2>"
   ]
  },
  {
   "cell_type": "code",
   "execution_count": 4,
   "id": "ade55eba",
   "metadata": {},
   "outputs": [
    {
     "data": {
      "text/html": [
       "<div>\n",
       "<style scoped>\n",
       "    .dataframe tbody tr th:only-of-type {\n",
       "        vertical-align: middle;\n",
       "    }\n",
       "\n",
       "    .dataframe tbody tr th {\n",
       "        vertical-align: top;\n",
       "    }\n",
       "\n",
       "    .dataframe thead th {\n",
       "        text-align: right;\n",
       "    }\n",
       "</style>\n",
       "<table border=\"1\" class=\"dataframe\">\n",
       "  <thead>\n",
       "    <tr style=\"text-align: right;\">\n",
       "      <th></th>\n",
       "      <th>Player_Name</th>\n",
       "      <th>Base_Price</th>\n",
       "      <th>Price_Paid</th>\n",
       "      <th>Status</th>\n",
       "      <th>Bought_by</th>\n",
       "      <th>Previous_IPL_Teams</th>\n",
       "      <th>Country</th>\n",
       "      <th>Role</th>\n",
       "      <th>Batting_Style</th>\n",
       "      <th>Bowling_Style</th>\n",
       "      <th>Batting_Order</th>\n",
       "      <th>Capped_or_Uncapped</th>\n",
       "    </tr>\n",
       "  </thead>\n",
       "  <tbody>\n",
       "    <tr>\n",
       "      <th>10</th>\n",
       "      <td>Dawid Malan</td>\n",
       "      <td>150</td>\n",
       "      <td>150</td>\n",
       "      <td>Sold</td>\n",
       "      <td>PBKS</td>\n",
       "      <td>NaN</td>\n",
       "      <td>England</td>\n",
       "      <td>Batsman</td>\n",
       "      <td>Left</td>\n",
       "      <td>NaN</td>\n",
       "      <td>Top</td>\n",
       "      <td>Capped</td>\n",
       "    </tr>\n",
       "    <tr>\n",
       "      <th>43</th>\n",
       "      <td>Shahrukh Khan</td>\n",
       "      <td>20</td>\n",
       "      <td>525</td>\n",
       "      <td>Sold</td>\n",
       "      <td>PBKS</td>\n",
       "      <td>NaN</td>\n",
       "      <td>India</td>\n",
       "      <td>Batsman</td>\n",
       "      <td>Right</td>\n",
       "      <td>NaN</td>\n",
       "      <td>Middle</td>\n",
       "      <td>Uncapped</td>\n",
       "    </tr>\n",
       "  </tbody>\n",
       "</table>\n",
       "</div>"
      ],
      "text/plain": [
       "      Player_Name  Base_Price  Price_Paid Status Bought_by Previous_IPL_Teams  \\\n",
       "10    Dawid Malan         150         150   Sold      PBKS                NaN   \n",
       "43  Shahrukh Khan          20         525   Sold      PBKS                NaN   \n",
       "\n",
       "    Country     Role Batting_Style Bowling_Style Batting_Order  \\\n",
       "10  England  Batsman          Left           NaN          Top    \n",
       "43    India  Batsman        Right            NaN        Middle   \n",
       "\n",
       "   Capped_or_Uncapped  \n",
       "10             Capped  \n",
       "43           Uncapped  "
      ]
     },
     "execution_count": 4,
     "metadata": {},
     "output_type": "execute_result"
    }
   ],
   "source": [
    "pbks_bats=pbks[pbks['Role'].str.contains('Batsman')]\n",
    "pbks_bats"
   ]
  },
  {
   "cell_type": "markdown",
   "id": "6e28cfb9",
   "metadata": {},
   "source": [
    "<h2 style=\"text-align:center;\">List of Bowlers bought by PBKS</h2>"
   ]
  },
  {
   "cell_type": "code",
   "execution_count": 5,
   "id": "e11558b5",
   "metadata": {},
   "outputs": [
    {
     "data": {
      "text/html": [
       "<div>\n",
       "<style scoped>\n",
       "    .dataframe tbody tr th:only-of-type {\n",
       "        vertical-align: middle;\n",
       "    }\n",
       "\n",
       "    .dataframe tbody tr th {\n",
       "        vertical-align: top;\n",
       "    }\n",
       "\n",
       "    .dataframe thead th {\n",
       "        text-align: right;\n",
       "    }\n",
       "</style>\n",
       "<table border=\"1\" class=\"dataframe\">\n",
       "  <thead>\n",
       "    <tr style=\"text-align: right;\">\n",
       "      <th></th>\n",
       "      <th>Player_Name</th>\n",
       "      <th>Base_Price</th>\n",
       "      <th>Price_Paid</th>\n",
       "      <th>Status</th>\n",
       "      <th>Bought_by</th>\n",
       "      <th>Previous_IPL_Teams</th>\n",
       "      <th>Country</th>\n",
       "      <th>Role</th>\n",
       "      <th>Batting_Style</th>\n",
       "      <th>Bowling_Style</th>\n",
       "      <th>Batting_Order</th>\n",
       "      <th>Capped_or_Uncapped</th>\n",
       "    </tr>\n",
       "  </thead>\n",
       "  <tbody>\n",
       "    <tr>\n",
       "      <th>18</th>\n",
       "      <td>Jhye Richardson</td>\n",
       "      <td>150</td>\n",
       "      <td>1400</td>\n",
       "      <td>Sold</td>\n",
       "      <td>PBKS</td>\n",
       "      <td>NaN</td>\n",
       "      <td>Australia</td>\n",
       "      <td>Seam Bowler</td>\n",
       "      <td>NaN</td>\n",
       "      <td>Right Fast</td>\n",
       "      <td>NaN</td>\n",
       "      <td>Capped</td>\n",
       "    </tr>\n",
       "    <tr>\n",
       "      <th>38</th>\n",
       "      <td>Riley Meredith</td>\n",
       "      <td>40</td>\n",
       "      <td>800</td>\n",
       "      <td>Sold</td>\n",
       "      <td>PBKS</td>\n",
       "      <td>NaN</td>\n",
       "      <td>Australia</td>\n",
       "      <td>Seam Bowler</td>\n",
       "      <td>NaN</td>\n",
       "      <td>Right Fast</td>\n",
       "      <td>NaN</td>\n",
       "      <td>Uncapped</td>\n",
       "    </tr>\n",
       "  </tbody>\n",
       "</table>\n",
       "</div>"
      ],
      "text/plain": [
       "        Player_Name  Base_Price  Price_Paid Status Bought_by  \\\n",
       "18  Jhye Richardson         150        1400   Sold      PBKS   \n",
       "38   Riley Meredith          40         800  Sold       PBKS   \n",
       "\n",
       "   Previous_IPL_Teams    Country         Role Batting_Style Bowling_Style  \\\n",
       "18                NaN  Australia  Seam Bowler           NaN    Right Fast   \n",
       "38                NaN  Australia  Seam Bowler           NaN    Right Fast   \n",
       "\n",
       "   Batting_Order Capped_or_Uncapped  \n",
       "18           NaN             Capped  \n",
       "38           NaN           Uncapped  "
      ]
     },
     "execution_count": 5,
     "metadata": {},
     "output_type": "execute_result"
    }
   ],
   "source": [
    "pbks_bowl=pbks[pbks['Role'].str.contains('Bowler')]\n",
    "pbks_bowl"
   ]
  },
  {
   "cell_type": "markdown",
   "id": "f1d09afc",
   "metadata": {},
   "source": [
    "<h2 style=\"text-align:center;\">List of All Rounders bought by PBKS</h2>"
   ]
  },
  {
   "cell_type": "code",
   "execution_count": 6,
   "id": "525098f2",
   "metadata": {},
   "outputs": [
    {
     "data": {
      "text/html": [
       "<div>\n",
       "<style scoped>\n",
       "    .dataframe tbody tr th:only-of-type {\n",
       "        vertical-align: middle;\n",
       "    }\n",
       "\n",
       "    .dataframe tbody tr th {\n",
       "        vertical-align: top;\n",
       "    }\n",
       "\n",
       "    .dataframe thead th {\n",
       "        text-align: right;\n",
       "    }\n",
       "</style>\n",
       "<table border=\"1\" class=\"dataframe\">\n",
       "  <thead>\n",
       "    <tr style=\"text-align: right;\">\n",
       "      <th></th>\n",
       "      <th>Player_Name</th>\n",
       "      <th>Base_Price</th>\n",
       "      <th>Price_Paid</th>\n",
       "      <th>Status</th>\n",
       "      <th>Bought_by</th>\n",
       "      <th>Previous_IPL_Teams</th>\n",
       "      <th>Country</th>\n",
       "      <th>Role</th>\n",
       "      <th>Batting_Style</th>\n",
       "      <th>Bowling_Style</th>\n",
       "      <th>Batting_Order</th>\n",
       "      <th>Capped_or_Uncapped</th>\n",
       "    </tr>\n",
       "  </thead>\n",
       "  <tbody>\n",
       "    <tr>\n",
       "      <th>11</th>\n",
       "      <td>Fabian Allen</td>\n",
       "      <td>75</td>\n",
       "      <td>75</td>\n",
       "      <td>Sold</td>\n",
       "      <td>PBKS</td>\n",
       "      <td>SRH</td>\n",
       "      <td>West Indies</td>\n",
       "      <td>Bowling All Rounder</td>\n",
       "      <td>Right</td>\n",
       "      <td>Slow Left Orthodox</td>\n",
       "      <td>Middle</td>\n",
       "      <td>Capped</td>\n",
       "    </tr>\n",
       "    <tr>\n",
       "      <th>16</th>\n",
       "      <td>Jalaj Saxena</td>\n",
       "      <td>30</td>\n",
       "      <td>30</td>\n",
       "      <td>Sold</td>\n",
       "      <td>PBKS</td>\n",
       "      <td>MI, DC, RCB</td>\n",
       "      <td>India</td>\n",
       "      <td>Batting All Rounder</td>\n",
       "      <td>Right</td>\n",
       "      <td>Right Offbreak</td>\n",
       "      <td>Top</td>\n",
       "      <td>Uncapped</td>\n",
       "    </tr>\n",
       "    <tr>\n",
       "      <th>31</th>\n",
       "      <td>Moises Henriques</td>\n",
       "      <td>100</td>\n",
       "      <td>420</td>\n",
       "      <td>Sold</td>\n",
       "      <td>PBKS</td>\n",
       "      <td>KKR, DC, RCB, SRH, MI</td>\n",
       "      <td>Australia</td>\n",
       "      <td>All Rounder</td>\n",
       "      <td>Right</td>\n",
       "      <td>Right Fast Medium</td>\n",
       "      <td>Middle</td>\n",
       "      <td>Capped</td>\n",
       "    </tr>\n",
       "    <tr>\n",
       "      <th>42</th>\n",
       "      <td>Saurabh Kumar</td>\n",
       "      <td>20</td>\n",
       "      <td>20</td>\n",
       "      <td>Sold</td>\n",
       "      <td>PBKS</td>\n",
       "      <td>RPS</td>\n",
       "      <td>India</td>\n",
       "      <td>Bowling All Rounder</td>\n",
       "      <td>Left</td>\n",
       "      <td>Slow Left Orthodox</td>\n",
       "      <td>Lower</td>\n",
       "      <td>Uncapped</td>\n",
       "    </tr>\n",
       "    <tr>\n",
       "      <th>52</th>\n",
       "      <td>Utkarsh Singh</td>\n",
       "      <td>20</td>\n",
       "      <td>20</td>\n",
       "      <td>Sold</td>\n",
       "      <td>PBKS</td>\n",
       "      <td>NaN</td>\n",
       "      <td>India</td>\n",
       "      <td>All Rounder</td>\n",
       "      <td>Left</td>\n",
       "      <td>Right Offbreak</td>\n",
       "      <td>Top</td>\n",
       "      <td>Uncapped</td>\n",
       "    </tr>\n",
       "  </tbody>\n",
       "</table>\n",
       "</div>"
      ],
      "text/plain": [
       "         Player_Name  Base_Price  Price_Paid Status Bought_by  \\\n",
       "11      Fabian Allen          75          75   Sold      PBKS   \n",
       "16      Jalaj Saxena          30          30   Sold      PBKS   \n",
       "31  Moises Henriques         100         420   Sold      PBKS   \n",
       "42     Saurabh Kumar          20          20   Sold      PBKS   \n",
       "52    Utkarsh Singh           20          20   Sold      PBKS   \n",
       "\n",
       "       Previous_IPL_Teams      Country                 Role Batting_Style  \\\n",
       "11                    SRH  West Indies  Bowling All Rounder        Right    \n",
       "16            MI, DC, RCB        India  Batting All Rounder        Right    \n",
       "31  KKR, DC, RCB, SRH, MI    Australia          All Rounder        Right    \n",
       "42                    RPS        India  Bowling All Rounder          Left   \n",
       "52                    NaN        India          All Rounder          Left   \n",
       "\n",
       "         Bowling_Style Batting_Order Capped_or_Uncapped  \n",
       "11  Slow Left Orthodox       Middle              Capped  \n",
       "16      Right Offbreak          Top            Uncapped  \n",
       "31   Right Fast Medium        Middle             Capped  \n",
       "42  Slow Left Orthodox        Lower            Uncapped  \n",
       "52      Right Offbreak           Top           Uncapped  "
      ]
     },
     "execution_count": 6,
     "metadata": {},
     "output_type": "execute_result"
    }
   ],
   "source": [
    "pbks_all=pbks[pbks['Role'].str.contains('All Rounder')]\n",
    "pbks_all"
   ]
  },
  {
   "cell_type": "markdown",
   "id": "c8a5d2d4",
   "metadata": {},
   "source": [
    "<h2 style=\"text-align:center;\">Analysis - Punjab Kings </h2>"
   ]
  },
  {
   "cell_type": "markdown",
   "id": "1497bc2a",
   "metadata": {},
   "source": [
    "<h3>Total amount spent during auction (in crores): </h3>"
   ]
  },
  {
   "cell_type": "code",
   "execution_count": 7,
   "id": "c613304e",
   "metadata": {},
   "outputs": [
    {
     "data": {
      "text/plain": [
       "34.4"
      ]
     },
     "execution_count": 7,
     "metadata": {},
     "output_type": "execute_result"
    }
   ],
   "source": [
    "pbks['Price_Paid'].sum()/100"
   ]
  },
  {
   "cell_type": "markdown",
   "id": "773e3142",
   "metadata": {},
   "source": [
    "<h3>Highest bid by Punjab Kings: </h3>"
   ]
  },
  {
   "cell_type": "code",
   "execution_count": 8,
   "id": "52b4826c",
   "metadata": {},
   "outputs": [
    {
     "data": {
      "text/html": [
       "<div>\n",
       "<style scoped>\n",
       "    .dataframe tbody tr th:only-of-type {\n",
       "        vertical-align: middle;\n",
       "    }\n",
       "\n",
       "    .dataframe tbody tr th {\n",
       "        vertical-align: top;\n",
       "    }\n",
       "\n",
       "    .dataframe thead th {\n",
       "        text-align: right;\n",
       "    }\n",
       "</style>\n",
       "<table border=\"1\" class=\"dataframe\">\n",
       "  <thead>\n",
       "    <tr style=\"text-align: right;\">\n",
       "      <th></th>\n",
       "      <th>Player_Name</th>\n",
       "      <th>Base_Price</th>\n",
       "      <th>Price_Paid</th>\n",
       "      <th>Status</th>\n",
       "      <th>Bought_by</th>\n",
       "      <th>Previous_IPL_Teams</th>\n",
       "      <th>Country</th>\n",
       "      <th>Role</th>\n",
       "      <th>Batting_Style</th>\n",
       "      <th>Bowling_Style</th>\n",
       "      <th>Batting_Order</th>\n",
       "      <th>Capped_or_Uncapped</th>\n",
       "    </tr>\n",
       "  </thead>\n",
       "  <tbody>\n",
       "    <tr>\n",
       "      <th>18</th>\n",
       "      <td>Jhye Richardson</td>\n",
       "      <td>150</td>\n",
       "      <td>1400</td>\n",
       "      <td>Sold</td>\n",
       "      <td>PBKS</td>\n",
       "      <td>NaN</td>\n",
       "      <td>Australia</td>\n",
       "      <td>Seam Bowler</td>\n",
       "      <td>NaN</td>\n",
       "      <td>Right Fast</td>\n",
       "      <td>NaN</td>\n",
       "      <td>Capped</td>\n",
       "    </tr>\n",
       "  </tbody>\n",
       "</table>\n",
       "</div>"
      ],
      "text/plain": [
       "        Player_Name  Base_Price  Price_Paid Status Bought_by  \\\n",
       "18  Jhye Richardson         150        1400   Sold      PBKS   \n",
       "\n",
       "   Previous_IPL_Teams    Country         Role Batting_Style Bowling_Style  \\\n",
       "18                NaN  Australia  Seam Bowler           NaN    Right Fast   \n",
       "\n",
       "   Batting_Order Capped_or_Uncapped  \n",
       "18           NaN             Capped  "
      ]
     },
     "execution_count": 8,
     "metadata": {},
     "output_type": "execute_result"
    }
   ],
   "source": [
    "pbks[pbks['Price_Paid']==pbks['Price_Paid'].max()]"
   ]
  },
  {
   "cell_type": "markdown",
   "id": "36a83b00",
   "metadata": {},
   "source": [
    "<h3>Highest Indian bid by Punjab Kings: </h3>"
   ]
  },
  {
   "cell_type": "code",
   "execution_count": 9,
   "id": "b3eefbbd",
   "metadata": {},
   "outputs": [
    {
     "data": {
      "text/html": [
       "<div>\n",
       "<style scoped>\n",
       "    .dataframe tbody tr th:only-of-type {\n",
       "        vertical-align: middle;\n",
       "    }\n",
       "\n",
       "    .dataframe tbody tr th {\n",
       "        vertical-align: top;\n",
       "    }\n",
       "\n",
       "    .dataframe thead th {\n",
       "        text-align: right;\n",
       "    }\n",
       "</style>\n",
       "<table border=\"1\" class=\"dataframe\">\n",
       "  <thead>\n",
       "    <tr style=\"text-align: right;\">\n",
       "      <th></th>\n",
       "      <th>Player_Name</th>\n",
       "      <th>Base_Price</th>\n",
       "      <th>Price_Paid</th>\n",
       "      <th>Status</th>\n",
       "      <th>Bought_by</th>\n",
       "      <th>Previous_IPL_Teams</th>\n",
       "      <th>Country</th>\n",
       "      <th>Role</th>\n",
       "      <th>Batting_Style</th>\n",
       "      <th>Bowling_Style</th>\n",
       "      <th>Batting_Order</th>\n",
       "      <th>Capped_or_Uncapped</th>\n",
       "    </tr>\n",
       "  </thead>\n",
       "  <tbody>\n",
       "    <tr>\n",
       "      <th>43</th>\n",
       "      <td>Shahrukh Khan</td>\n",
       "      <td>20</td>\n",
       "      <td>525</td>\n",
       "      <td>Sold</td>\n",
       "      <td>PBKS</td>\n",
       "      <td>NaN</td>\n",
       "      <td>India</td>\n",
       "      <td>Batsman</td>\n",
       "      <td>Right</td>\n",
       "      <td>NaN</td>\n",
       "      <td>Middle</td>\n",
       "      <td>Uncapped</td>\n",
       "    </tr>\n",
       "  </tbody>\n",
       "</table>\n",
       "</div>"
      ],
      "text/plain": [
       "      Player_Name  Base_Price  Price_Paid Status Bought_by Previous_IPL_Teams  \\\n",
       "43  Shahrukh Khan          20         525   Sold      PBKS                NaN   \n",
       "\n",
       "   Country     Role Batting_Style Bowling_Style Batting_Order  \\\n",
       "43   India  Batsman        Right            NaN        Middle   \n",
       "\n",
       "   Capped_or_Uncapped  \n",
       "43           Uncapped  "
      ]
     },
     "execution_count": 9,
     "metadata": {},
     "output_type": "execute_result"
    }
   ],
   "source": [
    "pbks[pbks['Price_Paid']==pbks[pbks['Country']=='India']['Price_Paid'].max()]"
   ]
  },
  {
   "cell_type": "markdown",
   "id": "ad45f93e",
   "metadata": {},
   "source": [
    "<h3>Highest Foreign bid by Punjab Kings: </h3>"
   ]
  },
  {
   "cell_type": "code",
   "execution_count": 10,
   "id": "07cded06",
   "metadata": {},
   "outputs": [
    {
     "data": {
      "text/html": [
       "<div>\n",
       "<style scoped>\n",
       "    .dataframe tbody tr th:only-of-type {\n",
       "        vertical-align: middle;\n",
       "    }\n",
       "\n",
       "    .dataframe tbody tr th {\n",
       "        vertical-align: top;\n",
       "    }\n",
       "\n",
       "    .dataframe thead th {\n",
       "        text-align: right;\n",
       "    }\n",
       "</style>\n",
       "<table border=\"1\" class=\"dataframe\">\n",
       "  <thead>\n",
       "    <tr style=\"text-align: right;\">\n",
       "      <th></th>\n",
       "      <th>Player_Name</th>\n",
       "      <th>Base_Price</th>\n",
       "      <th>Price_Paid</th>\n",
       "      <th>Status</th>\n",
       "      <th>Bought_by</th>\n",
       "      <th>Previous_IPL_Teams</th>\n",
       "      <th>Country</th>\n",
       "      <th>Role</th>\n",
       "      <th>Batting_Style</th>\n",
       "      <th>Bowling_Style</th>\n",
       "      <th>Batting_Order</th>\n",
       "      <th>Capped_or_Uncapped</th>\n",
       "    </tr>\n",
       "  </thead>\n",
       "  <tbody>\n",
       "    <tr>\n",
       "      <th>18</th>\n",
       "      <td>Jhye Richardson</td>\n",
       "      <td>150</td>\n",
       "      <td>1400</td>\n",
       "      <td>Sold</td>\n",
       "      <td>PBKS</td>\n",
       "      <td>NaN</td>\n",
       "      <td>Australia</td>\n",
       "      <td>Seam Bowler</td>\n",
       "      <td>NaN</td>\n",
       "      <td>Right Fast</td>\n",
       "      <td>NaN</td>\n",
       "      <td>Capped</td>\n",
       "    </tr>\n",
       "  </tbody>\n",
       "</table>\n",
       "</div>"
      ],
      "text/plain": [
       "        Player_Name  Base_Price  Price_Paid Status Bought_by  \\\n",
       "18  Jhye Richardson         150        1400   Sold      PBKS   \n",
       "\n",
       "   Previous_IPL_Teams    Country         Role Batting_Style Bowling_Style  \\\n",
       "18                NaN  Australia  Seam Bowler           NaN    Right Fast   \n",
       "\n",
       "   Batting_Order Capped_or_Uncapped  \n",
       "18           NaN             Capped  "
      ]
     },
     "execution_count": 10,
     "metadata": {},
     "output_type": "execute_result"
    }
   ],
   "source": [
    "pbks[pbks['Price_Paid']==pbks[pbks['Country']!='India']['Price_Paid'].max()]"
   ]
  },
  {
   "cell_type": "markdown",
   "id": "b42a07bb",
   "metadata": {},
   "source": [
    "<h3>Amount Spent on each Department (in crores): </h3>"
   ]
  },
  {
   "cell_type": "code",
   "execution_count": 11,
   "id": "924f619c",
   "metadata": {},
   "outputs": [
    {
     "name": "stdout",
     "output_type": "stream",
     "text": [
      "Role\n",
      "All Rounder             4.40\n",
      "Batsman                 6.75\n",
      "Batting All Rounder     0.30\n",
      "Bowling All Rounder     0.95\n",
      "Seam Bowler            22.00\n"
     ]
    }
   ],
   "source": [
    "print((pbks.groupby('Role')['Price_Paid'].sum()/100).to_string())"
   ]
  },
  {
   "cell_type": "markdown",
   "id": "7d5bd767",
   "metadata": {},
   "source": [
    "<h3>Highest batsman bid by Punjab Kings:  </h3>"
   ]
  },
  {
   "cell_type": "code",
   "execution_count": 12,
   "id": "a8f3842a",
   "metadata": {},
   "outputs": [
    {
     "data": {
      "text/html": [
       "<div>\n",
       "<style scoped>\n",
       "    .dataframe tbody tr th:only-of-type {\n",
       "        vertical-align: middle;\n",
       "    }\n",
       "\n",
       "    .dataframe tbody tr th {\n",
       "        vertical-align: top;\n",
       "    }\n",
       "\n",
       "    .dataframe thead th {\n",
       "        text-align: right;\n",
       "    }\n",
       "</style>\n",
       "<table border=\"1\" class=\"dataframe\">\n",
       "  <thead>\n",
       "    <tr style=\"text-align: right;\">\n",
       "      <th></th>\n",
       "      <th>Player_Name</th>\n",
       "      <th>Base_Price</th>\n",
       "      <th>Price_Paid</th>\n",
       "      <th>Status</th>\n",
       "      <th>Bought_by</th>\n",
       "      <th>Previous_IPL_Teams</th>\n",
       "      <th>Country</th>\n",
       "      <th>Role</th>\n",
       "      <th>Batting_Style</th>\n",
       "      <th>Bowling_Style</th>\n",
       "      <th>Batting_Order</th>\n",
       "      <th>Capped_or_Uncapped</th>\n",
       "    </tr>\n",
       "  </thead>\n",
       "  <tbody>\n",
       "    <tr>\n",
       "      <th>43</th>\n",
       "      <td>Shahrukh Khan</td>\n",
       "      <td>20</td>\n",
       "      <td>525</td>\n",
       "      <td>Sold</td>\n",
       "      <td>PBKS</td>\n",
       "      <td>NaN</td>\n",
       "      <td>India</td>\n",
       "      <td>Batsman</td>\n",
       "      <td>Right</td>\n",
       "      <td>NaN</td>\n",
       "      <td>Middle</td>\n",
       "      <td>Uncapped</td>\n",
       "    </tr>\n",
       "  </tbody>\n",
       "</table>\n",
       "</div>"
      ],
      "text/plain": [
       "      Player_Name  Base_Price  Price_Paid Status Bought_by Previous_IPL_Teams  \\\n",
       "43  Shahrukh Khan          20         525   Sold      PBKS                NaN   \n",
       "\n",
       "   Country     Role Batting_Style Bowling_Style Batting_Order  \\\n",
       "43   India  Batsman        Right            NaN        Middle   \n",
       "\n",
       "   Capped_or_Uncapped  \n",
       "43           Uncapped  "
      ]
     },
     "execution_count": 12,
     "metadata": {},
     "output_type": "execute_result"
    }
   ],
   "source": [
    "pbks_bats[pbks_bats['Price_Paid']==pbks_bats['Price_Paid'].max()]"
   ]
  },
  {
   "cell_type": "markdown",
   "id": "e59b1e5c",
   "metadata": {},
   "source": [
    "<h3>Highest bowler bid by Punjab Kings: </h3>"
   ]
  },
  {
   "cell_type": "code",
   "execution_count": 13,
   "id": "f7d005fb",
   "metadata": {},
   "outputs": [
    {
     "data": {
      "text/html": [
       "<div>\n",
       "<style scoped>\n",
       "    .dataframe tbody tr th:only-of-type {\n",
       "        vertical-align: middle;\n",
       "    }\n",
       "\n",
       "    .dataframe tbody tr th {\n",
       "        vertical-align: top;\n",
       "    }\n",
       "\n",
       "    .dataframe thead th {\n",
       "        text-align: right;\n",
       "    }\n",
       "</style>\n",
       "<table border=\"1\" class=\"dataframe\">\n",
       "  <thead>\n",
       "    <tr style=\"text-align: right;\">\n",
       "      <th></th>\n",
       "      <th>Player_Name</th>\n",
       "      <th>Base_Price</th>\n",
       "      <th>Price_Paid</th>\n",
       "      <th>Status</th>\n",
       "      <th>Bought_by</th>\n",
       "      <th>Previous_IPL_Teams</th>\n",
       "      <th>Country</th>\n",
       "      <th>Role</th>\n",
       "      <th>Batting_Style</th>\n",
       "      <th>Bowling_Style</th>\n",
       "      <th>Batting_Order</th>\n",
       "      <th>Capped_or_Uncapped</th>\n",
       "    </tr>\n",
       "  </thead>\n",
       "  <tbody>\n",
       "    <tr>\n",
       "      <th>18</th>\n",
       "      <td>Jhye Richardson</td>\n",
       "      <td>150</td>\n",
       "      <td>1400</td>\n",
       "      <td>Sold</td>\n",
       "      <td>PBKS</td>\n",
       "      <td>NaN</td>\n",
       "      <td>Australia</td>\n",
       "      <td>Seam Bowler</td>\n",
       "      <td>NaN</td>\n",
       "      <td>Right Fast</td>\n",
       "      <td>NaN</td>\n",
       "      <td>Capped</td>\n",
       "    </tr>\n",
       "  </tbody>\n",
       "</table>\n",
       "</div>"
      ],
      "text/plain": [
       "        Player_Name  Base_Price  Price_Paid Status Bought_by  \\\n",
       "18  Jhye Richardson         150        1400   Sold      PBKS   \n",
       "\n",
       "   Previous_IPL_Teams    Country         Role Batting_Style Bowling_Style  \\\n",
       "18                NaN  Australia  Seam Bowler           NaN    Right Fast   \n",
       "\n",
       "   Batting_Order Capped_or_Uncapped  \n",
       "18           NaN             Capped  "
      ]
     },
     "execution_count": 13,
     "metadata": {},
     "output_type": "execute_result"
    }
   ],
   "source": [
    "pbks_bowl[pbks_bowl['Price_Paid']==pbks_bowl['Price_Paid'].max()]"
   ]
  },
  {
   "cell_type": "markdown",
   "id": "f825ce6c",
   "metadata": {},
   "source": [
    "<h3>Highest All Rounder bid by Punjab Kings: </h3>"
   ]
  },
  {
   "cell_type": "code",
   "execution_count": 14,
   "id": "d29b7bfa",
   "metadata": {},
   "outputs": [
    {
     "data": {
      "text/html": [
       "<div>\n",
       "<style scoped>\n",
       "    .dataframe tbody tr th:only-of-type {\n",
       "        vertical-align: middle;\n",
       "    }\n",
       "\n",
       "    .dataframe tbody tr th {\n",
       "        vertical-align: top;\n",
       "    }\n",
       "\n",
       "    .dataframe thead th {\n",
       "        text-align: right;\n",
       "    }\n",
       "</style>\n",
       "<table border=\"1\" class=\"dataframe\">\n",
       "  <thead>\n",
       "    <tr style=\"text-align: right;\">\n",
       "      <th></th>\n",
       "      <th>Player_Name</th>\n",
       "      <th>Base_Price</th>\n",
       "      <th>Price_Paid</th>\n",
       "      <th>Status</th>\n",
       "      <th>Bought_by</th>\n",
       "      <th>Previous_IPL_Teams</th>\n",
       "      <th>Country</th>\n",
       "      <th>Role</th>\n",
       "      <th>Batting_Style</th>\n",
       "      <th>Bowling_Style</th>\n",
       "      <th>Batting_Order</th>\n",
       "      <th>Capped_or_Uncapped</th>\n",
       "    </tr>\n",
       "  </thead>\n",
       "  <tbody>\n",
       "    <tr>\n",
       "      <th>31</th>\n",
       "      <td>Moises Henriques</td>\n",
       "      <td>100</td>\n",
       "      <td>420</td>\n",
       "      <td>Sold</td>\n",
       "      <td>PBKS</td>\n",
       "      <td>KKR, DC, RCB, SRH, MI</td>\n",
       "      <td>Australia</td>\n",
       "      <td>All Rounder</td>\n",
       "      <td>Right</td>\n",
       "      <td>Right Fast Medium</td>\n",
       "      <td>Middle</td>\n",
       "      <td>Capped</td>\n",
       "    </tr>\n",
       "  </tbody>\n",
       "</table>\n",
       "</div>"
      ],
      "text/plain": [
       "         Player_Name  Base_Price  Price_Paid Status Bought_by  \\\n",
       "31  Moises Henriques         100         420   Sold      PBKS   \n",
       "\n",
       "       Previous_IPL_Teams    Country         Role Batting_Style  \\\n",
       "31  KKR, DC, RCB, SRH, MI  Australia  All Rounder        Right    \n",
       "\n",
       "        Bowling_Style Batting_Order Capped_or_Uncapped  \n",
       "31  Right Fast Medium        Middle             Capped  "
      ]
     },
     "execution_count": 14,
     "metadata": {},
     "output_type": "execute_result"
    }
   ],
   "source": [
    "pbks_all[pbks_all['Price_Paid']==pbks_all['Price_Paid'].max()]"
   ]
  },
  {
   "cell_type": "markdown",
   "id": "309ea321",
   "metadata": {},
   "source": [
    "<h3>Highest Capped bid by Punjab Kings: </h3>"
   ]
  },
  {
   "cell_type": "code",
   "execution_count": 15,
   "id": "919073a6",
   "metadata": {},
   "outputs": [
    {
     "data": {
      "text/html": [
       "<div>\n",
       "<style scoped>\n",
       "    .dataframe tbody tr th:only-of-type {\n",
       "        vertical-align: middle;\n",
       "    }\n",
       "\n",
       "    .dataframe tbody tr th {\n",
       "        vertical-align: top;\n",
       "    }\n",
       "\n",
       "    .dataframe thead th {\n",
       "        text-align: right;\n",
       "    }\n",
       "</style>\n",
       "<table border=\"1\" class=\"dataframe\">\n",
       "  <thead>\n",
       "    <tr style=\"text-align: right;\">\n",
       "      <th></th>\n",
       "      <th>Player_Name</th>\n",
       "      <th>Base_Price</th>\n",
       "      <th>Price_Paid</th>\n",
       "      <th>Status</th>\n",
       "      <th>Bought_by</th>\n",
       "      <th>Previous_IPL_Teams</th>\n",
       "      <th>Country</th>\n",
       "      <th>Role</th>\n",
       "      <th>Batting_Style</th>\n",
       "      <th>Bowling_Style</th>\n",
       "      <th>Batting_Order</th>\n",
       "      <th>Capped_or_Uncapped</th>\n",
       "    </tr>\n",
       "  </thead>\n",
       "  <tbody>\n",
       "    <tr>\n",
       "      <th>18</th>\n",
       "      <td>Jhye Richardson</td>\n",
       "      <td>150</td>\n",
       "      <td>1400</td>\n",
       "      <td>Sold</td>\n",
       "      <td>PBKS</td>\n",
       "      <td>NaN</td>\n",
       "      <td>Australia</td>\n",
       "      <td>Seam Bowler</td>\n",
       "      <td>NaN</td>\n",
       "      <td>Right Fast</td>\n",
       "      <td>NaN</td>\n",
       "      <td>Capped</td>\n",
       "    </tr>\n",
       "  </tbody>\n",
       "</table>\n",
       "</div>"
      ],
      "text/plain": [
       "        Player_Name  Base_Price  Price_Paid Status Bought_by  \\\n",
       "18  Jhye Richardson         150        1400   Sold      PBKS   \n",
       "\n",
       "   Previous_IPL_Teams    Country         Role Batting_Style Bowling_Style  \\\n",
       "18                NaN  Australia  Seam Bowler           NaN    Right Fast   \n",
       "\n",
       "   Batting_Order Capped_or_Uncapped  \n",
       "18           NaN             Capped  "
      ]
     },
     "execution_count": 15,
     "metadata": {},
     "output_type": "execute_result"
    }
   ],
   "source": [
    "pbks[pbks['Price_Paid']==pbks[pbks['Capped_or_Uncapped']=='Capped']['Price_Paid'].max()]"
   ]
  },
  {
   "cell_type": "markdown",
   "id": "cdb38b08",
   "metadata": {},
   "source": [
    "<h3>Highest Uncapped bid by Punjab Kings:  </h3>"
   ]
  },
  {
   "cell_type": "code",
   "execution_count": 16,
   "id": "28a7b897",
   "metadata": {},
   "outputs": [
    {
     "data": {
      "text/html": [
       "<div>\n",
       "<style scoped>\n",
       "    .dataframe tbody tr th:only-of-type {\n",
       "        vertical-align: middle;\n",
       "    }\n",
       "\n",
       "    .dataframe tbody tr th {\n",
       "        vertical-align: top;\n",
       "    }\n",
       "\n",
       "    .dataframe thead th {\n",
       "        text-align: right;\n",
       "    }\n",
       "</style>\n",
       "<table border=\"1\" class=\"dataframe\">\n",
       "  <thead>\n",
       "    <tr style=\"text-align: right;\">\n",
       "      <th></th>\n",
       "      <th>Player_Name</th>\n",
       "      <th>Base_Price</th>\n",
       "      <th>Price_Paid</th>\n",
       "      <th>Status</th>\n",
       "      <th>Bought_by</th>\n",
       "      <th>Previous_IPL_Teams</th>\n",
       "      <th>Country</th>\n",
       "      <th>Role</th>\n",
       "      <th>Batting_Style</th>\n",
       "      <th>Bowling_Style</th>\n",
       "      <th>Batting_Order</th>\n",
       "      <th>Capped_or_Uncapped</th>\n",
       "    </tr>\n",
       "  </thead>\n",
       "  <tbody>\n",
       "    <tr>\n",
       "      <th>38</th>\n",
       "      <td>Riley Meredith</td>\n",
       "      <td>40</td>\n",
       "      <td>800</td>\n",
       "      <td>Sold</td>\n",
       "      <td>PBKS</td>\n",
       "      <td>NaN</td>\n",
       "      <td>Australia</td>\n",
       "      <td>Seam Bowler</td>\n",
       "      <td>NaN</td>\n",
       "      <td>Right Fast</td>\n",
       "      <td>NaN</td>\n",
       "      <td>Uncapped</td>\n",
       "    </tr>\n",
       "  </tbody>\n",
       "</table>\n",
       "</div>"
      ],
      "text/plain": [
       "       Player_Name  Base_Price  Price_Paid Status Bought_by  \\\n",
       "38  Riley Meredith          40         800  Sold       PBKS   \n",
       "\n",
       "   Previous_IPL_Teams    Country         Role Batting_Style Bowling_Style  \\\n",
       "38                NaN  Australia  Seam Bowler           NaN    Right Fast   \n",
       "\n",
       "   Batting_Order Capped_or_Uncapped  \n",
       "38           NaN           Uncapped  "
      ]
     },
     "execution_count": 16,
     "metadata": {},
     "output_type": "execute_result"
    }
   ],
   "source": [
    "pbks[pbks['Price_Paid']==pbks[pbks['Capped_or_Uncapped']=='Uncapped']['Price_Paid'].max()]"
   ]
  },
  {
   "cell_type": "markdown",
   "id": "2138797d",
   "metadata": {},
   "source": [
    "<h3>Visualization of distribution of Amount spent by PBKS on each department: </h3>"
   ]
  },
  {
   "cell_type": "code",
   "execution_count": 17,
   "id": "3735d746",
   "metadata": {},
   "outputs": [
    {
     "data": {
      "image/png": "[encoded data removed]",
      "text/plain": [
       "<Figure size 1080x720 with 1 Axes>"
      ]
     },
     "metadata": {},
     "output_type": "display_data"
    }
   ],
   "source": [
    "pbks.groupby(['Role']).sum().plot(kind='pie', y='Price_Paid', autopct=\"%.2f%%\", figsize=(15,10), title=\"Distribution of Amount spent by PBKS on each department\").legend(loc='upper right');"
   ]
  },
  {
   "cell_type": "markdown",
   "id": "fdafb8b3",
   "metadata": {},
   "source": [
    "<h3>No. of IPL Experienced and inexperienced Players bought by Punjab Kings: </h3>"
   ]
  },
  {
   "cell_type": "code",
   "execution_count": 18,
   "id": "19d275ea",
   "metadata": {},
   "outputs": [
    {
     "name": "stdout",
     "output_type": "stream",
     "text": [
      "Experienced Players:      4\n",
      "Inexperienced Players:    5\n"
     ]
    }
   ],
   "source": [
    "print(\"Experienced Players:     \",pbks[pd.notnull(pbks['Previous_IPL_Teams'])].shape[0])\n",
    "print(\"Inexperienced Players:   \",pbks[pd.isnull(pbks['Previous_IPL_Teams'])].shape[0])"
   ]
  },
  {
   "cell_type": "markdown",
   "id": "0b78fb07",
   "metadata": {},
   "source": [
    "<h3>No. of Internationally Experienced and inexperienced Players bought by Punjab Kings:   </h3>"
   ]
  },
  {
   "cell_type": "code",
   "execution_count": 19,
   "id": "0ba6ebdc",
   "metadata": {},
   "outputs": [
    {
     "name": "stdout",
     "output_type": "stream",
     "text": [
      "Experienced Players:      4\n",
      "Inexperienced Players:    5\n"
     ]
    }
   ],
   "source": [
    "print(\"Experienced Players:     \",pbks[pbks['Capped_or_Uncapped']=='Capped'].shape[0])\n",
    "print(\"Inexperienced Players:   \",pbks[pbks['Capped_or_Uncapped']=='Uncapped'].shape[0])"
   ]
  },
  {
   "cell_type": "markdown",
   "id": "68d7c7eb",
   "metadata": {},
   "source": [
    "<h3>No. of players bought at</h3>"
   ]
  },
  {
   "cell_type": "code",
   "execution_count": 20,
   "id": "80302a0c",
   "metadata": {},
   "outputs": [
    {
     "name": "stdout",
     "output_type": "stream",
     "text": [
      "Base Price:            5\n",
      "More than Base Price:  4\n"
     ]
    }
   ],
   "source": [
    "print(\"Base Price:           \",pbks[pbks['Price_Paid']==pbks['Base_Price']].shape[0])\n",
    "print(\"More than Base Price: \",pbks[pbks['Price_Paid']!=pbks['Base_Price']].shape[0])"
   ]
  },
  {
   "cell_type": "code",
   "execution_count": null,
   "id": "18183354",
   "metadata": {},
   "outputs": [],
   "source": []
  }
 ],
 "metadata": {
  "kernelspec": {
   "display_name": "Python 3 (ipykernel)",
   "language": "python",
   "name": "python3"
  },
  "language_info": {
   "codemirror_mode": {
    "name": "ipython",
    "version": 3
   },
   "file_extension": ".py",
   "mimetype": "text/x-python",
   "name": "python",
   "nbconvert_exporter": "python",
   "pygments_lexer": "ipython3",
   "version": "3.9.5"
  }
 },
 "nbformat": 4,
 "nbformat_minor": 5
}
