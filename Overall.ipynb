{
 "cells": [
  {
   "cell_type": "markdown",
   "id": "55a1d41a",
   "metadata": {},
   "source": [
    "<h1 style=\"text-align:center;\">Overall Analysis</h1>"
   ]
  },
  {
   "cell_type": "markdown",
   "id": "ec42730f",
   "metadata": {},
   "source": [
    "<p style=\"text-align:center;\"><img src=\"https://www.timesofsports.com/wp-content/uploads/2021/10/Vivo-IPL-2021-Final-Details.jpeg\" width=700px height=500px></p> "
   ]
  },
  {
   "cell_type": "code",
   "execution_count": 1,
   "id": "50d04b7b",
   "metadata": {},
   "outputs": [],
   "source": [
    "import pandas as pd\n",
    "import numpy as np\n",
    "import matplotlib.pyplot as plt\n",
    "\n",
    "data=pd.read_csv(\"./PROJECT_IPL_1_Edited.csv\")\n",
    "data.rename(columns={'Player Name':'Player_Name','Base Price (in Lakhs Rupees)':'Base_Price','Price Paid (in Lakhs Rupees)':'Price_Paid','Status':'Status','Bought by':'Bought_by','Previous IPL Teams':'Previous_IPL_Teams','Country':'Country','Role':'Role','Batting Style':'Batting_Style','Bowling Style':'Bowling_Style','Batting Order':'Batting_Order','Capped or Uncapped at Internationals (during Auction)':'Capped_or_Uncapped'},inplace='True')\n",
    "data.loc[data[\"Role\"] == \"Fast Bowler\", \"Role\"] = \"Seam Bowler\"\n"
   ]
  },
  {
   "cell_type": "markdown",
   "id": "884b955d",
   "metadata": {},
   "source": [
    "<h2 style=\"text-align:center;\"> Overall Anaysis - IPL </h2>"
   ]
  },
  {
   "cell_type": "markdown",
   "id": "1497bc2a",
   "metadata": {},
   "source": [
    "<h3>Total amount spent during auction (in crores): </h3>"
   ]
  },
  {
   "cell_type": "code",
   "execution_count": 2,
   "id": "c613304e",
   "metadata": {},
   "outputs": [
    {
     "data": {
      "text/plain": [
       "148.6"
      ]
     },
     "execution_count": 2,
     "metadata": {},
     "output_type": "execute_result"
    }
   ],
   "source": [
    "data['Price_Paid'].sum()/100"
   ]
  },
  {
   "cell_type": "markdown",
   "id": "773e3142",
   "metadata": {},
   "source": [
    "<h3>Highest bid - Overall: </h3>"
   ]
  },
  {
   "cell_type": "code",
   "execution_count": 3,
   "id": "52b4826c",
   "metadata": {},
   "outputs": [
    {
     "data": {
      "text/html": [
       "<div>\n",
       "<style scoped>\n",
       "    .dataframe tbody tr th:only-of-type {\n",
       "        vertical-align: middle;\n",
       "    }\n",
       "\n",
       "    .dataframe tbody tr th {\n",
       "        vertical-align: top;\n",
       "    }\n",
       "\n",
       "    .dataframe thead th {\n",
       "        text-align: right;\n",
       "    }\n",
       "</style>\n",
       "<table border=\"1\" class=\"dataframe\">\n",
       "  <thead>\n",
       "    <tr style=\"text-align: right;\">\n",
       "      <th></th>\n",
       "      <th>Player_Name</th>\n",
       "      <th>Base_Price</th>\n",
       "      <th>Price_Paid</th>\n",
       "      <th>Status</th>\n",
       "      <th>Bought_by</th>\n",
       "      <th>Previous_IPL_Teams</th>\n",
       "      <th>Country</th>\n",
       "      <th>Role</th>\n",
       "      <th>Batting_Style</th>\n",
       "      <th>Bowling_Style</th>\n",
       "      <th>Batting_Order</th>\n",
       "      <th>Capped_or_Uncapped</th>\n",
       "    </tr>\n",
       "  </thead>\n",
       "  <tbody>\n",
       "    <tr>\n",
       "      <th>8</th>\n",
       "      <td>Chris Morris</td>\n",
       "      <td>75</td>\n",
       "      <td>1625</td>\n",
       "      <td>Sold</td>\n",
       "      <td>RR</td>\n",
       "      <td>CSK, RR, DC, RCB</td>\n",
       "      <td>South Africa</td>\n",
       "      <td>Bowling All Rounder</td>\n",
       "      <td>Right</td>\n",
       "      <td>Right Fast Medium</td>\n",
       "      <td>Middle</td>\n",
       "      <td>Capped</td>\n",
       "    </tr>\n",
       "  </tbody>\n",
       "</table>\n",
       "</div>"
      ],
      "text/plain": [
       "    Player_Name  Base_Price  Price_Paid Status Bought_by Previous_IPL_Teams  \\\n",
       "8  Chris Morris          75        1625   Sold        RR   CSK, RR, DC, RCB   \n",
       "\n",
       "        Country                 Role Batting_Style      Bowling_Style  \\\n",
       "8  South Africa  Bowling All Rounder        Right   Right Fast Medium   \n",
       "\n",
       "  Batting_Order Capped_or_Uncapped  \n",
       "8        Middle             Capped  "
      ]
     },
     "execution_count": 3,
     "metadata": {},
     "output_type": "execute_result"
    }
   ],
   "source": [
    "data[data['Price_Paid']==data['Price_Paid'].max()]"
   ]
  },
  {
   "cell_type": "markdown",
   "id": "36a83b00",
   "metadata": {},
   "source": [
    "<h3>Highest Indian bid - Overall: </h3>"
   ]
  },
  {
   "cell_type": "code",
   "execution_count": 4,
   "id": "b3eefbbd",
   "metadata": {},
   "outputs": [
    {
     "data": {
      "text/html": [
       "<div>\n",
       "<style scoped>\n",
       "    .dataframe tbody tr th:only-of-type {\n",
       "        vertical-align: middle;\n",
       "    }\n",
       "\n",
       "    .dataframe tbody tr th {\n",
       "        vertical-align: top;\n",
       "    }\n",
       "\n",
       "    .dataframe thead th {\n",
       "        text-align: right;\n",
       "    }\n",
       "</style>\n",
       "<table border=\"1\" class=\"dataframe\">\n",
       "  <thead>\n",
       "    <tr style=\"text-align: right;\">\n",
       "      <th></th>\n",
       "      <th>Player_Name</th>\n",
       "      <th>Base_Price</th>\n",
       "      <th>Price_Paid</th>\n",
       "      <th>Status</th>\n",
       "      <th>Bought_by</th>\n",
       "      <th>Previous_IPL_Teams</th>\n",
       "      <th>Country</th>\n",
       "      <th>Role</th>\n",
       "      <th>Batting_Style</th>\n",
       "      <th>Bowling_Style</th>\n",
       "      <th>Batting_Order</th>\n",
       "      <th>Capped_or_Uncapped</th>\n",
       "    </tr>\n",
       "  </thead>\n",
       "  <tbody>\n",
       "    <tr>\n",
       "      <th>22</th>\n",
       "      <td>Krishnappa Gowtham</td>\n",
       "      <td>20</td>\n",
       "      <td>925</td>\n",
       "      <td>Sold</td>\n",
       "      <td>CSK</td>\n",
       "      <td>MI, RR, PBKS</td>\n",
       "      <td>India</td>\n",
       "      <td>Bowling All Rounder</td>\n",
       "      <td>Right</td>\n",
       "      <td>Right Offbreak</td>\n",
       "      <td>Lower</td>\n",
       "      <td>Uncapped</td>\n",
       "    </tr>\n",
       "  </tbody>\n",
       "</table>\n",
       "</div>"
      ],
      "text/plain": [
       "           Player_Name  Base_Price  Price_Paid Status Bought_by  \\\n",
       "22  Krishnappa Gowtham          20         925   Sold       CSK   \n",
       "\n",
       "   Previous_IPL_Teams Country                 Role Batting_Style  \\\n",
       "22       MI, RR, PBKS   India  Bowling All Rounder        Right    \n",
       "\n",
       "     Bowling_Style Batting_Order Capped_or_Uncapped  \n",
       "22  Right Offbreak        Lower            Uncapped  "
      ]
     },
     "execution_count": 4,
     "metadata": {},
     "output_type": "execute_result"
    }
   ],
   "source": [
    "data[data['Price_Paid']==data[data['Country']=='India']['Price_Paid'].max()]"
   ]
  },
  {
   "cell_type": "markdown",
   "id": "ad45f93e",
   "metadata": {},
   "source": [
    "<h3>Highest Foreign bid - Overall: </h3>"
   ]
  },
  {
   "cell_type": "code",
   "execution_count": 5,
   "id": "07cded06",
   "metadata": {},
   "outputs": [
    {
     "data": {
      "text/html": [
       "<div>\n",
       "<style scoped>\n",
       "    .dataframe tbody tr th:only-of-type {\n",
       "        vertical-align: middle;\n",
       "    }\n",
       "\n",
       "    .dataframe tbody tr th {\n",
       "        vertical-align: top;\n",
       "    }\n",
       "\n",
       "    .dataframe thead th {\n",
       "        text-align: right;\n",
       "    }\n",
       "</style>\n",
       "<table border=\"1\" class=\"dataframe\">\n",
       "  <thead>\n",
       "    <tr style=\"text-align: right;\">\n",
       "      <th></th>\n",
       "      <th>Player_Name</th>\n",
       "      <th>Base_Price</th>\n",
       "      <th>Price_Paid</th>\n",
       "      <th>Status</th>\n",
       "      <th>Bought_by</th>\n",
       "      <th>Previous_IPL_Teams</th>\n",
       "      <th>Country</th>\n",
       "      <th>Role</th>\n",
       "      <th>Batting_Style</th>\n",
       "      <th>Bowling_Style</th>\n",
       "      <th>Batting_Order</th>\n",
       "      <th>Capped_or_Uncapped</th>\n",
       "    </tr>\n",
       "  </thead>\n",
       "  <tbody>\n",
       "    <tr>\n",
       "      <th>8</th>\n",
       "      <td>Chris Morris</td>\n",
       "      <td>75</td>\n",
       "      <td>1625</td>\n",
       "      <td>Sold</td>\n",
       "      <td>RR</td>\n",
       "      <td>CSK, RR, DC, RCB</td>\n",
       "      <td>South Africa</td>\n",
       "      <td>Bowling All Rounder</td>\n",
       "      <td>Right</td>\n",
       "      <td>Right Fast Medium</td>\n",
       "      <td>Middle</td>\n",
       "      <td>Capped</td>\n",
       "    </tr>\n",
       "  </tbody>\n",
       "</table>\n",
       "</div>"
      ],
      "text/plain": [
       "    Player_Name  Base_Price  Price_Paid Status Bought_by Previous_IPL_Teams  \\\n",
       "8  Chris Morris          75        1625   Sold        RR   CSK, RR, DC, RCB   \n",
       "\n",
       "        Country                 Role Batting_Style      Bowling_Style  \\\n",
       "8  South Africa  Bowling All Rounder        Right   Right Fast Medium   \n",
       "\n",
       "  Batting_Order Capped_or_Uncapped  \n",
       "8        Middle             Capped  "
      ]
     },
     "execution_count": 5,
     "metadata": {},
     "output_type": "execute_result"
    }
   ],
   "source": [
    "data[data['Price_Paid']==data[data['Country']!='India']['Price_Paid'].max()]"
   ]
  },
  {
   "cell_type": "markdown",
   "id": "b42a07bb",
   "metadata": {},
   "source": [
    "<h3>Amount Spent on each Department (in crores): </h3>"
   ]
  },
  {
   "cell_type": "code",
   "execution_count": 6,
   "id": "924f619c",
   "metadata": {},
   "outputs": [
    {
     "name": "stdout",
     "output_type": "stream",
     "text": [
      "Role\n",
      "All Rounder              17.85\n",
      "Batsman                  13.35\n",
      "Batting All Rounder      25.40\n",
      "Bowling All Rounder      39.50\n",
      "Seam Bowler              45.00\n",
      "Spin Bowler               4.70\n",
      "Wicket Keeper Batsman     2.80\n"
     ]
    }
   ],
   "source": [
    "print((data.groupby('Role')['Price_Paid'].sum()/100).to_string())"
   ]
  },
  {
   "cell_type": "markdown",
   "id": "7d5bd767",
   "metadata": {},
   "source": [
    "<h3>Highest batsman bid - Overall:  </h3>"
   ]
  },
  {
   "cell_type": "code",
   "execution_count": 7,
   "id": "a8f3842a",
   "metadata": {},
   "outputs": [
    {
     "data": {
      "text/html": [
       "<div>\n",
       "<style scoped>\n",
       "    .dataframe tbody tr th:only-of-type {\n",
       "        vertical-align: middle;\n",
       "    }\n",
       "\n",
       "    .dataframe tbody tr th {\n",
       "        vertical-align: top;\n",
       "    }\n",
       "\n",
       "    .dataframe thead th {\n",
       "        text-align: right;\n",
       "    }\n",
       "</style>\n",
       "<table border=\"1\" class=\"dataframe\">\n",
       "  <thead>\n",
       "    <tr style=\"text-align: right;\">\n",
       "      <th></th>\n",
       "      <th>Player_Name</th>\n",
       "      <th>Base_Price</th>\n",
       "      <th>Price_Paid</th>\n",
       "      <th>Status</th>\n",
       "      <th>Bought_by</th>\n",
       "      <th>Previous_IPL_Teams</th>\n",
       "      <th>Country</th>\n",
       "      <th>Role</th>\n",
       "      <th>Batting_Style</th>\n",
       "      <th>Bowling_Style</th>\n",
       "      <th>Batting_Order</th>\n",
       "      <th>Capped_or_Uncapped</th>\n",
       "    </tr>\n",
       "  </thead>\n",
       "  <tbody>\n",
       "    <tr>\n",
       "      <th>43</th>\n",
       "      <td>Shahrukh Khan</td>\n",
       "      <td>20</td>\n",
       "      <td>525</td>\n",
       "      <td>Sold</td>\n",
       "      <td>PBKS</td>\n",
       "      <td>NaN</td>\n",
       "      <td>India</td>\n",
       "      <td>Batsman</td>\n",
       "      <td>Right</td>\n",
       "      <td>NaN</td>\n",
       "      <td>Middle</td>\n",
       "      <td>Uncapped</td>\n",
       "    </tr>\n",
       "  </tbody>\n",
       "</table>\n",
       "</div>"
      ],
      "text/plain": [
       "      Player_Name  Base_Price  Price_Paid Status Bought_by Previous_IPL_Teams  \\\n",
       "43  Shahrukh Khan          20         525   Sold      PBKS                NaN   \n",
       "\n",
       "   Country     Role Batting_Style Bowling_Style Batting_Order  \\\n",
       "43   India  Batsman        Right            NaN        Middle   \n",
       "\n",
       "   Capped_or_Uncapped  \n",
       "43           Uncapped  "
      ]
     },
     "execution_count": 7,
     "metadata": {},
     "output_type": "execute_result"
    }
   ],
   "source": [
    "data_bats=data[data['Role'].str.contains('Batsman')]\n",
    "data_bats[data_bats['Price_Paid']==data_bats['Price_Paid'].max()]"
   ]
  },
  {
   "cell_type": "markdown",
   "id": "e59b1e5c",
   "metadata": {},
   "source": [
    "<h3>Highest bowler bid - Overall: </h3>"
   ]
  },
  {
   "cell_type": "code",
   "execution_count": 8,
   "id": "f7d005fb",
   "metadata": {},
   "outputs": [
    {
     "data": {
      "text/html": [
       "<div>\n",
       "<style scoped>\n",
       "    .dataframe tbody tr th:only-of-type {\n",
       "        vertical-align: middle;\n",
       "    }\n",
       "\n",
       "    .dataframe tbody tr th {\n",
       "        vertical-align: top;\n",
       "    }\n",
       "\n",
       "    .dataframe thead th {\n",
       "        text-align: right;\n",
       "    }\n",
       "</style>\n",
       "<table border=\"1\" class=\"dataframe\">\n",
       "  <thead>\n",
       "    <tr style=\"text-align: right;\">\n",
       "      <th></th>\n",
       "      <th>Player_Name</th>\n",
       "      <th>Base_Price</th>\n",
       "      <th>Price_Paid</th>\n",
       "      <th>Status</th>\n",
       "      <th>Bought_by</th>\n",
       "      <th>Previous_IPL_Teams</th>\n",
       "      <th>Country</th>\n",
       "      <th>Role</th>\n",
       "      <th>Batting_Style</th>\n",
       "      <th>Bowling_Style</th>\n",
       "      <th>Batting_Order</th>\n",
       "      <th>Capped_or_Uncapped</th>\n",
       "    </tr>\n",
       "  </thead>\n",
       "  <tbody>\n",
       "    <tr>\n",
       "      <th>24</th>\n",
       "      <td>Kyle Jamieson</td>\n",
       "      <td>75</td>\n",
       "      <td>1500</td>\n",
       "      <td>Sold</td>\n",
       "      <td>RCB</td>\n",
       "      <td>NaN</td>\n",
       "      <td>New Zealand</td>\n",
       "      <td>Seam Bowler</td>\n",
       "      <td>NaN</td>\n",
       "      <td>Right Fast Medium</td>\n",
       "      <td>NaN</td>\n",
       "      <td>Capped</td>\n",
       "    </tr>\n",
       "  </tbody>\n",
       "</table>\n",
       "</div>"
      ],
      "text/plain": [
       "      Player_Name  Base_Price  Price_Paid Status Bought_by Previous_IPL_Teams  \\\n",
       "24  Kyle Jamieson          75        1500   Sold       RCB                NaN   \n",
       "\n",
       "        Country         Role Batting_Style      Bowling_Style Batting_Order  \\\n",
       "24  New Zealand  Seam Bowler           NaN  Right Fast Medium           NaN   \n",
       "\n",
       "   Capped_or_Uncapped  \n",
       "24             Capped  "
      ]
     },
     "execution_count": 8,
     "metadata": {},
     "output_type": "execute_result"
    }
   ],
   "source": [
    "data_bowl=data[data['Role'].str.contains('Bowler')]\n",
    "data_bowl[data_bowl['Price_Paid']==data_bowl['Price_Paid'].max()]"
   ]
  },
  {
   "cell_type": "markdown",
   "id": "f825ce6c",
   "metadata": {},
   "source": [
    "<h3>Highest All Rounder bid - Overall: </h3>"
   ]
  },
  {
   "cell_type": "code",
   "execution_count": 9,
   "id": "d29b7bfa",
   "metadata": {},
   "outputs": [
    {
     "data": {
      "text/html": [
       "<div>\n",
       "<style scoped>\n",
       "    .dataframe tbody tr th:only-of-type {\n",
       "        vertical-align: middle;\n",
       "    }\n",
       "\n",
       "    .dataframe tbody tr th {\n",
       "        vertical-align: top;\n",
       "    }\n",
       "\n",
       "    .dataframe thead th {\n",
       "        text-align: right;\n",
       "    }\n",
       "</style>\n",
       "<table border=\"1\" class=\"dataframe\">\n",
       "  <thead>\n",
       "    <tr style=\"text-align: right;\">\n",
       "      <th></th>\n",
       "      <th>Player_Name</th>\n",
       "      <th>Base_Price</th>\n",
       "      <th>Price_Paid</th>\n",
       "      <th>Status</th>\n",
       "      <th>Bought_by</th>\n",
       "      <th>Previous_IPL_Teams</th>\n",
       "      <th>Country</th>\n",
       "      <th>Role</th>\n",
       "      <th>Batting_Style</th>\n",
       "      <th>Bowling_Style</th>\n",
       "      <th>Batting_Order</th>\n",
       "      <th>Capped_or_Uncapped</th>\n",
       "    </tr>\n",
       "  </thead>\n",
       "  <tbody>\n",
       "    <tr>\n",
       "      <th>8</th>\n",
       "      <td>Chris Morris</td>\n",
       "      <td>75</td>\n",
       "      <td>1625</td>\n",
       "      <td>Sold</td>\n",
       "      <td>RR</td>\n",
       "      <td>CSK, RR, DC, RCB</td>\n",
       "      <td>South Africa</td>\n",
       "      <td>Bowling All Rounder</td>\n",
       "      <td>Right</td>\n",
       "      <td>Right Fast Medium</td>\n",
       "      <td>Middle</td>\n",
       "      <td>Capped</td>\n",
       "    </tr>\n",
       "  </tbody>\n",
       "</table>\n",
       "</div>"
      ],
      "text/plain": [
       "    Player_Name  Base_Price  Price_Paid Status Bought_by Previous_IPL_Teams  \\\n",
       "8  Chris Morris          75        1625   Sold        RR   CSK, RR, DC, RCB   \n",
       "\n",
       "        Country                 Role Batting_Style      Bowling_Style  \\\n",
       "8  South Africa  Bowling All Rounder        Right   Right Fast Medium   \n",
       "\n",
       "  Batting_Order Capped_or_Uncapped  \n",
       "8        Middle             Capped  "
      ]
     },
     "execution_count": 9,
     "metadata": {},
     "output_type": "execute_result"
    }
   ],
   "source": [
    "data_all=data[data['Role'].str.contains('All Rounder')]\n",
    "data_all[data_all['Price_Paid']==data_all['Price_Paid'].max()]"
   ]
  },
  {
   "cell_type": "markdown",
   "id": "309ea321",
   "metadata": {},
   "source": [
    "<h3>Highest Capped bid - Overall: </h3>"
   ]
  },
  {
   "cell_type": "code",
   "execution_count": 10,
   "id": "919073a6",
   "metadata": {},
   "outputs": [
    {
     "data": {
      "text/html": [
       "<div>\n",
       "<style scoped>\n",
       "    .dataframe tbody tr th:only-of-type {\n",
       "        vertical-align: middle;\n",
       "    }\n",
       "\n",
       "    .dataframe tbody tr th {\n",
       "        vertical-align: top;\n",
       "    }\n",
       "\n",
       "    .dataframe thead th {\n",
       "        text-align: right;\n",
       "    }\n",
       "</style>\n",
       "<table border=\"1\" class=\"dataframe\">\n",
       "  <thead>\n",
       "    <tr style=\"text-align: right;\">\n",
       "      <th></th>\n",
       "      <th>Player_Name</th>\n",
       "      <th>Base_Price</th>\n",
       "      <th>Price_Paid</th>\n",
       "      <th>Status</th>\n",
       "      <th>Bought_by</th>\n",
       "      <th>Previous_IPL_Teams</th>\n",
       "      <th>Country</th>\n",
       "      <th>Role</th>\n",
       "      <th>Batting_Style</th>\n",
       "      <th>Bowling_Style</th>\n",
       "      <th>Batting_Order</th>\n",
       "      <th>Capped_or_Uncapped</th>\n",
       "    </tr>\n",
       "  </thead>\n",
       "  <tbody>\n",
       "    <tr>\n",
       "      <th>8</th>\n",
       "      <td>Chris Morris</td>\n",
       "      <td>75</td>\n",
       "      <td>1625</td>\n",
       "      <td>Sold</td>\n",
       "      <td>RR</td>\n",
       "      <td>CSK, RR, DC, RCB</td>\n",
       "      <td>South Africa</td>\n",
       "      <td>Bowling All Rounder</td>\n",
       "      <td>Right</td>\n",
       "      <td>Right Fast Medium</td>\n",
       "      <td>Middle</td>\n",
       "      <td>Capped</td>\n",
       "    </tr>\n",
       "  </tbody>\n",
       "</table>\n",
       "</div>"
      ],
      "text/plain": [
       "    Player_Name  Base_Price  Price_Paid Status Bought_by Previous_IPL_Teams  \\\n",
       "8  Chris Morris          75        1625   Sold        RR   CSK, RR, DC, RCB   \n",
       "\n",
       "        Country                 Role Batting_Style      Bowling_Style  \\\n",
       "8  South Africa  Bowling All Rounder        Right   Right Fast Medium   \n",
       "\n",
       "  Batting_Order Capped_or_Uncapped  \n",
       "8        Middle             Capped  "
      ]
     },
     "execution_count": 10,
     "metadata": {},
     "output_type": "execute_result"
    }
   ],
   "source": [
    "data[data['Price_Paid']==data[data['Capped_or_Uncapped']=='Capped']['Price_Paid'].max()]"
   ]
  },
  {
   "cell_type": "markdown",
   "id": "cdb38b08",
   "metadata": {},
   "source": [
    "<h3>Highest Uncapped bid - Overall: </h3>"
   ]
  },
  {
   "cell_type": "code",
   "execution_count": 11,
   "id": "28a7b897",
   "metadata": {},
   "outputs": [
    {
     "data": {
      "text/html": [
       "<div>\n",
       "<style scoped>\n",
       "    .dataframe tbody tr th:only-of-type {\n",
       "        vertical-align: middle;\n",
       "    }\n",
       "\n",
       "    .dataframe tbody tr th {\n",
       "        vertical-align: top;\n",
       "    }\n",
       "\n",
       "    .dataframe thead th {\n",
       "        text-align: right;\n",
       "    }\n",
       "</style>\n",
       "<table border=\"1\" class=\"dataframe\">\n",
       "  <thead>\n",
       "    <tr style=\"text-align: right;\">\n",
       "      <th></th>\n",
       "      <th>Player_Name</th>\n",
       "      <th>Base_Price</th>\n",
       "      <th>Price_Paid</th>\n",
       "      <th>Status</th>\n",
       "      <th>Bought_by</th>\n",
       "      <th>Previous_IPL_Teams</th>\n",
       "      <th>Country</th>\n",
       "      <th>Role</th>\n",
       "      <th>Batting_Style</th>\n",
       "      <th>Bowling_Style</th>\n",
       "      <th>Batting_Order</th>\n",
       "      <th>Capped_or_Uncapped</th>\n",
       "    </tr>\n",
       "  </thead>\n",
       "  <tbody>\n",
       "    <tr>\n",
       "      <th>22</th>\n",
       "      <td>Krishnappa Gowtham</td>\n",
       "      <td>20</td>\n",
       "      <td>925</td>\n",
       "      <td>Sold</td>\n",
       "      <td>CSK</td>\n",
       "      <td>MI, RR, PBKS</td>\n",
       "      <td>India</td>\n",
       "      <td>Bowling All Rounder</td>\n",
       "      <td>Right</td>\n",
       "      <td>Right Offbreak</td>\n",
       "      <td>Lower</td>\n",
       "      <td>Uncapped</td>\n",
       "    </tr>\n",
       "  </tbody>\n",
       "</table>\n",
       "</div>"
      ],
      "text/plain": [
       "           Player_Name  Base_Price  Price_Paid Status Bought_by  \\\n",
       "22  Krishnappa Gowtham          20         925   Sold       CSK   \n",
       "\n",
       "   Previous_IPL_Teams Country                 Role Batting_Style  \\\n",
       "22       MI, RR, PBKS   India  Bowling All Rounder        Right    \n",
       "\n",
       "     Bowling_Style Batting_Order Capped_or_Uncapped  \n",
       "22  Right Offbreak        Lower            Uncapped  "
      ]
     },
     "execution_count": 11,
     "metadata": {},
     "output_type": "execute_result"
    }
   ],
   "source": [
    "data[data['Price_Paid']==data[data['Capped_or_Uncapped']=='Uncapped']['Price_Paid'].max()]"
   ]
  },
  {
   "cell_type": "markdown",
   "id": "2138797d",
   "metadata": {},
   "source": [
    "<h3>Visualization of distribution of Amount spent by all teams on each department: </h3>"
   ]
  },
  {
   "cell_type": "code",
   "execution_count": 12,
   "id": "3735d746",
   "metadata": {},
   "outputs": [
    {
     "data": {
      "image/png": "[encoded data removed]",
      "text/plain": [
       "<Figure size 1080x720 with 1 Axes>"
      ]
     },
     "metadata": {},
     "output_type": "display_data"
    }
   ],
   "source": [
    "data.groupby(['Role']).sum().plot(kind='pie', y='Price_Paid', autopct=\"%.2f%%\", figsize=(15,10), title=\"Distribution of Amount spent by all teams on each department\").legend(loc='upper right');"
   ]
  },
  {
   "cell_type": "markdown",
   "id": "fdafb8b3",
   "metadata": {},
   "source": [
    "<h3>No. of IPL Experienced and inexperienced Players bought - Overall: </h3>"
   ]
  },
  {
   "cell_type": "code",
   "execution_count": 13,
   "id": "19d275ea",
   "metadata": {},
   "outputs": [
    {
     "name": "stdout",
     "output_type": "stream",
     "text": [
      "Experienced Players:      37\n",
      "Inexperienced Players:    23\n"
     ]
    }
   ],
   "source": [
    "print(\"Experienced Players:     \",data[pd.notnull(data['Previous_IPL_Teams'])].shape[0])\n",
    "print(\"Inexperienced Players:   \",data[pd.isnull(data['Previous_IPL_Teams'])].shape[0])"
   ]
  },
  {
   "cell_type": "markdown",
   "id": "0b78fb07",
   "metadata": {},
   "source": [
    "<h3>No. of Internationally Experienced and inexperienced Players bought - Overall:  </h3>"
   ]
  },
  {
   "cell_type": "code",
   "execution_count": 14,
   "id": "0ba6ebdc",
   "metadata": {},
   "outputs": [
    {
     "name": "stdout",
     "output_type": "stream",
     "text": [
      "Experienced Players:      30\n",
      "Inexperienced Players:    30\n"
     ]
    }
   ],
   "source": [
    "print(\"Experienced Players:     \",data[data['Capped_or_Uncapped']=='Capped'].shape[0])\n",
    "print(\"Inexperienced Players:   \",data[data['Capped_or_Uncapped']=='Uncapped'].shape[0])"
   ]
  },
  {
   "cell_type": "markdown",
   "id": "68d7c7eb",
   "metadata": {},
   "source": [
    "<h3>No. of players bought at</h3>"
   ]
  },
  {
   "cell_type": "code",
   "execution_count": 15,
   "id": "80302a0c",
   "metadata": {},
   "outputs": [
    {
     "name": "stdout",
     "output_type": "stream",
     "text": [
      "Base Price:            39\n",
      "More than Base Price:  21\n"
     ]
    }
   ],
   "source": [
    "print(\"Base Price:           \",data[data['Price_Paid']==data['Base_Price']].shape[0])\n",
    "print(\"More than Base Price: \",data[data['Price_Paid']!=data['Base_Price']].shape[0])"
   ]
  },
  {
   "cell_type": "code",
   "execution_count": null,
   "id": "18183354",
   "metadata": {},
   "outputs": [],
   "source": []
  }
 ],
 "metadata": {
  "kernelspec": {
   "display_name": "Python 3 (ipykernel)",
   "language": "python",
   "name": "python3"
  },
  "language_info": {
   "codemirror_mode": {
    "name": "ipython",
    "version": 3
   },
   "file_extension": ".py",
   "mimetype": "text/x-python",
   "name": "python",
   "nbconvert_exporter": "python",
   "pygments_lexer": "ipython3",
   "version": "3.9.5"
  }
 },
 "nbformat": 4,
 "nbformat_minor": 5
}
